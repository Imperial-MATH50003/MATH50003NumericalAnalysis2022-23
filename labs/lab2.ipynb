{
 "cells": [
  {
   "cell_type": "markdown",
   "source": [
    "# MATH50003 (2022–23)\n",
    "# Lab 2: Interval arithmetic"
   ],
   "metadata": {}
  },
  {
   "cell_type": "markdown",
   "source": [
    "This lab explores the usage of rounding modes for floating point arithmetic and how they\n",
    "can be used to compute _rigorous_ bounds on mathematical constants such as ℯ.\n",
    "The key idea is _interval arithmetic_.\n",
    "That is recall the set operations\n",
    "$$\n",
    "A + B = \\{x + y : x ∈ A, y ∈ B\\}, AB = \\{xy : x ∈ A, y ∈ B\\}, A/B = \\{x/y : x ∈ A, y ∈ B\\}\n",
    "$$\n",
    "\n",
    "We will use floating point arithmetic to construct approximate set operations ⊕, ⊗ so that\n",
    "$$\n",
    "  A + B ⊆ A ⊕ B, AB ⊆ A ⊗ B, A/B ⊆ A ⊘ B\n",
    "$$\n",
    "thereby a complicated algorithm can be run on sets and the true result is guaranteed to be\n",
    "a subset of the output. E.g. we can do $ℯ = {\\rm exp}(1) ∈ {\\rm exp}([1,1]) ⊆ {\\rm exp}^{\\rm FP}([1,1])$\n",
    "where ${\\rm exp}^{\\rm FP}$ is implemented using $⊕$ and $⊗$.\n",
    "\n",
    "This will be consist of the following:\n",
    "1. The finite Taylor series $\\exp x ≈ ∑_{k=0}^n x^k/k!$ where each operation is now\n",
    "   an interval operation\n",
    "2. A bound on $∑_{k=n+1}^∞ x^k/k!$ that we capture in the returned result\n",
    "\n",
    "\n",
    "In what follows, the starred (⋆) problems are meant to be done with pen-and-paper.\n",
    "We need the following packages:"
   ],
   "metadata": {}
  },
  {
   "outputs": [],
   "cell_type": "code",
   "source": [
    "using SetRounding, Test"
   ],
   "metadata": {},
   "execution_count": 1
  },
  {
   "cell_type": "markdown",
   "source": [
    "-----\n",
    "\n",
    "**Problem 1⋆** For intervals $A = [a,b]$ and $B = [c,d]$ such that $0 ∉ A,B$\n",
    " and integer $n ≠ 0$,\n",
    "deduce formulas for the minimum and maximum of $A/n$, $A+B$ and $AB$.\n",
    "\n",
    "-----\n",
    "We want to implement floating point variants such that, for $S = [a,b] + [c,d]$\n",
    " $P = [a,b] * [c,d]$, and $D = [a,b]/n$ for an integer $n$,\n",
    "$$\n",
    "\\begin{align*}\n",
    "[a,b] ⊕ [c,d] &:= [{\\rm fl}^{\\rm down}(\\min S), {\\rm fl}^{\\rm up}(\\max S)] \\\\\n",
    "[a,b] ⊗ [c,d] &:= [{\\rm fl}^{\\rm down}(\\min P), {\\rm fl}^{\\rm up}(\\max P)] \\\\\n",
    "[a,b] ⊘ n &:= [{\\rm fl}^{\\rm down}(\\min D), {\\rm fl}^{\\rm up}(\\max D)]\n",
    "\\end{align*}\n",
    "$$\n",
    "This guarantees $S ⊆ [a,b] ⊕ [c,d]$, $P ⊆ [a,b] ⊗ [c,d]$, and\n",
    "$D ⊆ [a,b] ⊘ n$.\n",
    "In other words, if $x ∈ [a,b]$ and\n",
    "$y ∈ [c,d]$ then $x +y ∈ [a,b] ⊕ [c,d]$, and we thereby have  bounds on $x + y$.\n",
    "\n",
    "\n",
    "We will now create a Type to represent an interval, which we will call `Interval`.\n",
    "We need two fields: the left endpoint (`a`) and a right endpoint (`b`). We want to allow\n",
    "these to be a type `T` which may be, say, `Int`, `Float64`, `Float16`, or `BigFloat`.\n",
    "To construct such a type we use the `struct` keyword:"
   ],
   "metadata": {}
  },
  {
   "outputs": [],
   "cell_type": "code",
   "source": [
    "struct Interval{T}\n",
    "    a::T\n",
    "    b::T\n",
    "end"
   ],
   "metadata": {},
   "execution_count": 2
  },
  {
   "cell_type": "markdown",
   "source": [
    "For example, if we say `A = Interval(1, 2)` this corresponds to the mathematical interval\n",
    "$[1, 2]$, and the fields are accessed via `A.a` and `A.b`.\n",
    "Here we create an instance of such an interval interval:"
   ],
   "metadata": {}
  },
  {
   "outputs": [
    {
     "output_type": "execute_result",
     "data": {
      "text/plain": "Main.var\"##354\".Interval{Int64}(1, 2)"
     },
     "metadata": {},
     "execution_count": 3
    }
   ],
   "cell_type": "code",
   "source": [
    "A = Interval(1, 2)"
   ],
   "metadata": {},
   "execution_count": 3
  },
  {
   "cell_type": "markdown",
   "source": [
    "This displays (prints out) as `Interval{Int64}(1, 2)`. The `{Int64}` indicates that the fields\n",
    "`A.a` and `A.b` are `Int64`. We can see this as follows:"
   ],
   "metadata": {}
  },
  {
   "outputs": [
    {
     "output_type": "execute_result",
     "data": {
      "text/plain": "(1, 2)"
     },
     "metadata": {},
     "execution_count": 4
    }
   ],
   "cell_type": "code",
   "source": [
    "A.a, A.b # returns a Tuple containing two Ints"
   ],
   "metadata": {},
   "execution_count": 4
  },
  {
   "cell_type": "markdown",
   "source": [
    "We will overload *, +, -, / to use interval arithmetic. That is, whenever we do arithmetic with\n",
    "an instance of `Interval` we want it to use correctly rounded interval varients.\n",
    "We also need to support `one` (a function that creates an interval containing a single point `1`)\n",
    "and `in` functions (a function to test if a number is within an interval).\n",
    "To overload these functions we need to import them as follows:"
   ],
   "metadata": {}
  },
  {
   "outputs": [],
   "cell_type": "code",
   "source": [
    "import Base: *, +, -, /, one, in"
   ],
   "metadata": {},
   "execution_count": 5
  },
  {
   "cell_type": "markdown",
   "source": [
    "We can overload `one` as follows to create an interval corresponding to $[1,1]$.\n",
    "First note that the `one(T)` function will create the \"multiplicative identity\"\n",
    "for a given type. For example `one(Int)` will return `1`, `one(Float64)` returns `1.0`,\n",
    "and `one(String)` returns \"\" (because `\"\" * \"any string\" == \"any string\"`):"
   ],
   "metadata": {}
  },
  {
   "outputs": [
    {
     "output_type": "execute_result",
     "data": {
      "text/plain": "(1, 1, \"\")"
     },
     "metadata": {},
     "execution_count": 6
    }
   ],
   "cell_type": "code",
   "source": [
    "one(Int), one(Int64), one(String)"
   ],
   "metadata": {},
   "execution_count": 6
  },
  {
   "cell_type": "markdown",
   "source": [
    "We can also just call it on an instance of the type:"
   ],
   "metadata": {}
  },
  {
   "outputs": [
    {
     "output_type": "execute_result",
     "data": {
      "text/plain": "(1, 1.0, \"\")"
     },
     "metadata": {},
     "execution_count": 7
    }
   ],
   "cell_type": "code",
   "source": [
    "one(2), one(2.0), one(\"any string\")"
   ],
   "metadata": {},
   "execution_count": 7
  },
  {
   "cell_type": "markdown",
   "source": [
    "For an interval the multiplicative identity is the interval whose lower and upper limit are both 1.\n",
    "To ensure its the right type we call `one(A.a)` and `one(A.b)`"
   ],
   "metadata": {}
  },
  {
   "outputs": [
    {
     "output_type": "execute_result",
     "data": {
      "text/plain": "one (generic function with 38 methods)"
     },
     "metadata": {},
     "execution_count": 8
    }
   ],
   "cell_type": "code",
   "source": [
    "one(A::Interval) = Interval(one(A.a), one(A.b))"
   ],
   "metadata": {},
   "execution_count": 8
  },
  {
   "cell_type": "markdown",
   "source": [
    "Thus the following returns an interval whose endpoints are both `1.0`:"
   ],
   "metadata": {}
  },
  {
   "outputs": [
    {
     "output_type": "execute_result",
     "data": {
      "text/plain": "Main.var\"##354\".Interval{Float64}(1.0, 1.0)"
     },
     "metadata": {},
     "execution_count": 9
    }
   ],
   "cell_type": "code",
   "source": [
    "one(Interval(2.0,3.3))"
   ],
   "metadata": {},
   "execution_count": 9
  },
  {
   "cell_type": "markdown",
   "source": [
    "Now if `A = Interval(a,b)` this corresponds to the mathematical interval $[a,b]$.\n",
    "And a real number $x ∈ [a,b]$ iff $a ≤ x ≤ b$. In Julia the endpoints $a$ and $b$ are accessed\n",
    "via $A.a$ and $B.b$ hence the above test becomes `A.a ≤ x ≤ A.b`. Thus we overload `in`\n",
    "as follows:"
   ],
   "metadata": {}
  },
  {
   "outputs": [
    {
     "output_type": "execute_result",
     "data": {
      "text/plain": "in (generic function with 54 methods)"
     },
     "metadata": {},
     "execution_count": 10
    }
   ],
   "cell_type": "code",
   "source": [
    "in(x, A::Interval) = A.a ≤ x ≤ A.b"
   ],
   "metadata": {},
   "execution_count": 10
  },
  {
   "cell_type": "markdown",
   "source": [
    "The function `in` is whats called an \"infix\" operation (just like `+`, `-`, `*`, and `/`). We can call it\n",
    "either as `in(x, A)` or put the `in` in the middle and write `x in A`. This can be seen in the following:"
   ],
   "metadata": {}
  },
  {
   "outputs": [
    {
     "output_type": "execute_result",
     "data": {
      "text/plain": "(true, true)"
     },
     "metadata": {},
     "execution_count": 11
    }
   ],
   "cell_type": "code",
   "source": [
    "A = Interval(2.0,3.3)\n",
    "# 2.5 in A is equivalent to in(2.5, A)\n",
    "# !(3.4 in A) is equivalent to !in(3.4, A)\n",
    "2.5 in A, !(3.4 in A)"
   ],
   "metadata": {},
   "execution_count": 11
  },
  {
   "cell_type": "markdown",
   "source": [
    "The first problem now is to overload arithmetic operations to do the right thing."
   ],
   "metadata": {}
  },
  {
   "cell_type": "markdown",
   "source": [
    "**Problem 2**  Use the formulae from Problem 1 to complete (by replacing the `# TODO: …` comments with code)\n",
    " the following implementation of an\n",
    "`Interval`\n",
    "so that `+`, `-`, and `/` implement $⊕$, $⊖$, and $⊘$ as defined above."
   ],
   "metadata": {}
  },
  {
   "cell_type": "markdown",
   "source": [
    "Hint: Like `in`, `+` is an infix operation, so if `A isa Interval` and `B isa Interval`\n",
    "then the following function will be called when we call `A + B`.\n",
    "We want it to  implement `⊕` as worked out by hand by replacing the `# TODO` with\n",
    "the correct interval versions. For example, for the first `# TODO`, we know the lower bound of\n",
    "$A + B$ is $a + c$, where $A = [a,b]$ and $B = [c,d]$. But in Julia we access the lower bound of $A$ ($a$)\n",
    "via `A.a` and the lower bound of $B$ via `B.a`.\n",
    "Thus just replace the first `#TODO` with `A.a + B.a`."
   ],
   "metadata": {}
  },
  {
   "cell_type": "markdown",
   "source": [
    "You can probably ignore the `T = promote_type(...)` line for now: it is simply finding the right type\n",
    "to change the rounding mode by finding the \"bigger\" of the type of `A.a` and `B.a`. So in the examples below\n",
    "`T` will just become `Float64`.\n",
    "Finally, the code block\n",
    "```julia\n",
    "setrounding(T, RoundDown) do\n",
    "\n",
    "end\n",
    "```\n",
    "changes the rounding mode of floating point operations corresponding to the type `T` of the CPU, for any code between\n",
    "the `do` and the `end`."
   ],
   "metadata": {}
  },
  {
   "outputs": [
    {
     "output_type": "execute_result",
     "data": {
      "text/plain": "\u001b[33m\u001b[1mTest Broken\u001b[22m\u001b[39m\n  Expression: Interval(1.1, 1.1) + Interval(1.2, 1.2) + Interval(1.3, 1.3) ≡ Interval(3.5999999999999996, 3.6000000000000005)"
     },
     "metadata": {},
     "execution_count": 12
    }
   ],
   "cell_type": "code",
   "source": [
    "function +(A::Interval, B::Interval)\n",
    "    T = promote_type(typeof(A.a), typeof(B.a))\n",
    "    a = setrounding(T, RoundDown) do\n",
    "        # TODO: lower bound\n",
    "\n",
    "    end\n",
    "    b = setrounding(T, RoundUp) do\n",
    "        # TODO: upper bound\n",
    "\n",
    "    end\n",
    "    Interval(a, b)\n",
    "end\n",
    "\n",
    "# following example was the non-associative example but now we have bounds\n",
    "@test_broken Interval(1.1,1.1) + Interval(1.2,1.2) + Interval(1.3,1.3) ≡ Interval(3.5999999999999996, 3.6000000000000005)"
   ],
   "metadata": {},
   "execution_count": 12
  },
  {
   "cell_type": "markdown",
   "source": [
    "The following function is called whenever we divide an interval by an `Integer` (think of `Integer` for now\n",
    "a \"superset\" containing all integer types, e.g. `Int8`, `Int`, `UInt8`, etc.). Again we want it to return the\n",
    "set operation ⊘ with correct rounding.\n",
    "Be careful about whether `n` is positive or negative, and you may want to test if `n > 0`. To do so, use an\n",
    "`if-else-end` block:\n",
    "```julia\n",
    "if COND1\n",
    "    # do this if COND1 == true\n",
    "else\n",
    "    # do this if COND1 == false\n",
    "end\n",
    "```"
   ],
   "metadata": {}
  },
  {
   "outputs": [
    {
     "output_type": "execute_result",
     "data": {
      "text/plain": "\u001b[33m\u001b[1mTest Broken\u001b[22m\u001b[39m\n  Expression: Interval(1.0, 2.0) / -3 ≡ Interval(-0.6666666666666667, -0.3333333333333333)"
     },
     "metadata": {},
     "execution_count": 13
    }
   ],
   "cell_type": "code",
   "source": [
    "function /(A::Interval, n::Integer)\n",
    "    T = typeof(A.a)\n",
    "    if iszero(n)\n",
    "        error(\"Dividing by zero not support\")\n",
    "    end\n",
    "    a = setrounding(T, RoundDown) do\n",
    "        # TODO: lower bound\n",
    "\n",
    "    end\n",
    "    b = setrounding(T, RoundUp) do\n",
    "        # TODO: upper bound\n",
    "\n",
    "    end\n",
    "    Interval(a, b)\n",
    "end\n",
    "\n",
    "@test_broken Interval(1.0,2.0)/3 ≡ Interval(0.3333333333333333, 0.6666666666666667)\n",
    "@test_broken Interval(1.0,2.0)/(-3) ≡ Interval(-0.6666666666666667, -0.3333333333333333)"
   ],
   "metadata": {},
   "execution_count": 13
  },
  {
   "cell_type": "markdown",
   "source": [
    "Now we need to overload `*` to behave like the operation `⊗` defined above.\n",
    "Now you will need to use an if-elseif-else-end block:\n",
    "```julia\n",
    "if COND1\n",
    "  # Do this if COND1 == true\n",
    "elseif COND2\n",
    "  # Do this if COND1 == false and COND2 == true\n",
    "elseif COND3\n",
    "  # Do this if COND1 == COND2 == false and COND3 == true\n",
    "else\n",
    "  # Do this if COND1 == COND2 == COND3 == false\n",
    "end\n",
    "```\n",
    "You will also have to test whether multiple conditions are true.\n",
    "The notation `COND1 && COND2` returns true if `COND1` and `COND2` are both true.\n",
    "The notation `COND1 || COND2` returns true if either `COND1` or `COND2` are true.\n",
    "So for example the statement `0 in A || 0 in B` returns `true` if either interval `A`\n",
    "or `B` contains `0`."
   ],
   "metadata": {}
  },
  {
   "outputs": [
    {
     "output_type": "execute_result",
     "data": {
      "text/plain": "\u001b[33m\u001b[1mTest Broken\u001b[22m\u001b[39m\n  Expression: Interval(-1.2, -1.1) * Interval(-3.1, -2.1) ≡ Interval(2.31, 3.72)"
     },
     "metadata": {},
     "execution_count": 14
    }
   ],
   "cell_type": "code",
   "source": [
    "function *(A::Interval, B::Interval)\n",
    "    T = promote_type(typeof(A.a), typeof(B.a))\n",
    "    if 0 in A || 0 in B\n",
    "        error(\"Multiplying with intervals containing 0 not supported.\")\n",
    "    end\n",
    "    if A.a > A.b || B.a > B.b\n",
    "        error(\"Empty intervals not supported.\")\n",
    "    end\n",
    "    a = setrounding(T, RoundDown) do\n",
    "        # TODO: lower bound\n",
    "\n",
    "    end\n",
    "    b = setrounding(T, RoundUp) do\n",
    "        # TODO: upper bound\n",
    "\n",
    "    end\n",
    "    Interval(a, b)\n",
    "end\n",
    "\n",
    "@test_broken Interval(1.1, 1.2) * Interval(2.1, 3.1) ≡ Interval(2.31, 3.72)\n",
    "@test_broken Interval(-1.2, -1.1) * Interval(2.1, 3.1) ≡ Interval(-3.72, -2.31)\n",
    "@test_broken Interval(1.1, 1.2) * Interval(-3.1, -2.1) ≡ Interval(-3.72, -2.31)\n",
    "@test_broken Interval(-1.2, -1.1) * Interval(-3.1, -2.1) ≡ Interval(2.31, 3.72)"
   ],
   "metadata": {},
   "execution_count": 14
  },
  {
   "cell_type": "markdown",
   "source": [
    "-----"
   ],
   "metadata": {}
  },
  {
   "cell_type": "markdown",
   "source": [
    "The following function  computes the first `n+1` terms of the Taylor series of $\\exp(x)$:\n",
    "$$\n",
    "\\sum_{k=0}^n {x^k \\over k!}\n",
    "$$\n",
    "(similar to the one seen in lectures)."
   ],
   "metadata": {}
  },
  {
   "outputs": [
    {
     "output_type": "execute_result",
     "data": {
      "text/plain": "exp_t (generic function with 1 method)"
     },
     "metadata": {},
     "execution_count": 15
    }
   ],
   "cell_type": "code",
   "source": [
    "function exp_t(x, n)\n",
    "    ret = one(x) # 1 of same type as x\n",
    "    s = one(x)\n",
    "    for k = 1:n\n",
    "        s = s/k * x\n",
    "        ret = ret + s\n",
    "    end\n",
    "    ret\n",
    "end"
   ],
   "metadata": {},
   "execution_count": 15
  },
  {
   "cell_type": "markdown",
   "source": [
    "**Problem 3.1⋆** Bound the tail of the Taylor series for ${\\rm e}^x$ assuming $|x| ≤ 1$.\n",
    "(Hint: ${\\rm e}^x ≤ 3$ for $x ≤ 1$.)"
   ],
   "metadata": {}
  },
  {
   "cell_type": "markdown",
   "source": [
    "**Problem 3.2** Use the bound\n",
    "to write a function `exp_bound` which computes ${\\rm e}^x$ with rigorous error bounds, that is\n",
    "so that when applied to an interval $[a,b]$ it returns an interval that is\n",
    "guaranteed to contain the interval $[{\\rm e}^a, {\\rm e}^b]$."
   ],
   "metadata": {}
  },
  {
   "outputs": [
    {
     "output_type": "execute_result",
     "data": {
      "text/plain": "\u001b[33m\u001b[1mTest Broken\u001b[22m\u001b[39m\n  Expression: e_int.b - e_int.a ≤ 1.0e-13"
     },
     "metadata": {},
     "execution_count": 16
    }
   ],
   "cell_type": "code",
   "source": [
    "function exp_bound(x::Interval, n)\n",
    "    # TODO: Return an Interval such that exp(x) is guaranteed to be a subset\n",
    "\n",
    "end\n",
    "\n",
    "e_int = exp_bound(Interval(1.0,1.0), 20)\n",
    "@test_broken exp(big(1)) in e_int\n",
    "@test_broken exp(big(-1)) in exp_bound(Interval(-1.0,-1.0), 20)\n",
    "@test_broken e_int.b - e_int.a ≤ 1E-13 # we want our bounds to be sharp"
   ],
   "metadata": {},
   "execution_count": 16
  },
  {
   "cell_type": "markdown",
   "source": [
    "------\n",
    "**Problem 4** Use `big` and `setprecision` to compute ℯ to a 1000 decimal digits with\n",
    "rigorous error bounds."
   ],
   "metadata": {}
  },
  {
   "cell_type": "markdown",
   "source": [
    "Hint: The function `big` will create a `BigFloat` version of a `Float64` and the type\n",
    "`BigFloat` allows changing the number of signficand bits. In particular, the code block\n",
    "```julia\n",
    "setprecision(NUMSIGBITS) do\n",
    "\n",
    "end\n",
    "```\n",
    "will use the number of significand bits specified by `NUMSIGBITS` for any `BigFloat` created\n",
    "between the `do` and the `end`."
   ],
   "metadata": {}
  },
  {
   "cell_type": "markdown",
   "source": [
    "---\n",
    "\n",
    "*This notebook was generated using [Literate.jl](https://github.com/fredrikekre/Literate.jl).*"
   ],
   "metadata": {}
  }
 ],
 "nbformat_minor": 3,
 "metadata": {
  "language_info": {
   "file_extension": ".jl",
   "mimetype": "application/julia",
   "name": "julia",
   "version": "1.8.3-pre.0"
  },
  "kernelspec": {
   "name": "julia-1.8",
   "display_name": "Julia 1.8.3-pre.0",
   "language": "julia"
  }
 },
 "nbformat": 4
}
