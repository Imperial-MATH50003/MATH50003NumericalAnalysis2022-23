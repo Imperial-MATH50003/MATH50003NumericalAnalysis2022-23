{
 "cells": [
  {
   "cell_type": "markdown",
   "source": [
    "# MATH50003 Numerical Analysis (2022–23)\n",
    "# Lab 4: Structured Matrices"
   ],
   "metadata": {}
  },
  {
   "cell_type": "markdown",
   "source": [
    "This lab explores the basics of arrays (matrices and vectors)\n",
    "in Julia. We also investigate implementation of triangular solves,\n",
    "supporting a matrix with two super-diagonals."
   ],
   "metadata": {}
  },
  {
   "cell_type": "markdown",
   "source": [
    "Note in programming there are often different ways to do the same thing.\n",
    "so some of the hints suggest multiple ways to solve the same problem.\n",
    "Remember you can use `?` to discover the functions mentioned in the hints."
   ],
   "metadata": {}
  },
  {
   "outputs": [],
   "cell_type": "code",
   "source": [
    "using LinearAlgebra, Test\n",
    "\n",
    "# We will override these functions below\n",
    "import Base: getindex, setindex!, size, *, \\"
   ],
   "metadata": {},
   "execution_count": 1
  },
  {
   "cell_type": "markdown",
   "source": [
    "## 1. Array creation"
   ],
   "metadata": {}
  },
  {
   "cell_type": "markdown",
   "source": [
    "One can create arrays in multiple ways. For example, the function `zeros(Int, 10)` creates\n",
    "a 10-element `Vector` whose entries are all `zero(Int) == 0`. Or `fill(x, 10)` creates a\n",
    "10-element `Vector` whose entries are all equal to `x`. Or you can use a comprehension:\n",
    "for example `[k^2 for k = 1:10]` creates a vector whose entries are `[1^2, 2^2, …, 10^2]`.\n",
    "This also works for matrices: `zeros(Int, 10, 5)` creates a 10 × 5 matrix of all zeros,\n",
    "and `[k^2 + j for k=1:3, j=1:4]` creates the following:"
   ],
   "metadata": {}
  },
  {
   "outputs": [
    {
     "output_type": "execute_result",
     "data": {
      "text/plain": "3×4 Matrix{Int64}:\n  2   3   4   5\n  5   6   7   8\n 10  11  12  13"
     },
     "metadata": {},
     "execution_count": 2
    }
   ],
   "cell_type": "code",
   "source": [
    "[k^2 + j for k=1:3, j=1:4]"
   ],
   "metadata": {},
   "execution_count": 2
  },
  {
   "cell_type": "markdown",
   "source": [
    "Note sometimes it is best to create a vector/matrix and populate it. For example, the\n",
    "previous matrix could also been constructed as follows:"
   ],
   "metadata": {}
  },
  {
   "outputs": [
    {
     "output_type": "execute_result",
     "data": {
      "text/plain": "3×4 Matrix{Int64}:\n  2   3   4   5\n  5   6   7   8\n 10  11  12  13"
     },
     "metadata": {},
     "execution_count": 3
    }
   ],
   "cell_type": "code",
   "source": [
    "A = zeros(Int, 3, 4)\n",
    "for k = 1:3, j = 1:4\n",
    "    A[k,j] = k^2 + j\n",
    "end\n",
    "A"
   ],
   "metadata": {},
   "execution_count": 3
  },
  {
   "cell_type": "markdown",
   "source": [
    "**Problem 1.1** Create a vector of length 5 whose entries are `Int` which is\n",
    "zero in all entries. Hint: use `zeros`, `fill`, or a comprehension."
   ],
   "metadata": {}
  },
  {
   "outputs": [
    {
     "output_type": "execute_result",
     "data": {
      "text/plain": "5-element Vector{Int64}:\n 0\n 0\n 0\n 0\n 0"
     },
     "metadata": {},
     "execution_count": 4
    }
   ],
   "cell_type": "code",
   "source": [
    "# SOLUTION\n",
    "# Here are 3 solutions:\n",
    "# 1. `zeros`\n",
    "\n",
    "zeros(Int, 5)\n",
    "\n",
    "# 2. `fill`\n",
    "\n",
    "fill(0, 5)\n",
    "\n",
    "# 3. Comprehension\n",
    "\n",
    "[0 for k=1:5]\n",
    "\n",
    "\n",
    "# END"
   ],
   "metadata": {},
   "execution_count": 4
  },
  {
   "cell_type": "markdown",
   "source": [
    "**Problem 1.2** Create a 5×6 matrix whose entries are `Int` which is\n",
    "one in all entries. Hint: use a for-loop, `ones`, `fill`, or a comprehension."
   ],
   "metadata": {}
  },
  {
   "outputs": [
    {
     "output_type": "execute_result",
     "data": {
      "text/plain": "5×6 Matrix{Int64}:\n 1  1  1  1  1  1\n 1  1  1  1  1  1\n 1  1  1  1  1  1\n 1  1  1  1  1  1\n 1  1  1  1  1  1"
     },
     "metadata": {},
     "execution_count": 5
    }
   ],
   "cell_type": "code",
   "source": [
    "# SOLUTION\n",
    "\n",
    "# 1. For-loop:\n",
    "\n",
    "ret = zeros(Int, 5, 6)\n",
    "for k=1:5, j=1:6\n",
    "    ret[k,j] = 1\n",
    "end\n",
    "ret\n",
    "\n",
    "# 2. Ones:\n",
    "\n",
    "ones(Int, 5, 6)\n",
    "\n",
    "# 3. Fill:\n",
    "\n",
    "fill(1, 5, 6)\n",
    "\n",
    "# 4. Comprehension:\n",
    "\n",
    "[1 for k=1:5, j=1:6]\n",
    "\n",
    "\n",
    "# END"
   ],
   "metadata": {},
   "execution_count": 5
  },
  {
   "cell_type": "markdown",
   "source": [
    "**Problem 1.3** Create a 1 × 5 `Matrix{Int}` with entries `A[k,j] = j`. Hint: use a for-loop or a comprehension."
   ],
   "metadata": {}
  },
  {
   "outputs": [
    {
     "output_type": "execute_result",
     "data": {
      "text/plain": "1×5 Matrix{Int64}:\n 1  2  3  4  5"
     },
     "metadata": {},
     "execution_count": 6
    }
   ],
   "cell_type": "code",
   "source": [
    "# SOLUTION\n",
    "\n",
    "# 1. For-loop\n",
    "\n",
    "A = zeros(Int, 1, 5)\n",
    "for j = 1:5\n",
    "    A[1,j] = j\n",
    "end\n",
    "\n",
    "# 2. Comprehension\n",
    "\n",
    "[j for k=1:1, j=1:5]\n",
    "\n",
    "# 3. convert transpose:\n",
    "\n",
    "# Note: (1:5)' is a \"row-vector\" which behaves differently than a matrix\n",
    "Matrix((1:5)')\n",
    "\n",
    "\n",
    "# END"
   ],
   "metadata": {},
   "execution_count": 6
  },
  {
   "cell_type": "markdown",
   "source": [
    "**Problem 1.4** Create a vector of length 5 whose entries are `Float64`\n",
    "approximations of `exp(-k)`. Hint: one use a for-loop or broadcasting `f.(x)` notation."
   ],
   "metadata": {}
  },
  {
   "outputs": [
    {
     "output_type": "execute_result",
     "data": {
      "text/plain": "5-element Vector{Float64}:\n 0.36787944117144233\n 0.1353352832366127\n 0.049787068367863944\n 0.01831563888873418\n 0.006737946999085467"
     },
     "metadata": {},
     "execution_count": 7
    }
   ],
   "cell_type": "code",
   "source": [
    "# SOLUTION\n",
    "\n",
    "# 1. For-loop\n",
    "v = zeros(5) # defaults to Float64\n",
    "for k = 1:5\n",
    "    v[k] = exp(-k)\n",
    "end\n",
    "\n",
    "# 2. Broadcast:\n",
    "exp.(-(1:5))\n",
    "\n",
    "# 3. Explicit broadcsat:\n",
    "broadcast(k -> exp(-k), 1:5)\n",
    "\n",
    "# 4. Comprehension:\n",
    "[exp(-k) for k=1:5]\n",
    "\n",
    "\n",
    "# END"
   ],
   "metadata": {},
   "execution_count": 7
  },
  {
   "cell_type": "markdown",
   "source": [
    "**Problem 1.5** Create a 5 × 6 matrix `A` whose entries `A[k,j] == cos(k+j)`."
   ],
   "metadata": {}
  },
  {
   "outputs": [],
   "cell_type": "code",
   "source": [
    "# SOLUTION"
   ],
   "metadata": {},
   "execution_count": 8
  },
  {
   "cell_type": "markdown",
   "source": [
    " 1. For-loop:"
   ],
   "metadata": {}
  },
  {
   "outputs": [
    {
     "output_type": "execute_result",
     "data": {
      "text/plain": "5×6 Matrix{Float64}:\n -0.416147  -0.989992  -0.653644   0.283662   0.96017    0.753902\n -0.989992  -0.653644   0.283662   0.96017    0.753902  -0.1455\n -0.653644   0.283662   0.96017    0.753902  -0.1455    -0.91113\n  0.283662   0.96017    0.753902  -0.1455    -0.91113   -0.839072\n  0.96017    0.753902  -0.1455    -0.91113   -0.839072   0.0044257"
     },
     "metadata": {},
     "execution_count": 9
    }
   ],
   "cell_type": "code",
   "source": [
    "A = zeros(5,6)\n",
    "for k = 1:5, j = 1:6\n",
    "    A[k,j] = cos(k+j)\n",
    "end\n",
    "A"
   ],
   "metadata": {},
   "execution_count": 9
  },
  {
   "cell_type": "markdown",
   "source": [
    "2. Broadcasting:"
   ],
   "metadata": {}
  },
  {
   "outputs": [
    {
     "output_type": "execute_result",
     "data": {
      "text/plain": "5×6 Matrix{Float64}:\n -0.416147  -0.989992  -0.653644   0.283662   0.96017    0.753902\n -0.989992  -0.653644   0.283662   0.96017    0.753902  -0.1455\n -0.653644   0.283662   0.96017    0.753902  -0.1455    -0.91113\n  0.283662   0.96017    0.753902  -0.1455    -0.91113   -0.839072\n  0.96017    0.753902  -0.1455    -0.91113   -0.839072   0.0044257"
     },
     "metadata": {},
     "execution_count": 10
    }
   ],
   "cell_type": "code",
   "source": [
    "k = 1:5\n",
    "j = 1:6\n",
    "cos.(k .+ j')"
   ],
   "metadata": {},
   "execution_count": 10
  },
  {
   "cell_type": "markdown",
   "source": [
    "3. Broadcasting (explicit):"
   ],
   "metadata": {}
  },
  {
   "outputs": [
    {
     "output_type": "execute_result",
     "data": {
      "text/plain": "5×6 Matrix{Float64}:\n -0.416147  -0.989992  -0.653644   0.283662   0.96017    0.753902\n -0.989992  -0.653644   0.283662   0.96017    0.753902  -0.1455\n -0.653644   0.283662   0.96017    0.753902  -0.1455    -0.91113\n  0.283662   0.96017    0.753902  -0.1455    -0.91113   -0.839072\n  0.96017    0.753902  -0.1455    -0.91113   -0.839072   0.0044257"
     },
     "metadata": {},
     "execution_count": 11
    }
   ],
   "cell_type": "code",
   "source": [
    "broadcast((k,j) -> cos(k+j), 1:5, (1:6)')\n",
    "\n",
    "# END"
   ],
   "metadata": {},
   "execution_count": 11
  },
  {
   "cell_type": "markdown",
   "source": [
    "## 2. Dense Matrices"
   ],
   "metadata": {}
  },
  {
   "cell_type": "markdown",
   "source": [
    "The following problem compares the behaviour of `mul_cols` defined in lectures"
   ],
   "metadata": {}
  },
  {
   "outputs": [
    {
     "output_type": "execute_result",
     "data": {
      "text/plain": "mul_cols (generic function with 1 method)"
     },
     "metadata": {},
     "execution_count": 12
    }
   ],
   "cell_type": "code",
   "source": [
    "function mul_cols(A, x)\n",
    "    m,n = size(A)\n",
    "    c = zeros(eltype(x), m) # eltype is the type of the elements of a vector/matrix\n",
    "    for j = 1:n, k = 1:m\n",
    "        c[k] += A[k, j] * x[j]\n",
    "    end\n",
    "    c\n",
    "end"
   ],
   "metadata": {},
   "execution_count": 12
  },
  {
   "cell_type": "markdown",
   "source": [
    "to the inbuilt matrix-vector multiplication operation `A*x`. The point is that\n",
    "sometimes the choice of algorithm, despite being mathematically equivalent, can change the exact results\n",
    "when using floating point."
   ],
   "metadata": {}
  },
  {
   "cell_type": "markdown",
   "source": [
    "**Problem 2.1** Show that `A*x` is not\n",
    "implemented as `mul_cols(A, x)` from the lecture notes\n",
    "by finding a `Float64` example  where the bits do not match.\n",
    "Hint: either guess-and-check, perhaps using `randn(n,n)` to make a random `n × n` matrix."
   ],
   "metadata": {}
  },
  {
   "outputs": [
    {
     "name": "stdout",
     "output_type": "stream",
     "text": [
      "Bits of obtained A*x\n",
      "\u001b[31m0\u001b[0m\u001b[32m10000000000\u001b[0m\u001b[34m0100000111110000010101110001011101001011011001010010\u001b[0m\n",
      "\u001b[31m0\u001b[0m\u001b[32m01111111111\u001b[0m\u001b[34m0111001001101100011011101011100000111011010110101001\u001b[0m\n",
      "\u001b[31m1\u001b[0m\u001b[32m10000000000\u001b[0m\u001b[34m0000101000001010110011000100001011111010010001101101\u001b[0m\n",
      "\u001b[31m0\u001b[0m\u001b[32m01111111111\u001b[0m\u001b[34m0001110110111110111111100110110000001011000101000001\u001b[0m\n",
      "\u001b[31m0\u001b[0m\u001b[32m01111111110\u001b[0m\u001b[34m0101010001000001000101000100111100111011110110001110\u001b[0m\n",
      "\u001b[31m1\u001b[0m\u001b[32m01111111111\u001b[0m\u001b[34m1010010101110000001100111001010111111001110010010011\u001b[0m\n",
      "\u001b[31m1\u001b[0m\u001b[32m01111111110\u001b[0m\u001b[34m0111010000011111001111011011100111001010011000000110\u001b[0m\n",
      "\u001b[31m0\u001b[0m\u001b[32m10000000000\u001b[0m\u001b[34m0000001111101111010000100011111001100000000110011000\u001b[0m\n",
      "\u001b[31m0\u001b[0m\u001b[32m01111111111\u001b[0m\u001b[34m0001010001011100100011001001011111011010010100010100\u001b[0m\n",
      "\u001b[31m1\u001b[0m\u001b[32m10000000000\u001b[0m\u001b[34m0110011010110010000000111100001000000101100001101100\u001b[0m\n",
      "Bits of obtained mul_cols(A,x)\n",
      "\u001b[31m0\u001b[0m\u001b[32m10000000000\u001b[0m\u001b[34m0100000111110000010101110001011101001011011001010010\u001b[0m\n",
      "\u001b[31m0\u001b[0m\u001b[32m01111111111\u001b[0m\u001b[34m0111001001101100011011101011100000111011010110101001\u001b[0m\n",
      "\u001b[31m1\u001b[0m\u001b[32m10000000000\u001b[0m\u001b[34m0000101000001010110011000100001011111010010001101100\u001b[0m\n",
      "\u001b[31m0\u001b[0m\u001b[32m01111111111\u001b[0m\u001b[34m0001110110111110111111100110110000001011000101000001\u001b[0m\n",
      "\u001b[31m0\u001b[0m\u001b[32m01111111110\u001b[0m\u001b[34m0101010001000001000101000100111100111011110110010000\u001b[0m\n",
      "\u001b[31m1\u001b[0m\u001b[32m01111111111\u001b[0m\u001b[34m1010010101110000001100111001010111111001110010010001\u001b[0m\n",
      "\u001b[31m1\u001b[0m\u001b[32m01111111110\u001b[0m\u001b[34m0111010000011111001111011011100111001010011000000111\u001b[0m\n",
      "\u001b[31m0\u001b[0m\u001b[32m10000000000\u001b[0m\u001b[34m0000001111101111010000100011111001100000000110010111\u001b[0m\n",
      "\u001b[31m0\u001b[0m\u001b[32m01111111111\u001b[0m\u001b[34m0001010001011100100011001001011111011010010100010100\u001b[0m\n",
      "\u001b[31m1\u001b[0m\u001b[32m10000000000\u001b[0m\u001b[34m0110011010110010000000111100001000000101100001101100\u001b[0m\n",
      "Difference vector between the two solutions:\n",
      "[0.0, 0.0, -4.440892098500626e-16, 0.0, -2.220446049250313e-16, -4.440892098500626e-16, 1.1102230246251565e-16, 4.440892098500626e-16, 0.0, 0.0]\n"
     ]
    }
   ],
   "cell_type": "code",
   "source": [
    "# SOLUTION\n",
    "\n",
    "# Then we can easily find examples, in fact we can write a function that searches for examples:\n",
    "\n",
    "using ColorBitstring\n",
    "\n",
    "function findblasmuldifference(n, l)\n",
    "\tfor j = 1:n\n",
    "\t\tA = randn(l,l)\n",
    "\t\tx = rand(l)\n",
    "\t\tif A*x != mul_cols(A,x)\n",
    "\t\t\treturn (A,x)\n",
    "\t\tend\n",
    "\tend\n",
    "end\n",
    "\n",
    "n = 100 # number of attempts\n",
    "l = 10 # size of objects\n",
    "A,x = findblasmuldifference(n,l) # find a difference\n",
    "\n",
    "println(\"Bits of obtained A*x\")\n",
    "printlnbits.(A*x);\n",
    "println(\"Bits of obtained mul_cols(A,x)\")\n",
    "printlnbits.(mul_cols(A,x));\n",
    "println(\"Difference vector between the two solutions:\")\n",
    "println(A*x-mul_cols(A,x))\n",
    "\n",
    "# END"
   ],
   "metadata": {},
   "execution_count": 13
  },
  {
   "cell_type": "markdown",
   "source": [
    "## 3. Triangular Matrices"
   ],
   "metadata": {}
  },
  {
   "cell_type": "markdown",
   "source": [
    "In lectures we covered algorithms involving upper-triangular matrices. Here we want to implement\n",
    "the lower-triangular analogues."
   ],
   "metadata": {}
  },
  {
   "cell_type": "markdown",
   "source": [
    "**Problem 3.1** Complete the following function for lower triangular matrix-vector\n",
    "multiplication without ever accessing the zero entries of `L` above the diagonal.\n",
    "Hint: just copy code for `mul_cols` and modify the for-loop ranges a la the `UpperTriangular`\n",
    "case."
   ],
   "metadata": {}
  },
  {
   "outputs": [
    {
     "output_type": "execute_result",
     "data": {
      "text/plain": "\u001b[32m\u001b[1mTest Passed\u001b[22m\u001b[39m"
     },
     "metadata": {},
     "execution_count": 14
    }
   ],
   "cell_type": "code",
   "source": [
    "function mul_cols(L::LowerTriangular, x)\n",
    "    n = size(L,1)\n",
    "\n",
    "    # promote_type type finds a type that is compatible with both types, eltype gives the type of the elements of a vector / matrix\n",
    "    T = promote_type(eltype(x),eltype(L))\n",
    "    b = zeros(T,n) # the returned vector, begins of all zeros\n",
    "\n",
    "    # TODO: populate b so that L*x == b\n",
    "    # SOLUTION\n",
    "    for j = 1:n, k = j:n\n",
    "        b[k] += L[k, j] * x[j]\n",
    "    end\n",
    "    # END\n",
    "\n",
    "    b\n",
    "end\n",
    "\n",
    "L = LowerTriangular(randn(5,5))\n",
    "x = randn(5)\n",
    "@test L*x == mul_cols(L, x)"
   ],
   "metadata": {},
   "execution_count": 14
  },
  {
   "cell_type": "markdown",
   "source": [
    "**Problem 3.2** Complete the following function for solving linear systems with\n",
    "lower triangular systems by implementing forward-substitution."
   ],
   "metadata": {}
  },
  {
   "outputs": [
    {
     "output_type": "execute_result",
     "data": {
      "text/plain": "\u001b[32m\u001b[1mTest Passed\u001b[22m\u001b[39m"
     },
     "metadata": {},
     "execution_count": 15
    }
   ],
   "cell_type": "code",
   "source": [
    "function ldiv(L::LowerTriangular, b)\n",
    "    n = size(L,1)\n",
    "\n",
    "    if length(b) != n\n",
    "        error(\"The system is not compatible\")\n",
    "    end\n",
    "\n",
    "    x = zeros(n)  # the solution vector\n",
    "    # TODO: populate x using forward-substitution so that L*x ≈ b\n",
    "    # SOLUTION\n",
    "    for k = 1:n  # start with k = 1\n",
    "        r = b[k]  # dummy variable\n",
    "        for j = 1:k-1\n",
    "            r -= L[k,j]*x[j]\n",
    "        end\n",
    "        x[k] = r/L[k,k]\n",
    "    end\n",
    "    # END\n",
    "    x\n",
    "end\n",
    "\n",
    "\n",
    "L = LowerTriangular(randn(5,5))\n",
    "b = randn(5)\n",
    "@test L\\b ≈ ldiv(L, b)"
   ],
   "metadata": {},
   "execution_count": 15
  },
  {
   "cell_type": "markdown",
   "source": [
    "## 4. Banded matrices"
   ],
   "metadata": {}
  },
  {
   "cell_type": "markdown",
   "source": [
    "Banded matrices are very important in differential equations and enable much faster algorithms.\n",
    "Here we look at banded upper triangular matrices by implementing a type that encodes this\n",
    "property:"
   ],
   "metadata": {}
  },
  {
   "outputs": [],
   "cell_type": "code",
   "source": [
    "struct UpperTridiagonal{T} <: AbstractMatrix{T}\n",
    "    d::Vector{T}   # diagonal entries: d[k] == U[k,k]\n",
    "    du::Vector{T}  # super-diagonal enries: du[k] == U[k,k+1]\n",
    "    du2::Vector{T} # second-super-diagonal entries: du2[k] == U[k,k+2]\n",
    "end"
   ],
   "metadata": {},
   "execution_count": 16
  },
  {
   "cell_type": "markdown",
   "source": [
    "This uses the notation `<: AbstractMatrix{T}`: this tells Julia that our type is in fact a matrix.\n",
    "In order for it to behave a matrix we have to overload the function `size` for our type to return\n",
    "the dimensions (in this case we just use the length of the diagonal):"
   ],
   "metadata": {}
  },
  {
   "outputs": [
    {
     "output_type": "execute_result",
     "data": {
      "text/plain": "size (generic function with 140 methods)"
     },
     "metadata": {},
     "execution_count": 17
    }
   ],
   "cell_type": "code",
   "source": [
    "size(U::UpperTridiagonal) = (length(U.d),length(U.d))"
   ],
   "metadata": {},
   "execution_count": 17
  },
  {
   "cell_type": "markdown",
   "source": [
    "Julia still doesn't know what the entries of the matrix are. To do this we need to overload `getindex`.\n",
    "We also overload `setindex!` to allow changing the non-zero entries."
   ],
   "metadata": {}
  },
  {
   "cell_type": "markdown",
   "source": [
    "**Problem 4.1** Complete the implementation of `UpperTridiagonal` which represents a banded matrix with\n",
    "bandwidths $(l,u) = (0,2)$ by overloading `getindex` and `setindex!`. Return zero (of the same type as the other entries)\n",
    "if we are off the bands."
   ],
   "metadata": {}
  },
  {
   "outputs": [
    {
     "output_type": "execute_result",
     "data": {
      "text/plain": "\u001b[32m\u001b[1mTest Passed\u001b[22m\u001b[39m"
     },
     "metadata": {},
     "execution_count": 18
    }
   ],
   "cell_type": "code",
   "source": [
    "# getindex(U, k, j) is another way to write U[k,j].\n",
    "# This function will therefore be called when we call U[k,j]\n",
    "function getindex(U::UpperTridiagonal, k::Int, j::Int)\n",
    "    d,du,du2 = U.d,U.du,U.du2\n",
    "    # TODO: return U[k,j]\n",
    "    # SOLUTION\n",
    "    if j == k+2\n",
    "    \treturn U.du2[k]\n",
    "    elseif j == k+1\n",
    "    \treturn U.du[k]\n",
    "    elseif j == k\n",
    "    \treturn U.d[k]\n",
    "    else # off band entries are zero\n",
    "    \treturn zero(eltype(U))\n",
    "    end\n",
    "    # END\n",
    "end\n",
    "\n",
    "# setindex!(U, v, k, j) gets called when we write (U[k,j] = v).\n",
    "function setindex!(U::UpperTridiagonal, v, k::Int, j::Int)\n",
    "    d,du,du2 = U.d,U.du,U.du2\n",
    "    if j > k+2 || j < k\n",
    "        error(\"Cannot modify off-band\")\n",
    "    end\n",
    "\n",
    "    # TODO: modify d,du,du2 so that U[k,j] == v\n",
    "    # SOLUTION\n",
    "    if j == k+2\n",
    "    \tdu2[k] = v\n",
    "    elseif j == k+1\n",
    "    \tdu[k] = v\n",
    "    elseif j == k\n",
    "    \td[k] = v\n",
    "    end\n",
    "    # END\n",
    "    U # by convention we return the matrix\n",
    "end\n",
    "\n",
    "U = UpperTridiagonal([1,2,3,4,5], [1,2,3,4], [1,2,3])\n",
    "@test U == [1 1 1 0 0;\n",
    "            0 2 2 2 0;\n",
    "            0 0 3 3 3;\n",
    "            0 0 0 4 4;\n",
    "            0 0 0 0 5]\n",
    "\n",
    "U[3,4] = 2\n",
    "@test U == [1 1 1 0 0;\n",
    "            0 2 2 2 0;\n",
    "            0 0 3 2 3;\n",
    "            0 0 0 4 4;\n",
    "            0 0 0 0 5]"
   ],
   "metadata": {},
   "execution_count": 18
  },
  {
   "cell_type": "markdown",
   "source": [
    "**Problem 4.2** Complete the following implementations of `*` and `\\` for `UpperTridiagonal` so that\n",
    "they take only $O(n)$ operations. Hint: the function `max(a,b)` returns the larger of `a` or `b`\n",
    "and `min(a,b)` returns the smaller. They may help to avoid accessing zeros."
   ],
   "metadata": {}
  },
  {
   "outputs": [
    {
     "output_type": "execute_result",
     "data": {
      "text/plain": "\u001b[32m\u001b[1mTest Passed\u001b[22m\u001b[39m"
     },
     "metadata": {},
     "execution_count": 19
    }
   ],
   "cell_type": "code",
   "source": [
    "function *(U::UpperTridiagonal, x::AbstractVector)\n",
    "    n = size(U,1)\n",
    "    # promote_type type finds a type that is compatible with both types, eltype gives the type of the elements of a vector / matrix\n",
    "    T = promote_type(eltype(x),eltype(U))\n",
    "    b = zeros(T, n) # the returned vector, begins of all zeros\n",
    "    # TODO: populate b so that U*x == b (up to rounding)\n",
    "    # SOLUTION\n",
    "    for j = 1:n, k = max(j-2,1):j\n",
    "        b[k] += U[k, j] * x[j]\n",
    "    end\n",
    "    # END\n",
    "    b\n",
    "end\n",
    "\n",
    "function \\(U::UpperTridiagonal, b::AbstractVector)\n",
    "    n = size(U,1)\n",
    "    T = promote_type(eltype(b),eltype(U))\n",
    "\n",
    "    if length(b) != n\n",
    "        error(\"The system is not compatible\")\n",
    "    end\n",
    "\n",
    "    x = zeros(T, n)  # the solution vector\n",
    "    ## TODO: populate x so that U*x ≈ b\n",
    "    # SOLUTION\n",
    "    for k = n:-1:1  # start with k=n, then k=n-1, ...\n",
    "        r = b[k]  # dummy variable\n",
    "        for j = k+1:min(n, k+2)\n",
    "            r -= U[k,j]*x[j] # equivalent to r = r - U[k,j]*x[j]\n",
    "        end\n",
    "        # after this for loop, r = b[k] - ∑_{j=k+1}^n U[k,j]x[j]\n",
    "        x[k] = r/U[k,k]\n",
    "    end\n",
    "    # END\n",
    "    x\n",
    "end\n",
    "\n",
    "n = 1_000_000 # under-scores are like commas: so this is a million: 1,000,000\n",
    "U = UpperTridiagonal(ones(n), fill(0.5,n-1), fill(0.1,n-2))\n",
    "x = ones(n)\n",
    "b = [fill(1.6,n-2); 1.5; 1] # exact result\n",
    "# note following should take much less than a second\n",
    "@test U*x == b\n",
    "@test U\\b == x"
   ],
   "metadata": {},
   "execution_count": 19
  },
  {
   "cell_type": "markdown",
   "source": [
    "---\n",
    "\n",
    "*This notebook was generated using [Literate.jl](https://github.com/fredrikekre/Literate.jl).*"
   ],
   "metadata": {}
  }
 ],
 "nbformat_minor": 3,
 "metadata": {
  "language_info": {
   "file_extension": ".jl",
   "mimetype": "application/julia",
   "name": "julia",
   "version": "1.8.3-pre.0"
  },
  "kernelspec": {
   "name": "julia-1.8",
   "display_name": "Julia 1.8.3-pre.0",
   "language": "julia"
  }
 },
 "nbformat": 4
}
