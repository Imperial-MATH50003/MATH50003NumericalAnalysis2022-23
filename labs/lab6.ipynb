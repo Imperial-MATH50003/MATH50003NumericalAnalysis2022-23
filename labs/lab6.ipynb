{
 "cells": [
  {
   "cell_type": "markdown",
   "source": [
    "# MATH50003 Numerical Analysis (2022–23)\n",
    "# Lab 6: Least squares, QR and Cholesky\n",
    "This lab explores the the least squares problem for fitting functions with polynomials,\n",
    "computing the QR factorisation with both reflections and rotations,\n",
    "and implementing a tridiagonal Cholesky decomposition (which we shall see later arises in the 1D Poisson equation)."
   ],
   "metadata": {}
  },
  {
   "outputs": [],
   "cell_type": "code",
   "source": [
    "using Plots, Test, LinearAlgebra"
   ],
   "metadata": {},
   "execution_count": 1
  },
  {
   "cell_type": "markdown",
   "source": [
    "------"
   ],
   "metadata": {}
  },
  {
   "cell_type": "markdown",
   "source": [
    "When $m = n$ a least squares fit by a polynomial becomes _interpolation_:\n",
    "the approximating polynomial will fit the data exactly. That is, for\n",
    "$$\n",
    "p(x) = ∑_{k = 0}^{n-1} p_k x^k\n",
    "$$\n",
    "and $x_1, …, x_n ∈ ℝ$, we choose $p_k$ so that $p(x_j) = f(x_j)$ for\n",
    "$j = 1, …, n$."
   ],
   "metadata": {}
  },
  {
   "cell_type": "markdown",
   "source": [
    "**Problem 1.1** Complete the following function which returns a rectangular _Vandermonde matrix_:\n",
    "a matrix $V ∈ ℝ^{m × n}$ such that\n",
    "$$\n",
    "V * \\begin{bmatrix} p_0\\\\ ⋮ \\\\p_n \\end{bmatrix} = \\begin{bmatrix} p(x_1)\\\\ ⋮ \\\\p(x_m) \\end{bmatrix}\n",
    "$$"
   ],
   "metadata": {}
  },
  {
   "outputs": [
    {
     "output_type": "execute_result",
     "data": {
      "text/plain": "\u001b[33m\u001b[1mTest Broken\u001b[22m\u001b[39m\n  Expression: V * ones(n) ≈ (1 .- 𝐱 .^ n) ./ (1 .- 𝐱)"
     },
     "metadata": {},
     "execution_count": 2
    }
   ],
   "cell_type": "code",
   "source": [
    "function vandermonde(𝐱, n) # 𝐱 = [x_1,…,x_m]\n",
    "    m = length(𝐱)\n",
    "    # TODO: Make V\n",
    "\n",
    "end\n",
    "\n",
    "n = 1000\n",
    "𝐱 = range(0, 0.5; length=n)\n",
    "V = vandermonde(𝐱, n) # square Vandermonde matrix\n",
    "# if all coefficients are 1 then p(x) = (1-x^n)/(1-x)\n",
    "@test_broken V * ones(n) ≈ (1 .- 𝐱 .^ n) ./ (1 .- 𝐱)"
   ],
   "metadata": {},
   "execution_count": 2
  },
  {
   "cell_type": "markdown",
   "source": [
    "Inverting the square Vandermonde matrix is a way of computing coefficients from function\n",
    "samples. That is, solving\n",
    "$$\n",
    "V𝐜 = \\begin{bmatrix} f(x_1) \\\\ ⋮ \\\\ f(x_n) \\end{bmatrix}\n",
    "$$\n",
    "Gives the coefficients of a polynomial $p(x)$ so that $p(x_j) = f(x_j)$.\n",
    "Whether an interpolation is actually close to a function is a subtle question,\n",
    "involving properties of the function, distribution of the sample points $x_1,…,x_n$,\n",
    "and round-off error.\n",
    "A classic example is:\n",
    "$$\n",
    "  f_M(x) = {1 \\over M x^2 + 1}\n",
    "$$\n",
    "where the choice of $M$ can dictate whether interpolation at evenly spaced points converges."
   ],
   "metadata": {}
  },
  {
   "cell_type": "markdown",
   "source": [
    "**Problem 1.2** Interpolate $1/(4x^2+1)$ and $1/(25x^2 + 1)$ at an evenly spaced grid of $n$\n",
    "points, plotting the solution at a grid of $1000$ points. For $n = 50$ does your interpolation match\n",
    "the true function?  Does increasing $n$ to 400 improve the accuracy? How about using `BigFloat`?"
   ],
   "metadata": {}
  },
  {
   "outputs": [
    {
     "output_type": "execute_result",
     "data": {
      "text/plain": "-1.0:0.002002002002002002:1.0"
     },
     "metadata": {},
     "execution_count": 3
    }
   ],
   "cell_type": "code",
   "source": [
    "n = 50\n",
    "𝐱 = range(-1, 1; length=n)\n",
    "𝐠 = range(-1, 1; length=1000) # plotting grid\n",
    "\n",
    "# TODO: interpolate 1/(10x^2 + 1) and 1/(25x^2 + 1) at $𝐱$, plotting both solutions evaluated at\n",
    "# the grid 𝐠. Hint: use a rectangular Vandermonde matrix to evaluate your polynomial on 𝐠. Remember\n",
    "# `plot(𝐱, 𝐟)` will create a new plot whilst `plot!(𝐱, 𝐟)` will add to an existing plot."
   ],
   "metadata": {},
   "execution_count": 3
  },
  {
   "outputs": [],
   "cell_type": "code",
   "source": [
    "# TODO: repeat the experiment with `n = 400` and observe what has changed."
   ],
   "metadata": {},
   "execution_count": 4
  },
  {
   "cell_type": "markdown",
   "source": [
    "**Problem 1.3** Repeat the previous problem but now using _least squares_: instead of interpolating,\n",
    "use least squares on a large grid: choose the coefficients of a degree $(n-1)$ polynomial so that\n",
    "$$\n",
    "    \\left\\| \\begin{bmatrix} p(x_1) \\\\ ⋮ \\\\ p(x_m) \\end{bmatrix} - \\begin{bmatrix} f(x_1) \\\\ ⋮ \\\\ f(x_m) \\end{bmatrix} \\right \\|.\n",
    "$$\n",
    "is minimised.\n",
    "Does this improve the convergence properties? Do you think convergence for a least squares approximation\n",
    "is dictated by the radius of convergence of the corresponding Taylor series?\n",
    "Hint: use the rectangular Vandermonde matrix to setup the Least squares system."
   ],
   "metadata": {}
  },
  {
   "outputs": [
    {
     "output_type": "execute_result",
     "data": {
      "text/plain": "-1.0:0.0010005002501250625:1.0"
     },
     "metadata": {},
     "execution_count": 5
    }
   ],
   "cell_type": "code",
   "source": [
    "n = 50 # use basis [1,x,…,x^(49)]\n",
    "𝐱 = range(-1, 1; length=500) # least squares grid\n",
    "𝐠 = range(-1, 1; length=2000) # plotting grid\n",
    "\n",
    "# TODO: interpolate 1/(10x^2 + 1) and 1/(25x^2 + 1) at $𝐱$, plotting both solutions evaluated at\n",
    "# the grid 𝐠. Hint: use a rectangular Vandermonde matrix to evaluate your polynomial on 𝐠. Remember\n",
    "# `plot(𝐱, 𝐟)` will create a new plot whilst `plot!(𝐱, 𝐟)` will add to an existing plot."
   ],
   "metadata": {},
   "execution_count": 5
  },
  {
   "cell_type": "markdown",
   "source": [
    "-------"
   ],
   "metadata": {}
  },
  {
   "cell_type": "markdown",
   "source": [
    "In lectures we did a quick-and-dirty implementation of Householder QR.\n",
    "One major issue though: it used $O(m^2 n^2)$ operations, which is too many!\n",
    "By being more careful about how we apply and store reflections we can avoid this,\n",
    "in particular, taking advantage of the types `Reflection` and `Reflections` we developed\n",
    "last lab."
   ],
   "metadata": {}
  },
  {
   "cell_type": "markdown",
   "source": [
    "**Problem 2** Complete the following function that implements\n",
    "Householder QR for a real matrix $A ∈ ℝ^{m × n}$ where $m ≥ n$ using only $O(mn^2)$ operations, using\n",
    " `Reflection` and `Reflections` from PS5.\n",
    "Hint: We have added the overload functions `*(::Reflection, ::AbstractMatrix)` and\n",
    "`*(::Reflections, ::AbstractMatrix)` so that they can be multiplied by an $m × n$ matrix in $O(mn)$ operations."
   ],
   "metadata": {}
  },
  {
   "outputs": [
    {
     "output_type": "execute_result",
     "data": {
      "text/plain": "\u001b[33m\u001b[1mTest Broken\u001b[22m\u001b[39m\n  Expression: Q * R ≈ A"
     },
     "metadata": {},
     "execution_count": 6
    }
   ],
   "cell_type": "code",
   "source": [
    "import Base: *, size, getindex\n",
    "\n",
    "struct Reflection{T} <: AbstractMatrix{T}\n",
    "    v::Vector{T}\n",
    "end\n",
    "\n",
    "struct Reflections{T} <: AbstractMatrix{T}\n",
    "    V::Matrix{T}\n",
    "end\n",
    "\n",
    "## TODO: copy over implementation of Reflection and Reflections from PS5.\n",
    "\n",
    "\n",
    "\n",
    "\n",
    "\n",
    "\n",
    "\n",
    "## Implementations of Reflection * AbstractMatrix\n",
    "function *(Q::Reflection, X::AbstractMatrix)\n",
    "    T = promote_type(eltype(Q), eltype(X))\n",
    "    m,n = size(X)\n",
    "    ret = zeros(T, m, n)\n",
    "    for j = 1:n\n",
    "        ret[:,j] = Q * X[:,j]\n",
    "    end\n",
    "    ret\n",
    "end\n",
    "\n",
    "## Implementations of Reflections * AbstractMatrix\n",
    "function *(Q::Reflections, X::AbstractMatrix)\n",
    "    T = promote_type(eltype(Q), eltype(X))\n",
    "    m,n = size(X)\n",
    "    ret = zeros(T, m, n)\n",
    "    for j = 1:n\n",
    "        ret[:,j] = Q * X[:,j]\n",
    "    end\n",
    "    ret\n",
    "end\n",
    "\n",
    "\n",
    "\n",
    "function householderqr(A)\n",
    "    T = eltype(A)\n",
    "    m,n = size(A)\n",
    "    if n > m\n",
    "        error(\"More columns than rows is not supported\")\n",
    "    end\n",
    "\n",
    "    R = zeros(T, m, n)\n",
    "    Q = Reflections(zeros(T, m, n))\n",
    "    Aⱼ = copy(A)\n",
    "\n",
    "    for j = 1:n\n",
    "        # TODO: rewrite householder QR to use Reflection and\n",
    "        # Reflections, in a way that one achieves O(mn^2) operations\n",
    "\n",
    "    end\n",
    "    Q,R\n",
    "end\n",
    "\n",
    "A = randn(600,400)\n",
    "Q,R = householderqr(A)\n",
    "@test_broken Q*R ≈ A"
   ],
   "metadata": {},
   "execution_count": 6
  },
  {
   "cell_type": "markdown",
   "source": [
    "--------"
   ],
   "metadata": {}
  },
  {
   "cell_type": "markdown",
   "source": [
    "We now consider a Cholesky factorisation for tridiagonal matrices. Since we are assuming the\n",
    "matrix is symmetric, we will use a special type `SymTridiagonal` that captures the symmetry.\n",
    "In particular, `SymTridiagonal(dv, eu) == Tridiagonal(ev, dv, ev)`."
   ],
   "metadata": {}
  },
  {
   "cell_type": "markdown",
   "source": [
    "**Problem 3** Complete the following\n",
    "implementation of `mycholesky` to return a `Bidiagonal` cholesky factor in $O(n)$ operations."
   ],
   "metadata": {}
  },
  {
   "outputs": [
    {
     "output_type": "execute_result",
     "data": {
      "text/plain": "\u001b[33m\u001b[1mTest Broken\u001b[22m\u001b[39m\n  Expression: L * L' ≈ A"
     },
     "metadata": {},
     "execution_count": 7
    }
   ],
   "cell_type": "code",
   "source": [
    "# return a Bidiagonal L such that L'L == A (up to machine precision)\n",
    "# You are allowed to change A\n",
    "function mycholesky(A::SymTridiagonal)\n",
    "    d = A.dv # diagonal entries of A\n",
    "    u = A.ev # sub/super-diagonal entries of A\n",
    "    T = float(eltype(A)) # return type, make float in case A has Ints\n",
    "    n = length(d)\n",
    "    ld = zeros(T, n) # diagonal entries of L\n",
    "    ll = zeros(T, n-1) # sub-diagonal entries of L\n",
    "\n",
    "    ## TODO: populate the diagonal entries ld and the sub-diagonal entries ll\n",
    "    # of L so that L*L' ≈ A\n",
    "\n",
    "\n",
    "    Bidiagonal(ld, ll, :L)\n",
    "end\n",
    "\n",
    "n = 1000\n",
    "A = SymTridiagonal(2*ones(n),-ones(n-1))\n",
    "L = mycholesky(A)\n",
    "@test_broken L*L' ≈ A"
   ],
   "metadata": {},
   "execution_count": 7
  },
  {
   "cell_type": "markdown",
   "source": [
    "------"
   ],
   "metadata": {}
  },
  {
   "cell_type": "markdown",
   "source": [
    "## Advanced"
   ],
   "metadata": {}
  },
  {
   "cell_type": "markdown",
   "source": [
    "This last problem is advanced so may be considered optional."
   ],
   "metadata": {}
  },
  {
   "cell_type": "markdown",
   "source": [
    "An alternative to using reflections to introduce zeros is to use rotations.\n",
    "This is particularly convenient for tridiagonal matrices, where one needs to only\n",
    "make one sub-diagonal zero. Here we explore a tridiagonal QR built from rotations\n",
    "in a way that the factorisation can be computed in $O(n)$ operations."
   ],
   "metadata": {}
  },
  {
   "cell_type": "markdown",
   "source": [
    "**Problem 4.1** Complete the implementation of `Rotations`, which represents an orthogonal matrix `Q` that is a product\n",
    "of rotations of angle `θ[k]`, each acting on the entries `k:k+1`. That is, it returns $Q = Q_1⋯Q_k$ such that\n",
    "$$\n",
    "Q_k[k:k+1,k:k+1] =\n",
    "\\begin{bmatrix}\n",
    "\\cos θ[k] & -\\sin θ[k]\\\\\n",
    "\\sin θ[k] & \\cos θ[k]\n",
    "\\end{bmatrix}\n",
    "$$"
   ],
   "metadata": {}
  },
  {
   "outputs": [
    {
     "output_type": "execute_result",
     "data": {
      "text/plain": "\u001b[33m\u001b[1mTest Broken\u001b[22m\u001b[39m\n  Expression: Rotations([π / 2, -π / 2]) ≈ [0 0 -1; 1 0 0; 0 -1 0]"
     },
     "metadata": {},
     "execution_count": 8
    }
   ],
   "cell_type": "code",
   "source": [
    "struct Rotations{T} <: AbstractMatrix{T}\n",
    "    θ::Vector{T} # a vector of angles\n",
    "end\n",
    "\n",
    "import Base: *, size, getindex\n",
    "\n",
    "# we use the number of rotations to deduce the dimensions of the matrix\n",
    "size(Q::Rotations) = (length(Q.θ)+1, length(Q.θ)+1)\n",
    "\n",
    "function *(Q::Rotations, x::AbstractVector)\n",
    "    T = promote_type(eltype(Q), eltype(x))\n",
    "    y = Vector{T}(x) # copies x to a new Vector whose eltype is T\n",
    "    # TODO: Apply Q in O(n) operations, modifying y in-place\n",
    "\n",
    "\n",
    "\n",
    "    y\n",
    "end\n",
    "\n",
    "function getindex(Q::Rotations, k::Int, j::Int)\n",
    "    # TODO: Return Q[k,j] in O(n) operations (hint: use *)\n",
    "\n",
    "\n",
    "end\n",
    "\n",
    "θ1 = randn(5)\n",
    "Q = Rotations(θ1)\n",
    "@test_broken Q'Q ≈ I\n",
    "@test_broken Rotations([π/2, -π/2]) ≈ [0 0 -1; 1 0 0; 0 -1 0]"
   ],
   "metadata": {},
   "execution_count": 8
  },
  {
   "cell_type": "markdown",
   "source": [
    "When one computes a tridiagonal QR, we introduce entries in the\n",
    "second super-diagonal. Thus we will use the `UpperTridiagonal` type\n",
    "from Lab 4:"
   ],
   "metadata": {}
  },
  {
   "outputs": [
    {
     "output_type": "execute_result",
     "data": {
      "text/plain": "setindex! (generic function with 135 methods)"
     },
     "metadata": {},
     "execution_count": 9
    }
   ],
   "cell_type": "code",
   "source": [
    "import Base: *, size, getindex, setindex!\n",
    "struct UpperTridiagonal{T} <: AbstractMatrix{T}\n",
    "    d::Vector{T}   # diagonal entries\n",
    "    du::Vector{T}  # super-diagonal enries\n",
    "    du2::Vector{T} # second-super-diagonal entries\n",
    "end\n",
    "\n",
    "size(U::UpperTridiagonal) = (length(U.d),length(U.d))\n",
    "\n",
    "function getindex(U::UpperTridiagonal, k::Int, j::Int)\n",
    "    d,du,du2 = U.d,U.du,U.du2\n",
    "    if j - k == 0\n",
    "        d[j]\n",
    "    elseif j - k == 1\n",
    "        du[k]\n",
    "    elseif j - k == 2\n",
    "        du2[k]\n",
    "    else\n",
    "        0\n",
    "    end\n",
    "end\n",
    "\n",
    "function setindex!(U::UpperTridiagonal, v, k::Int, j::Int)\n",
    "    d,du,du2 = U.d,U.du,U.du2\n",
    "    if j > k+2\n",
    "        error(\"Cannot modify off-band\")\n",
    "    end\n",
    "    if j - k == 0\n",
    "        d[k] = v\n",
    "    elseif j - k == 1\n",
    "        du[k] = v\n",
    "    elseif j - k == 2\n",
    "        du2[k] = v\n",
    "    else\n",
    "        error(\"Cannot modify off-band\")\n",
    "    end\n",
    "    U # by convention we return the matrix\n",
    "end"
   ],
   "metadata": {},
   "execution_count": 9
  },
  {
   "cell_type": "markdown",
   "source": [
    "**Problem 4.2** Combine `Rotations` and `UpperTridiagonal` from last problem sheet\n",
    "to implement a banded QR decomposition, `bandedqr`, that only takes $O(n)$ operations. Hint: the\n",
    "`atan(y,x)` function gives the angle of a vector `[x,y]`."
   ],
   "metadata": {}
  },
  {
   "outputs": [
    {
     "output_type": "execute_result",
     "data": {
      "text/plain": "\u001b[33m\u001b[1mTest Broken\u001b[22m\u001b[39m\n  Expression: Q * R ≈ A"
     },
     "metadata": {},
     "execution_count": 10
    }
   ],
   "cell_type": "code",
   "source": [
    "function bandedqr(A::Tridiagonal)\n",
    "    n = size(A, 1)\n",
    "    Q = Rotations(zeros(n - 1)) # Assume Float64\n",
    "    R = UpperTridiagonal(zeros(n), zeros(n - 1), zeros(n - 2))\n",
    "\n",
    "    # TODO: Populate Q and R by looping through the columns of A.\n",
    "\n",
    "\n",
    "    Q, R\n",
    "end\n",
    "\n",
    "A = Tridiagonal([1, 2, 3, 4], [1, 2, 3, 4, 5], [1, 2, 3, 4])\n",
    "Q, R = bandedqr(A)\n",
    "@test_broken Q*R ≈ A"
   ],
   "metadata": {},
   "execution_count": 10
  },
  {
   "cell_type": "markdown",
   "source": [
    "---\n",
    "\n",
    "*This notebook was generated using [Literate.jl](https://github.com/fredrikekre/Literate.jl).*"
   ],
   "metadata": {}
  }
 ],
 "nbformat_minor": 3,
 "metadata": {
  "language_info": {
   "file_extension": ".jl",
   "mimetype": "application/julia",
   "name": "julia",
   "version": "1.8.3-pre.0"
  },
  "kernelspec": {
   "name": "julia-1.8",
   "display_name": "Julia 1.8.3-pre.0",
   "language": "julia"
  }
 },
 "nbformat": 4
}
