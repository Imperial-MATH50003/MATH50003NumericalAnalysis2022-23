{
 "cells": [
  {
   "cell_type": "markdown",
   "source": [
    "# MATH50003 Numerical Analysis (2022–23)\n",
    "# Lab 4: Structured Matrices"
   ],
   "metadata": {}
  },
  {
   "cell_type": "markdown",
   "source": [
    "This lab explores the basics of arrays (matrices and vectors)\n",
    "in Julia. We also investigate implementation of triangular solves,\n",
    "supporting a matrix with two super-diagonals."
   ],
   "metadata": {}
  },
  {
   "cell_type": "markdown",
   "source": [
    "Note in programming there are often different ways to do the same thing.\n",
    "so some of the hints suggest multiple ways to solve the same problem.\n",
    "Remember you can use `?` to discover the functions mentioned in the hints."
   ],
   "metadata": {}
  },
  {
   "outputs": [],
   "cell_type": "code",
   "source": [
    "using LinearAlgebra, Test\n",
    "\n",
    "# We will override these functions below\n",
    "import Base: getindex, setindex!, size, *, \\"
   ],
   "metadata": {},
   "execution_count": 1
  },
  {
   "cell_type": "markdown",
   "source": [
    "## 1. Array creation"
   ],
   "metadata": {}
  },
  {
   "cell_type": "markdown",
   "source": [
    "**Problem 1.1** Create a vector of length 5 whose entries are `Int` which is\n",
    "zero in all entries. Hint: use `zeros`, `fill`, or a comprehension."
   ],
   "metadata": {}
  },
  {
   "cell_type": "markdown",
   "source": [
    "**Problem 1.2** Create a 5×6 matrix whose entries are `Int` which is\n",
    "one in all entries. Hint: use a for-loop, `ones`, `fill`, or a comprehension."
   ],
   "metadata": {}
  },
  {
   "cell_type": "markdown",
   "source": [
    "**Problem 1.3** Create a 1 × 5 `Matrix{Int}` with entries `A[k,j] = j`. Hint: use a for-loop or a comprehension."
   ],
   "metadata": {}
  },
  {
   "cell_type": "markdown",
   "source": [
    "**Problem 1.4** Create a vector of length 5 whose entries are `Float64`\n",
    "approximations of `exp(-k)`. Hint: one use a for-loop or broadcasting `f.(x)` notation."
   ],
   "metadata": {}
  },
  {
   "cell_type": "markdown",
   "source": [
    "**Problem 1.5** Create a 5 × 6 matrix `A` whose entries `A[k,j] == cos(k+j)`."
   ],
   "metadata": {}
  },
  {
   "cell_type": "markdown",
   "source": [
    "## 2. Dense Matrices"
   ],
   "metadata": {}
  },
  {
   "cell_type": "markdown",
   "source": [
    "**Problem 2.1** Show that `A*x` is not\n",
    "implemented as `mul_cols(A, x)` from the lecture notes\n",
    "by finding a `Float64` example  where the bits do not match."
   ],
   "metadata": {}
  },
  {
   "cell_type": "markdown",
   "source": [
    "## 3. Triangular Matrices"
   ],
   "metadata": {}
  },
  {
   "cell_type": "markdown",
   "source": [
    "**Problem 3.1** Complete the following function for lower triangular matrix-vector\n",
    "multiplication without ever accessing the zero entries of `L` above the diagonal.\n",
    "Hint: just copy code for `mul_cols` and modify the for-loop ranges a la the `UpperTriangular`\n",
    "case."
   ],
   "metadata": {}
  },
  {
   "outputs": [
    {
     "output_type": "execute_result",
     "data": {
      "text/plain": "\u001b[33m\u001b[1mTest Broken\u001b[22m\u001b[39m\n  Expression: L * x == mul_cols(L, x)"
     },
     "metadata": {},
     "execution_count": 2
    }
   ],
   "cell_type": "code",
   "source": [
    "function mul_cols(L::LowerTriangular, x)\n",
    "    n = size(L,1)\n",
    "\n",
    "    # promote_type type finds a type that is compatible with both types, eltype gives the type of the elements of a vector / matrix\n",
    "    T = promote_type(eltype(x),eltype(L))\n",
    "    b = zeros(T,n) # the returned vector, begins of all zeros\n",
    "\n",
    "    # TODO: populate b so that L*x == b\n",
    "\n",
    "\n",
    "    b\n",
    "end\n",
    "\n",
    "L = LowerTriangular(randn(5,5))\n",
    "x = randn(5)\n",
    "@test_broken L*x == mul_cols(L, x)"
   ],
   "metadata": {},
   "execution_count": 2
  },
  {
   "cell_type": "markdown",
   "source": [
    "**Problem 3.2** Complete the following function for solving linear systems with\n",
    "lower triangular systems by implementing forward-substitution."
   ],
   "metadata": {}
  },
  {
   "outputs": [
    {
     "output_type": "execute_result",
     "data": {
      "text/plain": "\u001b[33m\u001b[1mTest Broken\u001b[22m\u001b[39m\n  Expression: L \\ b ≈ ldiv(L, b)"
     },
     "metadata": {},
     "execution_count": 3
    }
   ],
   "cell_type": "code",
   "source": [
    "function ldiv(L::LowerTriangular, b)\n",
    "    n = size(L,1)\n",
    "\n",
    "    if length(b) != n\n",
    "        error(\"The system is not compatible\")\n",
    "    end\n",
    "\n",
    "    x = zeros(n)  # the solution vector\n",
    "    # TODO: populate x using forward-substitution so that L*x ≈ b\n",
    "\n",
    "    x\n",
    "end\n",
    "\n",
    "\n",
    "L = LowerTriangular(randn(5,5))\n",
    "b = randn(5)\n",
    "@test_broken L\\b ≈ ldiv(L, b)"
   ],
   "metadata": {},
   "execution_count": 3
  },
  {
   "cell_type": "markdown",
   "source": [
    "## 4. Banded matrices"
   ],
   "metadata": {}
  },
  {
   "cell_type": "markdown",
   "source": [
    "**Problem 4.1** Complete the implementation of `UpperTridiagonal` which represents a banded matrix with\n",
    "bandwidths $(l,u) = (0,2)$:"
   ],
   "metadata": {}
  },
  {
   "outputs": [
    {
     "output_type": "execute_result",
     "data": {
      "text/plain": "\u001b[33m\u001b[1mTest Broken\u001b[22m\u001b[39m\n  Expression: U == [1 1 1 0 0; 0 2 2 2 0; 0 0 3 3 3; 0 0 0 4 4; 0 0 0 0 5]"
     },
     "metadata": {},
     "execution_count": 4
    }
   ],
   "cell_type": "code",
   "source": [
    "struct UpperTridiagonal{T} <: AbstractMatrix{T}\n",
    "    d::Vector{T}   # diagonal entries: d[k] == U[k,k]\n",
    "    du::Vector{T}  # super-diagonal enries: du[k] == U[k,k+1]\n",
    "    du2::Vector{T} # second-super-diagonal entries: du2[k] == U[k,k+2]\n",
    "end\n",
    "\n",
    "size(U::UpperTridiagonal) = (length(U.d),length(U.d))\n",
    "\n",
    "# getindex(U, k, j) is another way to write U[k,j].\n",
    "# This function will therefore be called when we call U[k,j]\n",
    "function getindex(U::UpperTridiagonal, k::Int, j::Int)\n",
    "    d,du,du2 = U.d,U.du,U.du2\n",
    "    # TODO: return U[k,j]\n",
    "\n",
    "end\n",
    "\n",
    "# setindex!(U, v, k, j) gets called when we write (U[k,j] = v).\n",
    "function setindex!(U::UpperTridiagonal, v, k::Int, j::Int)\n",
    "    d,du,du2 = U.d,U.du,U.du2\n",
    "    if j > k+2 || j < k\n",
    "        error(\"Cannot modify off-band\")\n",
    "    end\n",
    "\n",
    "    # TODO: modify d,du,du2 so that U[k,j] == v\n",
    "\n",
    "    U # by convention we return the matrix\n",
    "end\n",
    "\n",
    "U = UpperTridiagonal([1,2,3,4,5], [1,2,3,4], [1,2,3])\n",
    "@test_broken U == [1 1 1 0 0;\n",
    "            0 2 2 2 0;\n",
    "            0 0 3 3 3;\n",
    "            0 0 0 4 4;\n",
    "            0 0 0 0 5]"
   ],
   "metadata": {},
   "execution_count": 4
  },
  {
   "cell_type": "markdown",
   "source": [
    "**Problem 4.2** Complete the following implementations of `*` and `\\` for `UpperTridiagonal` so that\n",
    "they take only $O(n)$ operations."
   ],
   "metadata": {}
  },
  {
   "outputs": [
    {
     "output_type": "execute_result",
     "data": {
      "text/plain": "\u001b[33m\u001b[1mTest Broken\u001b[22m\u001b[39m\n  Expression: U \\ b == x"
     },
     "metadata": {},
     "execution_count": 5
    }
   ],
   "cell_type": "code",
   "source": [
    "function *(U::UpperTridiagonal, x::AbstractVector)\n",
    "    n = size(U,1)\n",
    "    # promote_type type finds a type that is compatible with both types, eltype gives the type of the elements of a vector / matrix\n",
    "    T = promote_type(eltype(x),eltype(U))\n",
    "    b = zeros(T, n) # the returned vector, begins of all zeros\n",
    "    # TODO: populate b so that U*x == b (up to rounding)\n",
    "\n",
    "    b\n",
    "end\n",
    "\n",
    "function \\(U::UpperTridiagonal, b::AbstractVector)\n",
    "    n = size(U,1)\n",
    "    T = promote_type(eltype(b),eltype(U))\n",
    "\n",
    "    if length(b) != n\n",
    "        error(\"The system is not compatible\")\n",
    "    end\n",
    "\n",
    "    x = zeros(T, n)  # the solution vector\n",
    "    ## TODO: populate x so that U*x ≈ b\n",
    "\n",
    "    x\n",
    "end\n",
    "\n",
    "n = 1_000_000 # under-scores are like commas: so this is a million: 1,000,000\n",
    "U = UpperTridiagonal(ones(n), fill(0.5,n-1), fill(0.1,n-2))\n",
    "x = ones(n)\n",
    "b = [fill(1.6,n-2); 1.5; 1] # exact result\n",
    "# note following should take much less than a second\n",
    "@test_broken U*x == b\n",
    "@test_broken U\\b == x"
   ],
   "metadata": {},
   "execution_count": 5
  },
  {
   "cell_type": "markdown",
   "source": [
    "---\n",
    "\n",
    "*This notebook was generated using [Literate.jl](https://github.com/fredrikekre/Literate.jl).*"
   ],
   "metadata": {}
  }
 ],
 "nbformat_minor": 3,
 "metadata": {
  "language_info": {
   "file_extension": ".jl",
   "mimetype": "application/julia",
   "name": "julia",
   "version": "1.8.3-pre.0"
  },
  "kernelspec": {
   "name": "julia-1.8",
   "display_name": "Julia 1.8.3-pre.0",
   "language": "julia"
  }
 },
 "nbformat": 4
}
