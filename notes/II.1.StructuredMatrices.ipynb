{
 "cells": [
  {
   "cell_type": "markdown",
   "metadata": {},
   "source": [
    "# II.1 Structured Matrices\n",
    "\n",
    "We have seen how algebraic operations (`+`, `-`, `*`, `/`) are\n",
    "defined exactly in terms of rounding ($⊕$, $⊖$, $⊗$, $⊘$) \n",
    "for floating point numbers. Now we see how this allows us\n",
    "to do (approximate) linear algebra operations on matrices. \n",
    "\n",
    "A matrix can be stored in different formats. Here we consider the following structures:\n",
    "\n",
    "\n",
    "1. _Dense_: This can be considered unstructured, where we need to store all entries in a\n",
    "vector or matrix. Matrix multiplication reduces directly to standard algebraic operations. \n",
    "Solving linear systems with dense matrices will be discussed later.\n",
    "2. _Triangular_: If a matrix is upper or lower triangular, we can immediately invert using\n",
    "back-substitution. In practice we store a dense matrix and ignore the upper/lower entries.\n",
    "3. _Banded_: If a matrix is zero apart from entries a fixed distance from  the diagonal it is\n",
    "called banded and this allows for more efficient algorithms. We discuss diagonal, \n",
    "tridiagonal and bidiagonal matrices.\n",
    "\n",
    "In the next chapter we consider more complicated orthogonal matrices."
   ]
  },
  {
   "cell_type": "code",
   "execution_count": 1,
   "metadata": {
    "execution": {
     "iopub.execute_input": "2023-01-30T08:22:41.516640Z",
     "iopub.status.busy": "2023-01-30T08:22:40.948863Z",
     "iopub.status.idle": "2023-01-30T08:22:48.872439Z",
     "shell.execute_reply": "2023-01-30T08:22:48.871877Z"
    }
   },
   "outputs": [],
   "source": [
    "# LinearAlgebra contains routines for doing linear algebra\n",
    "# BenchmarkTools is a package for reliable timing\n",
    "using LinearAlgebra, Plots, BenchmarkTools, Test"
   ]
  },
  {
   "cell_type": "markdown",
   "metadata": {},
   "source": [
    "-----\n",
    "\n",
    "## 1. Dense vectors and matrices\n",
    "\n",
    "A `Vector` of a primitive type (like `Int` or `Float64`) is stored\n",
    "consecutively in memory: that is, a vector consists of a memory address (a _pointer_)\n",
    "to the first entry and a length. E.g. if we have a `Vector{Int8}` of length\n",
    "`n` then it is stored as `8n` bits (`n` bytes) in a row.\n",
    "That is, if the memory address of the first entry is `k` and the type\n",
    "is `T`, the memory\n",
    "address of the second entry is `k + sizeof(T)`. \n",
    "\n",
    "--------\n",
    "\n",
    "**Remark (advanced)** We can actually experiment with this\n",
    "(NEVER DO THIS IN PRACTICE!!), beginning with an 8-bit type:"
   ]
  },
  {
   "cell_type": "code",
   "execution_count": 2,
   "metadata": {
    "execution": {
     "iopub.execute_input": "2023-01-30T08:22:49.049853Z",
     "iopub.status.busy": "2023-01-30T08:22:48.874075Z",
     "iopub.status.idle": "2023-01-30T08:22:49.647806Z",
     "shell.execute_reply": "2023-01-30T08:22:49.647036Z"
    }
   },
   "outputs": [
    {
     "data": {
      "text/plain": [
       "Ptr{Int8} @0x000000014a686c78"
      ]
     },
     "execution_count": 2,
     "metadata": {},
     "output_type": "execute_result"
    }
   ],
   "source": [
    "a = Int8[2 4 5]\n",
    "p = pointer(a) # pointer(a) returns memory address of the first entry, which is the displayed hex number\n",
    "# We can think of a pointer as simply a UInt64 alongside a Type to interpret what is stored"
   ]
  },
  {
   "cell_type": "markdown",
   "metadata": {},
   "source": [
    "We can see what's stored at a pointer as follows:"
   ]
  },
  {
   "cell_type": "code",
   "execution_count": 3,
   "metadata": {
    "execution": {
     "iopub.execute_input": "2023-01-30T08:22:49.650866Z",
     "iopub.status.busy": "2023-01-30T08:22:49.649943Z",
     "iopub.status.idle": "2023-01-30T08:22:49.870296Z",
     "shell.execute_reply": "2023-01-30T08:22:49.869863Z"
    }
   },
   "outputs": [
    {
     "data": {
      "text/plain": [
       "2"
      ]
     },
     "execution_count": 3,
     "metadata": {},
     "output_type": "execute_result"
    }
   ],
   "source": [
    "Base.unsafe_load(p) # loads data at `p`. Knows its an `Int8` because of type of `Ptr`"
   ]
  },
  {
   "cell_type": "markdown",
   "metadata": {},
   "source": [
    "Adding an integer to a pointer gives a new pointer with the address incremented:"
   ]
  },
  {
   "cell_type": "code",
   "execution_count": 4,
   "metadata": {
    "execution": {
     "iopub.execute_input": "2023-01-30T08:22:49.872491Z",
     "iopub.status.busy": "2023-01-30T08:22:49.871930Z",
     "iopub.status.idle": "2023-01-30T08:22:49.878765Z",
     "shell.execute_reply": "2023-01-30T08:22:49.878328Z"
    }
   },
   "outputs": [
    {
     "data": {
      "text/plain": [
       "Ptr{Int8} @0x000000014a686c79"
      ]
     },
     "execution_count": 4,
     "metadata": {},
     "output_type": "execute_result"
    }
   ],
   "source": [
    "p + 1 # memory address of next entry, which is 1 more than first"
   ]
  },
  {
   "cell_type": "markdown",
   "metadata": {},
   "source": [
    "We see that this gives us the next entry:"
   ]
  },
  {
   "cell_type": "code",
   "execution_count": 5,
   "metadata": {
    "execution": {
     "iopub.execute_input": "2023-01-30T08:22:49.881253Z",
     "iopub.status.busy": "2023-01-30T08:22:49.880336Z",
     "iopub.status.idle": "2023-01-30T08:22:49.883001Z",
     "shell.execute_reply": "2023-01-30T08:22:49.881825Z"
    }
   },
   "outputs": [
    {
     "data": {
      "text/plain": [
       "2"
      ]
     },
     "execution_count": 5,
     "metadata": {},
     "output_type": "execute_result"
    }
   ],
   "source": [
    "Base.unsafe_load(p) # loads data at `p+1`, which is second entry of the vector"
   ]
  },
  {
   "cell_type": "markdown",
   "metadata": {},
   "source": [
    "For other types we need to increment the address by the size of the type:"
   ]
  },
  {
   "cell_type": "code",
   "execution_count": 6,
   "metadata": {
    "execution": {
     "iopub.execute_input": "2023-01-30T08:22:49.885338Z",
     "iopub.status.busy": "2023-01-30T08:22:49.884476Z",
     "iopub.status.idle": "2023-01-30T08:22:50.108261Z",
     "shell.execute_reply": "2023-01-30T08:22:50.107823Z"
    }
   },
   "outputs": [
    {
     "data": {
      "text/plain": [
       "1.3"
      ]
     },
     "execution_count": 6,
     "metadata": {},
     "output_type": "execute_result"
    }
   ],
   "source": [
    "a = [2.0 1.3 1.4]\n",
    "p = pointer(a)\n",
    "Base.unsafe_load(p + 8) # sizeof(Float64) == 8"
   ]
  },
  {
   "cell_type": "markdown",
   "metadata": {},
   "source": [
    "Why not do this in practice? It's unsafe because there's nothing stopping us from going past the end of an array:"
   ]
  },
  {
   "cell_type": "code",
   "execution_count": 7,
   "metadata": {
    "execution": {
     "iopub.execute_input": "2023-01-30T08:22:50.110696Z",
     "iopub.status.busy": "2023-01-30T08:22:50.109855Z",
     "iopub.status.idle": "2023-01-30T08:22:50.112698Z",
     "shell.execute_reply": "2023-01-30T08:22:50.112272Z"
    }
   },
   "outputs": [
    {
     "data": {
      "text/plain": [
       "2.444664657e-314"
      ]
     },
     "execution_count": 7,
     "metadata": {},
     "output_type": "execute_result"
    }
   ],
   "source": [
    "Base.unsafe_load(p + 3 * 8) # whatever bits happened to be next in memory, usually nonsense"
   ]
  },
  {
   "cell_type": "markdown",
   "metadata": {},
   "source": [
    "This may even crash Julia! (I got lucky that it didn't when producing the notes.)\n",
    "\n",
    "------\n",
    "\n",
    "\n",
    "A  `Matrix` is stored consecutively in memory, going down column-by-\n",
    "column (_column-major_). That is,"
   ]
  },
  {
   "cell_type": "code",
   "execution_count": 8,
   "metadata": {
    "execution": {
     "iopub.execute_input": "2023-01-30T08:22:50.114731Z",
     "iopub.status.busy": "2023-01-30T08:22:50.114171Z",
     "iopub.status.idle": "2023-01-30T08:22:51.467866Z",
     "shell.execute_reply": "2023-01-30T08:22:51.467417Z"
    }
   },
   "outputs": [
    {
     "data": {
      "text/plain": [
       "3×2 Matrix{Int64}:\n",
       " 1  2\n",
       " 3  4\n",
       " 5  6"
      ]
     },
     "execution_count": 8,
     "metadata": {},
     "output_type": "execute_result"
    }
   ],
   "source": [
    "A = [1 2;\n",
    "     3 4;\n",
    "     5 6]"
   ]
  },
  {
   "cell_type": "markdown",
   "metadata": {},
   "source": [
    "Is actually stored equivalently to a length `6` vector:"
   ]
  },
  {
   "cell_type": "code",
   "execution_count": 9,
   "metadata": {
    "execution": {
     "iopub.execute_input": "2023-01-30T08:22:51.470242Z",
     "iopub.status.busy": "2023-01-30T08:22:51.469676Z",
     "iopub.status.idle": "2023-01-30T08:22:51.855895Z",
     "shell.execute_reply": "2023-01-30T08:22:51.855459Z"
    }
   },
   "outputs": [
    {
     "data": {
      "text/plain": [
       "6-element Vector{Int64}:\n",
       " 1\n",
       " 3\n",
       " 5\n",
       " 2\n",
       " 4\n",
       " 6"
      ]
     },
     "execution_count": 9,
     "metadata": {},
     "output_type": "execute_result"
    }
   ],
   "source": [
    "vec(A)"
   ]
  },
  {
   "cell_type": "markdown",
   "metadata": {},
   "source": [
    "which in this case would be stored using in `8 * 6 = 48` consecutive\n",
    "memory addresses. That is, a matrix is a pointer to the first entry alongside two integers\n",
    "dictating the row and column sizes.\n",
    "\n",
    "-----\n",
    "\n",
    "**Remark (advanced)** Note that transposing `A` is done lazyily \n",
    "and so `transpose(A)` (which is equivalent to the adjoint/conjugate-transpose\n",
    "`A'` when the entries are real),\n",
    "is just a special type with a single field: `transpose(A).parent == A`.\n",
    "This is equivalent to \n",
    "_row-major_ format, where the next address in memory of `transpose(A)` corresponds to\n",
    "moving along the row.\n",
    "\n",
    "-----\n",
    "\n",
    "Matrix-vector multiplication works as expected:"
   ]
  },
  {
   "cell_type": "code",
   "execution_count": 10,
   "metadata": {
    "execution": {
     "iopub.execute_input": "2023-01-30T08:22:51.858052Z",
     "iopub.status.busy": "2023-01-30T08:22:51.857477Z",
     "iopub.status.idle": "2023-01-30T08:22:51.933448Z",
     "shell.execute_reply": "2023-01-30T08:22:51.933011Z"
    }
   },
   "outputs": [
    {
     "data": {
      "text/plain": [
       "3-element Vector{Int64}:\n",
       " 23\n",
       " 53\n",
       " 83"
      ]
     },
     "execution_count": 10,
     "metadata": {},
     "output_type": "execute_result"
    }
   ],
   "source": [
    "x = [7, 8]\n",
    "A * x"
   ]
  },
  {
   "cell_type": "markdown",
   "metadata": {},
   "source": [
    "Note there are two ways this can be implemented: \n",
    "\n",
    "**Algorithm 1 (matrix-vector multiplication by rows)**\n",
    "For a ring $R$ (typically $ℝ$ or $ℂ$), $A ∈ R^{m × n}$ and $𝐱 ∈ R^n$ we have\n",
    "$$\n",
    "A𝐱 = \\begin{bmatrix} ∑_{j=1}^n a_{1,j} x_j \\\\ ⋮ \\\\ ∑_{j=1}^n a_{m,j} x_j \\end{bmatrix}.\n",
    "$$\n",
    "In code this can be implemented for any types that support `*` and `+` as follows:"
   ]
  },
  {
   "cell_type": "code",
   "execution_count": 11,
   "metadata": {
    "execution": {
     "iopub.execute_input": "2023-01-30T08:22:51.935561Z",
     "iopub.status.busy": "2023-01-30T08:22:51.935007Z",
     "iopub.status.idle": "2023-01-30T08:22:52.166746Z",
     "shell.execute_reply": "2023-01-30T08:22:52.166310Z"
    }
   },
   "outputs": [
    {
     "data": {
      "text/plain": [
       "mul_rows (generic function with 1 method)"
      ]
     },
     "execution_count": 11,
     "metadata": {},
     "output_type": "execute_result"
    }
   ],
   "source": [
    "function mul_rows(A, x)\n",
    "    m,n = size(A)\n",
    "    # promote_type type finds a type that is compatible with both types, eltype gives the type of the elements of a vector / matrix\n",
    "    T = promote_type(eltype(x), eltype(A))\n",
    "    c = zeros(T, m) # the returned vector, begins of all zeros\n",
    "    for k = 1:m, j = 1:n\n",
    "        c[k] += A[k, j] * x[j] # equivalent to c[k] = c[k] + A[k, j] * x[j]\n",
    "    end\n",
    "    c\n",
    "end"
   ]
  },
  {
   "cell_type": "markdown",
   "metadata": {},
   "source": [
    "**Algorithm 2 (matrix-vector multiplication by columns)**\n",
    "For a ring $R$ (typically $ℝ$ or $ℂ$), $A ∈ R^{m × n}$ and $𝐱 ∈ R^n$ we have\n",
    "$$\n",
    "A 𝐱 = x_1 𝐚_1  + ⋯ + x_n 𝐚_n\n",
    "$$\n",
    "where $𝐚_j := A 𝐞_j ∈ R^m$ (that is, the $j$-th column of $A$). In code this can be implemented for any types that support `*` and `+` \n",
    "as follows:"
   ]
  },
  {
   "cell_type": "code",
   "execution_count": 12,
   "metadata": {
    "execution": {
     "iopub.execute_input": "2023-01-30T08:22:52.169031Z",
     "iopub.status.busy": "2023-01-30T08:22:52.168470Z",
     "iopub.status.idle": "2023-01-30T08:22:52.256948Z",
     "shell.execute_reply": "2023-01-30T08:22:52.256513Z"
    }
   },
   "outputs": [
    {
     "data": {
      "text/plain": [
       "mul_cols (generic function with 1 method)"
      ]
     },
     "execution_count": 12,
     "metadata": {},
     "output_type": "execute_result"
    }
   ],
   "source": [
    "function mul_cols(A, x)\n",
    "    m,n = size(A)\n",
    "    # promote_type type finds a type that is compatible with both types, eltype gives the type of the elements of a vector / matrix\n",
    "    T = promote_type(eltype(x),eltype(A))\n",
    "    c = zeros(T, m) # the returned vector, begins of all zeros\n",
    "    for j = 1:n, k = 1:m\n",
    "        c[k] += A[k, j] * x[j] # equivalent to c[k] = c[k] + A[k, j] * x[j]\n",
    "    end\n",
    "    c\n",
    "end"
   ]
  },
  {
   "cell_type": "markdown",
   "metadata": {},
   "source": [
    "Both implementations match exactly for integer inputs:"
   ]
  },
  {
   "cell_type": "code",
   "execution_count": 13,
   "metadata": {
    "execution": {
     "iopub.execute_input": "2023-01-30T08:22:52.259165Z",
     "iopub.status.busy": "2023-01-30T08:22:52.258610Z",
     "iopub.status.idle": "2023-01-30T08:22:52.586450Z",
     "shell.execute_reply": "2023-01-30T08:22:52.585995Z"
    }
   },
   "outputs": [
    {
     "data": {
      "text/plain": [
       "([23, 53, 83], [23, 53, 83])"
      ]
     },
     "execution_count": 13,
     "metadata": {},
     "output_type": "execute_result"
    }
   ],
   "source": [
    "mul_rows(A, x), mul_cols(A, x) # also matches `A*x`"
   ]
  },
  {
   "cell_type": "markdown",
   "metadata": {},
   "source": [
    "Either implementation will be $O(mn)$ operations. However, the implementation \n",
    "`mul_cols` accesses the entries of `A` going down the column,\n",
    "which happens to be _significantly faster_ than `mul_rows`, due to accessing\n",
    "memory of `A` in order. We can see this by measuring the time it takes using `@btime`:"
   ]
  },
  {
   "cell_type": "code",
   "execution_count": 14,
   "metadata": {
    "execution": {
     "iopub.execute_input": "2023-01-30T08:22:52.589159Z",
     "iopub.status.busy": "2023-01-30T08:22:52.588581Z",
     "iopub.status.idle": "2023-01-30T08:23:25.470318Z",
     "shell.execute_reply": "2023-01-30T08:23:25.469659Z"
    }
   },
   "outputs": [
    {
     "name": "stdout",
     "output_type": "stream",
     "text": [
      "  1.754 ms (1 allocation: 7.94 KiB)\n",
      "  727.417 μs (1 allocation: 7.94 KiB)\n",
      "  191.011 μs (1 allocation: 7.94 KiB)\n"
     ]
    }
   ],
   "source": [
    "n = 1000\n",
    "A = randn(n,n) # create n x n matrix with random normal entries\n",
    "x = randn(n) # create length n vector with random normal entries\n",
    "\n",
    "@btime mul_rows(A,x)\n",
    "@btime mul_cols(A,x)\n",
    "@btime A*x; # built-in, high performance implementation. USE THIS in practice"
   ]
  },
  {
   "cell_type": "markdown",
   "metadata": {},
   "source": [
    "Here `ms` means milliseconds (`0.001 = 10^(-3)` seconds) and `μs` means microseconds (`0.000001 = 10^(-6)` seconds).\n",
    "So we observe that `mul` is roughly 3x faster than `mul_rows`, while the optimised `*` is roughly 5x faster than `mul`.\n",
    "\n",
    "-----\n",
    "\n",
    "**Remark (advanced)** For floating point types, `A*x` is implemented in BLAS which is generally multi-threaded\n",
    "and is not identical to `mul_cols(A,x)`, that is, some inputs will differ in how the computations\n",
    "are rounded.\n",
    "\n",
    "-----\n",
    "\n",
    "\n",
    "Note that the rules of floating point arithmetic apply here: matrix multiplication with floats\n",
    "will incur round-off error (the precise details of which are subject to the implementation):"
   ]
  },
  {
   "cell_type": "code",
   "execution_count": 15,
   "metadata": {
    "execution": {
     "iopub.execute_input": "2023-01-30T08:23:25.473190Z",
     "iopub.status.busy": "2023-01-30T08:23:25.472406Z",
     "iopub.status.idle": "2023-01-30T08:23:25.985786Z",
     "shell.execute_reply": "2023-01-30T08:23:25.985348Z"
    }
   },
   "outputs": [
    {
     "data": {
      "text/plain": [
       "2-element Vector{Float64}:\n",
       " 0.9999999999999999\n",
       " 1.5"
      ]
     },
     "execution_count": 15,
     "metadata": {},
     "output_type": "execute_result"
    }
   ],
   "source": [
    "A = [1.4 0.4;\n",
    "     2.0 1/2]\n",
    "A * [1, -1] # First entry has round-off error, but 2nd entry is exact"
   ]
  },
  {
   "cell_type": "markdown",
   "metadata": {},
   "source": [
    "And integer arithmetic will be subject to overflow:"
   ]
  },
  {
   "cell_type": "code",
   "execution_count": 16,
   "metadata": {
    "execution": {
     "iopub.execute_input": "2023-01-30T08:23:25.988541Z",
     "iopub.status.busy": "2023-01-30T08:23:25.987734Z",
     "iopub.status.idle": "2023-01-30T08:23:26.563090Z",
     "shell.execute_reply": "2023-01-30T08:23:26.562634Z"
    }
   },
   "outputs": [
    {
     "data": {
      "text/plain": [
       "2-element Vector{Int8}:\n",
       " -128\n",
       " -128"
      ]
     },
     "execution_count": 16,
     "metadata": {},
     "output_type": "execute_result"
    }
   ],
   "source": [
    "A = fill(Int8(2^6), 2, 2) # make a matrix whose entries are all equal to 2^6\n",
    "A * Int8[1,1] # we have overflowed and get a negative number -2^7"
   ]
  },
  {
   "cell_type": "markdown",
   "metadata": {},
   "source": [
    "Solving a linear system is done using `\\`:"
   ]
  },
  {
   "cell_type": "code",
   "execution_count": 17,
   "metadata": {
    "execution": {
     "iopub.execute_input": "2023-01-30T08:23:26.565262Z",
     "iopub.status.busy": "2023-01-30T08:23:26.564711Z",
     "iopub.status.idle": "2023-01-30T08:23:27.258904Z",
     "shell.execute_reply": "2023-01-30T08:23:27.258439Z"
    }
   },
   "outputs": [
    {
     "data": {
      "text/plain": [
       "3-element Vector{Float64}:\n",
       "  41.000000000000036\n",
       " -17.000000000000014\n",
       "   1.0"
      ]
     },
     "execution_count": 17,
     "metadata": {},
     "output_type": "execute_result"
    }
   ],
   "source": [
    "A = [1 2 3;\n",
    "     1 2 4;\n",
    "     3 7 8]\n",
    "b = [10; 11; 12]\n",
    "A \\ b"
   ]
  },
  {
   "cell_type": "markdown",
   "metadata": {},
   "source": [
    "Despite the answer being integer-valued, \n",
    "here we see that it resorted to using floating point arithmetic,\n",
    "incurring rounding error. \n",
    "But it is \"accurate to (roughly) 16-digits\".\n",
    "As we shall see, the way solving a linear system works is we first write `A` as a\n",
    "product of matrices that are easy to invert, e.g., a product of triangular matrices or a product of an orthogonal\n",
    "and triangular matrix.\n",
    "\n",
    "\n",
    "## 2. Triangular matrices\n",
    "\n",
    "Triangular matrices are represented by dense square matrices where the entries below the\n",
    "diagonal\n",
    "are ignored:"
   ]
  },
  {
   "cell_type": "code",
   "execution_count": 18,
   "metadata": {
    "execution": {
     "iopub.execute_input": "2023-01-30T08:23:27.260916Z",
     "iopub.status.busy": "2023-01-30T08:23:27.260334Z",
     "iopub.status.idle": "2023-01-30T08:23:27.662410Z",
     "shell.execute_reply": "2023-01-30T08:23:27.661946Z"
    }
   },
   "outputs": [
    {
     "data": {
      "text/plain": [
       "3×3 UpperTriangular{Int64, Matrix{Int64}}:\n",
       " 1  2  3\n",
       " ⋅  5  6\n",
       " ⋅  ⋅  9"
      ]
     },
     "execution_count": 18,
     "metadata": {},
     "output_type": "execute_result"
    }
   ],
   "source": [
    "A = [1 2 3;\n",
    "     4 5 6;\n",
    "     7 8 9]\n",
    "U = UpperTriangular(A)"
   ]
  },
  {
   "cell_type": "markdown",
   "metadata": {},
   "source": [
    "We can see that `U` is storing all the entries of `A` in a field called `data`:"
   ]
  },
  {
   "cell_type": "code",
   "execution_count": 19,
   "metadata": {
    "execution": {
     "iopub.execute_input": "2023-01-30T08:23:27.664452Z",
     "iopub.status.busy": "2023-01-30T08:23:27.663885Z",
     "iopub.status.idle": "2023-01-30T08:23:27.671442Z",
     "shell.execute_reply": "2023-01-30T08:23:27.671005Z"
    }
   },
   "outputs": [
    {
     "data": {
      "text/plain": [
       "3×3 Matrix{Int64}:\n",
       " 1  2  3\n",
       " 4  5  6\n",
       " 7  8  9"
      ]
     },
     "execution_count": 19,
     "metadata": {},
     "output_type": "execute_result"
    }
   ],
   "source": [
    "U.data"
   ]
  },
  {
   "cell_type": "markdown",
   "metadata": {},
   "source": [
    "Similarly we can create a lower triangular matrix by ignoring the entries above the diagonal:"
   ]
  },
  {
   "cell_type": "code",
   "execution_count": 20,
   "metadata": {
    "execution": {
     "iopub.execute_input": "2023-01-30T08:23:27.673644Z",
     "iopub.status.busy": "2023-01-30T08:23:27.673061Z",
     "iopub.status.idle": "2023-01-30T08:23:28.041333Z",
     "shell.execute_reply": "2023-01-30T08:23:28.040881Z"
    }
   },
   "outputs": [
    {
     "data": {
      "text/plain": [
       "3×3 LowerTriangular{Int64, Matrix{Int64}}:\n",
       " 1  ⋅  ⋅\n",
       " 4  5  ⋅\n",
       " 7  8  9"
      ]
     },
     "execution_count": 20,
     "metadata": {},
     "output_type": "execute_result"
    }
   ],
   "source": [
    "L = LowerTriangular(A)"
   ]
  },
  {
   "cell_type": "markdown",
   "metadata": {},
   "source": [
    "If we know a matrix is triangular we can do matrix-vector multiplication in roughly half\n",
    "the number of operations by skipping over the entries we know are zero:\n",
    "\n",
    "**Algorithm 3 (upper-triangular matrix-vector multiplication by columns)**"
   ]
  },
  {
   "cell_type": "code",
   "execution_count": 21,
   "metadata": {
    "execution": {
     "iopub.execute_input": "2023-01-30T08:23:28.043460Z",
     "iopub.status.busy": "2023-01-30T08:23:28.042903Z",
     "iopub.status.idle": "2023-01-30T08:23:28.772611Z",
     "shell.execute_reply": "2023-01-30T08:23:28.772175Z"
    }
   },
   "outputs": [
    {
     "data": {
      "text/plain": [
       "\u001b[32m\u001b[1mTest Passed\u001b[22m\u001b[39m"
      ]
     },
     "execution_count": 21,
     "metadata": {},
     "output_type": "execute_result"
    }
   ],
   "source": [
    "function mul_cols(U::UpperTriangular, x)\n",
    "    m,n = size(U)\n",
    "    # promote_type type finds a type that is compatible with both types, eltype gives the type of the elements of a vector / matrix\n",
    "    T = promote_type(eltype(x),eltype(U))\n",
    "    c = zeros(T, m) # the returned vector, begins of all zeros\n",
    "    for j = 1:n, k = 1:j # k = 1:j instead of 1:m since we know U[k,j] = 0 if k > j.\n",
    "        c[k] += U[k, j] * x[j]\n",
    "    end\n",
    "    c\n",
    "end\n",
    "\n",
    "x = [10, 11, 12]\n",
    "# matches built-in *\n",
    "@test mul_cols(U, x) == U*x"
   ]
  },
  {
   "cell_type": "markdown",
   "metadata": {},
   "source": [
    "Moreover, we can easily invert matrices. \n",
    "Consider a simple 3×3 example, which can be solved with `\\`:"
   ]
  },
  {
   "cell_type": "code",
   "execution_count": 22,
   "metadata": {
    "execution": {
     "iopub.execute_input": "2023-01-30T08:23:28.774692Z",
     "iopub.status.busy": "2023-01-30T08:23:28.774137Z",
     "iopub.status.idle": "2023-01-30T08:23:28.784822Z",
     "shell.execute_reply": "2023-01-30T08:23:28.784293Z"
    }
   },
   "outputs": [
    {
     "data": {
      "text/plain": [
       "3-element Vector{Float64}:\n",
       " 2.1333333333333333\n",
       " 0.2666666666666666\n",
       " 0.7777777777777778"
      ]
     },
     "execution_count": 22,
     "metadata": {},
     "output_type": "execute_result"
    }
   ],
   "source": [
    "b = [5,6,7]\n",
    "x = U \\ b # Excercise: why does this return a float vector?"
   ]
  },
  {
   "cell_type": "markdown",
   "metadata": {},
   "source": [
    "Behind the seens, `\\` is doing back-substitution: considering the last row, we have all\n",
    "zeros apart from the last column so we know that `x[3]` must be equal to:"
   ]
  },
  {
   "cell_type": "code",
   "execution_count": 23,
   "metadata": {
    "execution": {
     "iopub.execute_input": "2023-01-30T08:23:28.787487Z",
     "iopub.status.busy": "2023-01-30T08:23:28.786554Z",
     "iopub.status.idle": "2023-01-30T08:23:28.793545Z",
     "shell.execute_reply": "2023-01-30T08:23:28.792663Z"
    }
   },
   "outputs": [
    {
     "data": {
      "text/plain": [
       "0.7777777777777778"
      ]
     },
     "execution_count": 23,
     "metadata": {},
     "output_type": "execute_result"
    }
   ],
   "source": [
    "b[3] / U[3,3]"
   ]
  },
  {
   "cell_type": "markdown",
   "metadata": {},
   "source": [
    "Once we know `x[3]`, the second row states `U[2,2]*x[2] + U[2,3]*x[3] == b[2]`, rearranging\n",
    "we get that `x[2]` must be:"
   ]
  },
  {
   "cell_type": "code",
   "execution_count": 24,
   "metadata": {
    "execution": {
     "iopub.execute_input": "2023-01-30T08:23:28.797100Z",
     "iopub.status.busy": "2023-01-30T08:23:28.795847Z",
     "iopub.status.idle": "2023-01-30T08:23:28.807100Z",
     "shell.execute_reply": "2023-01-30T08:23:28.806567Z"
    }
   },
   "outputs": [
    {
     "data": {
      "text/plain": [
       "0.2666666666666666"
      ]
     },
     "execution_count": 24,
     "metadata": {},
     "output_type": "execute_result"
    }
   ],
   "source": [
    "(b[2] - U[2,3]*x[3])/U[2,2]"
   ]
  },
  {
   "cell_type": "markdown",
   "metadata": {},
   "source": [
    "Finally, the first row states `U[1,1]*x[1] + U[1,2]*x[2] + U[1,3]*x[3] == b[1]` i.e.\n",
    "`x[1]` is equal to"
   ]
  },
  {
   "cell_type": "code",
   "execution_count": 25,
   "metadata": {
    "execution": {
     "iopub.execute_input": "2023-01-30T08:23:28.809534Z",
     "iopub.status.busy": "2023-01-30T08:23:28.808807Z",
     "iopub.status.idle": "2023-01-30T08:23:28.811990Z",
     "shell.execute_reply": "2023-01-30T08:23:28.811271Z"
    }
   },
   "outputs": [
    {
     "data": {
      "text/plain": [
       "2.1333333333333333"
      ]
     },
     "execution_count": 25,
     "metadata": {},
     "output_type": "execute_result"
    }
   ],
   "source": [
    "(b[1] - U[1,2]*x[2] - U[1,3]*x[3])/U[1,1]"
   ]
  },
  {
   "cell_type": "markdown",
   "metadata": {},
   "source": [
    "More generally, we can solve the upper-triangular system using _back-substitution_:\n",
    "\n",
    "**Algorithm 4 (back-substitution)** Let $𝔽$ be a field (typically $ℝ$ or $ℂ$).\n",
    " Suppose $U ∈ 𝔽^{n × n}$ is upper-triangular\n",
    "and invertible. Then for $𝐛 ∈ 𝔽^n$ the solution $𝐱 ∈ 𝔽^n$ to $U 𝐱 = 𝐛$, that is,\n",
    "$$\n",
    "\\begin{bmatrix}\n",
    "u_{11} & ⋯ & u_{1n} \\\\ & ⋱ & ⋮ \\\\ && u_{nn}\n",
    "\\end{bmatrix} \\begin{bmatrix} x_1 \\\\ ⋮ \\\\ x_n \\end{bmatrix} = \n",
    "\\begin{bmatrix} b_1 \\\\ ⋮ \\\\ b_n \\end{bmatrix}\n",
    "$$\n",
    "is given by computing $x_n, x_{n-1}, …, x_1$ via:\n",
    "$$\n",
    "x_k = {b_k - ∑_{j=k+1}^n u_{kj} x_j \\over u_{kk}}\n",
    "$$\n",
    "In code this can be implemented for any types that support `*`, `+` and `/` as follows:"
   ]
  },
  {
   "cell_type": "code",
   "execution_count": 26,
   "metadata": {
    "execution": {
     "iopub.execute_input": "2023-01-30T08:23:28.814569Z",
     "iopub.status.busy": "2023-01-30T08:23:28.813879Z",
     "iopub.status.idle": "2023-01-30T08:23:29.069974Z",
     "shell.execute_reply": "2023-01-30T08:23:29.069536Z"
    }
   },
   "outputs": [
    {
     "data": {
      "text/plain": [
       "\u001b[32m\u001b[1mTest Passed\u001b[22m\u001b[39m"
      ]
     },
     "execution_count": 26,
     "metadata": {},
     "output_type": "execute_result"
    }
   ],
   "source": [
    "# ldiv(U, b) is our implementation of U\\b\n",
    "function ldiv(U::UpperTriangular, b)\n",
    "    n = size(U,1)\n",
    "    \n",
    "    if length(b) != n\n",
    "        error(\"The system is not compatible\")\n",
    "    end\n",
    "        \n",
    "    x = zeros(n)  # the solution vector\n",
    "    \n",
    "    for k = n:-1:1  # start with k=n, then k=n-1, ...\n",
    "        r = b[k]  # dummy variable\n",
    "        for j = k+1:n\n",
    "            r -= U[k,j]*x[j] # equivalent to r = r - U[k,j]*x[j]\n",
    "        end\n",
    "        # after this for loop, r = b[k] - ∑_{j=k+1}^n U[k,j]x[j]  \n",
    "        x[k] = r/U[k,k]\n",
    "    end\n",
    "    x\n",
    "end\n",
    "\n",
    "@test ldiv(U, x) ≈ U\\x"
   ]
  },
  {
   "cell_type": "markdown",
   "metadata": {},
   "source": [
    "The problem sheet will explore implementing multiplication and forward substitution \n",
    "for lower triangular matrices. \n",
    "The cost of multiplying and solving linear systems with a\n",
    "triangular matrix is $O(n^2)$.\n",
    "\n",
    "------\n",
    "\n",
    "## 3. Banded matrices\n",
    "\n",
    "A _banded matrix_ is zero off a prescribed number of diagonals. \n",
    "We call the number of (potentially) non-zero diagonals the _bandwidths_:\n",
    "\n",
    "\n",
    "**Definition 1 (bandwidths)** A matrix $A$ has _lower-bandwidth_ $l$ if \n",
    "$A[k,j] = 0$ for all $k-j > l$ and _upper-bandwidth_ $u$ if\n",
    "$A[k,j] = 0$ for all $j-k > u$. We say that it has _strictly lower-bandwidth_ $l$\n",
    "if it has lower-bandwidth $l$ and there exists a $j$ such that $A[j+l,j] \\neq 0$.\n",
    "We say that it has _strictly upper-bandwidth_ $u$\n",
    "if it has upper-bandwidth $u$ and there exists a $k$ such that $A[k,k+u] \\neq 0$.\n",
    "\n",
    "\n",
    "### Diagonal\n",
    "\n",
    "**Definition 2 (Diagonal)** _Diagonal matrices_ are square matrices with bandwidths $l = u = 0$.\n",
    "\n",
    "\n",
    "Diagonal matrices in Julia are stored as a vector containing the diagonal entries:"
   ]
  },
  {
   "cell_type": "code",
   "execution_count": 27,
   "metadata": {
    "execution": {
     "iopub.execute_input": "2023-01-30T08:23:29.072171Z",
     "iopub.status.busy": "2023-01-30T08:23:29.071609Z",
     "iopub.status.idle": "2023-01-30T08:23:29.456177Z",
     "shell.execute_reply": "2023-01-30T08:23:29.455743Z"
    }
   },
   "outputs": [
    {
     "data": {
      "text/plain": [
       "3×3 Diagonal{Int64, Vector{Int64}}:\n",
       " 1  ⋅  ⋅\n",
       " ⋅  2  ⋅\n",
       " ⋅  ⋅  3"
      ]
     },
     "execution_count": 27,
     "metadata": {},
     "output_type": "execute_result"
    }
   ],
   "source": [
    "x = [1,2,3]\n",
    "D = Diagonal(x) # the type Diagonal has a single field: D.diag"
   ]
  },
  {
   "cell_type": "markdown",
   "metadata": {},
   "source": [
    "It is clear that we can perform diagonal-vector multiplications and solve linear systems involving diagonal matrices efficiently\n",
    "(in $O(n)$ operations).\n",
    "\n",
    "### Bidiagonal\n",
    "\n",
    "**Definition 3 (Bidiagonal)** If a square matrix has bandwidths $(l,u) = (1,0)$ it is _lower-bidiagonal_ and\n",
    "if it has bandwidths $(l,u) = (0,1)$ it is _upper-bidiagonal_. \n",
    "\n",
    "We can create Bidiagonal matrices in Julia by specifying the diagonal and off-diagonal:"
   ]
  },
  {
   "cell_type": "code",
   "execution_count": 28,
   "metadata": {
    "execution": {
     "iopub.execute_input": "2023-01-30T08:23:29.458338Z",
     "iopub.status.busy": "2023-01-30T08:23:29.457738Z",
     "iopub.status.idle": "2023-01-30T08:23:29.843868Z",
     "shell.execute_reply": "2023-01-30T08:23:29.843417Z"
    }
   },
   "outputs": [
    {
     "data": {
      "text/plain": [
       "3×3 Bidiagonal{Int64, Vector{Int64}}:\n",
       " 1  ⋅  ⋅\n",
       " 4  2  ⋅\n",
       " ⋅  5  3"
      ]
     },
     "execution_count": 28,
     "metadata": {},
     "output_type": "execute_result"
    }
   ],
   "source": [
    "L = Bidiagonal([1,2,3], [4,5], :L) # the type Bidiagonal has three fields: L.dv (diagonal), L.ev (lower-diagonal), L.uplo (either 'L', 'U')"
   ]
  },
  {
   "cell_type": "code",
   "execution_count": 29,
   "metadata": {
    "execution": {
     "iopub.execute_input": "2023-01-30T08:23:29.846190Z",
     "iopub.status.busy": "2023-01-30T08:23:29.845404Z",
     "iopub.status.idle": "2023-01-30T08:23:29.849415Z",
     "shell.execute_reply": "2023-01-30T08:23:29.848981Z"
    }
   },
   "outputs": [
    {
     "data": {
      "text/plain": [
       "3×3 Bidiagonal{Int64, Vector{Int64}}:\n",
       " 1  4  ⋅\n",
       " ⋅  2  5\n",
       " ⋅  ⋅  3"
      ]
     },
     "execution_count": 29,
     "metadata": {},
     "output_type": "execute_result"
    }
   ],
   "source": [
    "Bidiagonal([1,2,3], [4,5], :U)"
   ]
  },
  {
   "cell_type": "markdown",
   "metadata": {},
   "source": [
    "Multiplication and solving linear systems with Bidiagonal systems is also $O(n)$ operations, using the standard\n",
    "multiplications/back-substitution algorithms but being careful in the loops to only access the non-zero entries. \n",
    "\n",
    "\n",
    "### Tridiagonal\n",
    "\n",
    "**Definition 4 (Tridiagonal)** If a square matrix has bandwidths $l = u = 1$ it is _tridiagonal_.\n",
    "\n",
    "Julia has a type `Tridiagonal` for representing a tridiagonal matrix from its sub-diagonal, diagonal, and super-diagonal:"
   ]
  },
  {
   "cell_type": "code",
   "execution_count": 30,
   "metadata": {
    "execution": {
     "iopub.execute_input": "2023-01-30T08:23:29.851534Z",
     "iopub.status.busy": "2023-01-30T08:23:29.850976Z",
     "iopub.status.idle": "2023-01-30T08:23:30.200798Z",
     "shell.execute_reply": "2023-01-30T08:23:30.200362Z"
    }
   },
   "outputs": [
    {
     "data": {
      "text/plain": [
       "3×3 Tridiagonal{Int64, Vector{Int64}}:\n",
       " 3  6  ⋅\n",
       " 1  4  7\n",
       " ⋅  2  5"
      ]
     },
     "execution_count": 30,
     "metadata": {},
     "output_type": "execute_result"
    }
   ],
   "source": [
    "T = Tridiagonal([1,2], [3,4,5], [6,7]) # The type Tridiagonal has three fields: T.dl (sub), T.d (diag), T.du (super)"
   ]
  },
  {
   "cell_type": "markdown",
   "metadata": {},
   "source": [
    "Tridiagonal matrices will come up in solving second-order differential equations and orthogonal polynomials.\n",
    "We will later see how linear systems involving tridiagonal matrices can be solved in $O(n)$ operations."
   ]
  }
 ],
 "metadata": {
  "kernelspec": {
   "display_name": "Julia 1.8.3",
   "language": "julia",
   "name": "julia-1.8"
  },
  "language_info": {
   "file_extension": ".jl",
   "mimetype": "application/julia",
   "name": "julia",
   "version": "1.8.3"
  }
 },
 "nbformat": 4,
 "nbformat_minor": 2
}
