{
 "cells": [
  {
   "cell_type": "markdown",
   "metadata": {},
   "source": [
    "# C. Spectral theorem for symmetric and normal matrices\n",
    "\n",
    "Here we review the proof of the spectral theorem for symmetric and normal\n",
    "matrices, as well as adjoints (complex-conjugation). Here we use the standard inner product\n",
    "defined on $ℂ^n$:\n",
    "$$\n",
    "⟨𝐱, 𝐲⟩ := 𝐱̄^⊤𝐲 = ∑_{k=1}^n x̄_k y_k\n",
    "$$\n",
    "where the bars indicate complex conjugate: if $z = x + {\\rm i}y$ then $z̄ = x - {\\rm i}y$.\n",
    "Note that $\\overline{zw} = z̄w̄$ and $\\overline{z+w} = z̄+w̄$ together imply that:\n",
    "$$\n",
    "\\overline{A 𝐱} = Ā 𝐱̄.\n",
    "$$\n",
    "\n",
    "## 1. Adjoints\n",
    "\n",
    "**Definition 1 (adjoint)** An adjoint of a matrix $A ∈ ℂ^{m × n}$ is its conjugate\n",
    "transpose: $A^⋆ := Ā^⊤$. If $A ∈ ℝ^{m × n}$ then it reduces to the transpose $A^⋆ = A^⊤$.\n",
    "\n",
    "Note adjoints have the important product that for the standard inner product they satisfy:\n",
    "$$\n",
    "⟨𝐱, A𝐲⟩ = 𝐱̄^⊤(A𝐲)=(A^⊤𝐱̄)^⊤𝐲=(\\overline{ Ā^⊤𝐱})^⊤𝐲 = ⟨Ā 𝐱, 𝐲⟩\n",
    "$$\n",
    "\n",
    "\n",
    "## 2. Spectral theorem for symmetric matrices\n",
    "\n",
    "\n",
    "\n",
    "\n",
    "\n",
    "**Theorem (spectral theorem for symmetric matrices)** If $A$ is symmetric\n",
    "($A = A^⊤$) then\n",
    "$$\n",
    "A = Q Λ Q^⊤\n",
    "$$\n",
    "where $Q$ is orthogonal ($Q^⊤Q = I$) and $Λ$ is real.\n",
    "\n",
    "**Proof**\n",
    "\n",
    "Recall every eigenvalue $λ$ has at least one eigenvector $𝐪$ which we can\n",
    "normalize, but this can be\n",
    "complex. Thus we have\n",
    "$$\n",
    "λ = λ 𝐪^⋆𝐪  = 𝐪^⋆ A 𝐪 = \n",
    "$$\n",
    "\n",
    "∎"
   ]
  }
 ],
 "metadata": {
  "kernelspec": {
   "display_name": "Julia 1.8.3",
   "language": "julia",
   "name": "julia-1.8"
  },
  "language_info": {
   "file_extension": ".jl",
   "mimetype": "application/julia",
   "name": "julia",
   "version": "1.8.3"
  }
 },
 "nbformat": 4,
 "nbformat_minor": 2
}
