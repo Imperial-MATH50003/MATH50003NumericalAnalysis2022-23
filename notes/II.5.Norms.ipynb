{
 "cells": [
  {
   "cell_type": "markdown",
   "metadata": {},
   "source": [
    "# II.5 Norms\n",
    "\n",
    "In this lecture we discuss matrix and vector norms.\n",
    "\n",
    "1. Vector norms: we discuss the standard $p$-norm for vectors in $ℝ^n$.\n",
    "2. Matrix norms: we discuss how two vector norms can be used to induce a norm on matrices. These\n",
    "satisfy an additional multiplicative inequality.\n",
    "\n",
    "\n",
    "## 1. Vector norms\n",
    "\n",
    "Recall the definition of a (vector-)norm:\n",
    "\n",
    "**Definition 1 (vector-norm)** A norm $\\|⋅\\|$ on a vector space $V$ (e.g. $ℝ^n$ or $ℂ^n$) over a field $𝔽$ (e.g.\n",
    "$ℝ$ or $ℂ$)  \n",
    "is a function that satisfies the following, for $𝐱,𝐲 ∈ V$ and\n",
    "$c ∈ 𝔽$:\n",
    "1. Triangle inequality: $\\|𝐱 + 𝐲 \\| ≤ \\|𝐱\\| + \\|𝐲\\|$\n",
    "2. Homogeneity: $\\| c 𝐱 \\| = |c| \\| 𝐱 \\|$\n",
    "3. Positive-definiteness: $\\|𝐱\\| = 0$ implies that $𝐱 = 0$.\n",
    "\n",
    "\n",
    "Consider the following example:\n",
    "\n",
    "**Definition 2 (p-norm)**\n",
    "For $1 ≤ p < ∞$ and $𝐱 ∈ ℂ^n$, define the $p$-norm:\n",
    "$$\n",
    "\\|𝐱\\|_p := \\left(\\sum_{k=1}^n |x_k|^p\\right)^{1/p}\n",
    "$$\n",
    "where $x_k$ is the $k$-th entry of $𝐱$. \n",
    "For $p = ∞$ we define\n",
    "$$\n",
    "\\|𝐱\\|_∞ := \\max_k |x_k|\n",
    "$$\n",
    "\n",
    "**Theorem 1 (p-norm)** $\\| ⋅ \\|_p$ is a norm for $1 ≤ p ≤ ∞$.\n",
    "\n",
    "**Proof**\n",
    "\n",
    "We will only prove the case $p = 1, 2, ∞$ as general $p$ is more involved.\n",
    "\n",
    "Homogeneity and positive-definiteness are straightforward: e.g.,\n",
    "$$\n",
    "\\|c 𝐱\\|_p = (\\sum_{k=1}^n |cx_k|^p)^{1/p} = (|c|^p \\sum_{k=1}^n |x_k|^p)^{1/p} = |c| \\| 𝐱 \\|\n",
    "$$\n",
    "and if $\\| 𝐱 \\|_p = 0$ then all $|x_k|^p$ are have to be zero.\n",
    "\n",
    "For $p = 1,∞$ the triangle inequality is also straightforward:\n",
    "$$\n",
    "\\| 𝐱 + 𝐲 \\|_∞ = \\max_k (|x_k + y_k|) ≤ \\max_k (|x_k| + |y_k|) ≤ \\|𝐱\\|_∞ + \\|𝐲\\|_∞\n",
    "$$\n",
    "and\n",
    "$$\n",
    "\\| 𝐱 + 𝐲 \\|_1 = \\sum_{k=1}^n |x_k + y_k| ≤  \\sum_{k=1}^n (|x_k| + |y_k|) = \\| 𝐱 \\|_1 + \\| 𝐲\\|_1\n",
    "$$\n",
    "\n",
    "For $p = 2$ it can be proved using the Cauchy–Schwartz inequality:\n",
    "$$\n",
    "|𝐱^⋆ 𝐲| ≤ \\| 𝐱 \\|_2 \\| 𝐲 \\|_2\n",
    "$$\n",
    "That is, we have\n",
    "$$\n",
    "\\| 𝐱 + 𝐲 \\|^2 = \\|𝐱\\|^2 + 2 𝐱^⊤ 𝐲 + \\|𝐲\\|^2 ≤ \\|𝐱\\|^2 + 2\\| 𝐱 \\| \\| 𝐲 \\| + \\|𝐲\\|^2 = (\\| 𝐱 \\| +  \\| 𝐲 \\|)\n",
    "$$\n",
    "\n",
    "\n",
    "∎\n",
    "\n",
    "\n",
    " In Julia, one can use the inbuilt `norm` function to calculate norms:\n",
    " ```julia\n",
    " norm([1,-2,3]) == norm([1,-2,3], 2) == sqrt(1^2 + 2^2 + 3^2) == sqrt(14);\n",
    " norm([1,-2,3], 1) == 1 + 2 + 3 == 6;\n",
    " norm([1,-2,3], Inf) == 3;\n",
    " ```\n",
    "\n",
    "\n",
    "## 2. Matrix norms\n",
    " Just like vectors, matrices have norms that measure their \"length\".  The simplest example is the Fröbenius norm:\n",
    "\n",
    " **Definition 3 (Fröbenius norm)** For $A ∈ ℂ^{m × n}$ define\n",
    "$$\n",
    "\\|A\\|_F := \\sqrt{\\sum_{k=1}^m \\sum_{j=1}^n |a_{kj}|^2}\n",
    "$$\n",
    "\n",
    "This is available as `norm` in Julia:"
   ]
  },
  {
   "cell_type": "code",
   "execution_count": 1,
   "metadata": {
    "execution": {
     "iopub.execute_input": "2023-02-26T11:51:19.893654Z",
     "iopub.status.busy": "2023-02-26T11:51:19.214921Z",
     "iopub.status.idle": "2023-02-26T11:51:21.338869Z",
     "shell.execute_reply": "2023-02-26T11:51:21.338311Z"
    }
   },
   "outputs": [
    {
     "data": {
      "text/plain": [
       "true"
      ]
     },
     "execution_count": 1,
     "metadata": {},
     "output_type": "execute_result"
    }
   ],
   "source": [
    "A = randn(5,3)\n",
    "norm(A) == norm(vec(A))"
   ]
  },
  {
   "cell_type": "markdown",
   "metadata": {},
   "source": [
    "While this is the simplest norm, it is not the most useful.  Instead, we will build a matrix norm from a \n",
    "vector norm:\n",
    "\n",
    "\n",
    "\n",
    "**Definition 4 (matrix-norm)** Suppose $A ∈ ℂ^{m × n}$  and consider two norms $\\| ⋅ \\|_X$ on $ℂ^n$  and \n",
    "$\\| ⋅ \\|_Y$ on $ℂ^n$. Define the _(induced) matrix norm_ as:\n",
    "$$\n",
    "\\|A \\|_{X → Y} := \\sup_{𝐯 : \\|𝐯\\|_X=1} \\|A 𝐯\\|_Y\n",
    "$$\n",
    "Also define\n",
    "$$\n",
    "\\|A\\|_X := \\|A\\|_{X → X}\n",
    "$$\n",
    "For  the induced $p$-norm we use the notation $\\|A\\|_p.$\n",
    "\n",
    "Note an equivalent definition of the induced norm:\n",
    "$$\n",
    "\\|A\\|_{X → Y} = \\sup_{𝐱 ∈ ℝ^n, 𝐱 ≠ 0} {\\|A 𝐱\\|_Y \\over \\| 𝐱\\|_X}\n",
    "$$\n",
    "This follows since we can scale $𝐱$ by its norm so that it has unit norm, that is,\n",
    "${𝐱} \\over \\|𝐱\\|_X$ has unit norm.\n",
    "\n",
    "**Lemma 1 (matrix norms are norms)** Induced matrix norms are norms, that is for $\\| ⋅ \\| = \\| ⋅ \\|_{X → Y}$ we have:\n",
    "1. Triangle inequality: $\\| A + B \\| ≤  \\|A\\| + \\|B\\|$\n",
    "1. Homogeneneity: $\\|c A \\| = |c| \\|A\\|$\n",
    "3. Positive-definiteness: $\\|A\\| =0 \\Rightarrow A = 0$\n",
    "\n",
    "In addition, they satisfy the following additional properties:\n",
    "1. $\\|A 𝐱 \\|_Y ≤ \\|A\\|_{X → Y} \\|𝐱 \\|_X$\n",
    "2. Multiplicative inequality: $\\| AB\\|_{X → Z} ≤ \\|A \\|_{Y → Z} \\|B\\|_{X →  Y}$\n",
    "\n",
    "**Proof**\n",
    "\n",
    "First we show the _triangle inequality_:\n",
    "$$\n",
    "\\|A + B \\| ≤ \\sup_{𝐯 : \\|𝐯\\|_X=1} (\\|A 𝐯\\|_Y + \\|B 𝐯\\|_Y) ≤ \\| A \\| + \\|B \\|.\n",
    "$$\n",
    "Homogeneity is also immediate. Positive-definiteness follows from the fact that if\n",
    "$\\|A\\| = 0$ then $A 𝐱  = 0$ for all $𝐱 ∈ ℝ^n$.\n",
    "The property $\\|A 𝐱 \\|_Y ≤ \\|A\\|_{X → Y} \\|𝐱 \\|_X$ follows from the definition.\n",
    "Finally, the multiplicative inequality follows from\n",
    "$$\n",
    "\\|A B\\| = \\sup_{𝐯 : \\|𝐯\\|_X=1} \\|A B 𝐯 \\|_Z ≤ \\sup_{𝐯 : \\|𝐯\\|_X=1} \\|A\\|_{Y → Z} \\| B 𝐯 \\| = \\|A \\|_{Y → Z} \\|B\\|_{X →  Y}\n",
    "$$\n",
    "\n",
    "\n",
    "\n",
    "∎\n",
    "\n",
    "We have some simple examples of induced norms:\n",
    "\n",
    "**Example 1 ($1$-norm)** We claim \n",
    "$$\n",
    "\\|A \\|_1 = \\max_j \\|𝐚_j\\|_1\n",
    "$$\n",
    "that is, the maximum $1$-norm of the columns. To see this use the triangle inequality to\n",
    "find for $\\|𝐱\\|_1 = 1$\n",
    "$$\n",
    "\\| A 𝐱 \\|_1 ≤ ∑_{j = 1}^n |x_j| \\| 𝐚_j\\|_1 ≤ \\max_j \\| 𝐚_j\\| ∑_{j = 1}^n |x_j| = \\max_j \\| 𝐚_j\\|_1.\n",
    "$$\n",
    "But the bound is also attained since if $j$ is the column that maximises the norms then\n",
    "$$\n",
    "\\|A 𝐞_j \\|_1 = \\|𝐚_j\\|_1 =  \\max_j \\| 𝐚_j\\|_1.\n",
    "$$\n",
    "\n",
    "In the problem sheet we see that\n",
    "$$\n",
    "\\|A\\|_∞ = \\max_k \\|A[k,:]\\|_1\n",
    "$$\n",
    "that is, the maximum $1$-norm of the rows.\n",
    "\n",
    "Matrix norms are available via `opnorm`:"
   ]
  },
  {
   "cell_type": "code",
   "execution_count": 2,
   "metadata": {
    "execution": {
     "iopub.execute_input": "2023-02-26T11:51:21.341097Z",
     "iopub.status.busy": "2023-02-26T11:51:21.340441Z",
     "iopub.status.idle": "2023-02-26T11:51:21.790578Z",
     "shell.execute_reply": "2023-02-26T11:51:21.790149Z"
    }
   },
   "outputs": [
    {
     "data": {
      "text/plain": [
       "2.6041739084301563"
      ]
     },
     "execution_count": 2,
     "metadata": {},
     "output_type": "execute_result"
    }
   ],
   "source": [
    "m,n = 5,3\n",
    "A = randn(m,n)\n",
    "opnorm(A,1) == maximum(norm(A[:,j],1) for j = 1:n)\n",
    "opnorm(A,Inf) == maximum(norm(A[k,:],1) for k = 1:m)\n",
    "opnorm(A) # the 2-norm"
   ]
  },
  {
   "cell_type": "markdown",
   "metadata": {},
   "source": [
    "An example that does not have a simple formula is $\\|A \\|_2$, but we do have two simple cases:\n",
    "\n",
    "**Proposition 1 (diagonal/orthogonal 2-norms)** If $Λ$ is diagonal with entries $λ_k$ then\n",
    "$\\|Λ\\|_2 = \\max_k |λ_k|$. If $Q$ is orthogonal then $\\|Q\\| = 1$.\n",
    "\n",
    "In the next chapter we see how the 2-norm for a matrix can be defined in terms of the _Singular Value Decomposition_."
   ]
  }
 ],
 "metadata": {
  "kernelspec": {
   "display_name": "Julia 1.8.3",
   "language": "julia",
   "name": "julia-1.8"
  },
  "language_info": {
   "file_extension": ".jl",
   "mimetype": "application/julia",
   "name": "julia",
   "version": "1.8.3"
  }
 },
 "nbformat": 4,
 "nbformat_minor": 2
}
