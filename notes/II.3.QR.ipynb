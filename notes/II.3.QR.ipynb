{
 "cells": [
  {
   "cell_type": "markdown",
   "metadata": {},
   "source": [
    "# II.3 QR factorisation\n",
    "\n",
    "Let $A ∈ ℂ^{m × n}$ be a rectangular or square matrix such that $m ≥ n$ (i.e. more rows then columns).\n",
    "In this chapter we consider two closely related factorisations:\n",
    "\n",
    "1. The _QR factorisation_\n",
    "$$\n",
    "A = Q R = \\underbrace{\\begin{bmatrix} 𝐪_1 | ⋯ | 𝐪_m \\end{bmatrix}}_{Q ∈ U(m)} \\underbrace{\\begin{bmatrix} × & ⋯ & × \\\\ & ⋱ & ⋮ \\\\ && × \\\\ &&0 \\\\ &&⋮ \\\\ && 0 \\end{bmatrix}}_{R ∈ ℂ^{m × n}}\n",
    "$$\n",
    "where $Q$ is unitary (i.e., $Q ∈ U(m)$, satisfying $Q^⋆Q = I$, with columns $𝐪_j ∈ ℂ^m$) and $R$ is _right triangular_, which means it \n",
    "is only nonzero on or to the right of the diagonal ($r_{kj} = 0$ if $k > j$).\n",
    "\n",
    "2. The _reduced QR factorisation_\n",
    "$$\n",
    "A = Q̂ R̂ = \\underbrace{\\begin{bmatrix} 𝐪_1 | ⋯ | 𝐪_n \\end{bmatrix}}_{ Q̂ ∈ ℂ^{m × n}} \\underbrace{\\begin{bmatrix} × & ⋯ & × \\\\ & ⋱ & ⋮ \\\\ && ×  \\end{bmatrix}}_{R̂ ∈ ℂ^{n × n}}\n",
    "$$\n",
    "where $Q$ has orthogonal columns ($Q^⋆ Q = I$, $𝐪_j ∈ ℂ^m$) and $R̂$ is upper triangular.\n",
    "\n",
    "Note for a square matrix the reduced QR factorisation is equivalent to the QR factorisation, in which case $R$ is _upper triangular_.\n",
    "The importance of these decomposition for square matrices is that their component pieces are easy to invert:\n",
    "$$\n",
    "A = QR \\qquad ⇒ \\qquad A^{-1}𝐛 = R^{-1} Q^⊤ 𝐛\n",
    "$$\n",
    "and we saw in the last two chapters that triangular and orthogonal matrices are easy to invert when applied to a vector $𝐛$,\n",
    "e.g., using forward/back-substitution.\n",
    "\n",
    "For rectangular matrices we will see that they lead to efficient solutions to the _least squares problem_: find\n",
    "$𝐱$ that minimizes the 2-norm\n",
    "$$\n",
    "\\| A 𝐱 - 𝐛 \\|.\n",
    "$$\n",
    "Note in the rectangular case the QR decomposition contains within it the reduced QR decomposition:\n",
    "$$\n",
    "A = QR = \\begin{bmatrix} Q̂ | 𝐪_{n+1} | ⋯ | 𝐪_m \\end{bmatrix} \\begin{bmatrix} R̂ \\\\  𝟎_{m-n × n} \\end{bmatrix} = Q̂ R̂.\n",
    "$$\n",
    "\n",
    "\n",
    "\n",
    "\n",
    "In this lecture we discuss the followng:\n",
    "\n",
    "1. QR and least squares: We discuss the QR decomposition and its usage in solving least squares problems.\n",
    "2. Reduced QR and Gram–Schmidt: We discuss computation of the Reduced QR decomposition using Gram–Schmidt.\n",
    "3. Householder reflections and QR: We discuss computing the  QR decomposition using Householder reflections."
   ]
  },
  {
   "cell_type": "code",
   "execution_count": 1,
   "metadata": {
    "execution": {
     "iopub.execute_input": "2023-02-14T21:36:59.105631Z",
     "iopub.status.busy": "2023-02-14T21:36:58.553780Z",
     "iopub.status.idle": "2023-02-14T21:37:05.679536Z",
     "shell.execute_reply": "2023-02-14T21:37:05.678829Z"
    }
   },
   "outputs": [],
   "source": [
    "using LinearAlgebra, Plots, BenchmarkTools"
   ]
  },
  {
   "cell_type": "markdown",
   "metadata": {},
   "source": [
    "## 1. QR and least squares\n",
    "\n",
    "Here we consider rectangular matrices with more rows than columns. Given $A ∈ ℂ^{m × n}$ and $𝐛 ∈ ℂ^m$,\n",
    "least squares consists of finding a vector $𝐱 ∈ ℂ^n$ that minimises the 2-norm:\n",
    "$\n",
    "\\| A 𝐱 - 𝐛 \\|\n",
    "$.\n",
    "\n",
    "\n",
    "**Theorem 1 (least squares via QR)** Suppose $A ∈ ℂ^{m × n}$ has full rank. Given a QR decomposition $A = Q R$\n",
    "then\n",
    "$$\n",
    "𝐱 = R̂^{-1} Q̂^⋆ 𝐛\n",
    "$$\n",
    "minimises $\\| A 𝐱 - 𝐛 \\|$. \n",
    "\n",
    "**Proof**\n",
    "\n",
    "The norm-preserving property (see PS4 Q3.1) of unitary matrices tells us\n",
    "$$\n",
    "\\| A 𝐱 - 𝐛 \\| = \\| Q R 𝐱 - 𝐛 \\| = \\| Q (R 𝐱 - Q^⋆ 𝐛) \\| = \\| R 𝐱 - Q^⋆ 𝐛 \\| = \\left \\| \n",
    "\\begin{bmatrix} R̂ \\\\ 𝟎_{m-n × n} \\end{bmatrix} 𝐱 - \\begin{bmatrix} Q̂^⋆ \\\\ 𝐪_{n+1}^⋆ \\\\ ⋮ \\\\ 𝐪_m^⋆ \\end{bmatrix}     𝐛 \\right \\|\n",
    "$$\n",
    "Now note that the rows $k > n$ are independent of $𝐱$ and are a fixed contribution. Thus to minimise this norm it suffices to\n",
    "drop them and minimise:\n",
    "$$\n",
    "\\| R̂ 𝐱 - Q̂^⋆ 𝐛 \\|\n",
    "$$\n",
    "This norm is minimised if it is zero. Provided the column rank of $A$ is full, $R̂$ will be invertible (Exercise: why is this?).\n",
    "\n",
    "∎\n",
    "\n",
    "\n",
    "**Example 1 (quadratic fit)** Suppose we want to fit noisy data by a quadratic\n",
    "$$\n",
    "p(x) = p₀ + p₁ x + p₂ x^2\n",
    "$$\n",
    "That is, we want to choose $p₀,p₁,p₂$ at data samples $x_1, …, x_m$ so that the following is true:\n",
    "$$\n",
    "p₀ + p₁ x_k + p₂ x_k^2 ≈ f_k\n",
    "$$\n",
    "where $f_k$ are given by data. We can reinterpret this as a least squares problem: minimise the norm\n",
    "$$\n",
    "\\left\\| \\begin{bmatrix} 1 & x_1 & x_1^2 \\\\ ⋮ & ⋮ & ⋮ \\\\ 1 & x_m & x_m^2 \\end{bmatrix}\n",
    "\\begin{bmatrix} p₀ \\\\ p₁ \\\\ p₂ \\end{bmatrix} - \\begin{bmatrix} f_1 \\\\ ⋮ \\\\ f_m \\end{bmatrix} \\right \\|\n",
    "$$\n",
    "We can solve this using the QR decomposition:"
   ]
  },
  {
   "cell_type": "code",
   "execution_count": 2,
   "metadata": {
    "execution": {
     "iopub.execute_input": "2023-02-14T21:37:05.859183Z",
     "iopub.status.busy": "2023-02-14T21:37:05.681429Z",
     "iopub.status.idle": "2023-02-14T21:37:08.427168Z",
     "shell.execute_reply": "2023-02-14T21:37:08.426699Z"
    }
   },
   "outputs": [
    {
     "data": {
      "text/plain": [
       "3-element Vector{Float64}:\n",
       " 1.9901122579017716\n",
       " 1.1140766541071372\n",
       " 1.8678586099861343"
      ]
     },
     "execution_count": 2,
     "metadata": {},
     "output_type": "execute_result"
    }
   ],
   "source": [
    "m,n = 100,3\n",
    "\n",
    "x = range(0,1; length=m) # 100 points\n",
    "f = 2 .+ x .+ 2x.^2 .+ 0.1 .* randn.() # Noisy quadratic\n",
    "\n",
    "A = x .^ (0:2)'  # 100 x 3 matrix, equivalent to [ones(m) x x.^2]\n",
    "Q,R̂ = qr(A)\n",
    "Q̂ = Q[:,1:n] # Q represents full orthogonal matrix so we take first 3 columns\n",
    "\n",
    "p₀,p₁,p₂ = R̂ \\ Q̂'f"
   ]
  },
  {
   "cell_type": "markdown",
   "metadata": {},
   "source": [
    "We can visualise the fit:"
   ]
  },
  {
   "cell_type": "code",
   "execution_count": 3,
   "metadata": {
    "execution": {
     "iopub.execute_input": "2023-02-14T21:37:08.430101Z",
     "iopub.status.busy": "2023-02-14T21:37:08.429238Z",
     "iopub.status.idle": "2023-02-14T21:37:14.818816Z",
     "shell.execute_reply": "2023-02-14T21:37:14.816583Z"
    }
   },
   "outputs": [
    {
     "data": {
      "image/svg+xml": [
       "<?xml version=\"1.0\" encoding=\"utf-8\"?>\n",
       "<svg xmlns=\"http://www.w3.org/2000/svg\" xmlns:xlink=\"http://www.w3.org/1999/xlink\" width=\"600\" height=\"400\" viewBox=\"0 0 2400 1600\">\n",
       "<defs>\n",
       "  <clipPath id=\"clip860\">\n",
       "    <rect x=\"0\" y=\"0\" width=\"2400\" height=\"1600\"/>\n",
       "  </clipPath>\n",
       "</defs>\n",
       "<path clip-path=\"url(#clip860)\" d=\"M0 1600 L2400 1600 L2400 0 L0 0  Z\" fill=\"#ffffff\" fill-rule=\"evenodd\" fill-opacity=\"1\"/>\n",
       "<defs>\n",
       "  <clipPath id=\"clip861\">\n",
       "    <rect x=\"480\" y=\"0\" width=\"1681\" height=\"1600\"/>\n",
       "  </clipPath>\n",
       "</defs>\n",
       "<path clip-path=\"url(#clip860)\" d=\"M112.177 1486.45 L2352.76 1486.45 L2352.76 47.2441 L112.177 47.2441  Z\" fill=\"#ffffff\" fill-rule=\"evenodd\" fill-opacity=\"1\"/>\n",
       "<defs>\n",
       "  <clipPath id=\"clip862\">\n",
       "    <rect x=\"112\" y=\"47\" width=\"2242\" height=\"1440\"/>\n",
       "  </clipPath>\n",
       "</defs>\n",
       "<polyline clip-path=\"url(#clip862)\" style=\"stroke:#000000; stroke-linecap:round; stroke-linejoin:round; stroke-width:2; stroke-opacity:0.1; fill:none\" points=\"175.59,1486.45 175.59,47.2441 \"/>\n",
       "<polyline clip-path=\"url(#clip862)\" style=\"stroke:#000000; stroke-linecap:round; stroke-linejoin:round; stroke-width:2; stroke-opacity:0.1; fill:none\" points=\"704.028,1486.45 704.028,47.2441 \"/>\n",
       "<polyline clip-path=\"url(#clip862)\" style=\"stroke:#000000; stroke-linecap:round; stroke-linejoin:round; stroke-width:2; stroke-opacity:0.1; fill:none\" points=\"1232.47,1486.45 1232.47,47.2441 \"/>\n",
       "<polyline clip-path=\"url(#clip862)\" style=\"stroke:#000000; stroke-linecap:round; stroke-linejoin:round; stroke-width:2; stroke-opacity:0.1; fill:none\" points=\"1760.9,1486.45 1760.9,47.2441 \"/>\n",
       "<polyline clip-path=\"url(#clip862)\" style=\"stroke:#000000; stroke-linecap:round; stroke-linejoin:round; stroke-width:2; stroke-opacity:0.1; fill:none\" points=\"2289.34,1486.45 2289.34,47.2441 \"/>\n",
       "<polyline clip-path=\"url(#clip860)\" style=\"stroke:#000000; stroke-linecap:round; stroke-linejoin:round; stroke-width:4; stroke-opacity:1; fill:none\" points=\"112.177,1486.45 2352.76,1486.45 \"/>\n",
       "<polyline clip-path=\"url(#clip860)\" style=\"stroke:#000000; stroke-linecap:round; stroke-linejoin:round; stroke-width:4; stroke-opacity:1; fill:none\" points=\"175.59,1486.45 175.59,1467.55 \"/>\n",
       "<polyline clip-path=\"url(#clip860)\" style=\"stroke:#000000; stroke-linecap:round; stroke-linejoin:round; stroke-width:4; stroke-opacity:1; fill:none\" points=\"704.028,1486.45 704.028,1467.55 \"/>\n",
       "<polyline clip-path=\"url(#clip860)\" style=\"stroke:#000000; stroke-linecap:round; stroke-linejoin:round; stroke-width:4; stroke-opacity:1; fill:none\" points=\"1232.47,1486.45 1232.47,1467.55 \"/>\n",
       "<polyline clip-path=\"url(#clip860)\" style=\"stroke:#000000; stroke-linecap:round; stroke-linejoin:round; stroke-width:4; stroke-opacity:1; fill:none\" points=\"1760.9,1486.45 1760.9,1467.55 \"/>\n",
       "<polyline clip-path=\"url(#clip860)\" style=\"stroke:#000000; stroke-linecap:round; stroke-linejoin:round; stroke-width:4; stroke-opacity:1; fill:none\" points=\"2289.34,1486.45 2289.34,1467.55 \"/>\n",
       "<path clip-path=\"url(#clip860)\" d=\"M137.893 1517.37 Q134.282 1517.37 132.453 1520.93 Q130.648 1524.47 130.648 1531.6 Q130.648 1538.71 132.453 1542.27 Q134.282 1545.82 137.893 1545.82 Q141.527 1545.82 143.333 1542.27 Q145.162 1538.71 145.162 1531.6 Q145.162 1524.47 143.333 1520.93 Q141.527 1517.37 137.893 1517.37 M137.893 1513.66 Q143.703 1513.66 146.759 1518.27 Q149.838 1522.85 149.838 1531.6 Q149.838 1540.33 146.759 1544.94 Q143.703 1549.52 137.893 1549.52 Q132.083 1549.52 129.004 1544.94 Q125.949 1540.33 125.949 1531.6 Q125.949 1522.85 129.004 1518.27 Q132.083 1513.66 137.893 1513.66 Z\" fill=\"#000000\" fill-rule=\"evenodd\" fill-opacity=\"1\" /><path clip-path=\"url(#clip860)\" d=\"M158.055 1542.97 L162.939 1542.97 L162.939 1548.85 L158.055 1548.85 L158.055 1542.97 Z\" fill=\"#000000\" fill-rule=\"evenodd\" fill-opacity=\"1\" /><path clip-path=\"url(#clip860)\" d=\"M183.124 1517.37 Q179.513 1517.37 177.685 1520.93 Q175.879 1524.47 175.879 1531.6 Q175.879 1538.71 177.685 1542.27 Q179.513 1545.82 183.124 1545.82 Q186.759 1545.82 188.564 1542.27 Q190.393 1538.71 190.393 1531.6 Q190.393 1524.47 188.564 1520.93 Q186.759 1517.37 183.124 1517.37 M183.124 1513.66 Q188.935 1513.66 191.99 1518.27 Q195.069 1522.85 195.069 1531.6 Q195.069 1540.33 191.99 1544.94 Q188.935 1549.52 183.124 1549.52 Q177.314 1549.52 174.236 1544.94 Q171.18 1540.33 171.18 1531.6 Q171.18 1522.85 174.236 1518.27 Q177.314 1513.66 183.124 1513.66 Z\" fill=\"#000000\" fill-rule=\"evenodd\" fill-opacity=\"1\" /><path clip-path=\"url(#clip860)\" d=\"M213.286 1517.37 Q209.675 1517.37 207.847 1520.93 Q206.041 1524.47 206.041 1531.6 Q206.041 1538.71 207.847 1542.27 Q209.675 1545.82 213.286 1545.82 Q216.921 1545.82 218.726 1542.27 Q220.555 1538.71 220.555 1531.6 Q220.555 1524.47 218.726 1520.93 Q216.921 1517.37 213.286 1517.37 M213.286 1513.66 Q219.096 1513.66 222.152 1518.27 Q225.231 1522.85 225.231 1531.6 Q225.231 1540.33 222.152 1544.94 Q219.096 1549.52 213.286 1549.52 Q207.476 1549.52 204.397 1544.94 Q201.342 1540.33 201.342 1531.6 Q201.342 1522.85 204.397 1518.27 Q207.476 1513.66 213.286 1513.66 Z\" fill=\"#000000\" fill-rule=\"evenodd\" fill-opacity=\"1\" /><path clip-path=\"url(#clip860)\" d=\"M666.829 1517.37 Q663.218 1517.37 661.39 1520.93 Q659.584 1524.47 659.584 1531.6 Q659.584 1538.71 661.39 1542.27 Q663.218 1545.82 666.829 1545.82 Q670.464 1545.82 672.269 1542.27 Q674.098 1538.71 674.098 1531.6 Q674.098 1524.47 672.269 1520.93 Q670.464 1517.37 666.829 1517.37 M666.829 1513.66 Q672.639 1513.66 675.695 1518.27 Q678.774 1522.85 678.774 1531.6 Q678.774 1540.33 675.695 1544.94 Q672.639 1549.52 666.829 1549.52 Q661.019 1549.52 657.94 1544.94 Q654.885 1540.33 654.885 1531.6 Q654.885 1522.85 657.94 1518.27 Q661.019 1513.66 666.829 1513.66 Z\" fill=\"#000000\" fill-rule=\"evenodd\" fill-opacity=\"1\" /><path clip-path=\"url(#clip860)\" d=\"M686.991 1542.97 L691.875 1542.97 L691.875 1548.85 L686.991 1548.85 L686.991 1542.97 Z\" fill=\"#000000\" fill-rule=\"evenodd\" fill-opacity=\"1\" /><path clip-path=\"url(#clip860)\" d=\"M706.088 1544.91 L722.408 1544.91 L722.408 1548.85 L700.463 1548.85 L700.463 1544.91 Q703.125 1542.16 707.709 1537.53 Q712.315 1532.88 713.496 1531.53 Q715.741 1529.01 716.621 1527.27 Q717.523 1525.51 717.523 1523.82 Q717.523 1521.07 715.579 1519.33 Q713.658 1517.6 710.556 1517.6 Q708.357 1517.6 705.903 1518.36 Q703.473 1519.13 700.695 1520.68 L700.695 1515.95 Q703.519 1514.82 705.973 1514.24 Q708.426 1513.66 710.463 1513.66 Q715.834 1513.66 719.028 1516.35 Q722.223 1519.03 722.223 1523.52 Q722.223 1525.65 721.412 1527.57 Q720.625 1529.47 718.519 1532.07 Q717.94 1532.74 714.838 1535.95 Q711.736 1539.15 706.088 1544.91 Z\" fill=\"#000000\" fill-rule=\"evenodd\" fill-opacity=\"1\" /><path clip-path=\"url(#clip860)\" d=\"M732.269 1514.29 L750.625 1514.29 L750.625 1518.22 L736.551 1518.22 L736.551 1526.7 Q737.57 1526.35 738.588 1526.19 Q739.607 1526 740.625 1526 Q746.412 1526 749.792 1529.17 Q753.171 1532.34 753.171 1537.76 Q753.171 1543.34 749.699 1546.44 Q746.227 1549.52 739.908 1549.52 Q737.732 1549.52 735.463 1549.15 Q733.218 1548.78 730.81 1548.04 L730.81 1543.34 Q732.894 1544.47 735.116 1545.03 Q737.338 1545.58 739.815 1545.58 Q743.82 1545.58 746.158 1543.48 Q748.496 1541.37 748.496 1537.76 Q748.496 1534.15 746.158 1532.04 Q743.82 1529.94 739.815 1529.94 Q737.94 1529.94 736.065 1530.35 Q734.213 1530.77 732.269 1531.65 L732.269 1514.29 Z\" fill=\"#000000\" fill-rule=\"evenodd\" fill-opacity=\"1\" /><path clip-path=\"url(#clip860)\" d=\"M1194.77 1517.37 Q1191.16 1517.37 1189.33 1520.93 Q1187.52 1524.47 1187.52 1531.6 Q1187.52 1538.71 1189.33 1542.27 Q1191.16 1545.82 1194.77 1545.82 Q1198.4 1545.82 1200.21 1542.27 Q1202.04 1538.71 1202.04 1531.6 Q1202.04 1524.47 1200.21 1520.93 Q1198.4 1517.37 1194.77 1517.37 M1194.77 1513.66 Q1200.58 1513.66 1203.64 1518.27 Q1206.71 1522.85 1206.71 1531.6 Q1206.71 1540.33 1203.64 1544.94 Q1200.58 1549.52 1194.77 1549.52 Q1188.96 1549.52 1185.88 1544.94 Q1182.83 1540.33 1182.83 1531.6 Q1182.83 1522.85 1185.88 1518.27 Q1188.96 1513.66 1194.77 1513.66 Z\" fill=\"#000000\" fill-rule=\"evenodd\" fill-opacity=\"1\" /><path clip-path=\"url(#clip860)\" d=\"M1214.93 1542.97 L1219.82 1542.97 L1219.82 1548.85 L1214.93 1548.85 L1214.93 1542.97 Z\" fill=\"#000000\" fill-rule=\"evenodd\" fill-opacity=\"1\" /><path clip-path=\"url(#clip860)\" d=\"M1230.05 1514.29 L1248.4 1514.29 L1248.4 1518.22 L1234.33 1518.22 L1234.33 1526.7 Q1235.35 1526.35 1236.37 1526.19 Q1237.39 1526 1238.4 1526 Q1244.19 1526 1247.57 1529.17 Q1250.95 1532.34 1250.95 1537.76 Q1250.95 1543.34 1247.48 1546.44 Q1244.01 1549.52 1237.69 1549.52 Q1235.51 1549.52 1233.24 1549.15 Q1231 1548.78 1228.59 1548.04 L1228.59 1543.34 Q1230.67 1544.47 1232.89 1545.03 Q1235.12 1545.58 1237.59 1545.58 Q1241.6 1545.58 1243.94 1543.48 Q1246.27 1541.37 1246.27 1537.76 Q1246.27 1534.15 1243.94 1532.04 Q1241.6 1529.94 1237.59 1529.94 Q1235.72 1529.94 1233.84 1530.35 Q1231.99 1530.77 1230.05 1531.65 L1230.05 1514.29 Z\" fill=\"#000000\" fill-rule=\"evenodd\" fill-opacity=\"1\" /><path clip-path=\"url(#clip860)\" d=\"M1270.16 1517.37 Q1266.55 1517.37 1264.72 1520.93 Q1262.92 1524.47 1262.92 1531.6 Q1262.92 1538.71 1264.72 1542.27 Q1266.55 1545.82 1270.16 1545.82 Q1273.8 1545.82 1275.6 1542.27 Q1277.43 1538.71 1277.43 1531.6 Q1277.43 1524.47 1275.6 1520.93 Q1273.8 1517.37 1270.16 1517.37 M1270.16 1513.66 Q1275.97 1513.66 1279.03 1518.27 Q1282.11 1522.85 1282.11 1531.6 Q1282.11 1540.33 1279.03 1544.94 Q1275.97 1549.52 1270.16 1549.52 Q1264.35 1549.52 1261.27 1544.94 Q1258.22 1540.33 1258.22 1531.6 Q1258.22 1522.85 1261.27 1518.27 Q1264.35 1513.66 1270.16 1513.66 Z\" fill=\"#000000\" fill-rule=\"evenodd\" fill-opacity=\"1\" /><path clip-path=\"url(#clip860)\" d=\"M1723.71 1517.37 Q1720.09 1517.37 1718.27 1520.93 Q1716.46 1524.47 1716.46 1531.6 Q1716.46 1538.71 1718.27 1542.27 Q1720.09 1545.82 1723.71 1545.82 Q1727.34 1545.82 1729.15 1542.27 Q1730.97 1538.71 1730.97 1531.6 Q1730.97 1524.47 1729.15 1520.93 Q1727.34 1517.37 1723.71 1517.37 M1723.71 1513.66 Q1729.52 1513.66 1732.57 1518.27 Q1735.65 1522.85 1735.65 1531.6 Q1735.65 1540.33 1732.57 1544.94 Q1729.52 1549.52 1723.71 1549.52 Q1717.9 1549.52 1714.82 1544.94 Q1711.76 1540.33 1711.76 1531.6 Q1711.76 1522.85 1714.82 1518.27 Q1717.9 1513.66 1723.71 1513.66 Z\" fill=\"#000000\" fill-rule=\"evenodd\" fill-opacity=\"1\" /><path clip-path=\"url(#clip860)\" d=\"M1743.87 1542.97 L1748.75 1542.97 L1748.75 1548.85 L1743.87 1548.85 L1743.87 1542.97 Z\" fill=\"#000000\" fill-rule=\"evenodd\" fill-opacity=\"1\" /><path clip-path=\"url(#clip860)\" d=\"M1757.76 1514.29 L1779.98 1514.29 L1779.98 1516.28 L1767.43 1548.85 L1762.55 1548.85 L1774.35 1518.22 L1757.76 1518.22 L1757.76 1514.29 Z\" fill=\"#000000\" fill-rule=\"evenodd\" fill-opacity=\"1\" /><path clip-path=\"url(#clip860)\" d=\"M1789.15 1514.29 L1807.5 1514.29 L1807.5 1518.22 L1793.43 1518.22 L1793.43 1526.7 Q1794.45 1526.35 1795.46 1526.19 Q1796.48 1526 1797.5 1526 Q1803.29 1526 1806.67 1529.17 Q1810.05 1532.34 1810.05 1537.76 Q1810.05 1543.34 1806.58 1546.44 Q1803.1 1549.52 1796.78 1549.52 Q1794.61 1549.52 1792.34 1549.15 Q1790.09 1548.78 1787.69 1548.04 L1787.69 1543.34 Q1789.77 1544.47 1791.99 1545.03 Q1794.21 1545.58 1796.69 1545.58 Q1800.7 1545.58 1803.03 1543.48 Q1805.37 1541.37 1805.37 1537.76 Q1805.37 1534.15 1803.03 1532.04 Q1800.7 1529.94 1796.69 1529.94 Q1794.82 1529.94 1792.94 1530.35 Q1791.09 1530.77 1789.15 1531.65 L1789.15 1514.29 Z\" fill=\"#000000\" fill-rule=\"evenodd\" fill-opacity=\"1\" /><path clip-path=\"url(#clip860)\" d=\"M2241.42 1544.91 L2249.05 1544.91 L2249.05 1518.55 L2240.74 1520.21 L2240.74 1515.95 L2249.01 1514.29 L2253.68 1514.29 L2253.68 1544.91 L2261.32 1544.91 L2261.32 1548.85 L2241.42 1548.85 L2241.42 1544.91 Z\" fill=\"#000000\" fill-rule=\"evenodd\" fill-opacity=\"1\" /><path clip-path=\"url(#clip860)\" d=\"M2270.77 1542.97 L2275.65 1542.97 L2275.65 1548.85 L2270.77 1548.85 L2270.77 1542.97 Z\" fill=\"#000000\" fill-rule=\"evenodd\" fill-opacity=\"1\" /><path clip-path=\"url(#clip860)\" d=\"M2295.84 1517.37 Q2292.23 1517.37 2290.4 1520.93 Q2288.59 1524.47 2288.59 1531.6 Q2288.59 1538.71 2290.4 1542.27 Q2292.23 1545.82 2295.84 1545.82 Q2299.47 1545.82 2301.28 1542.27 Q2303.1 1538.71 2303.1 1531.6 Q2303.1 1524.47 2301.28 1520.93 Q2299.47 1517.37 2295.84 1517.37 M2295.84 1513.66 Q2301.65 1513.66 2304.7 1518.27 Q2307.78 1522.85 2307.78 1531.6 Q2307.78 1540.33 2304.7 1544.94 Q2301.65 1549.52 2295.84 1549.52 Q2290.03 1549.52 2286.95 1544.94 Q2283.89 1540.33 2283.89 1531.6 Q2283.89 1522.85 2286.95 1518.27 Q2290.03 1513.66 2295.84 1513.66 Z\" fill=\"#000000\" fill-rule=\"evenodd\" fill-opacity=\"1\" /><path clip-path=\"url(#clip860)\" d=\"M2326 1517.37 Q2322.39 1517.37 2320.56 1520.93 Q2318.75 1524.47 2318.75 1531.6 Q2318.75 1538.71 2320.56 1542.27 Q2322.39 1545.82 2326 1545.82 Q2329.63 1545.82 2331.44 1542.27 Q2333.27 1538.71 2333.27 1531.6 Q2333.27 1524.47 2331.44 1520.93 Q2329.63 1517.37 2326 1517.37 M2326 1513.66 Q2331.81 1513.66 2334.86 1518.27 Q2337.94 1522.85 2337.94 1531.6 Q2337.94 1540.33 2334.86 1544.94 Q2331.81 1549.52 2326 1549.52 Q2320.19 1549.52 2317.11 1544.94 Q2314.05 1540.33 2314.05 1531.6 Q2314.05 1522.85 2317.11 1518.27 Q2320.19 1513.66 2326 1513.66 Z\" fill=\"#000000\" fill-rule=\"evenodd\" fill-opacity=\"1\" /><polyline clip-path=\"url(#clip862)\" style=\"stroke:#000000; stroke-linecap:round; stroke-linejoin:round; stroke-width:2; stroke-opacity:0.1; fill:none\" points=\"112.177,1416.61 2352.76,1416.61 \"/>\n",
       "<polyline clip-path=\"url(#clip862)\" style=\"stroke:#000000; stroke-linecap:round; stroke-linejoin:round; stroke-width:2; stroke-opacity:0.1; fill:none\" points=\"112.177,969.567 2352.76,969.567 \"/>\n",
       "<polyline clip-path=\"url(#clip862)\" style=\"stroke:#000000; stroke-linecap:round; stroke-linejoin:round; stroke-width:2; stroke-opacity:0.1; fill:none\" points=\"112.177,522.524 2352.76,522.524 \"/>\n",
       "<polyline clip-path=\"url(#clip862)\" style=\"stroke:#000000; stroke-linecap:round; stroke-linejoin:round; stroke-width:2; stroke-opacity:0.1; fill:none\" points=\"112.177,75.4803 2352.76,75.4803 \"/>\n",
       "<polyline clip-path=\"url(#clip860)\" style=\"stroke:#000000; stroke-linecap:round; stroke-linejoin:round; stroke-width:4; stroke-opacity:1; fill:none\" points=\"112.177,1486.45 112.177,47.2441 \"/>\n",
       "<polyline clip-path=\"url(#clip860)\" style=\"stroke:#000000; stroke-linecap:round; stroke-linejoin:round; stroke-width:4; stroke-opacity:1; fill:none\" points=\"112.177,1416.61 131.075,1416.61 \"/>\n",
       "<polyline clip-path=\"url(#clip860)\" style=\"stroke:#000000; stroke-linecap:round; stroke-linejoin:round; stroke-width:4; stroke-opacity:1; fill:none\" points=\"112.177,969.567 131.075,969.567 \"/>\n",
       "<polyline clip-path=\"url(#clip860)\" style=\"stroke:#000000; stroke-linecap:round; stroke-linejoin:round; stroke-width:4; stroke-opacity:1; fill:none\" points=\"112.177,522.524 131.075,522.524 \"/>\n",
       "<polyline clip-path=\"url(#clip860)\" style=\"stroke:#000000; stroke-linecap:round; stroke-linejoin:round; stroke-width:4; stroke-opacity:1; fill:none\" points=\"112.177,75.4803 131.075,75.4803 \"/>\n",
       "<path clip-path=\"url(#clip860)\" d=\"M59.8578 1429.95 L76.1772 1429.95 L76.1772 1433.89 L54.2328 1433.89 L54.2328 1429.95 Q56.8949 1427.2 61.4782 1422.57 Q66.0846 1417.92 67.2652 1416.58 Q69.5105 1414.05 70.3902 1412.32 Q71.2929 1410.56 71.2929 1408.87 Q71.2929 1406.11 69.3485 1404.38 Q67.4272 1402.64 64.3254 1402.64 Q62.1263 1402.64 59.6726 1403.4 Q57.2421 1404.17 54.4643 1405.72 L54.4643 1401 Q57.2884 1399.86 59.7421 1399.28 Q62.1958 1398.71 64.2328 1398.71 Q69.6031 1398.71 72.7976 1401.39 Q75.992 1404.08 75.992 1408.57 Q75.992 1410.7 75.1818 1412.62 Q74.3948 1414.52 72.2883 1417.11 Q71.7096 1417.78 68.6078 1421 Q65.5059 1424.19 59.8578 1429.95 Z\" fill=\"#000000\" fill-rule=\"evenodd\" fill-opacity=\"1\" /><path clip-path=\"url(#clip860)\" d=\"M69.0476 968.213 Q72.404 968.93 74.279 971.199 Q76.1772 973.467 76.1772 976.801 Q76.1772 981.916 72.6587 984.717 Q69.1402 987.518 62.6587 987.518 Q60.4828 987.518 58.168 987.078 Q55.8764 986.662 53.4227 985.805 L53.4227 981.291 Q55.3671 982.426 57.6819 983.004 Q59.9967 983.583 62.5198 983.583 Q66.918 983.583 69.2096 981.847 Q71.5244 980.111 71.5244 976.801 Q71.5244 973.745 69.3717 972.032 Q67.242 970.296 63.4226 970.296 L59.3949 970.296 L59.3949 966.453 L63.6078 966.453 Q67.0569 966.453 68.8855 965.088 Q70.7142 963.699 70.7142 961.106 Q70.7142 958.444 68.8161 957.032 Q66.9411 955.597 63.4226 955.597 Q61.5013 955.597 59.3023 956.014 Q57.1032 956.43 54.4643 957.31 L54.4643 953.143 Q57.1264 952.403 59.4412 952.032 Q61.7791 951.662 63.8393 951.662 Q69.1633 951.662 72.2652 954.092 Q75.367 956.5 75.367 960.62 Q75.367 963.49 73.7235 965.481 Q72.08 967.449 69.0476 968.213 Z\" fill=\"#000000\" fill-rule=\"evenodd\" fill-opacity=\"1\" /><path clip-path=\"url(#clip860)\" d=\"M66.5939 509.318 L54.7884 527.767 L66.5939 527.767 L66.5939 509.318 M65.367 505.244 L71.2466 505.244 L71.2466 527.767 L76.1772 527.767 L76.1772 531.655 L71.2466 531.655 L71.2466 539.804 L66.5939 539.804 L66.5939 531.655 L50.9921 531.655 L50.9921 527.142 L65.367 505.244 Z\" fill=\"#000000\" fill-rule=\"evenodd\" fill-opacity=\"1\" /><path clip-path=\"url(#clip860)\" d=\"M55.2745 58.2003 L73.6309 58.2003 L73.6309 62.1355 L59.5569 62.1355 L59.5569 70.6077 Q60.5754 70.2604 61.5939 70.0984 Q62.6124 69.9132 63.6309 69.9132 Q69.418 69.9132 72.7976 73.0845 Q76.1772 76.2558 76.1772 81.6724 Q76.1772 87.2511 72.705 90.3529 Q69.2328 93.4316 62.9134 93.4316 Q60.7374 93.4316 58.4689 93.0612 Q56.2236 92.6909 53.8162 91.9501 L53.8162 87.2511 Q55.8995 88.3853 58.1217 88.9409 Q60.3439 89.4964 62.8208 89.4964 Q66.8254 89.4964 69.1633 87.39 Q71.5013 85.2835 71.5013 81.6724 Q71.5013 78.0613 69.1633 75.9548 Q66.8254 73.8484 62.8208 73.8484 Q60.9458 73.8484 59.0708 74.265 Q57.2189 74.6817 55.2745 75.5613 L55.2745 58.2003 Z\" fill=\"#000000\" fill-rule=\"evenodd\" fill-opacity=\"1\" /><circle clip-path=\"url(#clip862)\" cx=\"175.59\" cy=\"1425.88\" r=\"14.4\" fill=\"#009af9\" fill-rule=\"evenodd\" fill-opacity=\"1\" stroke=\"#000000\" stroke-opacity=\"1\" stroke-width=\"3.2\"/>\n",
       "<circle clip-path=\"url(#clip862)\" cx=\"196.941\" cy=\"1430.87\" r=\"14.4\" fill=\"#009af9\" fill-rule=\"evenodd\" fill-opacity=\"1\" stroke=\"#000000\" stroke-opacity=\"1\" stroke-width=\"3.2\"/>\n",
       "<circle clip-path=\"url(#clip862)\" cx=\"218.292\" cy=\"1397.32\" r=\"14.4\" fill=\"#009af9\" fill-rule=\"evenodd\" fill-opacity=\"1\" stroke=\"#000000\" stroke-opacity=\"1\" stroke-width=\"3.2\"/>\n",
       "<circle clip-path=\"url(#clip862)\" cx=\"239.643\" cy=\"1445.72\" r=\"14.4\" fill=\"#009af9\" fill-rule=\"evenodd\" fill-opacity=\"1\" stroke=\"#000000\" stroke-opacity=\"1\" stroke-width=\"3.2\"/>\n",
       "<circle clip-path=\"url(#clip862)\" cx=\"260.994\" cy=\"1410.7\" r=\"14.4\" fill=\"#009af9\" fill-rule=\"evenodd\" fill-opacity=\"1\" stroke=\"#000000\" stroke-opacity=\"1\" stroke-width=\"3.2\"/>\n",
       "<circle clip-path=\"url(#clip862)\" cx=\"282.345\" cy=\"1365.96\" r=\"14.4\" fill=\"#009af9\" fill-rule=\"evenodd\" fill-opacity=\"1\" stroke=\"#000000\" stroke-opacity=\"1\" stroke-width=\"3.2\"/>\n",
       "<circle clip-path=\"url(#clip862)\" cx=\"303.696\" cy=\"1344.76\" r=\"14.4\" fill=\"#009af9\" fill-rule=\"evenodd\" fill-opacity=\"1\" stroke=\"#000000\" stroke-opacity=\"1\" stroke-width=\"3.2\"/>\n",
       "<circle clip-path=\"url(#clip862)\" cx=\"325.047\" cy=\"1443.2\" r=\"14.4\" fill=\"#009af9\" fill-rule=\"evenodd\" fill-opacity=\"1\" stroke=\"#000000\" stroke-opacity=\"1\" stroke-width=\"3.2\"/>\n",
       "<circle clip-path=\"url(#clip862)\" cx=\"346.398\" cy=\"1404.45\" r=\"14.4\" fill=\"#009af9\" fill-rule=\"evenodd\" fill-opacity=\"1\" stroke=\"#000000\" stroke-opacity=\"1\" stroke-width=\"3.2\"/>\n",
       "<circle clip-path=\"url(#clip862)\" cx=\"367.749\" cy=\"1367.42\" r=\"14.4\" fill=\"#009af9\" fill-rule=\"evenodd\" fill-opacity=\"1\" stroke=\"#000000\" stroke-opacity=\"1\" stroke-width=\"3.2\"/>\n",
       "<circle clip-path=\"url(#clip862)\" cx=\"389.1\" cy=\"1399.46\" r=\"14.4\" fill=\"#009af9\" fill-rule=\"evenodd\" fill-opacity=\"1\" stroke=\"#000000\" stroke-opacity=\"1\" stroke-width=\"3.2\"/>\n",
       "<circle clip-path=\"url(#clip862)\" cx=\"410.451\" cy=\"1394.09\" r=\"14.4\" fill=\"#009af9\" fill-rule=\"evenodd\" fill-opacity=\"1\" stroke=\"#000000\" stroke-opacity=\"1\" stroke-width=\"3.2\"/>\n",
       "<circle clip-path=\"url(#clip862)\" cx=\"431.802\" cy=\"1319.93\" r=\"14.4\" fill=\"#009af9\" fill-rule=\"evenodd\" fill-opacity=\"1\" stroke=\"#000000\" stroke-opacity=\"1\" stroke-width=\"3.2\"/>\n",
       "<circle clip-path=\"url(#clip862)\" cx=\"453.153\" cy=\"1319.65\" r=\"14.4\" fill=\"#009af9\" fill-rule=\"evenodd\" fill-opacity=\"1\" stroke=\"#000000\" stroke-opacity=\"1\" stroke-width=\"3.2\"/>\n",
       "<circle clip-path=\"url(#clip862)\" cx=\"474.504\" cy=\"1350.7\" r=\"14.4\" fill=\"#009af9\" fill-rule=\"evenodd\" fill-opacity=\"1\" stroke=\"#000000\" stroke-opacity=\"1\" stroke-width=\"3.2\"/>\n",
       "<circle clip-path=\"url(#clip862)\" cx=\"495.855\" cy=\"1325.58\" r=\"14.4\" fill=\"#009af9\" fill-rule=\"evenodd\" fill-opacity=\"1\" stroke=\"#000000\" stroke-opacity=\"1\" stroke-width=\"3.2\"/>\n",
       "<circle clip-path=\"url(#clip862)\" cx=\"517.207\" cy=\"1268.65\" r=\"14.4\" fill=\"#009af9\" fill-rule=\"evenodd\" fill-opacity=\"1\" stroke=\"#000000\" stroke-opacity=\"1\" stroke-width=\"3.2\"/>\n",
       "<circle clip-path=\"url(#clip862)\" cx=\"538.558\" cy=\"1304.68\" r=\"14.4\" fill=\"#009af9\" fill-rule=\"evenodd\" fill-opacity=\"1\" stroke=\"#000000\" stroke-opacity=\"1\" stroke-width=\"3.2\"/>\n",
       "<circle clip-path=\"url(#clip862)\" cx=\"559.909\" cy=\"1274.32\" r=\"14.4\" fill=\"#009af9\" fill-rule=\"evenodd\" fill-opacity=\"1\" stroke=\"#000000\" stroke-opacity=\"1\" stroke-width=\"3.2\"/>\n",
       "<circle clip-path=\"url(#clip862)\" cx=\"581.26\" cy=\"1238.97\" r=\"14.4\" fill=\"#009af9\" fill-rule=\"evenodd\" fill-opacity=\"1\" stroke=\"#000000\" stroke-opacity=\"1\" stroke-width=\"3.2\"/>\n",
       "<circle clip-path=\"url(#clip862)\" cx=\"602.611\" cy=\"1336.47\" r=\"14.4\" fill=\"#009af9\" fill-rule=\"evenodd\" fill-opacity=\"1\" stroke=\"#000000\" stroke-opacity=\"1\" stroke-width=\"3.2\"/>\n",
       "<circle clip-path=\"url(#clip862)\" cx=\"623.962\" cy=\"1308.35\" r=\"14.4\" fill=\"#009af9\" fill-rule=\"evenodd\" fill-opacity=\"1\" stroke=\"#000000\" stroke-opacity=\"1\" stroke-width=\"3.2\"/>\n",
       "<circle clip-path=\"url(#clip862)\" cx=\"645.313\" cy=\"1227.36\" r=\"14.4\" fill=\"#009af9\" fill-rule=\"evenodd\" fill-opacity=\"1\" stroke=\"#000000\" stroke-opacity=\"1\" stroke-width=\"3.2\"/>\n",
       "<circle clip-path=\"url(#clip862)\" cx=\"666.664\" cy=\"1281.07\" r=\"14.4\" fill=\"#009af9\" fill-rule=\"evenodd\" fill-opacity=\"1\" stroke=\"#000000\" stroke-opacity=\"1\" stroke-width=\"3.2\"/>\n",
       "<circle clip-path=\"url(#clip862)\" cx=\"688.015\" cy=\"1228.56\" r=\"14.4\" fill=\"#009af9\" fill-rule=\"evenodd\" fill-opacity=\"1\" stroke=\"#000000\" stroke-opacity=\"1\" stroke-width=\"3.2\"/>\n",
       "<circle clip-path=\"url(#clip862)\" cx=\"709.366\" cy=\"1217.8\" r=\"14.4\" fill=\"#009af9\" fill-rule=\"evenodd\" fill-opacity=\"1\" stroke=\"#000000\" stroke-opacity=\"1\" stroke-width=\"3.2\"/>\n",
       "<circle clip-path=\"url(#clip862)\" cx=\"730.717\" cy=\"1263.05\" r=\"14.4\" fill=\"#009af9\" fill-rule=\"evenodd\" fill-opacity=\"1\" stroke=\"#000000\" stroke-opacity=\"1\" stroke-width=\"3.2\"/>\n",
       "<circle clip-path=\"url(#clip862)\" cx=\"752.068\" cy=\"1196.88\" r=\"14.4\" fill=\"#009af9\" fill-rule=\"evenodd\" fill-opacity=\"1\" stroke=\"#000000\" stroke-opacity=\"1\" stroke-width=\"3.2\"/>\n",
       "<circle clip-path=\"url(#clip862)\" cx=\"773.419\" cy=\"1259.8\" r=\"14.4\" fill=\"#009af9\" fill-rule=\"evenodd\" fill-opacity=\"1\" stroke=\"#000000\" stroke-opacity=\"1\" stroke-width=\"3.2\"/>\n",
       "<circle clip-path=\"url(#clip862)\" cx=\"794.77\" cy=\"1152.41\" r=\"14.4\" fill=\"#009af9\" fill-rule=\"evenodd\" fill-opacity=\"1\" stroke=\"#000000\" stroke-opacity=\"1\" stroke-width=\"3.2\"/>\n",
       "<circle clip-path=\"url(#clip862)\" cx=\"816.121\" cy=\"1236.72\" r=\"14.4\" fill=\"#009af9\" fill-rule=\"evenodd\" fill-opacity=\"1\" stroke=\"#000000\" stroke-opacity=\"1\" stroke-width=\"3.2\"/>\n",
       "<circle clip-path=\"url(#clip862)\" cx=\"837.472\" cy=\"1160.12\" r=\"14.4\" fill=\"#009af9\" fill-rule=\"evenodd\" fill-opacity=\"1\" stroke=\"#000000\" stroke-opacity=\"1\" stroke-width=\"3.2\"/>\n",
       "<circle clip-path=\"url(#clip862)\" cx=\"858.823\" cy=\"1140.4\" r=\"14.4\" fill=\"#009af9\" fill-rule=\"evenodd\" fill-opacity=\"1\" stroke=\"#000000\" stroke-opacity=\"1\" stroke-width=\"3.2\"/>\n",
       "<circle clip-path=\"url(#clip862)\" cx=\"880.174\" cy=\"1123.65\" r=\"14.4\" fill=\"#009af9\" fill-rule=\"evenodd\" fill-opacity=\"1\" stroke=\"#000000\" stroke-opacity=\"1\" stroke-width=\"3.2\"/>\n",
       "<circle clip-path=\"url(#clip862)\" cx=\"901.525\" cy=\"1153.31\" r=\"14.4\" fill=\"#009af9\" fill-rule=\"evenodd\" fill-opacity=\"1\" stroke=\"#000000\" stroke-opacity=\"1\" stroke-width=\"3.2\"/>\n",
       "<circle clip-path=\"url(#clip862)\" cx=\"922.876\" cy=\"1087.17\" r=\"14.4\" fill=\"#009af9\" fill-rule=\"evenodd\" fill-opacity=\"1\" stroke=\"#000000\" stroke-opacity=\"1\" stroke-width=\"3.2\"/>\n",
       "<circle clip-path=\"url(#clip862)\" cx=\"944.227\" cy=\"1150.31\" r=\"14.4\" fill=\"#009af9\" fill-rule=\"evenodd\" fill-opacity=\"1\" stroke=\"#000000\" stroke-opacity=\"1\" stroke-width=\"3.2\"/>\n",
       "<circle clip-path=\"url(#clip862)\" cx=\"965.578\" cy=\"1068.42\" r=\"14.4\" fill=\"#009af9\" fill-rule=\"evenodd\" fill-opacity=\"1\" stroke=\"#000000\" stroke-opacity=\"1\" stroke-width=\"3.2\"/>\n",
       "<circle clip-path=\"url(#clip862)\" cx=\"986.93\" cy=\"1167.78\" r=\"14.4\" fill=\"#009af9\" fill-rule=\"evenodd\" fill-opacity=\"1\" stroke=\"#000000\" stroke-opacity=\"1\" stroke-width=\"3.2\"/>\n",
       "<circle clip-path=\"url(#clip862)\" cx=\"1008.28\" cy=\"1175.81\" r=\"14.4\" fill=\"#009af9\" fill-rule=\"evenodd\" fill-opacity=\"1\" stroke=\"#000000\" stroke-opacity=\"1\" stroke-width=\"3.2\"/>\n",
       "<circle clip-path=\"url(#clip862)\" cx=\"1029.63\" cy=\"1086.19\" r=\"14.4\" fill=\"#009af9\" fill-rule=\"evenodd\" fill-opacity=\"1\" stroke=\"#000000\" stroke-opacity=\"1\" stroke-width=\"3.2\"/>\n",
       "<circle clip-path=\"url(#clip862)\" cx=\"1050.98\" cy=\"990.275\" r=\"14.4\" fill=\"#009af9\" fill-rule=\"evenodd\" fill-opacity=\"1\" stroke=\"#000000\" stroke-opacity=\"1\" stroke-width=\"3.2\"/>\n",
       "<circle clip-path=\"url(#clip862)\" cx=\"1072.33\" cy=\"1004.22\" r=\"14.4\" fill=\"#009af9\" fill-rule=\"evenodd\" fill-opacity=\"1\" stroke=\"#000000\" stroke-opacity=\"1\" stroke-width=\"3.2\"/>\n",
       "<circle clip-path=\"url(#clip862)\" cx=\"1093.68\" cy=\"1102.42\" r=\"14.4\" fill=\"#009af9\" fill-rule=\"evenodd\" fill-opacity=\"1\" stroke=\"#000000\" stroke-opacity=\"1\" stroke-width=\"3.2\"/>\n",
       "<circle clip-path=\"url(#clip862)\" cx=\"1115.04\" cy=\"1004.53\" r=\"14.4\" fill=\"#009af9\" fill-rule=\"evenodd\" fill-opacity=\"1\" stroke=\"#000000\" stroke-opacity=\"1\" stroke-width=\"3.2\"/>\n",
       "<circle clip-path=\"url(#clip862)\" cx=\"1136.39\" cy=\"1020.1\" r=\"14.4\" fill=\"#009af9\" fill-rule=\"evenodd\" fill-opacity=\"1\" stroke=\"#000000\" stroke-opacity=\"1\" stroke-width=\"3.2\"/>\n",
       "<circle clip-path=\"url(#clip862)\" cx=\"1157.74\" cy=\"982.011\" r=\"14.4\" fill=\"#009af9\" fill-rule=\"evenodd\" fill-opacity=\"1\" stroke=\"#000000\" stroke-opacity=\"1\" stroke-width=\"3.2\"/>\n",
       "<circle clip-path=\"url(#clip862)\" cx=\"1179.09\" cy=\"971.189\" r=\"14.4\" fill=\"#009af9\" fill-rule=\"evenodd\" fill-opacity=\"1\" stroke=\"#000000\" stroke-opacity=\"1\" stroke-width=\"3.2\"/>\n",
       "<circle clip-path=\"url(#clip862)\" cx=\"1200.44\" cy=\"1079.09\" r=\"14.4\" fill=\"#009af9\" fill-rule=\"evenodd\" fill-opacity=\"1\" stroke=\"#000000\" stroke-opacity=\"1\" stroke-width=\"3.2\"/>\n",
       "<circle clip-path=\"url(#clip862)\" cx=\"1221.79\" cy=\"980.103\" r=\"14.4\" fill=\"#009af9\" fill-rule=\"evenodd\" fill-opacity=\"1\" stroke=\"#000000\" stroke-opacity=\"1\" stroke-width=\"3.2\"/>\n",
       "<circle clip-path=\"url(#clip862)\" cx=\"1243.14\" cy=\"967.62\" r=\"14.4\" fill=\"#009af9\" fill-rule=\"evenodd\" fill-opacity=\"1\" stroke=\"#000000\" stroke-opacity=\"1\" stroke-width=\"3.2\"/>\n",
       "<circle clip-path=\"url(#clip862)\" cx=\"1264.49\" cy=\"909.778\" r=\"14.4\" fill=\"#009af9\" fill-rule=\"evenodd\" fill-opacity=\"1\" stroke=\"#000000\" stroke-opacity=\"1\" stroke-width=\"3.2\"/>\n",
       "<circle clip-path=\"url(#clip862)\" cx=\"1285.84\" cy=\"904.535\" r=\"14.4\" fill=\"#009af9\" fill-rule=\"evenodd\" fill-opacity=\"1\" stroke=\"#000000\" stroke-opacity=\"1\" stroke-width=\"3.2\"/>\n",
       "<circle clip-path=\"url(#clip862)\" cx=\"1307.2\" cy=\"918.172\" r=\"14.4\" fill=\"#009af9\" fill-rule=\"evenodd\" fill-opacity=\"1\" stroke=\"#000000\" stroke-opacity=\"1\" stroke-width=\"3.2\"/>\n",
       "<circle clip-path=\"url(#clip862)\" cx=\"1328.55\" cy=\"885.38\" r=\"14.4\" fill=\"#009af9\" fill-rule=\"evenodd\" fill-opacity=\"1\" stroke=\"#000000\" stroke-opacity=\"1\" stroke-width=\"3.2\"/>\n",
       "<circle clip-path=\"url(#clip862)\" cx=\"1349.9\" cy=\"874.33\" r=\"14.4\" fill=\"#009af9\" fill-rule=\"evenodd\" fill-opacity=\"1\" stroke=\"#000000\" stroke-opacity=\"1\" stroke-width=\"3.2\"/>\n",
       "<circle clip-path=\"url(#clip862)\" cx=\"1371.25\" cy=\"880.159\" r=\"14.4\" fill=\"#009af9\" fill-rule=\"evenodd\" fill-opacity=\"1\" stroke=\"#000000\" stroke-opacity=\"1\" stroke-width=\"3.2\"/>\n",
       "<circle clip-path=\"url(#clip862)\" cx=\"1392.6\" cy=\"927.161\" r=\"14.4\" fill=\"#009af9\" fill-rule=\"evenodd\" fill-opacity=\"1\" stroke=\"#000000\" stroke-opacity=\"1\" stroke-width=\"3.2\"/>\n",
       "<circle clip-path=\"url(#clip862)\" cx=\"1413.95\" cy=\"842.866\" r=\"14.4\" fill=\"#009af9\" fill-rule=\"evenodd\" fill-opacity=\"1\" stroke=\"#000000\" stroke-opacity=\"1\" stroke-width=\"3.2\"/>\n",
       "<circle clip-path=\"url(#clip862)\" cx=\"1435.3\" cy=\"802.16\" r=\"14.4\" fill=\"#009af9\" fill-rule=\"evenodd\" fill-opacity=\"1\" stroke=\"#000000\" stroke-opacity=\"1\" stroke-width=\"3.2\"/>\n",
       "<circle clip-path=\"url(#clip862)\" cx=\"1456.65\" cy=\"772.721\" r=\"14.4\" fill=\"#009af9\" fill-rule=\"evenodd\" fill-opacity=\"1\" stroke=\"#000000\" stroke-opacity=\"1\" stroke-width=\"3.2\"/>\n",
       "<circle clip-path=\"url(#clip862)\" cx=\"1478\" cy=\"890.725\" r=\"14.4\" fill=\"#009af9\" fill-rule=\"evenodd\" fill-opacity=\"1\" stroke=\"#000000\" stroke-opacity=\"1\" stroke-width=\"3.2\"/>\n",
       "<circle clip-path=\"url(#clip862)\" cx=\"1499.35\" cy=\"757.122\" r=\"14.4\" fill=\"#009af9\" fill-rule=\"evenodd\" fill-opacity=\"1\" stroke=\"#000000\" stroke-opacity=\"1\" stroke-width=\"3.2\"/>\n",
       "<circle clip-path=\"url(#clip862)\" cx=\"1520.71\" cy=\"705.928\" r=\"14.4\" fill=\"#009af9\" fill-rule=\"evenodd\" fill-opacity=\"1\" stroke=\"#000000\" stroke-opacity=\"1\" stroke-width=\"3.2\"/>\n",
       "<circle clip-path=\"url(#clip862)\" cx=\"1542.06\" cy=\"809.379\" r=\"14.4\" fill=\"#009af9\" fill-rule=\"evenodd\" fill-opacity=\"1\" stroke=\"#000000\" stroke-opacity=\"1\" stroke-width=\"3.2\"/>\n",
       "<circle clip-path=\"url(#clip862)\" cx=\"1563.41\" cy=\"684.325\" r=\"14.4\" fill=\"#009af9\" fill-rule=\"evenodd\" fill-opacity=\"1\" stroke=\"#000000\" stroke-opacity=\"1\" stroke-width=\"3.2\"/>\n",
       "<circle clip-path=\"url(#clip862)\" cx=\"1584.76\" cy=\"705.047\" r=\"14.4\" fill=\"#009af9\" fill-rule=\"evenodd\" fill-opacity=\"1\" stroke=\"#000000\" stroke-opacity=\"1\" stroke-width=\"3.2\"/>\n",
       "<circle clip-path=\"url(#clip862)\" cx=\"1606.11\" cy=\"665.257\" r=\"14.4\" fill=\"#009af9\" fill-rule=\"evenodd\" fill-opacity=\"1\" stroke=\"#000000\" stroke-opacity=\"1\" stroke-width=\"3.2\"/>\n",
       "<circle clip-path=\"url(#clip862)\" cx=\"1627.46\" cy=\"762.39\" r=\"14.4\" fill=\"#009af9\" fill-rule=\"evenodd\" fill-opacity=\"1\" stroke=\"#000000\" stroke-opacity=\"1\" stroke-width=\"3.2\"/>\n",
       "<circle clip-path=\"url(#clip862)\" cx=\"1648.81\" cy=\"645.456\" r=\"14.4\" fill=\"#009af9\" fill-rule=\"evenodd\" fill-opacity=\"1\" stroke=\"#000000\" stroke-opacity=\"1\" stroke-width=\"3.2\"/>\n",
       "<circle clip-path=\"url(#clip862)\" cx=\"1670.16\" cy=\"587.133\" r=\"14.4\" fill=\"#009af9\" fill-rule=\"evenodd\" fill-opacity=\"1\" stroke=\"#000000\" stroke-opacity=\"1\" stroke-width=\"3.2\"/>\n",
       "<circle clip-path=\"url(#clip862)\" cx=\"1691.51\" cy=\"743.28\" r=\"14.4\" fill=\"#009af9\" fill-rule=\"evenodd\" fill-opacity=\"1\" stroke=\"#000000\" stroke-opacity=\"1\" stroke-width=\"3.2\"/>\n",
       "<circle clip-path=\"url(#clip862)\" cx=\"1712.87\" cy=\"710.475\" r=\"14.4\" fill=\"#009af9\" fill-rule=\"evenodd\" fill-opacity=\"1\" stroke=\"#000000\" stroke-opacity=\"1\" stroke-width=\"3.2\"/>\n",
       "<circle clip-path=\"url(#clip862)\" cx=\"1734.22\" cy=\"545.812\" r=\"14.4\" fill=\"#009af9\" fill-rule=\"evenodd\" fill-opacity=\"1\" stroke=\"#000000\" stroke-opacity=\"1\" stroke-width=\"3.2\"/>\n",
       "<circle clip-path=\"url(#clip862)\" cx=\"1755.57\" cy=\"616.81\" r=\"14.4\" fill=\"#009af9\" fill-rule=\"evenodd\" fill-opacity=\"1\" stroke=\"#000000\" stroke-opacity=\"1\" stroke-width=\"3.2\"/>\n",
       "<circle clip-path=\"url(#clip862)\" cx=\"1776.92\" cy=\"586.856\" r=\"14.4\" fill=\"#009af9\" fill-rule=\"evenodd\" fill-opacity=\"1\" stroke=\"#000000\" stroke-opacity=\"1\" stroke-width=\"3.2\"/>\n",
       "<circle clip-path=\"url(#clip862)\" cx=\"1798.27\" cy=\"541.095\" r=\"14.4\" fill=\"#009af9\" fill-rule=\"evenodd\" fill-opacity=\"1\" stroke=\"#000000\" stroke-opacity=\"1\" stroke-width=\"3.2\"/>\n",
       "<circle clip-path=\"url(#clip862)\" cx=\"1819.62\" cy=\"570.242\" r=\"14.4\" fill=\"#009af9\" fill-rule=\"evenodd\" fill-opacity=\"1\" stroke=\"#000000\" stroke-opacity=\"1\" stroke-width=\"3.2\"/>\n",
       "<circle clip-path=\"url(#clip862)\" cx=\"1840.97\" cy=\"470.809\" r=\"14.4\" fill=\"#009af9\" fill-rule=\"evenodd\" fill-opacity=\"1\" stroke=\"#000000\" stroke-opacity=\"1\" stroke-width=\"3.2\"/>\n",
       "<circle clip-path=\"url(#clip862)\" cx=\"1862.32\" cy=\"554.98\" r=\"14.4\" fill=\"#009af9\" fill-rule=\"evenodd\" fill-opacity=\"1\" stroke=\"#000000\" stroke-opacity=\"1\" stroke-width=\"3.2\"/>\n",
       "<circle clip-path=\"url(#clip862)\" cx=\"1883.67\" cy=\"574.045\" r=\"14.4\" fill=\"#009af9\" fill-rule=\"evenodd\" fill-opacity=\"1\" stroke=\"#000000\" stroke-opacity=\"1\" stroke-width=\"3.2\"/>\n",
       "<circle clip-path=\"url(#clip862)\" cx=\"1905.02\" cy=\"449.699\" r=\"14.4\" fill=\"#009af9\" fill-rule=\"evenodd\" fill-opacity=\"1\" stroke=\"#000000\" stroke-opacity=\"1\" stroke-width=\"3.2\"/>\n",
       "<circle clip-path=\"url(#clip862)\" cx=\"1926.38\" cy=\"463.705\" r=\"14.4\" fill=\"#009af9\" fill-rule=\"evenodd\" fill-opacity=\"1\" stroke=\"#000000\" stroke-opacity=\"1\" stroke-width=\"3.2\"/>\n",
       "<circle clip-path=\"url(#clip862)\" cx=\"1947.73\" cy=\"352.334\" r=\"14.4\" fill=\"#009af9\" fill-rule=\"evenodd\" fill-opacity=\"1\" stroke=\"#000000\" stroke-opacity=\"1\" stroke-width=\"3.2\"/>\n",
       "<circle clip-path=\"url(#clip862)\" cx=\"1969.08\" cy=\"420.475\" r=\"14.4\" fill=\"#009af9\" fill-rule=\"evenodd\" fill-opacity=\"1\" stroke=\"#000000\" stroke-opacity=\"1\" stroke-width=\"3.2\"/>\n",
       "<circle clip-path=\"url(#clip862)\" cx=\"1990.43\" cy=\"322.717\" r=\"14.4\" fill=\"#009af9\" fill-rule=\"evenodd\" fill-opacity=\"1\" stroke=\"#000000\" stroke-opacity=\"1\" stroke-width=\"3.2\"/>\n",
       "<circle clip-path=\"url(#clip862)\" cx=\"2011.78\" cy=\"324.258\" r=\"14.4\" fill=\"#009af9\" fill-rule=\"evenodd\" fill-opacity=\"1\" stroke=\"#000000\" stroke-opacity=\"1\" stroke-width=\"3.2\"/>\n",
       "<circle clip-path=\"url(#clip862)\" cx=\"2033.13\" cy=\"360.442\" r=\"14.4\" fill=\"#009af9\" fill-rule=\"evenodd\" fill-opacity=\"1\" stroke=\"#000000\" stroke-opacity=\"1\" stroke-width=\"3.2\"/>\n",
       "<circle clip-path=\"url(#clip862)\" cx=\"2054.48\" cy=\"314.945\" r=\"14.4\" fill=\"#009af9\" fill-rule=\"evenodd\" fill-opacity=\"1\" stroke=\"#000000\" stroke-opacity=\"1\" stroke-width=\"3.2\"/>\n",
       "<circle clip-path=\"url(#clip862)\" cx=\"2075.83\" cy=\"184.956\" r=\"14.4\" fill=\"#009af9\" fill-rule=\"evenodd\" fill-opacity=\"1\" stroke=\"#000000\" stroke-opacity=\"1\" stroke-width=\"3.2\"/>\n",
       "<circle clip-path=\"url(#clip862)\" cx=\"2097.18\" cy=\"309.634\" r=\"14.4\" fill=\"#009af9\" fill-rule=\"evenodd\" fill-opacity=\"1\" stroke=\"#000000\" stroke-opacity=\"1\" stroke-width=\"3.2\"/>\n",
       "<circle clip-path=\"url(#clip862)\" cx=\"2118.53\" cy=\"267.689\" r=\"14.4\" fill=\"#009af9\" fill-rule=\"evenodd\" fill-opacity=\"1\" stroke=\"#000000\" stroke-opacity=\"1\" stroke-width=\"3.2\"/>\n",
       "<circle clip-path=\"url(#clip862)\" cx=\"2139.89\" cy=\"223.174\" r=\"14.4\" fill=\"#009af9\" fill-rule=\"evenodd\" fill-opacity=\"1\" stroke=\"#000000\" stroke-opacity=\"1\" stroke-width=\"3.2\"/>\n",
       "<circle clip-path=\"url(#clip862)\" cx=\"2161.24\" cy=\"205.662\" r=\"14.4\" fill=\"#009af9\" fill-rule=\"evenodd\" fill-opacity=\"1\" stroke=\"#000000\" stroke-opacity=\"1\" stroke-width=\"3.2\"/>\n",
       "<circle clip-path=\"url(#clip862)\" cx=\"2182.59\" cy=\"219.697\" r=\"14.4\" fill=\"#009af9\" fill-rule=\"evenodd\" fill-opacity=\"1\" stroke=\"#000000\" stroke-opacity=\"1\" stroke-width=\"3.2\"/>\n",
       "<circle clip-path=\"url(#clip862)\" cx=\"2203.94\" cy=\"120.955\" r=\"14.4\" fill=\"#009af9\" fill-rule=\"evenodd\" fill-opacity=\"1\" stroke=\"#000000\" stroke-opacity=\"1\" stroke-width=\"3.2\"/>\n",
       "<circle clip-path=\"url(#clip862)\" cx=\"2225.29\" cy=\"114.114\" r=\"14.4\" fill=\"#009af9\" fill-rule=\"evenodd\" fill-opacity=\"1\" stroke=\"#000000\" stroke-opacity=\"1\" stroke-width=\"3.2\"/>\n",
       "<circle clip-path=\"url(#clip862)\" cx=\"2246.64\" cy=\"132.177\" r=\"14.4\" fill=\"#009af9\" fill-rule=\"evenodd\" fill-opacity=\"1\" stroke=\"#000000\" stroke-opacity=\"1\" stroke-width=\"3.2\"/>\n",
       "<circle clip-path=\"url(#clip862)\" cx=\"2267.99\" cy=\"88.211\" r=\"14.4\" fill=\"#009af9\" fill-rule=\"evenodd\" fill-opacity=\"1\" stroke=\"#000000\" stroke-opacity=\"1\" stroke-width=\"3.2\"/>\n",
       "<circle clip-path=\"url(#clip862)\" cx=\"2289.34\" cy=\"151.895\" r=\"14.4\" fill=\"#009af9\" fill-rule=\"evenodd\" fill-opacity=\"1\" stroke=\"#000000\" stroke-opacity=\"1\" stroke-width=\"3.2\"/>\n",
       "<polyline clip-path=\"url(#clip862)\" style=\"stroke:#e26f46; stroke-linecap:round; stroke-linejoin:round; stroke-width:4; stroke-opacity:1; fill:none\" points=\"175.59,1421.03 196.941,1415.91 218.292,1410.63 239.643,1405.17 260.994,1399.54 282.345,1393.75 303.696,1387.78 325.047,1381.64 346.398,1375.33 367.749,1368.85 389.1,1362.2 410.451,1355.38 431.802,1348.39 453.153,1341.23 474.504,1333.9 495.855,1326.4 517.207,1318.73 538.558,1310.89 559.909,1302.87 581.26,1294.69 602.611,1286.34 623.962,1277.81 645.313,1269.12 666.664,1260.25 688.015,1251.22 709.366,1242.01 730.717,1232.64 752.068,1223.09 773.419,1213.38 794.77,1203.49 816.121,1193.43 837.472,1183.2 858.823,1172.81 880.174,1162.24 901.525,1151.5 922.876,1140.59 944.227,1129.51 965.578,1118.26 986.93,1106.84 1008.28,1095.25 1029.63,1083.49 1050.98,1071.56 1072.33,1059.45 1093.68,1047.18 1115.04,1034.74 1136.39,1022.12 1157.74,1009.34 1179.09,996.387 1200.44,983.263 1221.79,969.968 1243.14,956.503 1264.49,942.867 1285.84,929.061 1307.2,915.085 1328.55,900.938 1349.9,886.621 1371.25,872.133 1392.6,857.475 1413.95,842.647 1435.3,827.648 1456.65,812.479 1478,797.14 1499.35,781.63 1520.71,765.949 1542.06,750.099 1563.41,734.078 1584.76,717.886 1606.11,701.524 1627.46,684.992 1648.81,668.289 1670.16,651.416 1691.51,634.373 1712.87,617.159 1734.22,599.775 1755.57,582.22 1776.92,564.495 1798.27,546.6 1819.62,528.534 1840.97,510.298 1862.32,491.891 1883.67,473.314 1905.02,454.567 1926.38,435.649 1947.73,416.561 1969.08,397.302 1990.43,377.873 2011.78,358.274 2033.13,338.504 2054.48,318.564 2075.83,298.453 2097.18,278.172 2118.53,257.721 2139.89,237.099 2161.24,216.307 2182.59,195.345 2203.94,174.212 2225.29,152.909 2246.64,131.435 2267.99,109.791 2289.34,87.9763 \"/>\n",
       "<path clip-path=\"url(#clip860)\" d=\"M1833.92 1438.47 L2278.07 1438.47 L2278.07 1282.95 L1833.92 1282.95  Z\" fill=\"#ffffff\" fill-rule=\"evenodd\" fill-opacity=\"1\"/>\n",
       "<polyline clip-path=\"url(#clip860)\" style=\"stroke:#000000; stroke-linecap:round; stroke-linejoin:round; stroke-width:4; stroke-opacity:1; fill:none\" points=\"1833.92,1438.47 2278.07,1438.47 2278.07,1282.95 1833.92,1282.95 1833.92,1438.47 \"/>\n",
       "<circle clip-path=\"url(#clip860)\" cx=\"1933.5\" cy=\"1334.79\" r=\"23.04\" fill=\"#009af9\" fill-rule=\"evenodd\" fill-opacity=\"1\" stroke=\"#000000\" stroke-opacity=\"1\" stroke-width=\"5.12\"/>\n",
       "<path clip-path=\"url(#clip860)\" d=\"M2051.51 1326.91 L2051.51 1330.94 Q2049.7 1330.01 2047.76 1329.55 Q2045.81 1329.09 2043.73 1329.09 Q2040.56 1329.09 2038.96 1330.06 Q2037.39 1331.03 2037.39 1332.98 Q2037.39 1334.46 2038.52 1335.32 Q2039.66 1336.15 2043.08 1336.91 L2044.54 1337.24 Q2049.08 1338.21 2050.98 1339.99 Q2052.9 1341.75 2052.9 1344.92 Q2052.9 1348.53 2050.03 1350.64 Q2047.18 1352.75 2042.18 1352.75 Q2040.1 1352.75 2037.83 1352.33 Q2035.58 1351.94 2033.08 1351.13 L2033.08 1346.73 Q2035.44 1347.95 2037.74 1348.58 Q2040.03 1349.18 2042.27 1349.18 Q2045.28 1349.18 2046.9 1348.16 Q2048.52 1347.12 2048.52 1345.25 Q2048.52 1343.51 2047.34 1342.58 Q2046.18 1341.66 2042.23 1340.8 L2040.75 1340.45 Q2036.79 1339.62 2035.03 1337.91 Q2033.27 1336.17 2033.27 1333.16 Q2033.27 1329.51 2035.86 1327.51 Q2038.45 1325.52 2043.22 1325.52 Q2045.58 1325.52 2047.67 1325.87 Q2049.75 1326.22 2051.51 1326.91 Z\" fill=\"#000000\" fill-rule=\"evenodd\" fill-opacity=\"1\" /><path clip-path=\"url(#clip860)\" d=\"M2071.46 1339.04 Q2066.3 1339.04 2064.31 1340.22 Q2062.32 1341.4 2062.32 1344.25 Q2062.32 1346.52 2063.8 1347.86 Q2065.31 1349.18 2067.87 1349.18 Q2071.42 1349.18 2073.55 1346.68 Q2075.7 1344.16 2075.7 1339.99 L2075.7 1339.04 L2071.46 1339.04 M2079.96 1337.28 L2079.96 1352.07 L2075.7 1352.07 L2075.7 1348.14 Q2074.24 1350.5 2072.06 1351.63 Q2069.89 1352.75 2066.74 1352.75 Q2062.76 1352.75 2060.4 1350.52 Q2058.06 1348.28 2058.06 1344.53 Q2058.06 1340.15 2060.98 1337.93 Q2063.92 1335.71 2069.73 1335.71 L2075.7 1335.71 L2075.7 1335.29 Q2075.7 1332.35 2073.75 1330.76 Q2071.83 1329.13 2068.34 1329.13 Q2066.12 1329.13 2064.01 1329.67 Q2061.9 1330.2 2059.96 1331.26 L2059.96 1327.33 Q2062.3 1326.43 2064.5 1325.99 Q2066.69 1325.52 2068.78 1325.52 Q2074.4 1325.52 2077.18 1328.44 Q2079.96 1331.36 2079.96 1337.28 Z\" fill=\"#000000\" fill-rule=\"evenodd\" fill-opacity=\"1\" /><path clip-path=\"url(#clip860)\" d=\"M2108.92 1331.13 Q2110.51 1328.26 2112.74 1326.89 Q2114.96 1325.52 2117.97 1325.52 Q2122.02 1325.52 2124.22 1328.37 Q2126.42 1331.19 2126.42 1336.43 L2126.42 1352.07 L2122.13 1352.07 L2122.13 1336.57 Q2122.13 1332.84 2120.81 1331.03 Q2119.49 1329.23 2116.79 1329.23 Q2113.48 1329.23 2111.56 1331.43 Q2109.63 1333.63 2109.63 1337.42 L2109.63 1352.07 L2105.35 1352.07 L2105.35 1336.57 Q2105.35 1332.82 2104.03 1331.03 Q2102.71 1329.23 2099.96 1329.23 Q2096.69 1329.23 2094.77 1331.45 Q2092.85 1333.65 2092.85 1337.42 L2092.85 1352.07 L2088.57 1352.07 L2088.57 1326.15 L2092.85 1326.15 L2092.85 1330.18 Q2094.31 1327.79 2096.35 1326.66 Q2098.38 1325.52 2101.18 1325.52 Q2104.01 1325.52 2105.98 1326.96 Q2107.97 1328.39 2108.92 1331.13 Z\" fill=\"#000000\" fill-rule=\"evenodd\" fill-opacity=\"1\" /><path clip-path=\"url(#clip860)\" d=\"M2139.03 1348.19 L2139.03 1361.94 L2134.75 1361.94 L2134.75 1326.15 L2139.03 1326.15 L2139.03 1330.08 Q2140.37 1327.77 2142.41 1326.66 Q2144.47 1325.52 2147.32 1325.52 Q2152.04 1325.52 2154.98 1329.27 Q2157.94 1333.02 2157.94 1339.13 Q2157.94 1345.25 2154.98 1349 Q2152.04 1352.75 2147.32 1352.75 Q2144.47 1352.75 2142.41 1351.63 Q2140.37 1350.5 2139.03 1348.19 M2153.52 1339.13 Q2153.52 1334.44 2151.58 1331.77 Q2149.66 1329.09 2146.28 1329.09 Q2142.9 1329.09 2140.95 1331.77 Q2139.03 1334.44 2139.03 1339.13 Q2139.03 1343.83 2140.95 1346.52 Q2142.9 1349.18 2146.28 1349.18 Q2149.66 1349.18 2151.58 1346.52 Q2153.52 1343.83 2153.52 1339.13 Z\" fill=\"#000000\" fill-rule=\"evenodd\" fill-opacity=\"1\" /><path clip-path=\"url(#clip860)\" d=\"M2165 1316.06 L2169.26 1316.06 L2169.26 1352.07 L2165 1352.07 L2165 1316.06 Z\" fill=\"#000000\" fill-rule=\"evenodd\" fill-opacity=\"1\" /><path clip-path=\"url(#clip860)\" d=\"M2200.35 1338.05 L2200.35 1340.13 L2180.77 1340.13 Q2181.05 1344.53 2183.41 1346.84 Q2185.79 1349.13 2190.03 1349.13 Q2192.48 1349.13 2194.77 1348.53 Q2197.09 1347.93 2199.36 1346.73 L2199.36 1350.75 Q2197.06 1351.73 2194.66 1352.24 Q2192.25 1352.75 2189.77 1352.75 Q2183.57 1352.75 2179.93 1349.13 Q2176.32 1345.52 2176.32 1339.37 Q2176.32 1333 2179.75 1329.27 Q2183.2 1325.52 2189.03 1325.52 Q2194.26 1325.52 2197.3 1328.9 Q2200.35 1332.26 2200.35 1338.05 M2196.09 1336.8 Q2196.05 1333.3 2194.12 1331.22 Q2192.23 1329.13 2189.08 1329.13 Q2185.51 1329.13 2183.36 1331.15 Q2181.23 1333.16 2180.91 1336.82 L2196.09 1336.8 Z\" fill=\"#000000\" fill-rule=\"evenodd\" fill-opacity=\"1\" /><path clip-path=\"url(#clip860)\" d=\"M2223.87 1326.91 L2223.87 1330.94 Q2222.06 1330.01 2220.12 1329.55 Q2218.17 1329.09 2216.09 1329.09 Q2212.92 1329.09 2211.32 1330.06 Q2209.75 1331.03 2209.75 1332.98 Q2209.75 1334.46 2210.88 1335.32 Q2212.02 1336.15 2215.44 1336.91 L2216.9 1337.24 Q2221.44 1338.21 2223.34 1339.99 Q2225.26 1341.75 2225.26 1344.92 Q2225.26 1348.53 2222.39 1350.64 Q2219.54 1352.75 2214.54 1352.75 Q2212.46 1352.75 2210.19 1352.33 Q2207.94 1351.94 2205.44 1351.13 L2205.44 1346.73 Q2207.8 1347.95 2210.1 1348.58 Q2212.39 1349.18 2214.63 1349.18 Q2217.64 1349.18 2219.26 1348.16 Q2220.88 1347.12 2220.88 1345.25 Q2220.88 1343.51 2219.7 1342.58 Q2218.55 1341.66 2214.59 1340.8 L2213.11 1340.45 Q2209.15 1339.62 2207.39 1337.91 Q2205.63 1336.17 2205.63 1333.16 Q2205.63 1329.51 2208.22 1327.51 Q2210.81 1325.52 2215.58 1325.52 Q2217.94 1325.52 2220.03 1325.87 Q2222.11 1326.22 2223.87 1326.91 Z\" fill=\"#000000\" fill-rule=\"evenodd\" fill-opacity=\"1\" /><polyline clip-path=\"url(#clip860)\" style=\"stroke:#e26f46; stroke-linecap:round; stroke-linejoin:round; stroke-width:4; stroke-opacity:1; fill:none\" points=\"1858.82,1386.63 2008.19,1386.63 \"/>\n",
       "<path clip-path=\"url(#clip860)\" d=\"M2037.48 1390.97 Q2037.48 1395.67 2039.4 1398.36 Q2041.35 1401.02 2044.73 1401.02 Q2048.11 1401.02 2050.05 1398.36 Q2052 1395.67 2052 1390.97 Q2052 1386.28 2050.05 1383.61 Q2048.11 1380.93 2044.73 1380.93 Q2041.35 1380.93 2039.4 1383.61 Q2037.48 1386.28 2037.48 1390.97 M2052 1400.03 Q2050.65 1402.34 2048.59 1403.47 Q2046.56 1404.59 2043.69 1404.59 Q2038.99 1404.59 2036.02 1400.84 Q2033.08 1397.09 2033.08 1390.97 Q2033.08 1384.86 2036.02 1381.11 Q2038.99 1377.36 2043.69 1377.36 Q2046.56 1377.36 2048.59 1378.5 Q2050.65 1379.61 2052 1381.92 L2052 1377.99 L2056.25 1377.99 L2056.25 1413.78 L2052 1413.78 L2052 1400.03 Z\" fill=\"#000000\" fill-rule=\"evenodd\" fill-opacity=\"1\" /><path clip-path=\"url(#clip860)\" d=\"M2064.59 1393.68 L2064.59 1377.99 L2068.85 1377.99 L2068.85 1393.52 Q2068.85 1397.2 2070.28 1399.05 Q2071.72 1400.88 2074.59 1400.88 Q2078.04 1400.88 2080.03 1398.68 Q2082.04 1396.48 2082.04 1392.69 L2082.04 1377.99 L2086.3 1377.99 L2086.3 1403.91 L2082.04 1403.91 L2082.04 1399.93 Q2080.49 1402.29 2078.43 1403.45 Q2076.39 1404.59 2073.68 1404.59 Q2069.22 1404.59 2066.9 1401.81 Q2064.59 1399.03 2064.59 1393.68 M2075.31 1377.36 L2075.31 1377.36 Z\" fill=\"#000000\" fill-rule=\"evenodd\" fill-opacity=\"1\" /><path clip-path=\"url(#clip860)\" d=\"M2106.86 1390.88 Q2101.69 1390.88 2099.7 1392.06 Q2097.71 1393.24 2097.71 1396.09 Q2097.71 1398.36 2099.19 1399.7 Q2100.7 1401.02 2103.27 1401.02 Q2106.81 1401.02 2108.94 1398.52 Q2111.09 1396 2111.09 1391.83 L2111.09 1390.88 L2106.86 1390.88 M2115.35 1389.12 L2115.35 1403.91 L2111.09 1403.91 L2111.09 1399.98 Q2109.63 1402.34 2107.46 1403.47 Q2105.28 1404.59 2102.13 1404.59 Q2098.15 1404.59 2095.79 1402.36 Q2093.45 1400.12 2093.45 1396.37 Q2093.45 1391.99 2096.37 1389.77 Q2099.31 1387.55 2105.12 1387.55 L2111.09 1387.55 L2111.09 1387.13 Q2111.09 1384.19 2109.15 1382.6 Q2107.23 1380.97 2103.73 1380.97 Q2101.51 1380.97 2099.4 1381.51 Q2097.3 1382.04 2095.35 1383.1 L2095.35 1379.17 Q2097.69 1378.27 2099.89 1377.83 Q2102.09 1377.36 2104.17 1377.36 Q2109.8 1377.36 2112.57 1380.28 Q2115.35 1383.2 2115.35 1389.12 Z\" fill=\"#000000\" fill-rule=\"evenodd\" fill-opacity=\"1\" /><path clip-path=\"url(#clip860)\" d=\"M2141.18 1381.92 L2141.18 1367.9 L2145.44 1367.9 L2145.44 1403.91 L2141.18 1403.91 L2141.18 1400.03 Q2139.84 1402.34 2137.78 1403.47 Q2135.74 1404.59 2132.87 1404.59 Q2128.18 1404.59 2125.21 1400.84 Q2122.27 1397.09 2122.27 1390.97 Q2122.27 1384.86 2125.21 1381.11 Q2128.18 1377.36 2132.87 1377.36 Q2135.74 1377.36 2137.78 1378.5 Q2139.84 1379.61 2141.18 1381.92 M2126.67 1390.97 Q2126.67 1395.67 2128.59 1398.36 Q2130.54 1401.02 2133.92 1401.02 Q2137.3 1401.02 2139.24 1398.36 Q2141.18 1395.67 2141.18 1390.97 Q2141.18 1386.28 2139.24 1383.61 Q2137.3 1380.93 2133.92 1380.93 Q2130.54 1380.93 2128.59 1383.61 Q2126.67 1386.28 2126.67 1390.97 Z\" fill=\"#000000\" fill-rule=\"evenodd\" fill-opacity=\"1\" /><path clip-path=\"url(#clip860)\" d=\"M2169.24 1381.97 Q2168.52 1381.55 2167.67 1381.37 Q2166.83 1381.16 2165.81 1381.16 Q2162.2 1381.16 2160.26 1383.52 Q2158.34 1385.86 2158.34 1390.26 L2158.34 1403.91 L2154.05 1403.91 L2154.05 1377.99 L2158.34 1377.99 L2158.34 1382.02 Q2159.68 1379.66 2161.83 1378.52 Q2163.99 1377.36 2167.06 1377.36 Q2167.5 1377.36 2168.04 1377.43 Q2168.57 1377.48 2169.22 1377.6 L2169.24 1381.97 Z\" fill=\"#000000\" fill-rule=\"evenodd\" fill-opacity=\"1\" /><path clip-path=\"url(#clip860)\" d=\"M2185.49 1390.88 Q2180.33 1390.88 2178.34 1392.06 Q2176.35 1393.24 2176.35 1396.09 Q2176.35 1398.36 2177.83 1399.7 Q2179.33 1401.02 2181.9 1401.02 Q2185.44 1401.02 2187.57 1398.52 Q2189.73 1396 2189.73 1391.83 L2189.73 1390.88 L2185.49 1390.88 M2193.99 1389.12 L2193.99 1403.91 L2189.73 1403.91 L2189.73 1399.98 Q2188.27 1402.34 2186.09 1403.47 Q2183.92 1404.59 2180.77 1404.59 Q2176.79 1404.59 2174.43 1402.36 Q2172.09 1400.12 2172.09 1396.37 Q2172.09 1391.99 2175 1389.77 Q2177.94 1387.55 2183.75 1387.55 L2189.73 1387.55 L2189.73 1387.13 Q2189.73 1384.19 2187.78 1382.6 Q2185.86 1380.97 2182.36 1380.97 Q2180.14 1380.97 2178.04 1381.51 Q2175.93 1382.04 2173.99 1383.1 L2173.99 1379.17 Q2176.32 1378.27 2178.52 1377.83 Q2180.72 1377.36 2182.8 1377.36 Q2188.43 1377.36 2191.21 1380.28 Q2193.99 1383.2 2193.99 1389.12 Z\" fill=\"#000000\" fill-rule=\"evenodd\" fill-opacity=\"1\" /><path clip-path=\"url(#clip860)\" d=\"M2206.97 1370.63 L2206.97 1377.99 L2215.74 1377.99 L2215.74 1381.3 L2206.97 1381.3 L2206.97 1395.37 Q2206.97 1398.54 2207.83 1399.45 Q2208.71 1400.35 2211.37 1400.35 L2215.74 1400.35 L2215.74 1403.91 L2211.37 1403.91 Q2206.44 1403.91 2204.56 1402.09 Q2202.69 1400.23 2202.69 1395.37 L2202.69 1381.3 L2199.56 1381.3 L2199.56 1377.99 L2202.69 1377.99 L2202.69 1370.63 L2206.97 1370.63 Z\" fill=\"#000000\" fill-rule=\"evenodd\" fill-opacity=\"1\" /><path clip-path=\"url(#clip860)\" d=\"M2221.35 1377.99 L2225.61 1377.99 L2225.61 1403.91 L2221.35 1403.91 L2221.35 1377.99 M2221.35 1367.9 L2225.61 1367.9 L2225.61 1373.29 L2221.35 1373.29 L2221.35 1367.9 Z\" fill=\"#000000\" fill-rule=\"evenodd\" fill-opacity=\"1\" /><path clip-path=\"url(#clip860)\" d=\"M2253.17 1378.98 L2253.17 1382.97 Q2251.37 1381.97 2249.54 1381.48 Q2247.73 1380.97 2245.88 1380.97 Q2241.74 1380.97 2239.45 1383.61 Q2237.16 1386.23 2237.16 1390.97 Q2237.16 1395.72 2239.45 1398.36 Q2241.74 1400.97 2245.88 1400.97 Q2247.73 1400.97 2249.54 1400.49 Q2251.37 1399.98 2253.17 1398.98 L2253.17 1402.92 Q2251.39 1403.75 2249.47 1404.17 Q2247.57 1404.59 2245.42 1404.59 Q2239.56 1404.59 2236.11 1400.91 Q2232.67 1397.22 2232.67 1390.97 Q2232.67 1384.63 2236.14 1381 Q2239.63 1377.36 2245.7 1377.36 Q2247.67 1377.36 2249.54 1377.78 Q2251.42 1378.17 2253.17 1378.98 Z\" fill=\"#000000\" fill-rule=\"evenodd\" fill-opacity=\"1\" /></svg>\n"
      ]
     },
     "execution_count": 3,
     "metadata": {},
     "output_type": "execute_result"
    }
   ],
   "source": [
    "p = x -> p₀ + p₁*x + p₂*x^2\n",
    "\n",
    "scatter(x, f; label=\"samples\", legend=:bottomright)\n",
    "plot!(x, p.(x); label=\"quadratic\")"
   ]
  },
  {
   "cell_type": "markdown",
   "metadata": {},
   "source": [
    "Note that `\\` with a rectangular system does least squares by default:"
   ]
  },
  {
   "cell_type": "code",
   "execution_count": 4,
   "metadata": {
    "execution": {
     "iopub.execute_input": "2023-02-14T21:37:14.820943Z",
     "iopub.status.busy": "2023-02-14T21:37:14.820381Z",
     "iopub.status.idle": "2023-02-14T21:37:14.824107Z",
     "shell.execute_reply": "2023-02-14T21:37:14.823523Z"
    }
   },
   "outputs": [
    {
     "data": {
      "text/plain": [
       "3-element Vector{Float64}:\n",
       " 1.9901122579017727\n",
       " 1.1140766541071334\n",
       " 1.8678586099861365"
      ]
     },
     "execution_count": 4,
     "metadata": {},
     "output_type": "execute_result"
    }
   ],
   "source": [
    "A \\ f"
   ]
  },
  {
   "cell_type": "markdown",
   "metadata": {},
   "source": [
    "## 2. Reduced QR and Gram–Schmidt\n",
    "\n",
    "\n",
    "How do we compute the QR decomposition? We begin with a method\n",
    "you may have seen before in another guise. Write\n",
    "$$\n",
    "A = \\begin{bmatrix} 𝐚_1 | ⋯ | 𝐚_n \\end{bmatrix}\n",
    "$$\n",
    "where $𝐚_k ∈  ℂ^m$ and assume they are linearly independent ($A$ has full column rank).\n",
    "\n",
    "\n",
    "**Proposition 1 (Column spaces match)** Suppose $A = Q̂  R̂$ where $Q̂ = [𝐪_1,…,𝐪_n]$\n",
    "has orthogonal columns and $R̂$ is upper-triangular, and $A$ has full rank.\n",
    "Then the first $j$ columns of\n",
    "$Q̂$ span the same space as the first $j$ columns of $A$:\n",
    "$$\n",
    "\\hbox{span}(𝐚_1,…,𝐚_j) = \\hbox{span}(𝐪_1,…,𝐪_j).\n",
    "$$\n",
    "\n",
    "**Proof***\n",
    "\n",
    "Because $A$ has full rank we know $R̂$ is invertible, i.e. its diagonal entries do not vanish: $r_{jj} ≠ 0$.\n",
    "If $𝐯 ∈ \\hbox{span}(𝐚_1,…,𝐚_j)$ we have for $𝐜 ∈ ℂ^j$\n",
    "$$\n",
    "𝐯 = \\begin{bmatrix} 𝐚_1 | ⋯ | 𝐚_j \\end{bmatrix} 𝐜 = \n",
    "\\begin{bmatrix} 𝐪_1 | ⋯ | 𝐪_j \\end{bmatrix}  R̂[1:j,1:j] 𝐜 ∈ \\hbox{span}(𝐪_1,…,𝐪_j)\n",
    "$$\n",
    " while if $𝐰 ∈ \\hbox{span}(𝐪_1,…,𝐪_j)$ we have for $𝐝 ∈ ℝ^j$\n",
    "$$\n",
    "𝐰 = \\begin{bmatrix} 𝐪_1 | ⋯ | 𝐪_j \\end{bmatrix} 𝐝  =  \\begin{bmatrix} 𝐚_1 | ⋯ | 𝐚_j \\end{bmatrix} R̂[1:j,1:j]^{-1} 𝐝 ∈  \\hbox{span}(𝐚_1,…,𝐚_j).\n",
    "$$\n",
    "\n",
    "∎\n",
    "\n",
    " \n",
    "It is possible to find $Q̂$ and $R̂$ the  using the _Gram–Schmidt algorithm_.\n",
    "We construct it column-by-column:\n",
    "\n",
    "**Algorithm 1 (Gram–Schmidt)** For $j = 1, 2, …, n$ define\n",
    "$$\n",
    "\\begin{align*}\n",
    "𝐯_j &:= 𝐚_j - ∑_{k=1}^{j-1} \\underbrace{𝐪_k^⋆ 𝐚_j}_{r_{kj}} 𝐪_k \\\\\n",
    "r_{jj} &:= {\\|𝐯_j\\|} \\\\\n",
    "𝐪_j &:= {𝐯_j \\over r_{jj}}\n",
    "\\end{align*}\n",
    "$$\n",
    "\n",
    "**Theorem 2 (Gram–Schmidt and reduced QR)** Define $𝐪_j$ and $r_{kj}$ as in Algorithm 1\n",
    "(with $r_{kj} = 0$ if $k > j$). Then a reduced QR decomposition is given by:\n",
    "$$\n",
    "A = \\underbrace{\\begin{bmatrix} 𝐪_1 | ⋯ | 𝐪_n \\end{bmatrix}}_{ Q̂ ∈ ℂ^{m × n}} \\underbrace{\\begin{bmatrix} r_{11} & ⋯ & r_{1n} \\\\ & ⋱ & ⋮ \\\\ && r_{nn}  \\end{bmatrix}}_{R̂ ∈ ℂ^{n × n}}\n",
    "$$\n",
    "\n",
    "**Proof**\n",
    "\n",
    "We first show that $Q̂$ has orthogonal columns. Assume that $𝐪_ℓ^⋆ 𝐪_k = δ_{ℓk}$ for $k,ℓ < j$. \n",
    "For $ℓ < j$ we then have\n",
    "$$\n",
    "𝐪_ℓ^⋆ 𝐯_j = 𝐪_ℓ^⋆ 𝐚_j - ∑_{k=1}^{j-1}  𝐪_ℓ^⋆𝐪_k 𝐪_k^⋆ 𝐚_j = 0\n",
    "$$\n",
    "hence $𝐪_ℓ^⋆ 𝐪_j = 0$ and indeed $Q̂$ has orthogonal columns. Further: from the definition of $𝐯_j$ we find\n",
    "$$\n",
    "𝐚_j = 𝐯_j + ∑_{k=1}^{j-1} r_{kj} 𝐪_k = ∑_{k=1}^j r_{kj} 𝐪_k  = Q̂ R̂ 𝐞_j\n",
    "$$\n",
    "\n",
    "∎\n",
    "\n",
    "### Gram–Schmidt in action\n",
    "\n",
    "We are going to compute the reduced QR of a random matrix"
   ]
  },
  {
   "cell_type": "code",
   "execution_count": 5,
   "metadata": {
    "execution": {
     "iopub.execute_input": "2023-02-14T21:37:14.826553Z",
     "iopub.status.busy": "2023-02-14T21:37:14.825975Z",
     "iopub.status.idle": "2023-02-14T21:37:15.678998Z",
     "shell.execute_reply": "2023-02-14T21:37:15.678562Z"
    }
   },
   "outputs": [
    {
     "data": {
      "text/plain": [
       "5×4 Matrix{Float64}:\n",
       " -0.66189    0.274854   0.449252    0.266574\n",
       " -0.213626   0.025585  -0.705118   -0.359745\n",
       "  0.617925   0.268649  -0.0761771   0.559392\n",
       " -0.0974395  0.872375  -0.261677   -0.00503793\n",
       "  0.353468   0.300982   0.476134   -0.697551"
      ]
     },
     "execution_count": 5,
     "metadata": {},
     "output_type": "execute_result"
    }
   ],
   "source": [
    "m,n = 5,4\n",
    "A = randn(m,n)\n",
    "Q,R̂ = qr(A)\n",
    "Q̂ = Q[:,1:n]"
   ]
  },
  {
   "cell_type": "markdown",
   "metadata": {},
   "source": [
    "The first column of `Q̂` is indeed a normalised first column of `A`:"
   ]
  },
  {
   "cell_type": "code",
   "execution_count": 6,
   "metadata": {
    "execution": {
     "iopub.execute_input": "2023-02-14T21:37:15.681127Z",
     "iopub.status.busy": "2023-02-14T21:37:15.680566Z",
     "iopub.status.idle": "2023-02-14T21:37:15.892722Z",
     "shell.execute_reply": "2023-02-14T21:37:15.892228Z"
    }
   },
   "outputs": [
    {
     "data": {
      "text/plain": [
       "5-element Vector{Float64}:\n",
       " -0.6618900238556986\n",
       " -0.21362614641500013\n",
       "  0.6179251657887606\n",
       " -0.09743951379725943\n",
       "  0.3534678154005909"
      ]
     },
     "execution_count": 6,
     "metadata": {},
     "output_type": "execute_result"
    }
   ],
   "source": [
    "R = zeros(n,n)\n",
    "Q = zeros(m,n)\n",
    "R[1,1] = norm(A[:,1])\n",
    "Q[:,1] = A[:,1]/R[1,1]"
   ]
  },
  {
   "cell_type": "markdown",
   "metadata": {},
   "source": [
    "We now determine the next entries as"
   ]
  },
  {
   "cell_type": "code",
   "execution_count": 7,
   "metadata": {
    "execution": {
     "iopub.execute_input": "2023-02-14T21:37:15.894866Z",
     "iopub.status.busy": "2023-02-14T21:37:15.894288Z",
     "iopub.status.idle": "2023-02-14T21:37:15.996221Z",
     "shell.execute_reply": "2023-02-14T21:37:15.995786Z"
    }
   },
   "outputs": [
    {
     "data": {
      "text/plain": [
       "5-element Vector{Float64}:\n",
       " 0.274853888078673\n",
       " 0.025585016192607418\n",
       " 0.26864917904156027\n",
       " 0.8723750921763671\n",
       " 0.30098183384555094"
      ]
     },
     "execution_count": 7,
     "metadata": {},
     "output_type": "execute_result"
    }
   ],
   "source": [
    "R[1,2] = Q[:,1]'A[:,2]\n",
    "v = A[:,2] - Q[:,1]*R[1,2]\n",
    "R[2,2] = norm(v)\n",
    "Q[:,2] = v/R[2,2]"
   ]
  },
  {
   "cell_type": "markdown",
   "metadata": {},
   "source": [
    "And the third column is then:"
   ]
  },
  {
   "cell_type": "code",
   "execution_count": 8,
   "metadata": {
    "execution": {
     "iopub.execute_input": "2023-02-14T21:37:15.998369Z",
     "iopub.status.busy": "2023-02-14T21:37:15.997812Z",
     "iopub.status.idle": "2023-02-14T21:37:16.036068Z",
     "shell.execute_reply": "2023-02-14T21:37:16.035630Z"
    }
   },
   "outputs": [
    {
     "data": {
      "text/plain": [
       "5-element Vector{Float64}:\n",
       " -0.44925212290070093\n",
       "  0.7051178932572537\n",
       "  0.0761771226316729\n",
       "  0.2616774554203445\n",
       " -0.4761336387926799"
      ]
     },
     "execution_count": 8,
     "metadata": {},
     "output_type": "execute_result"
    }
   ],
   "source": [
    "R[1,3] = Q[:,1]'A[:,3]\n",
    "R[2,3] = Q[:,2]'A[:,3]\n",
    "v = A[:,3] - Q[:,1:2]*R[1:2,3]\n",
    "R[3,3] = norm(v)\n",
    "Q[:,3] = v/R[3,3]"
   ]
  },
  {
   "cell_type": "markdown",
   "metadata": {},
   "source": [
    "(Note the signs may not necessarily match.)\n",
    "\n",
    "We can clean this up as a simple algorithm:"
   ]
  },
  {
   "cell_type": "code",
   "execution_count": 9,
   "metadata": {
    "execution": {
     "iopub.execute_input": "2023-02-14T21:37:16.038267Z",
     "iopub.status.busy": "2023-02-14T21:37:16.037695Z",
     "iopub.status.idle": "2023-02-14T21:37:17.215434Z",
     "shell.execute_reply": "2023-02-14T21:37:17.215000Z"
    }
   },
   "outputs": [
    {
     "data": {
      "text/plain": [
       "1.1464934308770758e-16"
      ]
     },
     "execution_count": 9,
     "metadata": {},
     "output_type": "execute_result"
    }
   ],
   "source": [
    "function gramschmidt(A)\n",
    "    m,n = size(A)\n",
    "    m ≥ n || error(\"Not supported\")\n",
    "    R = zeros(n,n)\n",
    "    Q = zeros(m,n)\n",
    "    for j = 1:n\n",
    "        for k = 1:j-1\n",
    "            R[k,j] = Q[:,k]'*A[:,j]\n",
    "        end\n",
    "        v = A[:,j] - Q[:,1:j-1]*R[1:j-1,j]\n",
    "        R[j,j] = norm(v)\n",
    "        Q[:,j] = v/R[j,j]\n",
    "    end\n",
    "    Q,R\n",
    "end\n",
    "\n",
    "Q,R = gramschmidt(A)\n",
    "norm(A - Q*R)"
   ]
  },
  {
   "cell_type": "markdown",
   "metadata": {},
   "source": [
    "### Complexity and stability\n",
    "\n",
    "We see within the `for j = 1:n` loop that we have $O(mj)$ operations. Thus the \n",
    "total complexity is $O(m n^2)$ operations.\n",
    "\n",
    "\n",
    "Unfortunately, the Gram–Schmidt algorithm is _unstable_: the rounding errors when implemented in floating point\n",
    "accumulate in a way that we lose orthogonality:"
   ]
  },
  {
   "cell_type": "code",
   "execution_count": 10,
   "metadata": {
    "execution": {
     "iopub.execute_input": "2023-02-14T21:37:17.217912Z",
     "iopub.status.busy": "2023-02-14T21:37:17.217086Z",
     "iopub.status.idle": "2023-02-14T21:37:17.584984Z",
     "shell.execute_reply": "2023-02-14T21:37:17.584478Z"
    }
   },
   "outputs": [
    {
     "data": {
      "text/plain": [
       "1.051592589030349e-12"
      ]
     },
     "execution_count": 10,
     "metadata": {},
     "output_type": "execute_result"
    }
   ],
   "source": [
    "A = randn(300,300)\n",
    "Q,R = gramschmidt(A)\n",
    "norm(Q'Q-I)"
   ]
  },
  {
   "cell_type": "markdown",
   "metadata": {},
   "source": [
    "## 3. Householder reflections and QR\n",
    "\n",
    "As an alternative, we will consider using Householder reflections to introduce zeros below\n",
    "the diagonal.\n",
    "Thus, if Gram–Schmidt is a process of _triangular orthogonalisation_ (using triangular matrices\n",
    "to orthogonalise), Householder reflections is a process of _orthogonal triangularisation_ \n",
    "(using orthogonal matrices to triangularise).\n",
    "\n",
    "Consider multiplication by the Householder reflection corresponding to the first column,\n",
    "that is, for\n",
    "$$\n",
    "Q_1 := Q_{𝐚_1}^{\\rm H},\n",
    "$$\n",
    "consider\n",
    "$$\n",
    "Q_1 A = \\begin{bmatrix} × & × & ⋯ & × \\\\\n",
    "& × & ⋯ & × \\\\\n",
    "                    & ⋮ & ⋱ & ⋮ \\\\\n",
    "                    & × & ⋯ & × \\end{bmatrix} = \n",
    "\\begin{bmatrix}  α_1 & 𝐰_1^⊤ \\\\ \n",
    "& A_2   \\end{bmatrix}\n",
    "$$\n",
    "where \n",
    "$$\n",
    "α_1 := -α_1\\|𝐚_1\\|, 𝐰 = (Q_1 A)[1, 2:n]  \\qquad \\hbox{and} \\qquad A_2 = (Q_1 A)[2:m, 2:n],\n",
    "$$\n",
    "where $α_1 = {\\rm e}^{{\\rm i} \\arg a_{11}}$.\n",
    "That is, we have made the first column triangular.\n",
    "We can apply this same step to $A_2$ to make its first column triangular.\n",
    "The inductive construction is thus clear.\n",
    "\n",
    "**Algorithm 2 (QR via Householder)**\n",
    "Let $A_1 = A$. For $j = 1,2, …,n$ define\n",
    "$$\n",
    "\\begin{align*}\n",
    "𝐛_j &:= A_j[1:n-j+1,1] \\\\\n",
    "Q_j &:= Q_{𝐛_j}^{\\rm H} \\\\\n",
    "α_j &:= {\\rm e}^{{\\rm i} \\arg 𝐛_j[1]} \\\\\n",
    "r_{jj} &:=  -α_j \\| 𝐛_j \\| \\\\\n",
    "𝐰_j &:= (Q_k A_k)[1,2:n-j+1] \\\\\n",
    "A_{j+1} &:= (Q_jA_j)[2:m-j+1,2:n-j+1]\n",
    "\\end{align*}\n",
    "$$\n",
    "Then for\n",
    "$$\n",
    "Q̃_j := \\begin{bmatrix} I_{j-1} \\\\ & Q_j \\end{bmatrix}\n",
    "$$\n",
    "we define $Q := Q̃_1 ⋯ Q̃_n$ and $R$ has entries $r_{kj} :=𝐰_k[j]$ for $k < j$.\n",
    "\n",
    "\n",
    "Corresponding to this algorithm is a proof by induction that evey\n",
    "matrix has a QR factorisation:\n",
    "\n",
    "**Theorem 3 (QR)** \n",
    "Every matrix $A ∈ ℂ^{m × n}$ has a QR factorisation:\n",
    "$$\n",
    "A = QR\n",
    "$$\n",
    "where $Q ∈ U(m)$ and $R ∈ ℂ^{m × n}$ is right triangular.\n",
    "\n",
    "**Proof**\n",
    "\n",
    "Assume $m ≥ n$. If $A = [𝐚_1] ∈ ℂ^{m × 1}$ then we have for the Householder\n",
    "reflection $Q_1 = Q_{𝐚_1}^{\\rm H}$\n",
    "$$\n",
    "Q_1 A = [-α_1 \\|𝐚_1\\| 𝐞_1]\n",
    "$$\n",
    "which is right triangular, where $α_1 = {\\rm e}^{{\\rm i} \\arg a_{11}}$. In other words \n",
    "$$\n",
    "A = \\underbrace{Q_1}_Q \\underbrace{[-α_1 \\|𝐚_1\\| 𝐞_1]}_R.\n",
    "$$\n",
    "\n",
    "We now prove by induction. For $A = [𝐚_1|…|𝐚_n] ∈ ℂ^{m × n}$ and $Q_1 = Q_{𝐚_1}^{\\rm H}$ we have\n",
    "$$\n",
    "Q_1 A =  \\begin{bmatrix} -α_1 \\|𝐚_1\\| & 𝐰_1^⊤ \\\\ & A_2 \\end{bmatrix}\n",
    "$$\n",
    "where $A_2 = (Q_1 A)[2:m,2:n]$ and $𝐰_1 = (Q_1 A)[1,2:n]$. By assumption $A_2 = Q_2 R_2$. Thus we have\n",
    "$$\n",
    "\\begin{align*}\n",
    "A = Q_1 \\begin{bmatrix} -α_1 \\|𝐚_1\\| & 𝐰_1^⊤ \\\\ & Q_2 R_2 \\end{bmatrix} \\\\\n",
    "=\\underbrace{Q_1 \\begin{bmatrix} 1 \\\\ & Q_2 \\end{bmatrix}}_Q  \\underbrace{\\begin{bmatrix} -α_1 \\|𝐚_1\\| & 𝐰_1^⊤ \\\\ &  R_2 \\end{bmatrix}}_R.\n",
    "\\end{align*}\n",
    "$$\n",
    "\n",
    "∎\n",
    "\n",
    "The implementation is clearer. We do a naive implementation here:"
   ]
  },
  {
   "cell_type": "code",
   "execution_count": 11,
   "metadata": {
    "execution": {
     "iopub.execute_input": "2023-02-14T21:37:17.587483Z",
     "iopub.status.busy": "2023-02-14T21:37:17.586831Z",
     "iopub.status.idle": "2023-02-14T21:37:18.044507Z",
     "shell.execute_reply": "2023-02-14T21:37:18.044073Z"
    }
   },
   "outputs": [
    {
     "data": {
      "text/plain": [
       "true"
      ]
     },
     "execution_count": 11,
     "metadata": {},
     "output_type": "execute_result"
    }
   ],
   "source": [
    "function householderreflection(x)\n",
    "    y = copy(x)\n",
    "    # we cannot use sign(x[1]) in case x[1] == 0\n",
    "    y[1] += (x[1] ≥ 0 ? 1 : -1)*norm(x) \n",
    "    w = y/norm(y)\n",
    "    I - 2*w*w'\n",
    "end\n",
    "function householderqr(A)\n",
    "    m,n = size(A)\n",
    "    R = copy(A)\n",
    "    Q = Matrix(1.0I, m, m)\n",
    "    for j = 1:n\n",
    "        Qⱼ = householderreflection(R[j:end,j])\n",
    "        R[j:end,:] = Qⱼ*R[j:end,:]\n",
    "        Q[:,j:end] = Q[:,j:end]*Qⱼ\n",
    "    end\n",
    "    Q,R\n",
    "end\n",
    "\n",
    "m,n = 7,5\n",
    "A = randn(m, n)\n",
    "Q,R = householderqr(A)\n",
    "Q*R ≈ A"
   ]
  },
  {
   "cell_type": "markdown",
   "metadata": {},
   "source": [
    "Note because we are forming a full matrix representation of each Householder\n",
    "reflection this is a slow algorithm, taking $O(n^4)$ operations. The problem sheet\n",
    "will consider a better implementation that takes $O(n^3)$ operations.\n",
    "\n",
    "\n",
    "**Example 2** We will now do an example by hand. Consider the $4 × 3$ matrix\n",
    "$$\n",
    "A = \\begin{bmatrix} \n",
    "4 & 2 & -1 \\\\ \n",
    "0 & 15 & 18 \\\\\n",
    "-2 & -4 & -4 \\\\\n",
    "-2 & -4 & -10\n",
    "\\end{bmatrix}\n",
    "$$\n",
    "For the first column we have\n",
    "$$\n",
    "Q_1 = I - {1 \\over 12} \\begin{bmatrix} 4 \\\\ 0 \\\\ -2 \\\\ -2 \\end{bmatrix} \\begin{bmatrix} 4 & 0 & -2 & -2 \\end{bmatrix} =\n",
    "{1 \\over 3} \\begin{bmatrix}\n",
    "-1 & 0 & 2 & 2 \\\\\n",
    "0 & 3 & 0 & 0 \\\\\n",
    "2 & 0 & 2 & -1 \\\\\n",
    "2 & 0 & -1 &2\n",
    "\\end{bmatrix}\n",
    "$$\n",
    "so that\n",
    "$$\n",
    "Q_1 A = \\begin{bmatrix} -3 & -6 & -9 \\\\\n",
    " & 15 & 18 \\\\\n",
    "  & 0 & 0 \\\\\n",
    "& 0 & -6\n",
    "\\end{bmatrix}\n",
    "$$\n",
    "In this example the next column is already upper-triangular,\n",
    "but because of our choice of reflection we will end up swapping the sign, that is\n",
    "$$\n",
    "Q_2 = \\begin{bmatrix} 1 \\\\ & -1 \\\\ && 1 \\\\ &&& 1 \\end{bmatrix}\n",
    "$$\n",
    "so that\n",
    "$$\n",
    "Q_2 Q_1 A = \\begin{bmatrix} -3 & -6 & -9 \\\\\n",
    " & -15 & -18 \\\\\n",
    "  & 0 & 0 \\\\\n",
    "& 0 & -6\n",
    "\\end{bmatrix}\n",
    "$$\n",
    "The final reflection is\n",
    "$$\n",
    "Q_3 = \\begin{bmatrix} I_{2 × 2} \\\\ &  I - \\begin{bmatrix} 1 \\\\ -1 \\end{bmatrix} \\begin{bmatrix} 1 & -1 \\end{bmatrix} \n",
    "\\end{bmatrix} = \\begin{bmatrix} å1 \\\\ & 1 \\\\ & & 0 & 1 \\\\ & & 1 & 0 \\end{bmatrix}\n",
    "$$\n",
    "giving us\n",
    "$$\n",
    "Q_3 Q_2 Q_1 A = \\underbrace{\\begin{bmatrix} -3 & -6 & -9 \\\\\n",
    " & -15 & -18 \\\\\n",
    "  &  & -6 \\\\\n",
    "&  & 0\n",
    "\\end{bmatrix}}_R\n",
    "$$\n",
    "That is,\n",
    "$$\n",
    "A = Q_1 Q_2 Q_3 R = \\underbrace{{1 \\over 3} \\begin{bmatrix}\n",
    "-1 & 0 & 2 & 2 \\\\\n",
    "0 & 3 & 0 & 0 \\\\\n",
    "2 & 0 & -1 & 2 \\\\\n",
    "2 & 0 & 2 &-1\n",
    "\\end{bmatrix}}_Q \\underbrace{\\begin{bmatrix} -3 & -6 & -9 \\\\\n",
    " & -15 & -18 \\\\\n",
    "  &  & -6 \\\\\n",
    "&  & 0\n",
    "\\end{bmatrix}}_R = \\underbrace{{1 \\over 3} \\begin{bmatrix}\n",
    "-1 & 0 & 2  \\\\\n",
    "0 & 3 & 0  \\\\\n",
    "2 & 0 & -1  \\\\\n",
    "2 & 0 & 2 \n",
    "\\end{bmatrix}}_Q̂  \\underbrace{\\begin{bmatrix} -3 & -6 & -9 \\\\\n",
    " & -15 & -18 \\\\\n",
    "  &  & -6 \n",
    "\\end{bmatrix}}_R̂\n",
    "$$"
   ]
  }
 ],
 "metadata": {
  "kernelspec": {
   "display_name": "Julia 1.8.3",
   "language": "julia",
   "name": "julia-1.8"
  },
  "language_info": {
   "file_extension": ".jl",
   "mimetype": "application/julia",
   "name": "julia",
   "version": "1.8.3"
  }
 },
 "nbformat": 4,
 "nbformat_minor": 2
}
