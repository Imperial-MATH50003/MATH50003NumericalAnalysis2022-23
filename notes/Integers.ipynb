{
 "cells": [
  {
   "cell_type": "markdown",
   "metadata": {},
   "source": [
    "# I.1 Integers\n",
    "\n",
    "\n",
    "In this chapter we discuss the following:\n",
    "\n",
    "1. Binary representation: Any real number can be represented in binary, that is,\n",
    "by an infinite sequence of 0s and 1s (bits). We review  binary representation.\n",
    "2. Unsigned integers:  We discuss how computers represent non-negative integers using only\n",
    "$p$-bits, via [modular arithmetic](https://en.wikipedia.org/wiki/Modular_arithmetic).\n",
    "3. Signed integers: we discuss how negative integers are handled using the [Two's-complement](https://en.wikipedia.org/wiki/Two's_complement) format.\n",
    "4. As an advanced (non-examinable) topic we discuss `BigInt`, which uses variable bit length storage.\n",
    "\n",
    "Before we begin its important to have a basic model of how a computer works. Our simplified model of a computer\n",
    "will consist of a [Central Processing Unit (CPU)](https://en.wikipedia.org/wiki/Central_processing_unit)—the \n",
    "brains of the computer—and [Memory](https://en.wikipedia.org/wiki/Computer_data_storage#Primary_storage)—where \n",
    "data is stored. Inside the CPU there are [registers](https://en.wikipedia.org/wiki/Processor_register),\n",
    "where data is temporarily stored after being loaded from memory, manipulated by the CPU, then stored back to memory. \n",
    "\n",
    "Memory is a sequence of bits: `1`s and `0`s, essentially \"on/off\" switches. These are grouped into bytes, which\n",
    "consist of 8 bits. Each byte has a memory address: a unique number specifying its location in memory. The number\n",
    "of possible addresses is limited by the processor: if a computer has a a $p$-bit CPU then each address is represented\n",
    "by $p$ bits, for a total of $2^p$ addresses (on a modern 64-bit CPU this is $2^{64} ≈ 1.8 \\times 10^{19}$ bytes).\n",
    "Further, each register consists of exactly $p$-bits.\n",
    "\n",
    "A CPU has the following possible operations:\n",
    "\n",
    "1. load data from memory addresses (up to $p$-bits) to a register\n",
    "2. store data from a register to memory addresses (up to $p$-bits)\n",
    "3. Apply some basic functions (\"+\", \"-\", etc.) to the bits in one or two registers\n",
    "and write the result to a register.\n",
    "\n",
    "Mathematically, the important point is CPUs only act on $2^p$ possible sequences of bits at a time.\n",
    "That is, essentially all functions $f$ implemented on a CPU are either of the form\n",
    "$f : ℤ_{2^p} → ℤ_{2^p}$ or  $f : ℤ_{2^p} × ℤ_{2^p} → ℤ_{2^p}$,\n",
    "where we use the following notation:\n",
    "\n",
    "**Definition 1 ($ℤ_m$, signed integers)** Denote the\n",
    "$$\n",
    "ℤ_m := \\{0 , 1 , …, m-1 \\}\n",
    "$$\n",
    "\n",
    "The limitations this imposes on representing integers is substantial. \n",
    "If we have an implementation of $+$, which we shall denote $⊕_m$, how can we possibly represent\n",
    "$m + 1$ in this implementation when the result is above the largest possible integer?\n",
    "\n",
    "The solution that is used is straightforward: the CPU uses modular arithmetic. E.g., we have\n",
    "$$\n",
    "(m-1) ⊕_m 1 = m\\ ({\\rm mod}\\ m) = 0.\n",
    "$$\n",
    "In this chapter we discuss the implications of this approach and how it works with negative numbers.\n",
    "\n",
    "\n",
    "We will use Julia in these notes to explore what is happening as a computer does integer arithmetic.\n",
    "We load an external package\n",
    "which implements functions `printbits` (and `printlnbits`)\n",
    "to print the bits (and with a newline) of numbers in colour:"
   ]
  },
  {
   "cell_type": "code",
   "execution_count": 1,
   "metadata": {
    "execution": {
     "iopub.execute_input": "2023-01-16T16:02:58.223000Z",
     "iopub.status.busy": "2023-01-16T16:02:57.767000Z",
     "iopub.status.idle": "2023-01-16T16:02:58.437000Z",
     "shell.execute_reply": "2023-01-16T16:02:58.389000Z"
    }
   },
   "outputs": [],
   "source": [
    "using ColorBitstring"
   ]
  },
  {
   "cell_type": "markdown",
   "metadata": {},
   "source": [
    "## 1.  Binary representation\n",
    "\n",
    "Any integer can be presented in binary format, that is, a sequence of `0`s and `1`s.\n",
    "\n",
    "**Definition 2 (binary format)**\n",
    "For $B_0,\\ldots,B_p \\in \\{0,1\\}$ denote an integer in _binary format_ by:\n",
    "$$\n",
    "±(B_p\\ldots B_1B_0)_2 := ±\\sum_{k=0}^p B_k 2^k\n",
    "$$\n",
    "\n",
    "\n",
    "\n",
    "**Example 1 (integers in binary)**\n",
    "A simple integer example is $5 = 2^2 + 2^0 = (101)_2$.\n",
    "On the other hand, we write $-5 = -(101)_2$.\n",
    "Another example is $258 = 2^8 + 2 = (1000000010)_2$.\n",
    "\n",
    "\n",
    "\n",
    "## 2. Unsigned Integers\n",
    "\n",
    "\n",
    "Computers represent integers by a finite number of $p$ bits,\n",
    "with $2^p$ possible combinations of 0s and 1s. For _unsigned integers_ (non-negative integers) \n",
    "these bits dictate the first $p$ binary digits: $(B_{p-1}\\ldots B_1B_0)_2$.\n",
    " \n",
    "Integers on a computer follow [modular arithmetic](https://en.wikipedia.org/wiki/Modular_arithmetic):\n",
    "Integers represented with $p$-bits on a computer actually \n",
    "represent elements of ${\\mathbb Z}_{2^p}$ and integer arithmetic on a computer is \n",
    "equivalent to arithmetic modulo $2^p$. We denote modular arithmetic with $m = 2^p$ as follows:\n",
    "$$\n",
    "\\begin{align*}\n",
    "x ⊕_m y &:= (x+y) ({\\rm mod}\\ m) \\\\\n",
    "x ⊖_m y &:= (x-y) ({\\rm mod}\\ m) \\\\\n",
    "x ⊗_m y &:= (x*y) ({\\rm mod}\\ m)\n",
    "\\end{align*}\n",
    "$$\n",
    "When $m$ is implied by context we just write $⊕, ⊖, ⊗$.\n",
    "\n",
    "**Example 2 (arithmetic with  8-bit unsigned integers)** \n",
    "If  arithmetic lies between $0$ and $m = 2^8 = 256$ works as expected. \n",
    "For example,\n",
    "$$\n",
    "\\begin{align*}\n",
    "17 ⊕_{256} 3 = 20 ({\\rm mod}\\ 256) = 20 \\\\\n",
    "17 ⊖_{256} 3 = 14 ({\\rm mod}\\ 256) = 14\n",
    "\\end{align*}\n",
    "$$\n",
    "This can be seen in Julia:"
   ]
  },
  {
   "cell_type": "code",
   "execution_count": 2,
   "metadata": {
    "execution": {
     "iopub.execute_input": "2023-01-16T16:02:58.439000Z",
     "iopub.status.busy": "2023-01-16T16:02:58.439000Z",
     "iopub.status.idle": "2023-01-16T16:02:58.496000Z",
     "shell.execute_reply": "2023-01-16T16:02:58.496000Z"
    }
   },
   "outputs": [
    {
     "name": "stdout",
     "output_type": "stream",
     "text": [
      "\u001b[34m00010001\u001b[0m + \n",
      "\u001b[34m00000011\u001b[0m = \n",
      "\u001b[34m00010100\u001b[0m\n",
      "\u001b[34m00010001\u001b[0m - \n",
      "\u001b[34m00000011\u001b[0m = \n",
      "\u001b[34m00001110\u001b[0m"
     ]
    }
   ],
   "source": [
    "x = UInt8(17)  # An 8-bit representation of the number 255, i.e. with bits 00010001\n",
    "y = UInt8(3)   # An 8-bit representation of the number   1, i.e. with bits 00000011\n",
    "printbits(x); println(\" + \"); printbits(y); println(\" = \")\n",
    "printlnbits(x + y) # + is automatically modular arithmetic\n",
    "printbits(x); println(\" - \"); printbits(y); println(\" = \")\n",
    "printbits(x - y) # - is automatically modular arithmetic"
   ]
  },
  {
   "cell_type": "markdown",
   "metadata": {},
   "source": [
    "**Example 3 (overflow with 8-bit unsigned integers)** If we go beyond the range\n",
    "the result \"wraps around\". For example, with integers we have\n",
    "$$\n",
    "255 + 1 = (11111111)_2 + (00000001)_2 = (100000000)_2 = 256\n",
    "$$\n",
    "However, the result is impossible to store in just 8-bits! \n",
    "So as mentioned instead it treats the integers as elements of ${\\mathbb Z}_{256}$:\n",
    "$$\n",
    "255 ⊕_{256} 1 = 255 + 1 \\ ({\\rm mod}\\ 256) = (00000000)_2 \\ ({\\rm mod}\\ 256) = 0 \\ ({\\rm mod}\\ 256)\n",
    "$$\n",
    "We can see this in  code:"
   ]
  },
  {
   "cell_type": "code",
   "execution_count": 3,
   "metadata": {
    "execution": {
     "iopub.execute_input": "2023-01-16T16:02:58.523000Z",
     "iopub.status.busy": "2023-01-16T16:02:58.523000Z",
     "iopub.status.idle": "2023-01-16T16:02:58.525000Z",
     "shell.execute_reply": "2023-01-16T16:02:58.525000Z"
    }
   },
   "outputs": [
    {
     "name": "stdout",
     "output_type": "stream",
     "text": [
      "\u001b[34m11111111\u001b[0m + \n",
      "\u001b[34m00000001\u001b[0m = \n",
      "\u001b[34m00000000\u001b[0m"
     ]
    }
   ],
   "source": [
    "x = UInt8(255) # An 8-bit representation of the number 255, i.e. with bits 11111111\n",
    "y = UInt8(1)   # An 8-bit representation of the number   1, i.e. with bits 00000001\n",
    "printbits(x); println(\" + \"); printbits(y); println(\" = \")\n",
    "printbits(x + y) # + is automatically modular arithmetic"
   ]
  },
  {
   "cell_type": "markdown",
   "metadata": {},
   "source": [
    "On the other hand, if we go below $0$ we wrap around from above:\n",
    "$$\n",
    "3 ⊖_{256} 5 = -2 ({\\rm mod}\\ 256) = 254 = (11111110)_2\n",
    "$$"
   ]
  },
  {
   "cell_type": "code",
   "execution_count": 4,
   "metadata": {
    "execution": {
     "iopub.execute_input": "2023-01-16T16:02:58.528000Z",
     "iopub.status.busy": "2023-01-16T16:02:58.527000Z",
     "iopub.status.idle": "2023-01-16T16:02:58.530000Z",
     "shell.execute_reply": "2023-01-16T16:02:58.529000Z"
    }
   },
   "outputs": [
    {
     "name": "stdout",
     "output_type": "stream",
     "text": [
      "\u001b[34m00000011\u001b[0m - \n",
      "\u001b[34m00000101\u001b[0m = \n",
      "\u001b[34m11111110\u001b[0m"
     ]
    }
   ],
   "source": [
    "x = UInt8(3) # An 8-bit representation of the number   3, i.e. with bits 00000011\n",
    "y = UInt8(5) # An 8-bit representation of the number   5, i.e. with bits 00000101\n",
    "printbits(x); println(\" - \"); printbits(y); println(\" = \")\n",
    "printbits(x - y) # + is automatically modular arithmetic"
   ]
  },
  {
   "cell_type": "markdown",
   "metadata": {},
   "source": [
    "**Example 4 (multiplication of 8-bit unsigned integers)** \n",
    "Multiplication works similarly: for example,\n",
    "$$\n",
    "254 ⊗_{256} 2 = 254 * 2 \\ ({\\rm mod}\\ 256) = 252 \\ ({\\rm mod}\\ 256) = (11111100)_2 \\ ({\\rm mod}\\ 256)\n",
    "$$\n",
    "We can see this behaviour in code by printing the bits:"
   ]
  },
  {
   "cell_type": "code",
   "execution_count": 5,
   "metadata": {
    "execution": {
     "iopub.execute_input": "2023-01-16T16:02:58.532000Z",
     "iopub.status.busy": "2023-01-16T16:02:58.532000Z",
     "iopub.status.idle": "2023-01-16T16:02:58.536000Z",
     "shell.execute_reply": "2023-01-16T16:02:58.536000Z"
    }
   },
   "outputs": [
    {
     "name": "stdout",
     "output_type": "stream",
     "text": [
      "\u001b[34m11111110\u001b[0m * \n",
      "\u001b[34m00000010\u001b[0m = \n",
      "\u001b[34m11111100\u001b[0m"
     ]
    }
   ],
   "source": [
    "x = UInt8(254) # An 8-bit representation of the number 254, i.e. with bits 11111110\n",
    "y = UInt8(2)   # An 8-bit representation of the number   2, i.e. with bits 00000010\n",
    "printbits(x); println(\" * \"); printbits(y); println(\" = \")\n",
    "printbits(x * y)"
   ]
  },
  {
   "cell_type": "markdown",
   "metadata": {},
   "source": [
    "### Hexadecimal and binary format\n",
    "\n",
    "In Julia unsigned integers are displayed in hexadecimal\n",
    "form: that is, in base-16.\n",
    "Since there are only 10 standard digits (`0-9`) it uses 6 letters (`a–f`) to represent\n",
    "11–16. For example,"
   ]
  },
  {
   "cell_type": "code",
   "execution_count": 6,
   "metadata": {
    "execution": {
     "iopub.execute_input": "2023-01-16T16:02:58.539000Z",
     "iopub.status.busy": "2023-01-16T16:02:58.539000Z",
     "iopub.status.idle": "2023-01-16T16:02:58.936000Z",
     "shell.execute_reply": "2023-01-16T16:02:58.935000Z"
    }
   },
   "outputs": [
    {
     "data": {
      "text/plain": [
       "0xfa"
      ]
     },
     "execution_count": 6,
     "metadata": {},
     "output_type": "execute_result"
    }
   ],
   "source": [
    "UInt8(250)"
   ]
  },
  {
   "cell_type": "markdown",
   "metadata": {},
   "source": [
    "because `f` corresponds to 15 and `a` corresponds to 10, and we have\n",
    "$$\n",
    "15 * 16 + 10 = 250.\n",
    "$$\n",
    "The reason for this is that each hex-digit encodes 4 bits (since 4 bits have $2^4 = 16$ possible\n",
    "values) and hence two hex-digits are encode 1 byte, and thus the digits correspond\n",
    "exactly with how memory is divided into addresses.\n",
    "We can create unsigned integers either by specifying their hex format:"
   ]
  },
  {
   "cell_type": "code",
   "execution_count": 7,
   "metadata": {
    "execution": {
     "iopub.execute_input": "2023-01-16T16:02:58.939000Z",
     "iopub.status.busy": "2023-01-16T16:02:58.938000Z",
     "iopub.status.idle": "2023-01-16T16:02:58.940000Z",
     "shell.execute_reply": "2023-01-16T16:02:58.939000Z"
    }
   },
   "outputs": [
    {
     "data": {
      "text/plain": [
       "0xfa"
      ]
     },
     "execution_count": 7,
     "metadata": {},
     "output_type": "execute_result"
    }
   ],
   "source": [
    "0xfa"
   ]
  },
  {
   "cell_type": "markdown",
   "metadata": {},
   "source": [
    "Alternatively, we can specify their digits.\n",
    "For example, we know $(f)_{16} = 15 = (1111)_2$ and $(a)_{16} = 10 = (1010)_2$ and hence\n",
    "$250 = (fa)_{16} = (11111010)_2$ can be written as"
   ]
  },
  {
   "cell_type": "code",
   "execution_count": 8,
   "metadata": {
    "execution": {
     "iopub.execute_input": "2023-01-16T16:02:58.943000Z",
     "iopub.status.busy": "2023-01-16T16:02:58.943000Z",
     "iopub.status.idle": "2023-01-16T16:02:58.944000Z",
     "shell.execute_reply": "2023-01-16T16:02:58.944000Z"
    }
   },
   "outputs": [
    {
     "data": {
      "text/plain": [
       "0xfa"
      ]
     },
     "execution_count": 8,
     "metadata": {},
     "output_type": "execute_result"
    }
   ],
   "source": [
    "0b11111010"
   ]
  },
  {
   "cell_type": "markdown",
   "metadata": {},
   "source": [
    "## 3. Signed integer\n",
    "\n",
    "Signed integers use the [Two's complemement](https://epubs.siam.org/doi/abs/10.1137/1.9780898718072.ch3)\n",
    "convention. The convention is if the first bit is 1 then the number is negative: the number $2^p - y$\n",
    "is interpreted as $-y$.\n",
    "Thus for $p = 8$ we are interpreting\n",
    "$2^7$ through $2^8-1$ as negative numbers. More precisely:\n",
    "\n",
    "**Definition 3 ($ℤ_{2^p}^s$, unsigned integers)**\n",
    "$$\n",
    "ℤ_{2^p}^s := \\{-2^{p-1} ,…, -1 ,0,1, …, 2^{p-1}-1 \\}\n",
    "$$\n",
    "\n",
    "**Definition 4 (Shifted mod)**\n",
    "Define for $y = x\\ ({\\rm mod}\\ 2^p)$\n",
    "$$\n",
    "x\\ ({\\rm mod}^{\\rm s}\\ 2^p) := \\begin{cases} y & 0 ≤ y ≤ 2^{p-1}-1 \\\\\n",
    "                             y - 2^p & 2^{p-1} ≤ y ≤ 2^p - 1\n",
    "                             \\end{cases}\n",
    "$$\n",
    "\n",
    "Note that if $R_p(x) = x ({\\rm mod}^{\\rm s}\\ 2^p)$ then it can be viewed as a map\n",
    "$R_p : ℤ → ℤ_{2^p}^s$ or a one-to-one map\n",
    "$R_p : ℤ_{2^p} → ℤ_{2^p}^s$ whose inverse is $R_p^{-1}(x) = x \\mod 2^p$. \n",
    "\n",
    "\n",
    "**Example 5 (converting bits to signed integers)** \n",
    "What 8-bit integer has the bits `01001001`? Because the first bit is 0 we know the result is positive.\n",
    "Adding the corresponding decimal places we get:"
   ]
  },
  {
   "cell_type": "code",
   "execution_count": 9,
   "metadata": {
    "execution": {
     "iopub.execute_input": "2023-01-16T16:02:58.948000Z",
     "iopub.status.busy": "2023-01-16T16:02:58.948000Z",
     "iopub.status.idle": "2023-01-16T16:02:59.120000Z",
     "shell.execute_reply": "2023-01-16T16:02:59.120000Z"
    }
   },
   "outputs": [
    {
     "data": {
      "text/plain": [
       "73"
      ]
     },
     "execution_count": 9,
     "metadata": {},
     "output_type": "execute_result"
    }
   ],
   "source": [
    "2^0 + 2^3 + 2^6"
   ]
  },
  {
   "cell_type": "markdown",
   "metadata": {},
   "source": [
    "What 8-bit (signed) integer has the bits `11001001`? Because the first bit is `1` we know it's a negative \n",
    "number, hence we need to sum the bits but then subtract `2^p`:"
   ]
  },
  {
   "cell_type": "code",
   "execution_count": 10,
   "metadata": {
    "execution": {
     "iopub.execute_input": "2023-01-16T16:02:59.123000Z",
     "iopub.status.busy": "2023-01-16T16:02:59.123000Z",
     "iopub.status.idle": "2023-01-16T16:02:59.129000Z",
     "shell.execute_reply": "2023-01-16T16:02:59.129000Z"
    }
   },
   "outputs": [
    {
     "data": {
      "text/plain": [
       "-55"
      ]
     },
     "execution_count": 10,
     "metadata": {},
     "output_type": "execute_result"
    }
   ],
   "source": [
    "2^0 + 2^3 + 2^6 + 2^7 - 2^8"
   ]
  },
  {
   "cell_type": "markdown",
   "metadata": {},
   "source": [
    "We can check the results using `printbits`:"
   ]
  },
  {
   "cell_type": "code",
   "execution_count": 11,
   "metadata": {
    "execution": {
     "iopub.execute_input": "2023-01-16T16:02:59.132000Z",
     "iopub.status.busy": "2023-01-16T16:02:59.132000Z",
     "iopub.status.idle": "2023-01-16T16:02:59.180000Z",
     "shell.execute_reply": "2023-01-16T16:02:59.179000Z"
    }
   },
   "outputs": [
    {
     "name": "stdout",
     "output_type": "stream",
     "text": [
      "\u001b[31m0\u001b[0m\u001b[34m1001001\u001b[0m\n",
      "\u001b[31m1\u001b[0m\u001b[34m1001001\u001b[0m"
     ]
    }
   ],
   "source": [
    "printlnbits(Int8(73)) # Int8 is an 8-bit representation of the signed integer 73\n",
    "printbits(-Int8(55))"
   ]
  },
  {
   "cell_type": "markdown",
   "metadata": {},
   "source": [
    "Arithmetic works precisely\n",
    "the same for signed and unsigned integers, e.g. we have\n",
    "$$\n",
    "x ⊕_{2^p}^s y := x + y ({\\rm mod}^{\\rm s}\\ 2^p)\n",
    "$$\n",
    "\n",
    "**Example 6 (addition of 8-bit integers)**\n",
    "Consider `(-1) + 1` in 8-bit arithmetic. The number $-1$ has the same bits as\n",
    "$2^8 - 1 = 255$. Thus this is equivalent to the previous question and we get the correct\n",
    "result of `0`. In other words:\n",
    "$$\n",
    "-1 ⊕_{256} 1 = -1 + 1 \\ ({\\rm mod}\\ 2^p) = 2^p-1  + 1 \\ ({\\rm mod}\\ 2^p) = 2^p \\ ({\\rm mod}\\ 2^p) = 0 \\ ({\\rm mod}\\ 2^p)\n",
    "$$\n",
    "\n",
    "\n",
    "**Example 7 (multiplication of 8-bit integers)**\n",
    "Consider `(-2) * 2`. $-2$ has the same bits as $2^{256} - 2 = 254$ and $-4$ has the\n",
    "same bits as $2^{256}-4 = 252$, and hence from the previous example we get the correct result of `-4`.\n",
    "In other words:\n",
    "$$\n",
    "(-2) ⊗_{2^p}^s 2 = (-2) * 2 \\ ({\\rm mod}^{\\rm s}\\ 2^p) = (2^p-2) * 2 \\ ({\\rm mod}^{\\rm s}\\ 2^p) = 2^{p+1}-4 \\ ({\\rm mod}^{\\rm s}\\ 2^p) = -4\n",
    "$$\n",
    "\n",
    "\n",
    "\n",
    "\n",
    "\n",
    "**Example 8 (overflow)** We can find the largest and smallest instances of a type using `typemax` and `typemin`:"
   ]
  },
  {
   "cell_type": "code",
   "execution_count": 12,
   "metadata": {
    "execution": {
     "iopub.execute_input": "2023-01-16T16:02:59.182000Z",
     "iopub.status.busy": "2023-01-16T16:02:59.182000Z",
     "iopub.status.idle": "2023-01-16T16:02:59.183000Z",
     "shell.execute_reply": "2023-01-16T16:02:59.183000Z"
    }
   },
   "outputs": [
    {
     "name": "stdout",
     "output_type": "stream",
     "text": [
      "\u001b[31m0\u001b[0m\u001b[34m1111111\u001b[0m\n",
      "\u001b[31m1\u001b[0m\u001b[34m0000000\u001b[0m"
     ]
    }
   ],
   "source": [
    "printlnbits(typemax(Int8)) # 2^7-1 = 127\n",
    "printbits(typemin(Int8)) # -2^7 = -128"
   ]
  },
  {
   "cell_type": "markdown",
   "metadata": {},
   "source": [
    "As explained, due to modular arithmetic, when we add `1` to the largest 8-bit integer we get the smallest:"
   ]
  },
  {
   "cell_type": "code",
   "execution_count": 13,
   "metadata": {
    "execution": {
     "iopub.execute_input": "2023-01-16T16:02:59.186000Z",
     "iopub.status.busy": "2023-01-16T16:02:59.186000Z",
     "iopub.status.idle": "2023-01-16T16:02:59.378000Z",
     "shell.execute_reply": "2023-01-16T16:02:59.377000Z"
    }
   },
   "outputs": [
    {
     "data": {
      "text/plain": [
       "-128"
      ]
     },
     "execution_count": 13,
     "metadata": {},
     "output_type": "execute_result"
    }
   ],
   "source": [
    "typemax(Int8) + Int8(1) # returns typemin(Int8)"
   ]
  },
  {
   "cell_type": "markdown",
   "metadata": {},
   "source": [
    "This behaviour is often not desired and is known as _overflow_, and one must be wary\n",
    "of using integers close to their largest value.\n",
    "\n",
    "\n",
    "\n",
    "### Division\n",
    "\n",
    " In addition to `+`, `-`, and `*` we have integer division `÷`, which rounds towards zero:"
   ]
  },
  {
   "cell_type": "code",
   "execution_count": 14,
   "metadata": {
    "execution": {
     "iopub.execute_input": "2023-01-16T16:02:59.381000Z",
     "iopub.status.busy": "2023-01-16T16:02:59.381000Z",
     "iopub.status.idle": "2023-01-16T16:02:59.382000Z",
     "shell.execute_reply": "2023-01-16T16:02:59.381000Z"
    }
   },
   "outputs": [
    {
     "data": {
      "text/plain": [
       "2"
      ]
     },
     "execution_count": 14,
     "metadata": {},
     "output_type": "execute_result"
    }
   ],
   "source": [
    "5 ÷ 2 # equivalent to div(5,2)"
   ]
  },
  {
   "cell_type": "markdown",
   "metadata": {},
   "source": [
    "Standard division `/` (or `\\` for division on the right) creates a floating-point number,\n",
    "which will be discussed in the next chapter:"
   ]
  },
  {
   "cell_type": "code",
   "execution_count": 15,
   "metadata": {
    "execution": {
     "iopub.execute_input": "2023-01-16T16:02:59.385000Z",
     "iopub.status.busy": "2023-01-16T16:02:59.385000Z",
     "iopub.status.idle": "2023-01-16T16:02:59.564000Z",
     "shell.execute_reply": "2023-01-16T16:02:59.564000Z"
    }
   },
   "outputs": [
    {
     "data": {
      "text/plain": [
       "2.5"
      ]
     },
     "execution_count": 15,
     "metadata": {},
     "output_type": "execute_result"
    }
   ],
   "source": [
    "5 / 2 # alternatively 2 \\ 5"
   ]
  },
  {
   "cell_type": "markdown",
   "metadata": {},
   "source": [
    "We can also create rational numbers using `//`:"
   ]
  },
  {
   "cell_type": "code",
   "execution_count": 16,
   "metadata": {
    "execution": {
     "iopub.execute_input": "2023-01-16T16:02:59.567000Z",
     "iopub.status.busy": "2023-01-16T16:02:59.567000Z",
     "iopub.status.idle": "2023-01-16T16:02:59.815000Z",
     "shell.execute_reply": "2023-01-16T16:02:59.815000Z"
    }
   },
   "outputs": [
    {
     "data": {
      "text/plain": [
       "5//4"
      ]
     },
     "execution_count": 16,
     "metadata": {},
     "output_type": "execute_result"
    }
   ],
   "source": [
    "(1//2) + (3//4)"
   ]
  },
  {
   "cell_type": "markdown",
   "metadata": {},
   "source": [
    "Rational arithmetic often leads to overflow so it\n",
    "is often best to combine `big` with rationals:"
   ]
  },
  {
   "cell_type": "code",
   "execution_count": 17,
   "metadata": {
    "execution": {
     "iopub.execute_input": "2023-01-16T16:02:59.818000Z",
     "iopub.status.busy": "2023-01-16T16:02:59.818000Z",
     "iopub.status.idle": "2023-01-16T16:03:00.122000Z",
     "shell.execute_reply": "2023-01-16T16:03:00.122000Z"
    }
   },
   "outputs": [
    {
     "data": {
      "text/plain": [
       "26339037835007648477541540//4767804878707544364596461"
      ]
     },
     "execution_count": 17,
     "metadata": {},
     "output_type": "execute_result"
    }
   ],
   "source": [
    "big(102324)//132413023 + 23434545//4243061 + 23434545//42430534435"
   ]
  },
  {
   "cell_type": "markdown",
   "metadata": {},
   "source": [
    "## 4. Variable bit representation (non-examinable)\n",
    "\n",
    "An alternative representation for integers uses a variable number of bits,\n",
    "with the advantage of avoiding overflow but with the disadvantage of a substantial\n",
    "speed penalty. In Julia these are `BigInt`s, which we can create by calling `big` on an\n",
    "integer:"
   ]
  },
  {
   "cell_type": "code",
   "execution_count": 18,
   "metadata": {
    "execution": {
     "iopub.execute_input": "2023-01-16T16:03:00.125000Z",
     "iopub.status.busy": "2023-01-16T16:03:00.125000Z",
     "iopub.status.idle": "2023-01-16T16:03:00.322000Z",
     "shell.execute_reply": "2023-01-16T16:03:00.321000Z"
    }
   },
   "outputs": [
    {
     "data": {
      "text/plain": [
       "9223372036854775808"
      ]
     },
     "execution_count": 18,
     "metadata": {},
     "output_type": "execute_result"
    }
   ],
   "source": [
    "x = typemax(Int64) + big(1) # Too big to be an `Int64`"
   ]
  },
  {
   "cell_type": "markdown",
   "metadata": {},
   "source": [
    "Note in this case addition automatically promotes an `Int64` to a `BigInt`.\n",
    "We can create very large numbers using `BigInt`:"
   ]
  },
  {
   "cell_type": "code",
   "execution_count": 19,
   "metadata": {
    "execution": {
     "iopub.execute_input": "2023-01-16T16:03:00.324000Z",
     "iopub.status.busy": "2023-01-16T16:03:00.324000Z",
     "iopub.status.idle": "2023-01-16T16:03:00.329000Z",
     "shell.execute_reply": "2023-01-16T16:03:00.328000Z"
    }
   },
   "outputs": [
    {
     "data": {
      "text/plain": [
       "3082994025277634745700106821545665721371798533305697458855342277921093731984476404705966539412410898240561729912372038501228893141921080152404642393776599077294434061519905424124601394226943601430916434383714716724720227331596950613701661034548948388721097667275438763758128508403297199458260277707301202460980093818414167080563342761482395862435185093942443540722363151770022221783243959592531336062998494209914752408019060720805124534382646051093613814848646062038662423487504326044361203708430489305864234333801401547140023376295718383390360728662900230671437151716615826286842267917560749586018165739492101920429719261285640125596833063891562865262157026023955919873792846823095854484520920509345944712871675691790827690907778485058829248588945681685288179787963931181062068092463984296225973082494056307958089189726701678735576365394146232076917088075949053636690459581128773097212746967276496496010810878000638239143750075543163240049874489986642327436441234458040254480825038220479904594615300602390556385799245276805580024937804723029319565942013515817048714543455250235208789745701165279569026248145395218985062991831707830217974393158466067785199581037714968820628241051867119832966361530047910339065726550260741036716100932205969655083257714244071120221654679340461084001560321676025443801248355439305974923873624147980728110581452806109011739005060060604228087667499288851218705078807364237925455813890575257569981450090997117697469299234094394984840574025401463942099019413361096233909056117427663439764954916401592565651111571414769257187704568268701243082044838400201357613851006471104244828842270232637747398962711875413488415772647088571125272932490717217468263604683325933469555629785507020775366368002753612709901526248456328209643292122899677436613886360765877886748185299249994921843183573130403496311896614949399409796011301191280067209053259341918813967552543176532349157376"
      ]
     },
     "execution_count": 19,
     "metadata": {},
     "output_type": "execute_result"
    }
   ],
   "source": [
    "x^100"
   ]
  },
  {
   "cell_type": "markdown",
   "metadata": {},
   "source": [
    "Note the number of bits is not fixed, the larger the number, the more bits required \n",
    "to represent it, so while overflow is impossible, it is possible to run out of memory if a number is\n",
    "astronomically large: go ahead and try `x^x` (at your own risk)."
   ]
  }
 ],
 "metadata": {
  "kernelspec": {
   "display_name": "Julia 1.8.3",
   "language": "julia",
   "name": "julia-1.8"
  },
  "language_info": {
   "file_extension": ".jl",
   "mimetype": "application/julia",
   "name": "julia",
   "version": "1.8.3"
  }
 },
 "nbformat": 4,
 "nbformat_minor": 2
}
