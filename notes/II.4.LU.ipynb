{
 "cells": [
  {
   "cell_type": "markdown",
   "metadata": {},
   "source": [
    "# II.4 PLU and Cholesky factorisations\n",
    "\n",
    "In this chapter we consider the following factorisations for square invertible  matrices $A$:\n",
    "1. The _LU factorisation_:\n",
    "$ A = LU$ where $L$ is lower triangular and $U$ is upper triangular. This is equivalent to Gaussian elimination without pivoting,\n",
    "so may not exist (e.g. if $A[1,1] = 0$).\n",
    "1. The _PLU factorisation_:\n",
    "$\n",
    "A = P^⊤ LU\n",
    "$\n",
    "where $P$ is a permutation matrix, $L$ is lower triangular and $U$ is upper triangular. This is equivalent to Gaussian elimination with pivoting.\n",
    "It always exists but may in extremely rare cases be unstable. \n",
    "2. For a real square _symmetric positive definite_ ($A ∈ ℝ^{n × n}$ such that $A^⊤ = A$ and $𝐱^⊤ A 𝐱 > 0$ for all $𝐱 ∈ ℝ^n$, $𝐱 ≠ 0$) \n",
    "matrix the LU decompostion has a special form which is called the _Cholesky factorisation_:\n",
    "$\n",
    "A = L L^⊤\n",
    "$. This provides an algorithmic way to _prove_ that a matrix is symmetric positive definite.\n",
    "3. We also discuss timing and stability of the different factorisations."
   ]
  },
  {
   "cell_type": "code",
   "execution_count": 1,
   "metadata": {
    "execution": {
     "iopub.execute_input": "2023-02-26T11:53:49.738625Z",
     "iopub.status.busy": "2023-02-26T11:53:49.157032Z",
     "iopub.status.idle": "2023-02-26T11:55:04.932249Z",
     "shell.execute_reply": "2023-02-26T11:55:04.931506Z"
    }
   },
   "outputs": [
    {
     "name": "stderr",
     "output_type": "stream",
     "text": [
      "\u001b[36m\u001b[1m[ \u001b[22m\u001b[39m\u001b[36m\u001b[1mInfo: \u001b[22m\u001b[39mPrecompiling Plots [91a5bcdd-55d7-5caf-9e0b-520d859cae80]\n",
      "\u001b[36m\u001b[1m[ \u001b[22m\u001b[39m\u001b[36m\u001b[1mInfo: \u001b[22m\u001b[39mGR\n"
     ]
    }
   ],
   "source": [
    "using LinearAlgebra, Plots, BenchmarkTools"
   ]
  },
  {
   "cell_type": "markdown",
   "metadata": {},
   "source": [
    "## 1. LU Factorisation\n",
    "\n",
    "Just as Gram–Schmidt can be reinterpreted as a reduced QR factorisation,\n",
    "Gaussian elimination  can be interpreted as an LU factorisation. Write a matrix\n",
    "$A ∈ ℂ^{n × n}$ as follows:\n",
    "$$\n",
    "A =  \\begin{bmatrix} α_1 & 𝐰_1^⊤ \\\\ 𝐯_1 & A_2 \\end{bmatrix}\n",
    "$$\n",
    "where $α_1 = a_{11}$, $𝐯_1 = A[2:n, 1]$ and $𝐰_1 = A[1, 2:n]$. Gaussian elimination consists of taking the first row, dividing by\n",
    "$α$ and subtracting from all other rows. That is equivalent to multiplying by a lower triangular matrix:\n",
    "$$\n",
    "\\begin{bmatrix}\n",
    "1 \\\\\n",
    "-𝐯_1/α_1 & I \\end{bmatrix} A = \\begin{bmatrix} α_1 & 𝐰_1^⊤ \\\\  & K -𝐯_1𝐰_1^⊤ /α_1 \\end{bmatrix}\n",
    "$$\n",
    "where $A_2 := K -𝐯_1 𝐰_1^⊤/α_1$  happens to be a rank-1 perturbation of $K$. \n",
    "We can write this another way:\n",
    "$$\n",
    "A = \\underbrace{\\begin{bmatrix}\n",
    "1 \\\\\n",
    "𝐯_1/α_1 & I \\end{bmatrix}}_{L_1}  \\begin{bmatrix} α_1 & 𝐰_1^⊤ \\\\  & A_2 \\end{bmatrix}\n",
    "$$\n",
    "Now assume we continue this process and manage to deduce $A_2 = L_2 U_2$.\n",
    "Then\n",
    "$$\n",
    "A = L_1 \\begin{bmatrix} α_1 & 𝐰_1^⊤ \\\\  & L_2U_2 \\end{bmatrix}\n",
    "= \\underbrace{L_1 \\begin{bmatrix}\n",
    "1 \\\\\n",
    " & L_2 \\end{bmatrix}}_L  \\underbrace{\\begin{bmatrix} α_1 & 𝐰_1^⊤ \\\\  & U_2 \\end{bmatrix}}_U\n",
    "$$\n",
    "Note we can multiply through to find\n",
    "$$\n",
    "L = \\begin{bmatrix}\n",
    "1 \\\\\n",
    "𝐯_1/α_1 & L_2 \\end{bmatrix}\n",
    "$$\n",
    "\n",
    "This procedure implies an algorithm:\n",
    "\n",
    "**Algorithm 1 (LU)**"
   ]
  },
  {
   "cell_type": "code",
   "execution_count": 2,
   "metadata": {
    "execution": {
     "iopub.execute_input": "2023-02-26T11:55:05.117996Z",
     "iopub.status.busy": "2023-02-26T11:55:04.933984Z",
     "iopub.status.idle": "2023-02-26T11:55:07.429270Z",
     "shell.execute_reply": "2023-02-26T11:55:07.427434Z"
    }
   },
   "outputs": [
    {
     "data": {
      "text/plain": [
       "\u001b[32m\u001b[1mTest Passed\u001b[22m\u001b[39m"
      ]
     },
     "execution_count": 2,
     "metadata": {},
     "output_type": "execute_result"
    }
   ],
   "source": [
    "function mylu(A)\n",
    "    n,m = size(A)\n",
    "    if n ≠ m\n",
    "        error(\"Matrix must be square\")\n",
    "    end\n",
    "    T = eltype(A)\n",
    "    L = LowerTriangular(zeros(T,n,n))\n",
    "    U = UpperTriangular(zeros(T,n,n))\n",
    "\n",
    "    σ = Vector(1:n)\n",
    "\n",
    "    Aⱼ = copy(A)\n",
    "\n",
    "    for j = 1:n-1\n",
    "        α,𝐯,𝐰 = Aⱼ[1,1],Aⱼ[2:end,1],Aⱼ[1,2:end]\n",
    "        K = Aⱼ[2:end,2:end]\n",
    "\n",
    "        # populate data\n",
    "        L[j,j] = 1\n",
    "        L[j+1:end,j] = 𝐯/α\n",
    "        U[j,j] = α\n",
    "        U[j,j+1:end] = 𝐰\n",
    "\n",
    "        # this is the \"recursion\": Aⱼ is now the next block\n",
    "        # We use transpose(𝐰) instead of 𝐰' incase 𝐰 is complex\n",
    "        \n",
    "        Aⱼ = K - 𝐯*transpose(𝐰)/α\n",
    "    end\n",
    "    # j = n case\n",
    "    L[n,n] = 1\n",
    "    U[n,n] = Aⱼ[1,1]\n",
    "\n",
    "    L,U\n",
    "end\n",
    "\n",
    "A = randn(5,5) + 100I # need + 100I so that the matrix is (probably) diagonally dominant\n",
    "L,U = mylu(A)\n",
    "@test A ≈ L*U"
   ]
  },
  {
   "cell_type": "markdown",
   "metadata": {},
   "source": [
    "**Example 1 (by-hand)**\n",
    "\n",
    "Consider the matrix\n",
    "$$\n",
    "A = \\begin{bmatrix} 1 & 1 & 1 \\\\\n",
    "                    2 & 4 & 8 \\\\\n",
    "                    1 & 4 & 9\n",
    "                    \\end{bmatrix}\n",
    "$$\n",
    "We  write\n",
    "$$\n",
    "\\begin{align*}\n",
    "A = \\underbrace{\\begin{bmatrix} 1  \\\\\n",
    "                    2 & 1 &  \\\\\n",
    "                    1 &  & 1\n",
    "                    \\end{bmatrix}}_{L_1} \\begin{bmatrix} 1 & 1 & 1 \\\\\n",
    "                    0 & 2 & 6 \\\\\n",
    "                    0 & 3 & 8\n",
    "                    \\end{bmatrix} \n",
    " = L_1 \\underbrace{\\begin{bmatrix} 1  \\\\\n",
    "                     & 1 &  \\\\\n",
    "                     & 3/2 & 1\n",
    "                    \\end{bmatrix}}_{L̃_2} \\begin{bmatrix} 1 & 1 & 1 \\\\\n",
    "                    0 & 2 & 6 \\\\\n",
    "                    0 & 0 & -1\n",
    "                    \\end{bmatrix} \\\\\n",
    "= \\underbrace{\\begin{bmatrix} 1  \\\\\n",
    "                    2 & 1 &  \\\\\n",
    "                    1 & 3/2 & 1\n",
    "                    \\end{bmatrix}}_{L} \\underbrace{\\begin{bmatrix} 1 & 1 & 1 \\\\\n",
    "                    0 & 2 & 6 \\\\\n",
    "                    0 & 0 & -1\n",
    "                    \\end{bmatrix}}_U\n",
    "\\end{align*}\n",
    "$$\n",
    "\n",
    "\n",
    "\n",
    "\n",
    "## 2. PLU Factorisation\n",
    "\n",
    "We learned in first year linear algebra that if a diagonal entry is zero\n",
    "when doing Gaussian elimnation one has to _row pivot_. For stability, \n",
    "in implementation one _always_ pivots: swap the largest in magnitude entry for the entry on the diagonal.\n",
    "\n",
    "We will see this is equivalent to a PLU decomposition:\n",
    "\n",
    "\n",
    "**Theorem 1 (PLU)** A matrix $A ∈ ℂ^{n × n}$ is invertible if and only if it has a PLU decomposition:\n",
    "$$\n",
    "A = P^⊤ L U\n",
    "$$\n",
    "where the diagonal of $L$ are all equal to 1 and the diagonal of $U$ are all non-zero.\n",
    "\n",
    "**Proof**\n",
    "\n",
    "If we have a PLU decomposition of this form then $L$ and $U$ are invertible and hence the inverse is simply $A^{-1} = U^{-1} L^{-1} P$. \n",
    "\n",
    "\n",
    "If $A ∈ ℂ^{1 × 1}$ we trivially have an LU decomposition $A = [1] * [a_{11}]$ as all $1 × 1$ matrices are triangular.\n",
    "We now proceed by induction: assume all invertible matrices of lower dimension have a PLU factorisation.\n",
    "As $A$ is invertible not all entries in the first column are zero. Therefore there exists a permutation\n",
    "$P_1$ so that $α := (P_1 A)[1,1] ≠ 0$. Hence we write\n",
    "$$\n",
    "P_1 A = \\begin{bmatrix} α & 𝐰^⊤ \\\\\n",
    "                        𝐯 & K\n",
    "                        \\end{bmatrix} = \\underbrace{\\begin{bmatrix}\n",
    "1 \\\\\n",
    "𝐯/α & I \\end{bmatrix}}_{L_1}  \\begin{bmatrix} α & 𝐰^⊤ \\\\  & K - 𝐯 𝐰^⊤/α \\end{bmatrix}\n",
    "$$\n",
    "We deduce that $A_2 := K - 𝐯 𝐰^⊤/α$ is invertible because $A$ and $L_1$ are invertible\n",
    "(Exercise).\n",
    "\n",
    "By assumption we can write $A_2 = P̃^⊤ L̃ Ũ$. Thus we have:\n",
    "$$\n",
    "\\begin{align*}\n",
    "\\underbrace{\\begin{bmatrix} 1 \\\\\n",
    "            & P̃ \\end{bmatrix} P_1}_P A &= \\begin{bmatrix} 1 \\\\\n",
    "            & P̃ \\end{bmatrix}  \\begin{bmatrix} α & 𝐰^⊤ \\\\\n",
    "                        𝐯 & A_2\n",
    "                        \\end{bmatrix}  =\n",
    "            \\begin{bmatrix} 1 \\\\ & P̃ \\end{bmatrix} L_1  \\begin{bmatrix} α & 𝐰^⊤ \\\\  & P̃^⊤ L̃  Ũ \\end{bmatrix} \\\\\n",
    "            &= \\begin{bmatrix}\n",
    "1 \\\\\n",
    "P̃ 𝐯/α & P̃ \\end{bmatrix} \\begin{bmatrix} 1 &  \\\\  &  P̃^⊤ L̃  \\end{bmatrix}  \\begin{bmatrix} α & 𝐰^⊤ \\\\  &  Ũ \\end{bmatrix} \\\\\n",
    "&= \\underbrace{\\begin{bmatrix}\n",
    "1 \\\\\n",
    "P̃ 𝐯/α & L̃  \\end{bmatrix}}_L \\underbrace{\\begin{bmatrix} α & 𝐰^⊤ \\\\  &  Ũ \\end{bmatrix}}_U. \\\\\n",
    "\\end{align*}\n",
    "$$\n",
    "\n",
    "∎\n",
    "\n",
    "In the above we neglected to state which permutation is used as for the proof of existence it is immaterial. For _stability_ however, \n",
    "we choose one that puts the largest entry: let $σ_{\\rm max} : ℝ^n → S_n$ be the permutation that swaps the first row with the row\n",
    "of $𝐚$ whose absolute value is maximised.\n",
    "In cycle notation we then have:\n",
    "$$\n",
    "σ_{\\rm max}(𝐚) = (1, {\\rm indmax} |𝐚|)\n",
    "$$\n",
    "where ${\\rm indmax}$ gives the index of the entry of a vector which is its maximum.\n",
    "\n",
    "\n",
    "This inductive proof encodes an  algorithm. Note that in the above, just like in Householder QR,\n",
    "$P̃$ is a product of all permutations that come afterwards, that is, we can think of $P$ as:\n",
    "$$\n",
    "P̃ =  P̃_{n-1} ⋯ P̃_3 P̃_2\\qquad\\hbox{for}\\qquad P̃_j = \\begin{bmatrix} I_{j-2} \\\\ & P_j \\end{bmatrix}\n",
    "$$\n",
    "where $P_j$ is a single permutation corresponding to the first column of $A_j$. \n",
    "That is, we have\n",
    "$$\n",
    "P̃ 𝐯 = P̃_{n-1} ⋯ P̃_3 P̃_2 𝐯.\n",
    "$$\n",
    "\n",
    "\n",
    "**Algorithm 2 (PLU)** This can be implemented in Julia as follows:"
   ]
  },
  {
   "cell_type": "code",
   "execution_count": 3,
   "metadata": {
    "execution": {
     "iopub.execute_input": "2023-02-26T11:55:07.437010Z",
     "iopub.status.busy": "2023-02-26T11:55:07.435668Z",
     "iopub.status.idle": "2023-02-26T11:55:08.303644Z",
     "shell.execute_reply": "2023-02-26T11:55:08.302125Z"
    }
   },
   "outputs": [
    {
     "data": {
      "text/plain": [
       "\u001b[32m\u001b[1mTest Passed\u001b[22m\u001b[39m"
      ]
     },
     "execution_count": 3,
     "metadata": {},
     "output_type": "execute_result"
    }
   ],
   "source": [
    "function σ_max(a)\n",
    "    n = length(a)\n",
    "    mx, ind = findmax(abs.(a)) # finds the index of the maximum entry\n",
    "    if ind == 1\n",
    "        1:n\n",
    "    else\n",
    "        [ind; 2:ind-1; 1; ind+1:n]\n",
    "    end\n",
    "end\n",
    "\n",
    "function plu(A)\n",
    "    n,m = size(A)\n",
    "    if n ≠ m\n",
    "        error(\"Matrix must be square\")\n",
    "    end\n",
    "    T = eltype(A)\n",
    "    L = LowerTriangular(zeros(T,n,n))\n",
    "    U = UpperTriangular(zeros(T,n,n))\n",
    "\n",
    "    σ = Vector(1:n)\n",
    "\n",
    "    Aⱼ = copy(A)\n",
    "\n",
    "    for j = 1:n-1\n",
    "        σ₁ = σ_max(Aⱼ[:,1])\n",
    "        P₁Aⱼ = Aⱼ[σ₁,:] # permute rows of Aⱼ\n",
    "        α,𝐯,𝐰 = P₁Aⱼ[1,1],P₁Aⱼ[2:end,1],P₁Aⱼ[1,2:end]\n",
    "        K = P₁Aⱼ[2:end,2:end]\n",
    "\n",
    "        # populate data\n",
    "        L[j,j] = 1\n",
    "        L[j+1:end,j] = 𝐯/α\n",
    "        U[j,j] = α\n",
    "        U[j,j+1:end] = 𝐰\n",
    "\n",
    "        # apply permutation to previous L\n",
    "        # and compose the permutations\n",
    "        L[j:n,1:j-1] = L[(j:n)[σ₁],1:j-1]\n",
    "        σ[j:n] = σ[j:n][σ₁]\n",
    "\n",
    "        # this is the \"recursion\": Aⱼ is now the next block\n",
    "        # We use transpose(𝐰) instead of 𝐰' incase 𝐰 is complex\n",
    "        Aⱼ = K - 𝐯*transpose(𝐰)/α\n",
    "    end\n",
    "    # j = n case\n",
    "    L[n,n] = 1\n",
    "    U[n,n] = Aⱼ[1,1]\n",
    "\n",
    "    L,U,σ\n",
    "end\n",
    "\n",
    "A = randn(5,5)\n",
    "L,U,σ = plu(A)\n",
    "@test L*U ≈ A[σ,:]"
   ]
  },
  {
   "cell_type": "markdown",
   "metadata": {},
   "source": [
    "**Example 2**\n",
    "\n",
    "Again we consider the matrix\n",
    "$$\n",
    "A = \\begin{bmatrix} 1 & 1 & 1 \\\\\n",
    "                    2 & 4 & 8 \\\\\n",
    "                    1 & 4 & 9\n",
    "                    \\end{bmatrix}\n",
    "$$\n",
    "Even though $a_{11} = 1 ≠ 0$, we still pivot: placing \n",
    "the maximum entry on the diagonal to mitigate numerical errors.\n",
    "That is, we first pivot and upper triangularise the first column:\n",
    "$$\n",
    "  \\underbrace{\\begin{bmatrix} 0 & 1 \\\\ 1 & 0 \\\\ && 1 \\end{bmatrix}}_{P_1} A =  \n",
    "\\begin{bmatrix}  2 & 4 & 8 \\\\\n",
    "                    1 & 1 & 1 \\\\\n",
    "                    1 & 4 & 9\n",
    "                    \\end{bmatrix} = \n",
    "\\underbrace{\\begin{bmatrix}  1 &  \\\\\n",
    "                    1/2 & 1 \\\\\n",
    "                    1/2 &  & 1\n",
    "                    \\end{bmatrix}}_{L_1}\n",
    "                    \\begin{bmatrix}  2 & 4 & 8 \\\\\n",
    "                     & -1 & -3 \\\\\n",
    "                     & 2 & 5\n",
    "                    \\end{bmatrix}\n",
    "$$\n",
    "That is we have $α_1 = 2$, $𝐯_1 = [1,1]$, and $𝐰_1 = [4,8]$.\n",
    "We now pivot for $A_2$:\n",
    "$$\n",
    "\\underbrace{\\begin{bmatrix} 0 & 1 \\\\ 1 & 0 \\end{bmatrix}}_{P_2}  \\underbrace{\\begin{bmatrix}\n",
    "-1 & -3 \\\\ 2 & 5 \\end{bmatrix}}_{A_2} = \\begin{bmatrix} 2 & 5 \\\\ -1 & -3 \\end{bmatrix}\n",
    "= \\underbrace{\\begin{bmatrix} 1  \\\\ -1/2 & 1 \\end{bmatrix}}_{L_2} \\begin{bmatrix} 2 & 5 \\\\  & -{1 \\over 2} \\end{bmatrix}\n",
    "$$\n",
    "Note that $P_2 𝐯_1 = 𝐯_1$ and\n",
    "$$\n",
    "P = P̃_2 P_1 = \\begin{bmatrix} 0 & 1 & 0 \\\\ 0 & 0 & 1 \\\\ 1 &  0 & 0 \\end{bmatrix}.\n",
    "$$\n",
    "Hence we have\n",
    "$$\n",
    "P A = \\begin{bmatrix} 1 \\\\ \n",
    "1/2 & 1 \\\\\n",
    "1/2 & -1/2 & 1 \\end{bmatrix}  \\begin{bmatrix} 2 & 4 & 8 \\\\ & 2 & 5 \\\\ && -1/2 \\end{bmatrix}\n",
    "$$\n",
    "\n",
    "We see how this example is done on a computer:"
   ]
  },
  {
   "cell_type": "code",
   "execution_count": 4,
   "metadata": {
    "execution": {
     "iopub.execute_input": "2023-02-26T11:55:08.313184Z",
     "iopub.status.busy": "2023-02-26T11:55:08.305802Z",
     "iopub.status.idle": "2023-02-26T11:55:08.778855Z",
     "shell.execute_reply": "2023-02-26T11:55:08.778405Z"
    }
   },
   "outputs": [
    {
     "data": {
      "text/plain": [
       "\u001b[32m\u001b[1mTest Passed\u001b[22m\u001b[39m"
      ]
     },
     "execution_count": 4,
     "metadata": {},
     "output_type": "execute_result"
    }
   ],
   "source": [
    "A = [1 1 1;\n",
    "     2 4 8;\n",
    "     1 4 9]\n",
    "L,U,σ = lu(A) # σ is a vector encoding the permutation\n",
    "\n",
    "@test L == [1    0   0 ;\n",
    "            1/2  1   0 ; \n",
    "            1/2 -1/2 1 ]\n",
    "@test U == [2 4 8   ;\n",
    "            0 2 5   ;\n",
    "            0 0 -1/2]\n",
    "@test I(3)[σ,:] == [0 1 0 ;\n",
    "                    0 0 1 ; \n",
    "                    1 0 0 ]"
   ]
  },
  {
   "cell_type": "markdown",
   "metadata": {},
   "source": [
    "To invert a system we can do:"
   ]
  },
  {
   "cell_type": "code",
   "execution_count": 5,
   "metadata": {
    "execution": {
     "iopub.execute_input": "2023-02-26T11:55:08.781635Z",
     "iopub.status.busy": "2023-02-26T11:55:08.780707Z",
     "iopub.status.idle": "2023-02-26T11:55:09.659056Z",
     "shell.execute_reply": "2023-02-26T11:55:09.658301Z"
    }
   },
   "outputs": [
    {
     "data": {
      "text/plain": [
       "\u001b[32m\u001b[1mTest Passed\u001b[22m\u001b[39m"
      ]
     },
     "execution_count": 5,
     "metadata": {},
     "output_type": "execute_result"
    }
   ],
   "source": [
    "b = randn(3)\n",
    "@test U\\(L\\b[σ]) == A\\b"
   ]
  },
  {
   "cell_type": "markdown",
   "metadata": {},
   "source": [
    "Note the entries match exactly because this is precisely what `\\` is using.\n",
    "\n",
    "## 3. Cholesky Factorisation\n",
    "\n",
    "Cholesky Factorisation is a form of Gaussian elimination (without pivoting)\n",
    "that exploits symmetry in the problem, resulting in a substantial speedup. \n",
    "It is only relevant for _symmetric positive definite_ (SPD)\n",
    "matrices.\n",
    "\n",
    "**Definition 1 (positive definite)** A square matrix $A ∈ ℝ^{n × n}$ is _positive definite_ if\n",
    "for all $𝐱 ∈ ℝ^n, x ≠ 0$ we have\n",
    "$$\n",
    "𝐱^⊤ A 𝐱 > 0\n",
    "$$\n",
    "\n",
    "First we establish some basic properties of positive definite matrices:\n",
    "\n",
    "**Proposition 3 (conj. pos. def.)** If  $A ∈ ℝ^{n × n}$ is positive definite and \n",
    "$V ∈ ℝ^{n × n}$ is non-singular then\n",
    "$$\n",
    "V^⊤ A V\n",
    "$$\n",
    "is positive definite.\n",
    "\n",
    "**Proposition 4 (diag positivity)** If $A ∈ ℝ^{n × n}$ is positive definite\n",
    "then its diagonal entries are positive: $a_{kk} > 0$.\n",
    "\n",
    "\n",
    "**Theorem 1 (subslice pos. def.)** If $A ∈ ℝ^{n × n}$ is positive definite\n",
    "and $𝐤 ∈ \\{1,…,n\\}^m$ is a vector of $m$ integers where any integer appears only once,\n",
    " then $A[𝐤,𝐤] ∈ ℝ^{m × m}$ is also\n",
    "positive definite.\n",
    "\n",
    "\n",
    "\n",
    "We leave the proofs to the problem sheets. Here is the key result:\n",
    "\n",
    "\n",
    "**Theorem 2 (Cholesky and SPD)** A matrix $A$ is symmetric positive definite if and only if it has a Cholesky factorisation\n",
    "$$\n",
    "A = L L^⊤\n",
    "$$\n",
    "where the diagonals of $L$ are positive.\n",
    "\n",
    "**Proof** If $A$ has a Cholesky factorisation it is symmetric ($A^⊤ = (L L^⊤)^⊤ = A$) and for $𝐱 ≠ 0$ we have\n",
    "$$\n",
    "𝐱^⊤ A 𝐱 = (L𝐱)^⊤ L 𝐱 = \\|L𝐱\\|^2 > 0\n",
    "$$\n",
    "where we use the fact that $L$ is non-singular.\n",
    "\n",
    "For the other direction we will prove it by induction, with the $1 × 1$ case being trivial. \n",
    "Assume all lower dimensional symmetric positive definite matrices have Cholesky decompositions.\n",
    "Write\n",
    "$$\n",
    "A = \\begin{bmatrix} α & 𝐯^⊤ \\\\\n",
    "                    𝐯   & K\n",
    "                    \\end{bmatrix} = \\underbrace{\\begin{bmatrix} \\sqrt{α} \\\\ \n",
    "                                    {𝐯 \\over \\sqrt{α}} & I \\end{bmatrix}}_{L_1}\n",
    "                                    \\underbrace{\\begin{bmatrix} 1  \\\\ & K - {𝐯 𝐯^⊤ \\over α} \\end{bmatrix}}_{A_1}\n",
    "                                    \\underbrace{\\begin{bmatrix} \\sqrt{α} & {𝐯^⊤ \\over \\sqrt{α}} \\\\\n",
    "                                     & I \\end{bmatrix}}_{L_1^⊤}.\n",
    "$$\n",
    "Note that $A_2 := K - {𝐯 𝐯^⊤ \\over α}$ is a subslice of $L_1^{-1} A L_1^{-⊤}$, hence by the previous propositions is\n",
    "itself symmetric positive definite. Thus we can write \n",
    "$$\n",
    "A_2 = K - {𝐯 𝐯^⊤ \\over α} = L̃ L̃^⊤\n",
    "$$\n",
    "and hence $A = L L^⊤$ for\n",
    "$$\n",
    "L= L_1 \\begin{bmatrix}1 \\\\ & L̃ \\end{bmatrix} = \\begin{bmatrix} \\sqrt{α} \\\\ {𝐯 \\over \\sqrt{α}} & L̃ \\end{bmatrix}\n",
    "$$\n",
    "satisfies $A = L L^⊤$.\n",
    "∎\n",
    "\n",
    "\n",
    "Note hidden in this proof is a simple algorithm form computing the Cholesky factorisation.\n",
    "\n",
    "**Algorithm 3 (Cholesky)**"
   ]
  },
  {
   "cell_type": "code",
   "execution_count": 6,
   "metadata": {
    "execution": {
     "iopub.execute_input": "2023-02-26T11:55:09.661704Z",
     "iopub.status.busy": "2023-02-26T11:55:09.661034Z",
     "iopub.status.idle": "2023-02-26T11:55:10.769240Z",
     "shell.execute_reply": "2023-02-26T11:55:10.768791Z"
    }
   },
   "outputs": [
    {
     "data": {
      "text/plain": [
       "\u001b[32m\u001b[1mTest Passed\u001b[22m\u001b[39m"
      ]
     },
     "execution_count": 6,
     "metadata": {},
     "output_type": "execute_result"
    }
   ],
   "source": [
    "function mycholesky(A)\n",
    "    T = eltype(A)\n",
    "    n,m = size(A)\n",
    "    if n ≠ m\n",
    "        error(\"Matrix must be square\")\n",
    "    end\n",
    "    if A ≠ A'\n",
    "        error(\"Matrix must be symmetric\")\n",
    "    end\n",
    "    T = eltype(A)\n",
    "    L = LowerTriangular(zeros(T,n,n))\n",
    "    Aⱼ = copy(A)\n",
    "    for j = 1:n\n",
    "        α,𝐯 = Aⱼ[1,1],Aⱼ[2:end,1]\n",
    "        if α ≤ 0\n",
    "            error(\"Matrix is not SPD\")\n",
    "        end \n",
    "        L[j,j] = sqrt(α)\n",
    "        L[j+1:end,j] = 𝐯/sqrt(α)\n",
    "\n",
    "        # induction part\n",
    "        Aⱼ = Aⱼ[2:end,2:end] - 𝐯*𝐯'/α\n",
    "    end\n",
    "    L\n",
    "end\n",
    "\n",
    "A = Symmetric(rand(100,100) + 100I)\n",
    "L = mycholesky(A)\n",
    "@test A ≈ L*L'"
   ]
  },
  {
   "cell_type": "markdown",
   "metadata": {},
   "source": [
    "This algorithm succeeds if and only if $A$ is symmetric positive definite.\n",
    "\n",
    "**Example 3 (Cholesky by hand)** Consider the matrix\n",
    "$$\n",
    "A = \\begin{bmatrix}\n",
    "2 &1 &1 &1 \\\\\n",
    "1 & 2 & 1 & 1 \\\\\n",
    "1 & 1 & 2 & 1 \\\\\n",
    "1 & 1 & 1 & 2\n",
    "\\end{bmatrix}\n",
    "$$\n",
    "Then $α₁ = 2$, $𝐯₁ = [1,1,1]$, and  \n",
    "$$\n",
    "A_2 = \\begin{bmatrix}\n",
    "2 &1 &1 \\\\\n",
    "1 & 2 & 1 \\\\\n",
    "1 & 1 & 2 \n",
    "\\end{bmatrix} - {1 \\over 2} \\begin{bmatrix} 1 \\\\ 1 \\\\ 1 \\end{bmatrix} \\begin{bmatrix} 1 & 1 & 1 \\end{bmatrix} \n",
    "={1 \\over 2} \\begin{bmatrix}\n",
    "3 & 1 & 1 \\\\\n",
    "1 & 3 & 1 \\\\\n",
    "1 & 1 & 3 \n",
    "\\end{bmatrix}.\n",
    "$$\n",
    "Continuing, we have $α_2 = 3/2$, $𝐯_2 = [1/2,1/2]$, and\n",
    "$$\n",
    "A_3 = {1 \\over 2} \\left( \\begin{bmatrix}\n",
    "3 & 1 \\\\ 1 & 3\n",
    "\\end{bmatrix} - {1 \\over 3} \\begin{bmatrix} 1 \\\\ 1  \\end{bmatrix} \\begin{bmatrix} 1 & 1  \\end{bmatrix}\n",
    "\\right)\n",
    "= {1 \\over 3} \\begin{bmatrix} 4 & 1 \\\\ 1 & 4 \\end{bmatrix}\n",
    "$$\n",
    "Next, $α_3 = 4/3$, $𝐯_3 = [1]$, and\n",
    "$$\n",
    "A_4 = [4/3 - 3/4 * (1/3)^2] = [5/4]\n",
    "$$\n",
    "i.e. $α_4 = 5/4$.\n",
    "\n",
    "Thus we get\n",
    "$$\n",
    "L= \\begin{bmatrix}\n",
    "\\sqrt{α₁} \\\\\n",
    "{𝐯_1[1] \\over \\sqrt{α₁}} & \\sqrt{α₂} \\\\\n",
    "{𝐯_1[2] \\over \\sqrt{α₁}} & {𝐯_2[1] \\over \\sqrt{α₂}}  & \\sqrt{α_3} \\\\\n",
    "{𝐯_1[3] \\over \\sqrt{α₁}} & {𝐯_2[2] \\over \\sqrt{α₂}}  & {𝐯_3[1] \\over \\sqrt{α_3}}  & \\sqrt{α_4}\n",
    "\\end{bmatrix}\n",
    " = \\begin{bmatrix} \\sqrt{2} \\\\ {1 \\over \\sqrt{2}} & \\sqrt{3 \\over 2} \\\\ \n",
    "{1 \\over \\sqrt{2}} & {1 \\over \\sqrt 6} & {2 \\over \\sqrt{3}} \\\\\n",
    "{1 \\over \\sqrt{2}} & {1 \\over \\sqrt 6} & {1 \\over \\sqrt{12}} & {\\sqrt{5} \\over 2}\n",
    "\\end{bmatrix}\n",
    "$$\n",
    "We can check if our answer is correct:"
   ]
  },
  {
   "cell_type": "code",
   "execution_count": 7,
   "metadata": {
    "execution": {
     "iopub.execute_input": "2023-02-26T11:55:10.771453Z",
     "iopub.status.busy": "2023-02-26T11:55:10.770851Z",
     "iopub.status.idle": "2023-02-26T11:55:11.344565Z",
     "shell.execute_reply": "2023-02-26T11:55:11.344114Z"
    }
   },
   "outputs": [
    {
     "data": {
      "text/plain": [
       "\u001b[32m\u001b[1mTest Passed\u001b[22m\u001b[39m"
      ]
     },
     "execution_count": 7,
     "metadata": {},
     "output_type": "execute_result"
    }
   ],
   "source": [
    "A = ones(4,4) + I\n",
    "# The inbuilt cholesky returns a special type whose field L is the factor\n",
    "@test cholesky(A).L ≈ [  sqrt(2)   0         0            0;\n",
    "                         1/sqrt(2) sqrt(3/2) 0            0;\n",
    "                         1/sqrt(2) 1/sqrt(6) 2/sqrt(3)    0;\n",
    "                         1/sqrt(2) 1/sqrt(6) 1/sqrt(12)   sqrt(5)/2]"
   ]
  },
  {
   "cell_type": "markdown",
   "metadata": {},
   "source": [
    "# 4. Timings and Stability\n",
    "\n",
    "The different factorisations have trade-offs between speed and stability.\n",
    "First we compare the speed of the different factorisations on a symmetric positive\n",
    "definite matrix, from fastest to slowest:"
   ]
  },
  {
   "cell_type": "code",
   "execution_count": 8,
   "metadata": {
    "execution": {
     "iopub.execute_input": "2023-02-26T11:55:11.346808Z",
     "iopub.status.busy": "2023-02-26T11:55:11.346118Z",
     "iopub.status.idle": "2023-02-26T11:55:42.340051Z",
     "shell.execute_reply": "2023-02-26T11:55:42.339559Z"
    }
   },
   "outputs": [
    {
     "name": "stdout",
     "output_type": "stream",
     "text": [
      "  292.085 μs (3 allocations: 78.20 KiB)\n",
      "  79.052 μs (4 allocations: 79.08 KiB)\n",
      "  256.735 μs (7 allocations: 134.55 KiB)\n"
     ]
    }
   ],
   "source": [
    "n = 100\n",
    "A = Symmetric(rand(n,n)) + 100I # shift by 10 ensures positivity\n",
    "@btime cholesky(A);\n",
    "@btime lu(A);\n",
    "@btime qr(A);"
   ]
  },
  {
   "cell_type": "markdown",
   "metadata": {},
   "source": [
    "On my machine, `cholesky` is ~1.5x faster than `lu`,  \n",
    "which is ~2x faster than QR. \n",
    "\n",
    "\n",
    "\n",
    "In terms of stability, QR computed with Householder reflections\n",
    "(and Cholesky for positive definite matrices) are stable, \n",
    "whereas LU is usually unstable (unless the matrix\n",
    "is diagonally dominant). PLU is a very complicated story: in theory it is unstable,\n",
    "but the set of matrices for which it is unstable is extremely small, so small one does not\n",
    "normally run into them.\n",
    "\n",
    "Here is an example matrix that is in this set."
   ]
  },
  {
   "cell_type": "code",
   "execution_count": 9,
   "metadata": {
    "execution": {
     "iopub.execute_input": "2023-02-26T11:55:42.342258Z",
     "iopub.status.busy": "2023-02-26T11:55:42.341638Z",
     "iopub.status.idle": "2023-02-26T11:55:43.909664Z",
     "shell.execute_reply": "2023-02-26T11:55:43.909187Z"
    }
   },
   "outputs": [
    {
     "data": {
      "text/plain": [
       "5×5 Matrix{Int64}:\n",
       "  1   0   0   0  1\n",
       " -1   1   0   0  1\n",
       " -1  -1   1   0  1\n",
       " -1  -1  -1   1  1\n",
       " -1  -1  -1  -1  1"
      ]
     },
     "execution_count": 9,
     "metadata": {},
     "output_type": "execute_result"
    }
   ],
   "source": [
    "function badmatrix(n)\n",
    "    A = Matrix(1I, n, n)\n",
    "    A[:,end] .= 1\n",
    "    for j = 1:n-1\n",
    "        A[j+1:end,j] .= -1\n",
    "    end\n",
    "    A\n",
    "end\n",
    "A =1badmatrix(5)"
   ]
  },
  {
   "cell_type": "markdown",
   "metadata": {},
   "source": [
    "Note that pivoting will not occur (we do not pivot as the entries below the diagonal are the same magnitude as the diagonal), thus the PLU Factorisation is equivalent to an LU factorisation:"
   ]
  },
  {
   "cell_type": "code",
   "execution_count": 10,
   "metadata": {
    "execution": {
     "iopub.execute_input": "2023-02-26T11:55:43.912323Z",
     "iopub.status.busy": "2023-02-26T11:55:43.911663Z",
     "iopub.status.idle": "2023-02-26T11:55:44.406541Z",
     "shell.execute_reply": "2023-02-26T11:55:44.406096Z"
    }
   },
   "outputs": [
    {
     "data": {
      "text/plain": [
       "LU{Float64, Matrix{Float64}, Vector{Int64}}\n",
       "L factor:\n",
       "5×5 Matrix{Float64}:\n",
       "  1.0   0.0   0.0   0.0  0.0\n",
       " -1.0   1.0   0.0   0.0  0.0\n",
       " -1.0  -1.0   1.0   0.0  0.0\n",
       " -1.0  -1.0  -1.0   1.0  0.0\n",
       " -1.0  -1.0  -1.0  -1.0  1.0\n",
       "U factor:\n",
       "5×5 Matrix{Float64}:\n",
       " 1.0  0.0  0.0  0.0   1.0\n",
       " 0.0  1.0  0.0  0.0   2.0\n",
       " 0.0  0.0  1.0  0.0   4.0\n",
       " 0.0  0.0  0.0  1.0   8.0\n",
       " 0.0  0.0  0.0  0.0  16.0"
      ]
     },
     "execution_count": 10,
     "metadata": {},
     "output_type": "execute_result"
    }
   ],
   "source": [
    "L,U = lu(A)"
   ]
  },
  {
   "cell_type": "markdown",
   "metadata": {},
   "source": [
    "But here we see an issue: the last column of `U` is growing exponentially fast! Thus when `n` is large\n",
    "we get very large errors:"
   ]
  },
  {
   "cell_type": "code",
   "execution_count": 11,
   "metadata": {
    "execution": {
     "iopub.execute_input": "2023-02-26T11:55:44.408976Z",
     "iopub.status.busy": "2023-02-26T11:55:44.408266Z",
     "iopub.status.idle": "2023-02-26T11:55:44.939784Z",
     "shell.execute_reply": "2023-02-26T11:55:44.939342Z"
    }
   },
   "outputs": [
    {
     "data": {
      "text/plain": [
       "4.474199133706833"
      ]
     },
     "execution_count": 11,
     "metadata": {},
     "output_type": "execute_result"
    }
   ],
   "source": [
    "n = 100\n",
    "b = randn(n)\n",
    "A = badmatrix(n)\n",
    "norm(A\\b - qr(A)\\b) # A \\ b still uses lu"
   ]
  },
  {
   "cell_type": "markdown",
   "metadata": {},
   "source": [
    "Note `qr` is completely fine:"
   ]
  },
  {
   "cell_type": "code",
   "execution_count": 12,
   "metadata": {
    "execution": {
     "iopub.execute_input": "2023-02-26T11:55:44.942299Z",
     "iopub.status.busy": "2023-02-26T11:55:44.941555Z",
     "iopub.status.idle": "2023-02-26T11:55:47.349758Z",
     "shell.execute_reply": "2023-02-26T11:55:47.348147Z"
    }
   },
   "outputs": [
    {
     "data": {
      "text/plain": [
       "7.867146267575230384362153672333585677408223221127828785264779357008903194900461e-15"
      ]
     },
     "execution_count": 12,
     "metadata": {},
     "output_type": "execute_result"
    }
   ],
   "source": [
    "norm(qr(A)\\b - qr(big.(A)) \\b) # roughly machine precision"
   ]
  },
  {
   "cell_type": "markdown",
   "metadata": {},
   "source": [
    "Amazingly, PLU is fine if applied to a small perturbation of `A`:"
   ]
  },
  {
   "cell_type": "code",
   "execution_count": 13,
   "metadata": {
    "execution": {
     "iopub.execute_input": "2023-02-26T11:55:47.366339Z",
     "iopub.status.busy": "2023-02-26T11:55:47.363648Z",
     "iopub.status.idle": "2023-02-26T11:55:47.524621Z",
     "shell.execute_reply": "2023-02-26T11:55:47.525058Z"
    }
   },
   "outputs": [
    {
     "data": {
      "text/plain": [
       "1.1117203027706248e-14"
      ]
     },
     "execution_count": 13,
     "metadata": {},
     "output_type": "execute_result"
    }
   ],
   "source": [
    "ε = 0.000001\n",
    "Aε = A .+ ε .* randn.()\n",
    "norm(Aε \\ b - qr(Aε) \\ b) # Now it matches!"
   ]
  },
  {
   "cell_type": "markdown",
   "metadata": {},
   "source": [
    "The big _open problem_ in numerical linear algebra is to prove that the set of matrices\n",
    "for which PLU fails has extremely small measure."
   ]
  }
 ],
 "metadata": {
  "kernelspec": {
   "display_name": "Julia 1.8.3",
   "language": "julia",
   "name": "julia-1.8"
  },
  "language_info": {
   "file_extension": ".jl",
   "mimetype": "application/julia",
   "name": "julia",
   "version": "1.8.3"
  }
 },
 "nbformat": 4,
 "nbformat_minor": 2
}
