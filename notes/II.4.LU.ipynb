{
 "cells": [
  {
   "cell_type": "markdown",
   "metadata": {},
   "source": [
    "# II.4 PLU and Cholesky factorisations\n",
    "\n",
    "In this chapter we consider the following factorisations for square invertible  matrices $A$:\n",
    "1. The _LU factorisation_:\n",
    "$ A = LU$ where $L$ is lower triangular and $U$ is upper triangular. This is equivalent to Gaussian elimination without pivoting,\n",
    "so may not exist (e.g. if $A[1,1] = 0$).\n",
    "1. The _PLU factorisation_:\n",
    "$\n",
    "A = P^⊤ LU\n",
    "$\n",
    "where $P$ is a permutation matrix, $L$ is lower triangular and $U$ is upper triangular. This is equivalent to Gaussian elimination with pivoting.\n",
    "It always exists but may in extremely rare cases be unstable. \n",
    "2. For a real square _symmetric positive definite_ ($A ∈ ℝ^{n × n}$ such that $A^⊤ = A$ and $𝐱^⊤ A 𝐱 > 0$ for all $𝐱 ∈ ℝ^n$, $𝐱 ≠ 0$) \n",
    "matrix the LU decompostion has a special form which is called the _Cholesky factorisation_:\n",
    "$\n",
    "A = L L^⊤\n",
    "$. This provides an algorithmic way to _prove_ that a matrix is symmetric positive definite.\n",
    "3. We also discuss timing and stability of the different factorisations."
   ]
  },
  {
   "cell_type": "code",
   "execution_count": 1,
   "metadata": {
    "execution": {
     "iopub.execute_input": "2023-02-14T21:53:59.168957Z",
     "iopub.status.busy": "2023-02-14T21:53:58.486354Z",
     "iopub.status.idle": "2023-02-14T21:54:06.353945Z",
     "shell.execute_reply": "2023-02-14T21:54:06.353256Z"
    }
   },
   "outputs": [],
   "source": [
    "using LinearAlgebra, Plots, BenchmarkTools"
   ]
  },
  {
   "cell_type": "markdown",
   "metadata": {},
   "source": [
    "## 1. LU Factorisation\n",
    "\n",
    "Just as Gram–Schmidt can be reinterpreted as a reduced QR factorisation,\n",
    "Gaussian elimination  can be interpreted as an LU factorisation. Write a matrix\n",
    "$A ∈ ℂ^{n × n}$ as follows:\n",
    "$$\n",
    "A =  \\begin{bmatrix} α_1 & 𝐰_1^⊤ \\\\ 𝐯_1 & A_2 \\end{bmatrix}\n",
    "$$\n",
    "where $α_1 = a_{11}$, $𝐯_1 = A[2:n, 1]$ and $𝐰_1 = A[1, 2:n]$. Gaussian elimination consists of taking the first row, dividing by\n",
    "$α$ and subtracting from all other rows. That is equivalent to multiplying by a lower triangular matrix:\n",
    "$$\n",
    "\\begin{bmatrix}\n",
    "1 \\\\\n",
    "-𝐯_1/α_1 & I \\end{bmatrix} A = \\begin{bmatrix} α_1 & 𝐰_1^⊤ \\\\  & K -𝐯_1𝐰_1^⊤ /α_1 \\end{bmatrix}\n",
    "$$\n",
    "where $A_2 := K -𝐯_1 𝐰_1^⊤/α_1$  happens to be a rank-1 perturbation of $K$. \n",
    "Assume $A_2 = L_2 U_2$.\n",
    "We can write this another way:\n",
    "$$\n",
    "A = \\underbrace{\\begin{bmatrix}\n",
    "1 \\\\\n",
    "𝐯_1/α_1 & I \\end{bmatrix}}_{L_1}  \\begin{bmatrix} α_1 & 𝐰_1^⊤ \\\\  & A_2 \\end{bmatrix}\n",
    "= \\underbrace{L_1 \\begin{bmatrix}\n",
    "1 \\\\\n",
    " & L_2 \\end{bmatrix}}_{L}  \\underbrace{\\begin{bmatrix} α_1 & 𝐰_1^⊤ \\\\  & U_2 \\end{bmatrix}}_{U}\n",
    "$$\n",
    "Note we can multiply through to find\n",
    "$$\n",
    "L = \\begin{bmatrix}\n",
    "1 \\\\\n",
    "𝐯_1/α_1 & L_2 \\end{bmatrix}\n",
    "$$\n",
    "\n",
    "This procedure implies an algorithm:\n",
    "\n",
    "**Algorithm 1 (LU)** Let $A_1 := A$. For $k = 1, …, n-1$ define\n",
    "$$\n",
    "\\begin{align*}\n",
    "α_k &:= A_k[1,1] \\\\\n",
    "𝐯_k &:= A_k[2:n-k+1,1] \\\\\n",
    "𝐰_k &:= A_k[1, 2:n-k+1] \\\\\n",
    "A_{k+1} &:= A_k[2:n-k+1,2:n-k+1]-𝐯_k 𝐰_k^⊤/α_k,\n",
    "\\end{align*}\n",
    "$$\n",
    "and $α_n := A_n[1,1]$. \n",
    "Then for $ℓ_{kj} := 𝐯_j[k-j]/α_j$ and $u_{kj} = 𝐰_k[j-k]$ we have\n",
    "$$\n",
    "A = \\underbrace{\\begin{bmatrix}1 \\\\ ℓ_{21} & 1 \\\\\n",
    "                ℓ_{31} & ℓ_{32} & 1 \\\\\n",
    "                ⋮ &  ⋮ & ⋱ & ⋱ \\\\\n",
    "                ℓ_{n1} & ℓ_{n2} & ⋯ & ℓ_{n,n-1} & 1\n",
    "                \\end{bmatrix}}_L \\underbrace{\\begin{bmatrix} α_1 &u_{12} & u_{13} & ⋯ & u_{1n} \\\\\n",
    "                                          & α_2 & u_{23} & ⋯ & u_{2n} \\\\\n",
    "                                        && ⋱ & ⋱ & ⋮ \\\\\n",
    "                                        &&& α_{n-1} & u_{n-1,n} \\\\\n",
    "                                        &&&& α_n\\end{bmatrix}}_U\n",
    "$$\n",
    "\n",
    "\n",
    "\n",
    "\n",
    "\n",
    "**Example 1 (computer)**\n",
    "We will do a numerical example (by-hand is equivalent to Gaussian elimination).\n",
    "The first lower triangular matrix is:"
   ]
  },
  {
   "cell_type": "code",
   "execution_count": 2,
   "metadata": {
    "execution": {
     "iopub.execute_input": "2023-02-14T21:54:06.532948Z",
     "iopub.status.busy": "2023-02-14T21:54:06.355608Z",
     "iopub.status.idle": "2023-02-14T21:54:09.436593Z",
     "shell.execute_reply": "2023-02-14T21:54:09.436098Z"
    }
   },
   "outputs": [
    {
     "data": {
      "text/plain": [
       "4×4 Matrix{Float64}:\n",
       "  1.0        0.0  0.0  0.0\n",
       " -3.96853    1.0  0.0  0.0\n",
       "  0.0555434  0.0  1.0  0.0\n",
       "  1.51991    0.0  0.0  1.0"
      ]
     },
     "execution_count": 2,
     "metadata": {},
     "output_type": "execute_result"
    }
   ],
   "source": [
    "n = 4\n",
    "A = randn(n,n)\n",
    "A₁= A\n",
    "\n",
    "α₁,𝐯₁,𝐰₁ = A₁[1,1],A₁[2:n,1],A₁[1,2:n]\n",
    "L₁ = I + [0; 𝐯₁/α₁] * [1 zeros(1,n-1)] # a rank-1 correction"
   ]
  },
  {
   "cell_type": "markdown",
   "metadata": {},
   "source": [
    "Which indeed introduces zeros in the first column:"
   ]
  },
  {
   "cell_type": "code",
   "execution_count": 3,
   "metadata": {
    "execution": {
     "iopub.execute_input": "2023-02-14T21:54:09.438764Z",
     "iopub.status.busy": "2023-02-14T21:54:09.438193Z",
     "iopub.status.idle": "2023-02-14T21:54:10.036816Z",
     "shell.execute_reply": "2023-02-14T21:54:10.036350Z"
    }
   },
   "outputs": [
    {
     "data": {
      "text/plain": [
       "4×4 Matrix{Float64}:\n",
       " -0.70849  -0.70563  -1.51285   0.385756\n",
       "  0.0      -1.09433  -5.56782   0.272468\n",
       "  0.0      -1.50983  -1.11524   1.69382\n",
       "  0.0       1.79023   2.15805  -0.205982"
      ]
     },
     "execution_count": 3,
     "metadata": {},
     "output_type": "execute_result"
    }
   ],
   "source": [
    "L₁\\A"
   ]
  },
  {
   "cell_type": "markdown",
   "metadata": {},
   "source": [
    "Now we make the next lower triangular operator:"
   ]
  },
  {
   "cell_type": "code",
   "execution_count": 4,
   "metadata": {
    "execution": {
     "iopub.execute_input": "2023-02-14T21:54:10.039399Z",
     "iopub.status.busy": "2023-02-14T21:54:10.038683Z",
     "iopub.status.idle": "2023-02-14T21:54:10.335712Z",
     "shell.execute_reply": "2023-02-14T21:54:10.335230Z"
    }
   },
   "outputs": [
    {
     "data": {
      "text/plain": [
       "3×3 Matrix{Float64}:\n",
       "  1.0      0.0  0.0\n",
       "  1.37968  1.0  0.0\n",
       " -1.63591  0.0  1.0"
      ]
     },
     "execution_count": 4,
     "metadata": {},
     "output_type": "execute_result"
    }
   ],
   "source": [
    "A₂ = A₁[2:n,2:n] - 𝐯₁*𝐰₁'/α₁ # can use ' since its real. Otherwise use transpose(𝐰₁)\n",
    "α₂,𝐯₂,𝐰₂ = A₂[1,1],A₂[2:n-1,1],A₂[1,2:n-1]\n",
    "L₂ = I + [0; 𝐯₂/α₂] * [1 zeros(1,n-2)] # a rank-1 correction"
   ]
  },
  {
   "cell_type": "markdown",
   "metadata": {},
   "source": [
    "Which has introduced zeros in the second column:"
   ]
  },
  {
   "cell_type": "code",
   "execution_count": 5,
   "metadata": {
    "execution": {
     "iopub.execute_input": "2023-02-14T21:54:10.337907Z",
     "iopub.status.busy": "2023-02-14T21:54:10.337309Z",
     "iopub.status.idle": "2023-02-14T21:54:10.697257Z",
     "shell.execute_reply": "2023-02-14T21:54:10.696685Z"
    }
   },
   "outputs": [
    {
     "data": {
      "text/plain": [
       "4×4 Matrix{Float64}:\n",
       " -0.70849  -0.70563  -1.51285  0.385756\n",
       "  0.0      -1.09433  -5.56782  0.272468\n",
       "  0.0       0.0       6.5666   1.3179\n",
       "  0.0       0.0      -6.95041  0.239751"
      ]
     },
     "execution_count": 5,
     "metadata": {},
     "output_type": "execute_result"
    }
   ],
   "source": [
    "# adds a row and column to L₂\n",
    "L̃₂ = [1          zeros(1,n-1);\n",
    "      zeros(n-1) L₂]\n",
    "L̃₂\\(L₁\\A)"
   ]
  },
  {
   "cell_type": "markdown",
   "metadata": {},
   "source": [
    "The last one is:"
   ]
  },
  {
   "cell_type": "code",
   "execution_count": 6,
   "metadata": {
    "execution": {
     "iopub.execute_input": "2023-02-14T21:54:10.699723Z",
     "iopub.status.busy": "2023-02-14T21:54:10.699116Z",
     "iopub.status.idle": "2023-02-14T21:54:10.704349Z",
     "shell.execute_reply": "2023-02-14T21:54:10.703880Z"
    }
   },
   "outputs": [
    {
     "data": {
      "text/plain": [
       "2×2 Matrix{Float64}:\n",
       "  1.0      0.0\n",
       " -1.05845  1.0"
      ]
     },
     "execution_count": 6,
     "metadata": {},
     "output_type": "execute_result"
    }
   ],
   "source": [
    "A₃ = A₂[2:n-1,2:n-1] - 𝐯₂/α₂ * 𝐰₂' # can use ' since its real. Otherwise use transpose(𝐰₁)\n",
    "α₃,𝐯₃,𝐰₃ = A₃[1,1],A₃[2:n-2,1],A₃[1,2:n-2]\n",
    "L₃ = I + [0; 𝐯₃/α₃] * [1 zeros(1,n-3)] # a rank-1 correction"
   ]
  },
  {
   "cell_type": "markdown",
   "metadata": {},
   "source": [
    "Giving us"
   ]
  },
  {
   "cell_type": "code",
   "execution_count": 7,
   "metadata": {
    "execution": {
     "iopub.execute_input": "2023-02-14T21:54:10.706665Z",
     "iopub.status.busy": "2023-02-14T21:54:10.705890Z",
     "iopub.status.idle": "2023-02-14T21:54:11.184900Z",
     "shell.execute_reply": "2023-02-14T21:54:11.184436Z"
    }
   },
   "outputs": [
    {
     "data": {
      "text/plain": [
       "4×4 Matrix{Float64}:\n",
       " -0.70849  -0.70563  -1.51285  0.385756\n",
       "  0.0      -1.09433  -5.56782  0.272468\n",
       "  0.0       0.0       6.5666   1.3179\n",
       "  0.0       0.0       0.0      1.63468"
      ]
     },
     "execution_count": 7,
     "metadata": {},
     "output_type": "execute_result"
    }
   ],
   "source": [
    "# adds two rows and columns to L̃₃\n",
    "L̃₃ = [I(2) zeros(2,n-2); zeros(n-2,2) L₃]\n",
    "U = L̃₃ \\ (L̃₂ \\(L₁\\A))"
   ]
  },
  {
   "cell_type": "markdown",
   "metadata": {},
   "source": [
    "In other words, `L̃₃*L̃₂*L₁*U == A` and hence we have:"
   ]
  },
  {
   "cell_type": "code",
   "execution_count": 8,
   "metadata": {
    "execution": {
     "iopub.execute_input": "2023-02-14T21:54:11.187169Z",
     "iopub.status.busy": "2023-02-14T21:54:11.186560Z",
     "iopub.status.idle": "2023-02-14T21:54:11.654487Z",
     "shell.execute_reply": "2023-02-14T21:54:11.653961Z"
    }
   },
   "outputs": [
    {
     "data": {
      "text/plain": [
       "true"
      ]
     },
     "execution_count": 8,
     "metadata": {},
     "output_type": "execute_result"
    }
   ],
   "source": [
    "L = L₁*L̃₂*L̃₃\n",
    "L*U ≈ A"
   ]
  },
  {
   "cell_type": "markdown",
   "metadata": {},
   "source": [
    "The entries of `L` are indeed identical to the negative\n",
    "lower entries of `L₁`, `L₂` and `L₃`:"
   ]
  },
  {
   "cell_type": "code",
   "execution_count": 9,
   "metadata": {
    "execution": {
     "iopub.execute_input": "2023-02-14T21:54:11.656525Z",
     "iopub.status.busy": "2023-02-14T21:54:11.655946Z",
     "iopub.status.idle": "2023-02-14T21:54:11.702196Z",
     "shell.execute_reply": "2023-02-14T21:54:11.701677Z"
    }
   },
   "outputs": [
    {
     "data": {
      "text/plain": [
       "true"
      ]
     },
     "execution_count": 9,
     "metadata": {},
     "output_type": "execute_result"
    }
   ],
   "source": [
    "L = zeros(n,n)\n",
    "for k = 1:n\n",
    "    L[k,k] = 1\n",
    "end\n",
    "L[2:n,1] = 𝐯₁/α₁\n",
    "L[3:n,2] = 𝐯₂/α₂\n",
    "L[4:n,3] = 𝐯₃/α₃\n",
    "L ≈ L₁*L̃₂*L̃₃"
   ]
  },
  {
   "cell_type": "markdown",
   "metadata": {},
   "source": [
    "**Example 2 (by-hand)**\n",
    "\n",
    "Consider the matrix\n",
    "$$\n",
    "A = \\begin{bmatrix} 1 & 1 & 1 \\\\\n",
    "                    2 & 4 & 8 \\\\\n",
    "                    1 & 4 & 9\n",
    "                    \\end{bmatrix}\n",
    "$$\n",
    "We  write\n",
    "$$\n",
    "\\begin{align*}\n",
    "A = \\underbrace{\\begin{bmatrix} 1  \\\\\n",
    "                    2 & 1 &  \\\\\n",
    "                    1 &  & 1\n",
    "                    \\end{bmatrix}}_{L_1} \\begin{bmatrix} 1 & 1 & 1 \\\\\n",
    "                    0 & 2 & 6 \\\\\n",
    "                    0 & 3 & 8\n",
    "                    \\end{bmatrix} \n",
    " = L_1 \\underbrace{\\begin{bmatrix} 1  \\\\\n",
    "                     & 1 &  \\\\\n",
    "                     & 3/2 & 1\n",
    "                    \\end{bmatrix}}_{L̃_2} \\begin{bmatrix} 1 & 1 & 1 \\\\\n",
    "                    0 & 2 & 6 \\\\\n",
    "                    0 & 0 & 5\n",
    "                    \\end{bmatrix} \\\\\n",
    "= \\underbrace{\\begin{bmatrix} 1  \\\\\n",
    "                    2 & 1 &  \\\\\n",
    "                    1 & 3/2 & 1\n",
    "                    \\end{bmatrix}}_{L} \\underbrace{\\begin{bmatrix} 1 & 1 & 1 \\\\\n",
    "                    0 & 2 & 6 \\\\\n",
    "                    0 & 0 & 5\n",
    "                    \\end{bmatrix}}_U\n",
    "\\end{align*}\n",
    "$$\n",
    "\n",
    "\n",
    "\n",
    "\n",
    "## 2. PLU Factorisation\n",
    "\n",
    "We learned in first year linear algebra that if a diagonal entry is zero\n",
    "whem doing Gaussian elimnation one has to _row pivot_. For stability, \n",
    "in implementation one _always_ pivots: swap the largest in magnitude entry for the entry on the diagonal.\n",
    "We will see this is equivalent to a PLU decomposition:\n",
    "\n",
    "\n",
    "**Theorem 1 (PLU)** A matrix $A ∈ ℂ^{n × n}$ is invertible if and only if it has a PLU decomposition:\n",
    "$$\n",
    "A = P^⊤ L U\n",
    "$$\n",
    "where the diagonal of $L$ are all equal to 1 and the diagonal of $U$ are all non-zero.\n",
    "\n",
    "**Proof**\n",
    "\n",
    "If we have a PLU decomposition of this form then $L$ and $U$ are invertible and hence the inverse is simply $A^{-1} = U^{-1} L^{-1} P$. \n",
    "\n",
    "We will prove the other direction by induction.\n",
    "If $A ∈ ℂ^{1 × 1}$ we trivially have an LU decomposition $A = [1] * [a_{11}]$ as all matrices are triangular.\n",
    "As $A$ is invertible not all entries in the first column are zero. Therefore there exists a permutation\n",
    "$P_1$ so that $α := (P_1 A)[1,1] ≠ 0$. Hence we write\n",
    "$$\n",
    "P_1 A = \\begin{bmatrix} α & 𝐰^⊤ \\\\\n",
    "                        𝐯 & A_2\n",
    "                        \\end{bmatrix} = \\underbrace{\\begin{bmatrix}\n",
    "1 \\\\\n",
    "𝐯/α & I \\end{bmatrix}}_{L_1}  \\begin{bmatrix} α & 𝐰^⊤ \\\\  & A_2 \\end{bmatrix}\n",
    "$$\n",
    "We know $A_2$ is invertible: if $A_2^⊤ 𝐜  = 𝟎$ then for $𝐝 := P_1^⊤ L_1^{-⊤} [0; 𝐜]$ we have\n",
    "$$\n",
    "\\begin{align*}\n",
    "𝐝^⊤ A =  [0\\ 𝐜^⊤] L_1^{-1} P_1 P_1^⊤ L_1  \\begin{bmatrix} α & 𝐰^⊤ \\\\  & A_2 \\end{bmatrix}\n",
    "= [0\\ 𝐜^⊤] \\begin{bmatrix} α & 𝐰^⊤ \\\\  & A_2 \\end{bmatrix} = [0\\ 𝐜^⊤\\ A_2] = 𝟎^⊤.\n",
    "\\end{align*}\n",
    "$$\n",
    "Thus by induction $A_2 = P_2^⊤ L_2 U_2$. Thus we have:\n",
    "$$\n",
    "\\begin{align*}\n",
    "\\begin{bmatrix} 1 \\\\\n",
    "            & P_2 \\end{bmatrix} P_1 A &= \\begin{bmatrix} 1 \\\\\n",
    "            & P_2 \\end{bmatrix}  \\begin{bmatrix} α & 𝐰^⊤ \\\\\n",
    "                        𝐯 & A_2\n",
    "                        \\end{bmatrix}  =\n",
    "            \\begin{bmatrix} 1 \\\\ & P_2 \\end{bmatrix} L_1  \\begin{bmatrix} α & 𝐰^⊤ \\\\  & P_2^⊤ L_2 U_2 \\end{bmatrix} \\\\\n",
    "            &= \\begin{bmatrix}\n",
    "1 \\\\\n",
    "P_2 𝐯/α & P_2 \\end{bmatrix} \\begin{bmatrix} 1 &  \\\\  &  P_2^⊤ L_2 \\end{bmatrix}  \\begin{bmatrix} α & 𝐰^⊤ \\\\  &  U_2 \\end{bmatrix} \\\\\n",
    "&= \\underbrace{\\begin{bmatrix}\n",
    "1 \\\\\n",
    "P_2 𝐯/α & L_2 \\end{bmatrix}}_L \\underbrace{\\begin{bmatrix} α & 𝐰^⊤ \\\\  &  U_2 \\end{bmatrix}}_U \\\\\n",
    "\\end{align*}\n",
    "$$\n",
    "\n",
    "∎\n",
    "\n",
    "In the above we neglected to state which permutation is used as for the proof of existence it is immaterial. For _stability_ however, \n",
    "we choose one that puts the largest entry: let $σ_{\\rm max} : ℝ^n → S_n$ be the permutation that swaps the first row with the row\n",
    "of $𝐚$ whose absolute value is maximised.\n",
    "In cycle notation we then have:\n",
    "$$\n",
    "σ_{\\rm max}(𝐚) = (1, {\\rm indmax} |𝐚|)\n",
    "$$\n",
    "where ${\\rm indmax}$ gives the index of the entry of a vector which is its maximum.\n",
    "This inductive proof encodes an  algorithm:\n",
    "\n",
    "**Algorithm 2 (PLU)** Let $A_1 := A$. For $k = 1, …, n-1$ define\n",
    "$$\n",
    "\\begin{align*}\n",
    "σ_k &:= σ_{\\rm max}(A_k[1:n-k+1,1]) \\\\\n",
    "P_k &:= P_{σ_k} \\\\\n",
    "Ã_k & := P_k A_k \\\\\n",
    "α_k &:= Ã_k[1,1] \\\\\n",
    "𝐯_k &:= Ã_k[2:n-k+1,1] \\\\\n",
    "𝐰_k &:= Ã_k[1, 2:n-k+1] \\\\\n",
    "A_{k+1} &:= Ã_k[2:n-k+1,2:n-k+1]-𝐯_k 𝐰_k^⊤/α_k,\n",
    "\\end{align*}\n",
    "$$\n",
    "and finally $α_n := A_n[1,1]$. \n",
    "Then for $ℓ_{kj} := 𝐯_j[k-j]/α_j$, $u_{kj} = 𝐰_k[j-k]$, and\n",
    "$$\n",
    "P̃_k := \\begin{bmatrix} I_{k-1} \\\\ & P_k \\end{bmatrix}\n",
    "$$\n",
    " we have\n",
    "$$\n",
    "\\underbrace{P̃_{σ_{n-1}} ⋯ P̃_{σ_1}}_P A = \\underbrace{\\begin{bmatrix}1 \\\\ ℓ_{21} & 1 \\\\\n",
    "                ℓ_{31} & ℓ_{32} & 1 \\\\\n",
    "                ⋮ &  ⋮ & ⋱ & ⋱ \\\\\n",
    "                ℓ_{n1} & ℓ_{n2} & ⋯ & ℓ_{n,n-1} 1\n",
    "                \\end{bmatrix}}_L \\underbrace{\\begin{bmatrix} α_1 &u_{12} & u_{13} & ⋯ & u_{1n} \\\\\n",
    "                                          & α_2 & u_{23} & ⋯ & u_{2n} \\\\\n",
    "                                        && ⋱ & ⋱ & ⋮ \\\\\n",
    "                                        &&& α_{n-1} & u_{n-1,n} \\\\\n",
    "                                        &&&& α_n\\end{bmatrix}}_U\n",
    "$$\n",
    "\n",
    "\n",
    "**Example 3**\n",
    "\n",
    "Again we consider the matrix\n",
    "$$\n",
    "A = \\begin{bmatrix} 1 & 1 & 1 \\\\\n",
    "                    2 & 4 & 8 \\\\\n",
    "                    1 & 4 & 9\n",
    "                    \\end{bmatrix}\n",
    "$$\n",
    "Even though $a_{11} = 1 ≠ 0$, we still pivot: placing \n",
    "the maximum entry on the diagonal to mitigate numerical errors.\n",
    "That is, we first pivot and upper triangularise the first column:\n",
    "$$\n",
    " L_1 P_1 A =  L_1\\begin{bmatrix} 0 & 1 \\\\ 1 & 0 \\\\ && 1 \\end{bmatrix}\n",
    "\\begin{bmatrix} 1 & 1 & 1 \\\\\n",
    "                    2 & 4 & 8 \\\\\n",
    "                    1 & 4 & 9\n",
    "                    \\end{bmatrix} = \n",
    "                     \\begin{bmatrix}1 \\\\ -{1 \\over 2} & 1 \\\\ -{1 \\over 2} && 1 \\end{bmatrix}\n",
    "\\begin{bmatrix} 2 & 4 & 8 \\\\\n",
    "                1 & 1 & 1 \\\\\n",
    "                    1 & 4 & 9\n",
    "                    \\end{bmatrix}\n",
    "$$\n",
    "We now pivot and upper triangularise the second column:\n",
    "$$\n",
    "  L̃_2 P̃_2 L̃_1 P_1 A = \n",
    "                    L̃_2 \\begin{bmatrix}\n",
    "                    1 \\\\ &0 & 1 \\\\ &1 & 0 \\end{bmatrix}\n",
    "\\begin{bmatrix} 2 & 4 & 8 \\\\\n",
    "                0 & -1 & -3 \\\\\n",
    "                    0 & 2 & 5\n",
    "                    \\end{bmatrix}\n",
    "                    = \\begin{bmatrix} 1\\\\ & 1 \\\\ & {1 \\over 2} & 1 \\end{bmatrix}\n",
    "\\begin{bmatrix} 2 & 4 & 8 \\\\\n",
    "                0 & 2 & 5 \\\\\n",
    "                0 & -1 & -3 \n",
    "                    \\end{bmatrix} = \n",
    "                    \\underbrace{\\begin{bmatrix} 2 & 4 & 8 \\\\\n",
    "                0 & 2 & 5 \\\\\n",
    "                0 & 0 & -{1 \\over 2}\n",
    "                    \\end{bmatrix}}_U\n",
    "$$\n",
    "We now move $P̃_2$ to the right:\n",
    "$$\n",
    "L_2 P_2 L_1 P_1 = \\underbrace{\\begin{bmatrix} 1\\\\ -{1 \\over 2} & 1 \\\\  -{1 \\over 2}  & {1 \\over 2} & 1 \\end{bmatrix}}_{L_2 \\tilde L_1} \\underbrace{\\begin{bmatrix} 0 & 1 & 0 \\\\ 0 & 0 & 1 \\\\ 1 & 0 & 0 \\end{bmatrix}}_P\n",
    "$$\n",
    "That is\n",
    "$$\n",
    "L = \\begin{bmatrix} 1\\\\ {1 \\over 2} & 1 \\\\  {1 \\over 2}  & -{1 \\over 2} & 1 \\end{bmatrix}\n",
    "$$\n",
    "\n",
    "We see how this example is done on a computer:"
   ]
  },
  {
   "cell_type": "code",
   "execution_count": 10,
   "metadata": {
    "execution": {
     "iopub.execute_input": "2023-02-14T21:54:11.704854Z",
     "iopub.status.busy": "2023-02-14T21:54:11.704187Z",
     "iopub.status.idle": "2023-02-14T21:54:12.240929Z",
     "shell.execute_reply": "2023-02-14T21:54:12.240172Z"
    }
   },
   "outputs": [
    {
     "data": {
      "text/plain": [
       "LU{Float64, Matrix{Float64}, Vector{Int64}}\n",
       "L factor:\n",
       "3×3 Matrix{Float64}:\n",
       " 1.0   0.0  0.0\n",
       " 0.5   1.0  0.0\n",
       " 0.5  -0.5  1.0\n",
       "U factor:\n",
       "3×3 Matrix{Float64}:\n",
       " 2.0  4.0   8.0\n",
       " 0.0  2.0   5.0\n",
       " 0.0  0.0  -0.5"
      ]
     },
     "execution_count": 10,
     "metadata": {},
     "output_type": "execute_result"
    }
   ],
   "source": [
    "A = [1 1 1;\n",
    "     2 4 8;\n",
    "     1 4 9]\n",
    "L,U,σ = lu(A) # σ is a vector encoding the permutation"
   ]
  },
  {
   "cell_type": "markdown",
   "metadata": {},
   "source": [
    "The permutation is"
   ]
  },
  {
   "cell_type": "code",
   "execution_count": 11,
   "metadata": {
    "execution": {
     "iopub.execute_input": "2023-02-14T21:54:12.244318Z",
     "iopub.status.busy": "2023-02-14T21:54:12.243509Z",
     "iopub.status.idle": "2023-02-14T21:54:12.689885Z",
     "shell.execute_reply": "2023-02-14T21:54:12.689422Z"
    }
   },
   "outputs": [
    {
     "data": {
      "text/plain": [
       "3-element Vector{Int64}:\n",
       " 2\n",
       " 3\n",
       " 1"
      ]
     },
     "execution_count": 11,
     "metadata": {},
     "output_type": "execute_result"
    }
   ],
   "source": [
    "σ"
   ]
  },
  {
   "cell_type": "markdown",
   "metadata": {},
   "source": [
    "Thus to invert a system we can do:"
   ]
  },
  {
   "cell_type": "code",
   "execution_count": 12,
   "metadata": {
    "execution": {
     "iopub.execute_input": "2023-02-14T21:54:12.692937Z",
     "iopub.status.busy": "2023-02-14T21:54:12.692119Z",
     "iopub.status.idle": "2023-02-14T21:54:13.130417Z",
     "shell.execute_reply": "2023-02-14T21:54:13.129801Z"
    }
   },
   "outputs": [
    {
     "data": {
      "text/plain": [
       "true"
      ]
     },
     "execution_count": 12,
     "metadata": {},
     "output_type": "execute_result"
    }
   ],
   "source": [
    "b = randn(3)\n",
    "U\\(L\\b[σ]) == A\\b"
   ]
  },
  {
   "cell_type": "markdown",
   "metadata": {},
   "source": [
    "Note the entries match exactly because this precisely what `\\` is using.\n",
    "\n",
    "## 3. Cholesky Factorisation\n",
    "\n",
    "Cholesky Factorisation is a form of Gaussian elimination (without pivoting)\n",
    "that exploits symmetry in the problem, resulting in a substantial speedup. \n",
    "It is only relevant for _symmetric positive definite_\n",
    "matrices.\n",
    "\n",
    "**Definition 1 (positive definite)** A square matrix $A ∈ ℝ^{n × n}$ is _positive definite_ if\n",
    "for all $𝐱 ∈ ℝ^n, x ≠ 0$ we have\n",
    "$$\n",
    "𝐱^⊤ A 𝐱 > 0\n",
    "$$\n",
    "\n",
    "First we establish some basic properties of positive definite matrices:\n",
    "\n",
    "**Proposition 3 (conj. pos. def.)** If  $A ∈ ℝ^{n × n}$ is positive definite and \n",
    "$V ∈ ℝ^{n × n}$ is non-singular then\n",
    "$$\n",
    "V^⊤ A V\n",
    "$$\n",
    "is positive definite.\n",
    "\n",
    "**Proposition 4 (diag positivity)** If $A ∈ ℝ^{n × n}$ is positive definite\n",
    "then its diagonal entries are positive: $a_{kk} > 0$.\n",
    "\n",
    "\n",
    "**Theorem 1 (subslice pos. def.)** If $A ∈ ℝ^{n × n}$ is positive definite\n",
    "and $𝐤 ∈ \\{1,\\ldots,n\\}^m$ is a vector of $m$ integers where any integer appears only once,\n",
    " then $A[𝐤,𝐤] ∈ ℝ^{m × m}$ is also\n",
    "positive definite.\n",
    "\n",
    "\n",
    "\n",
    "We leave the proofs to the problem sheets. Here is the key result:\n",
    "\n",
    "\n",
    "**Theorem 2 (Cholesky and sym. pos. def.)** A matrix $A$ is symmetric positive definite if and only if it has a Cholesky factorisation\n",
    "$$\n",
    "A = L L^⊤\n",
    "$$\n",
    "where the diagonals of $L$ are positive.\n",
    "\n",
    "**Proof** If $A$ has a Cholesky factorisation it is symmetric ($A^⊤ = (L L^⊤)^⊤ = A$) and for $𝐱 ≠ 0$ we have\n",
    "$$\n",
    "𝐱^⊤ A 𝐱 = (L𝐱)^⊤ L 𝐱 = \\|L𝐱\\|^2 > 0\n",
    "$$\n",
    "where we use the fact that $L$ is non-singular.\n",
    "\n",
    "For the other direction we will prove it by induction, with the $1 × 1$ case being trivial. \n",
    "Assume all lower dimensional symmetric positive definite matrices have Cholesky decompositions.\n",
    "Write\n",
    "$$\n",
    "A = \\begin{bmatrix} α & 𝐯^⊤ \\\\\n",
    "                    𝐯   & K\n",
    "                    \\end{bmatrix} = \\underbrace{\\begin{bmatrix} \\sqrt{α} \\\\ \n",
    "                                    {𝐯 \\over \\sqrt{α}} & I \\end{bmatrix}}_{L_1}\n",
    "                                    \\underbrace{\\begin{bmatrix} 1  \\\\ & K - {𝐯 𝐯^⊤ \\over α} \\end{bmatrix}}_{A_1}\n",
    "                                    \\underbrace{\\begin{bmatrix} \\sqrt{α} & {𝐯^⊤ \\over \\sqrt{α}} \\\\\n",
    "                                     & I \\end{bmatrix}}_{L_1^⊤}.\n",
    "$$\n",
    "Note that $A_2 := K - {𝐯 𝐯^⊤ \\over α}$ is a subslice of $L_1^{-1} A L_1^{-⊤}$, hence by the previous propositions is\n",
    "itself symmetric positive definite. Thus we can write \n",
    "$$\n",
    "A_2 = K - {𝐯 𝐯^⊤ \\over α} = L_2 L_2^⊤\n",
    "$$\n",
    "and hence $A = L L^⊤$ for\n",
    "$$\n",
    "L= L_1 \\begin{bmatrix}1 \\\\ & L_2 \\end{bmatrix} = \\begin{bmatrix} \\sqrt{α} \\\\ {𝐯 \\over \\sqrt{α}} & L_2 \\end{bmatrix}\n",
    "$$\n",
    "satisfies $A = L L^⊤$.\n",
    "∎\n",
    "\n",
    "\n",
    "Note hidden in this proof is a simple algorithm form computing the Cholesky factorisation.\n",
    "\n",
    "\n",
    "**Algorithm (Cholesky)** Let $A_1 := A$. For  $k = 1, …, n$ define\n",
    "$$\n",
    "\\begin{align*}\n",
    "α_k &:= A_k[1,1] \\\\\n",
    "𝐯_k &:= A_k[2:n-k+1,1] \\\\\n",
    "A_{k+1} &:= A_k[2:n-k+1,2:n-k+1] - {𝐯_k 𝐯_k^⊤ \\over α_k}.\n",
    "\\end{align*}\n",
    "$$\n",
    "Then\n",
    "$$\n",
    "L = \\begin{bmatrix} \\sqrt{α_1} \\\\\n",
    "    {𝐯_1[1] \\over \\sqrt{α_1}}  &  \\sqrt{α_2} \\\\\n",
    "    {𝐯_1[2] \\over \\sqrt{α_1}}  & {𝐯_2[1] \\over \\sqrt{α_2}} &  \\sqrt{α_2} \\\\\n",
    "    ⋮ & ⋮ & ⋱ & ⋱ \\\\\n",
    "    {𝐯_1[n-1] \\over \\sqrt{α_1}} &{𝐯_2[n-2] \\over \\sqrt{α_2}} & ⋯ & {𝐯_{n-1}[1] \\over \\sqrt{α_{n-1}}} & \\sqrt{α_{n}}\n",
    "    \\end{bmatrix}\n",
    "$$\n",
    "\n",
    "This algorithm succeeds if and only if $A$ is symmetric positive definite.\n",
    "\n",
    "**Example 4** Consider the matrix\n",
    "$$\n",
    "A_0 = A = \\begin{bmatrix}\n",
    "2 &1 &1 &1 \\\\\n",
    "1 & 2 & 1 & 1 \\\\\n",
    "1 & 1 & 2 & 1 \\\\\n",
    "1 & 1 & 1 & 2\n",
    "\\end{bmatrix}\n",
    "$$\n",
    "Then\n",
    "$$\n",
    "A_1 = \\begin{bmatrix}\n",
    "2 &1 &1 \\\\\n",
    "1 & 2 & 1 \\\\\n",
    "1 & 1 & 2 \n",
    "\\end{bmatrix} - {1 \\over 2} \\begin{bmatrix} 1 \\\\ 1 \\\\ 1 \\end{bmatrix} \\begin{bmatrix} 1 & 1 & 1 \\end{bmatrix} =\n",
    "{1 \\over 2} \\begin{bmatrix}\n",
    "3 & 1 & 1 \\\\\n",
    "1 & 3 & 1 \\\\\n",
    "1 & 1 & 3 \n",
    "\\end{bmatrix}\n",
    "$$\n",
    "Continuing, we have \n",
    "$$\n",
    "A_2 = {1 \\over 2} \\left( \\begin{bmatrix}\n",
    "3 & 1 \\\\ 1 & 3\n",
    "\\end{bmatrix} - {1 \\over 3} \\begin{bmatrix} 1 \\\\ 1  \\end{bmatrix} \\begin{bmatrix} 1 & 1  \\end{bmatrix}\n",
    "\\right)\n",
    "= {1 \\over 3} \\begin{bmatrix} 4 & 1 \\\\ 1 & 4 \\end{bmatrix}\n",
    "$$\n",
    "Finally\n",
    "$$\n",
    "A_3 = {5 \\over 4}.\n",
    "$$\n",
    "Thus we get\n",
    "$$\n",
    "L= L_1 L_2 L_3 = \\begin{bmatrix} \\sqrt{2} \\\\ {1 \\over \\sqrt{2}} & {\\sqrt{3} \\over 2} \\\\ \n",
    "{1 \\over \\sqrt{2}} & {1 \\over \\sqrt 6} & {2 \\over \\sqrt{3}} \\\\\n",
    "{1 \\over \\sqrt{2}} & {1 \\over \\sqrt 6} & {1 \\over \\sqrt{12}} & {\\sqrt{5} \\over 2}\n",
    "\\end{bmatrix}\n",
    "$$\n",
    "\n",
    "\n",
    "# 3. Timings and Stability\n",
    "\n",
    "The different factorisations have trade-offs between speed and stability.\n",
    "First we compare the speed of the different factorisations on a symmetric positive\n",
    "definite matrix, from fastest to slowest:"
   ]
  },
  {
   "cell_type": "code",
   "execution_count": 13,
   "metadata": {
    "execution": {
     "iopub.execute_input": "2023-02-14T21:54:13.133993Z",
     "iopub.status.busy": "2023-02-14T21:54:13.133047Z",
     "iopub.status.idle": "2023-02-14T21:54:46.711040Z",
     "shell.execute_reply": "2023-02-14T21:54:46.710520Z"
    }
   },
   "outputs": [
    {
     "name": "stdout",
     "output_type": "stream",
     "text": [
      "  303.311 μs (3 allocations: 78.20 KiB)\n",
      "  79.607 μs (4 allocations: 79.08 KiB)\n",
      "  256.592 μs (7 allocations: 134.55 KiB)\n"
     ]
    }
   ],
   "source": [
    "n = 100\n",
    "A = Symmetric(rand(n,n)) + 100I # shift by 10 ensures positivity\n",
    "@btime cholesky(A);\n",
    "@btime lu(A);\n",
    "@btime qr(A);"
   ]
  },
  {
   "cell_type": "markdown",
   "metadata": {},
   "source": [
    "On my machine, `cholesky` is ~1.5x faster than `lu`,  \n",
    "which is ~2x faster than QR. \n",
    "\n",
    "\n",
    "\n",
    "In terms of stability, QR computed with Householder reflections\n",
    "(and Cholesky for positive definite matrices) are stable, \n",
    "whereas LU is usually unstable (unless the matrix\n",
    "is diagonally dominant). PLU is a very complicated story: in theory it is unstable,\n",
    "but the set of matrices for which it is unstable is extremely small, so small one does not\n",
    "normally run into them.\n",
    "\n",
    "Here is an example matrix that is in this set."
   ]
  },
  {
   "cell_type": "code",
   "execution_count": 14,
   "metadata": {
    "execution": {
     "iopub.execute_input": "2023-02-14T21:54:46.713763Z",
     "iopub.status.busy": "2023-02-14T21:54:46.712973Z",
     "iopub.status.idle": "2023-02-14T21:54:47.205848Z",
     "shell.execute_reply": "2023-02-14T21:54:47.205415Z"
    }
   },
   "outputs": [
    {
     "data": {
      "text/plain": [
       "5×5 Matrix{Int64}:\n",
       "  1   0   0   0  1\n",
       " -1   1   0   0  1\n",
       " -1  -1   1   0  1\n",
       " -1  -1  -1   1  1\n",
       " -1  -1  -1  -1  1"
      ]
     },
     "execution_count": 14,
     "metadata": {},
     "output_type": "execute_result"
    }
   ],
   "source": [
    "function badmatrix(n)\n",
    "    A = Matrix(1I, n, n)\n",
    "    A[:,end] .= 1\n",
    "    for j = 1:n-1\n",
    "        A[j+1:end,j] .= -1\n",
    "    end\n",
    "    A\n",
    "end\n",
    "A =1badmatrix(5)"
   ]
  },
  {
   "cell_type": "markdown",
   "metadata": {},
   "source": [
    "Note that pivoting will not occur (we do not pivot as the entries below the diagonal are the same magnitude as the diagonal), thus the PLU Factorisation is equivalent to an LU factorisation:"
   ]
  },
  {
   "cell_type": "code",
   "execution_count": 15,
   "metadata": {
    "execution": {
     "iopub.execute_input": "2023-02-14T21:54:47.208070Z",
     "iopub.status.busy": "2023-02-14T21:54:47.207409Z",
     "iopub.status.idle": "2023-02-14T21:54:47.214016Z",
     "shell.execute_reply": "2023-02-14T21:54:47.213581Z"
    }
   },
   "outputs": [
    {
     "data": {
      "text/plain": [
       "LU{Float64, Matrix{Float64}, Vector{Int64}}\n",
       "L factor:\n",
       "5×5 Matrix{Float64}:\n",
       "  1.0   0.0   0.0   0.0  0.0\n",
       " -1.0   1.0   0.0   0.0  0.0\n",
       " -1.0  -1.0   1.0   0.0  0.0\n",
       " -1.0  -1.0  -1.0   1.0  0.0\n",
       " -1.0  -1.0  -1.0  -1.0  1.0\n",
       "U factor:\n",
       "5×5 Matrix{Float64}:\n",
       " 1.0  0.0  0.0  0.0   1.0\n",
       " 0.0  1.0  0.0  0.0   2.0\n",
       " 0.0  0.0  1.0  0.0   4.0\n",
       " 0.0  0.0  0.0  1.0   8.0\n",
       " 0.0  0.0  0.0  0.0  16.0"
      ]
     },
     "execution_count": 15,
     "metadata": {},
     "output_type": "execute_result"
    }
   ],
   "source": [
    "L,U = lu(A)"
   ]
  },
  {
   "cell_type": "markdown",
   "metadata": {},
   "source": [
    "But here we see an issue: the last column of `U` is growing exponentially fast! Thus when `n` is large\n",
    "we get very large errors:"
   ]
  },
  {
   "cell_type": "code",
   "execution_count": 16,
   "metadata": {
    "execution": {
     "iopub.execute_input": "2023-02-14T21:54:47.216432Z",
     "iopub.status.busy": "2023-02-14T21:54:47.215644Z",
     "iopub.status.idle": "2023-02-14T21:54:47.774278Z",
     "shell.execute_reply": "2023-02-14T21:54:47.773645Z"
    }
   },
   "outputs": [
    {
     "data": {
      "text/plain": [
       "4.03401008242218"
      ]
     },
     "execution_count": 16,
     "metadata": {},
     "output_type": "execute_result"
    }
   ],
   "source": [
    "n = 100\n",
    "b = randn(n)\n",
    "A = badmatrix(n)\n",
    "norm(A\\b - qr(A)\\b) # A \\ b still uses lu"
   ]
  },
  {
   "cell_type": "markdown",
   "metadata": {},
   "source": [
    "Note `qr` is completely fine:"
   ]
  },
  {
   "cell_type": "code",
   "execution_count": 17,
   "metadata": {
    "execution": {
     "iopub.execute_input": "2023-02-14T21:54:47.776949Z",
     "iopub.status.busy": "2023-02-14T21:54:47.776208Z",
     "iopub.status.idle": "2023-02-14T21:54:50.178334Z",
     "shell.execute_reply": "2023-02-14T21:54:50.177761Z"
    }
   },
   "outputs": [
    {
     "data": {
      "text/plain": [
       "6.224059546039034056825914166660385772183212869564350231828315869079770957991858e-15"
      ]
     },
     "execution_count": 17,
     "metadata": {},
     "output_type": "execute_result"
    }
   ],
   "source": [
    "norm(qr(A)\\b - qr(big.(A)) \\b) # roughly machine precision"
   ]
  },
  {
   "cell_type": "markdown",
   "metadata": {},
   "source": [
    "Amazingly, PLU is fine if applied to a small perturbation of `A`:"
   ]
  },
  {
   "cell_type": "code",
   "execution_count": 18,
   "metadata": {
    "execution": {
     "iopub.execute_input": "2023-02-14T21:54:50.181186Z",
     "iopub.status.busy": "2023-02-14T21:54:50.180326Z",
     "iopub.status.idle": "2023-02-14T21:54:50.320483Z",
     "shell.execute_reply": "2023-02-14T21:54:50.319783Z"
    }
   },
   "outputs": [
    {
     "data": {
      "text/plain": [
       "8.747274731765869e-15"
      ]
     },
     "execution_count": 18,
     "metadata": {},
     "output_type": "execute_result"
    }
   ],
   "source": [
    "ε = 0.000001\n",
    "Aε = A .+ ε .* randn.()\n",
    "norm(Aε \\ b - qr(Aε) \\ b) # Now it matches!"
   ]
  },
  {
   "cell_type": "markdown",
   "metadata": {},
   "source": [
    "The big _open problem_ in numerical linear algebra is to prove that the set of matrices\n",
    "for which PLU fails has extremely small measure."
   ]
  }
 ],
 "metadata": {
  "kernelspec": {
   "display_name": "Julia 1.8.3",
   "language": "julia",
   "name": "julia-1.8"
  },
  "language_info": {
   "file_extension": ".jl",
   "mimetype": "application/julia",
   "name": "julia",
   "version": "1.8.3"
  }
 },
 "nbformat": 4,
 "nbformat_minor": 2
}
