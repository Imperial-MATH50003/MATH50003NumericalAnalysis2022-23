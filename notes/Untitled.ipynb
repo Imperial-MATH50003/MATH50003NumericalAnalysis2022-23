{
 "cells": [
  {
   "cell_type": "code",
   "execution_count": 3,
   "id": "11060219",
   "metadata": {},
   "outputs": [
    {
     "data": {
      "text/html": [
       "factorial(n::<b>Union{Int64, UInt64}</b>) in Base at <a href=\"https://github.com/JuliaLang/julia/tree/d0156b560157dde8059a53294dae1e4a3d881ea8/base/combinatorics.jl#L27\" target=\"_blank\">combinatorics.jl:27</a>"
      ],
      "text/plain": [
       "factorial(n::Union{Int64, UInt64}) in Base at combinatorics.jl:27"
      ]
     },
     "execution_count": 3,
     "metadata": {},
     "output_type": "execute_result"
    }
   ],
   "source": [
    "@which factorial(1_000_000)"
   ]
  },
  {
   "cell_type": "code",
   "execution_count": null,
   "id": "481d2ef6",
   "metadata": {},
   "outputs": [],
   "source": []
  }
 ],
 "metadata": {
  "kernelspec": {
   "display_name": "Julia 1.8.3-pre",
   "language": "julia",
   "name": "julia-1.8"
  },
  "language_info": {
   "file_extension": ".jl",
   "mimetype": "application/julia",
   "name": "julia",
   "version": "1.8.3"
  }
 },
 "nbformat": 4,
 "nbformat_minor": 5
}
