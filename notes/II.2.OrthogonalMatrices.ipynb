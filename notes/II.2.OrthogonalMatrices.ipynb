{
 "cells": [
  {
   "cell_type": "markdown",
   "metadata": {},
   "source": [
    "# II.2 Orthogonal and Unitary Matrices\n",
    "\n",
    "A very important class of matrices are _orthogonal_ and _unitary_ matrices:\n",
    "\n",
    "**Definition 1 (orthogonal/unitary matrix)** A square real matrix is _orthogonal_ if its inverse is its transpose:\n",
    "$$\n",
    "O(n) = \\{Q ∈ ℝ^{n × n} : Q^⊤Q = I \\}\n",
    "$$\n",
    "A square complex matrix is _unitary_ if its inverse is its adjoint:\n",
    "$$\n",
    "U(n) = \\{Q ∈ ℂ^{n × n} : Q^⋆Q = I \\}.\n",
    "$$\n",
    "Here the adjoint is the same as the conjugate-transpose: $Q^⋆ := Q̄^⊤$. \n",
    "\n",
    "\n",
    "Note that $O(n) ⊂ U(n)$ as for real matrices $Q^⋆ = Q^⊤$. Because in either case $Q^{-1} = Q^⋆$ we also have\n",
    "$Q Q^⋆ = I$ (which for real matrices is $Q Q^⊤ = I$). These matrices are particularly important for\n",
    "numerical linear algebra for a number of reasons (we'll explore these properties in the problem sheets):\n",
    "\n",
    "1. They are norm-preserving: for any vector $𝐱 ∈ ℂ^n$ we have\n",
    "$\\|Q 𝐱 \\| = \\| 𝐱\\|$ where $\\| 𝐱 \\|^2 := ∑_{k=1}^n x_k^2$ (i.e. the 2-norm).\n",
    "2. All eigenvalues have absolute value equal to $1$\n",
    "3. For $Q ∈ O(n)$,  $\\det Q = ±1$.\n",
    "2. They are trivially invertible (just take the transpose).\n",
    "3. They are generally \"stable\": errors are controlled.\n",
    "4. They are _normal matrices_: they commute with their adjoint ($Q Q^⋆ = Q Q^⋆$). See Chapter C for\n",
    "why this is important. \n",
    "\n",
    "On a computer there are multiple ways of representing orthogonal/unitary matrices,\n",
    "and it is almost never to store a dense matrix storing the entries. We shall therefore\n",
    "investigate three classes: \n",
    "\n",
    "1. _Permutation_: A permutation matrix permutes the rows of a vector and is a representation of the symmetric group.\n",
    "2. _Rotations_: The simple rotations are also known as $2 × 2$ special orthogonal matrices ($SO(2)$)  and correspond to rotations in 2D.\n",
    "3. _Reflections_:  Reflections are $n × n$ orthogonal matrices that have simple definitions in terms of a single vector.\n",
    "\n",
    "We remark a very similar concept are rectangular matrices with orthogonal columns, e.g.\n",
    "$$\n",
    "U = [𝐮_1 | ⋯ | 𝐮_n] ∈ ℝ^{m × n}\n",
    "$$\n",
    "where $m ≥ n$ such that\n",
    "$U^⊤U =  I_n$ (the $n × n$ identity matrix). In this case we must have $UU^⊤ ≠ I_m$ as the rank of $U$ is $n$. These will play an important\n",
    "role in the Singular Value Decomposition.\n",
    "\n",
    "## 1. Permutation Matrices\n",
    "\n",
    "\n",
    "\n",
    "Permutation matrices are matrices that represent the action of permuting the entries of a vector,\n",
    "that is, matrix representations of the symmetric group $S_n$, acting on $ℝ^n$.\n",
    "Recall every $σ ∈ S_n$ is a bijection between $\\{1,2,…,n\\}$ and itself.\n",
    "We can write a permutation $σ$ in _Cauchy notation_:\n",
    "$$\n",
    "\\begin{pmatrix}\n",
    " 1 & 2 & 3 & ⋯ & n \\cr\n",
    " σ_1 & σ_2 & σ_3 & ⋯ & σ_n\n",
    " \\end{pmatrix}\n",
    "$$\n",
    "where $\\{σ_1,…,σ_n\\} = \\{1,2,…,n\\}$ (that is, each integer appears precisely once).\n",
    "We denote the _inverse permutation_ by $σ^{-1}$, which can be constructed by swapping the rows of\n",
    "the Cauchy notation and reordering.\n",
    "\n",
    "We can encode a permutation in vector $\\mathbf σ = [σ_1,…,σ_n]$. \n",
    "This induces an action on a vector (using indexing notation)\n",
    "$$\n",
    "𝐯[\\mathbf σ] = \\begin{bmatrix}v_{σ_1}\\\\ \\vdots \\\\ v_{σ_n} \\end{bmatrix}\n",
    "$$\n",
    "\n",
    "\n",
    "**Example 1 (permutation of a vector)** \n",
    "Consider the permutation $σ$ given by\n",
    "$$\n",
    "\\begin{pmatrix}\n",
    " 1 & 2 & 3 & 4 & 5 \\cr\n",
    " 1 & 4 & 2 & 5 & 3\n",
    " \\end{pmatrix}\n",
    "$$\n",
    "We can apply it to a vector:"
   ]
  },
  {
   "cell_type": "code",
   "execution_count": 1,
   "metadata": {
    "execution": {
     "iopub.execute_input": "2023-02-15T13:41:40.848000Z",
     "iopub.status.busy": "2023-02-15T13:41:40.383000Z",
     "iopub.status.idle": "2023-02-15T13:41:42.313000Z",
     "shell.execute_reply": "2023-02-15T13:41:42.293000Z"
    }
   },
   "outputs": [
    {
     "data": {
      "text/plain": [
       "5-element Vector{Int64}:\n",
       "  6\n",
       "  9\n",
       "  7\n",
       " 10\n",
       "  8"
      ]
     },
     "execution_count": 1,
     "metadata": {},
     "output_type": "execute_result"
    }
   ],
   "source": [
    "σ = [1, 4, 2, 5, 3]\n",
    "v = [6, 7, 8, 9, 10]\n",
    "v[σ] # we permutate entries of v"
   ]
  },
  {
   "cell_type": "markdown",
   "metadata": {},
   "source": [
    "Its inverse permutation $σ^{-1}$ has Cauchy notation coming from swapping the rows of\n",
    "the Cauchy notation of $σ$ and sorting:\n",
    "$$\n",
    "\\begin{pmatrix}\n",
    " 1 & 4 & 2 & 5 & 3 \\cr\n",
    " 1 & 2 & 3 & 4 & 5\n",
    " \\end{pmatrix} \\rightarrow \\begin{pmatrix}\n",
    " 1 & 2 & 4 & 3 & 5 \\cr\n",
    " 1 & 3 & 2 & 5 & 4\n",
    " \\end{pmatrix} \n",
    "$$\n",
    "Julia has the function `invperm` for computing the vector that encodes\n",
    "the inverse permutation:\n",
    "And indeed:"
   ]
  },
  {
   "cell_type": "code",
   "execution_count": 2,
   "metadata": {
    "execution": {
     "iopub.execute_input": "2023-02-15T13:41:42.316000Z",
     "iopub.status.busy": "2023-02-15T13:41:42.316000Z",
     "iopub.status.idle": "2023-02-15T13:41:42.328000Z",
     "shell.execute_reply": "2023-02-15T13:41:42.328000Z"
    }
   },
   "outputs": [
    {
     "data": {
      "text/plain": [
       "5-element Vector{Int64}:\n",
       " 1\n",
       " 3\n",
       " 5\n",
       " 2\n",
       " 4"
      ]
     },
     "execution_count": 2,
     "metadata": {},
     "output_type": "execute_result"
    }
   ],
   "source": [
    "σ⁻¹ = invperm(σ) # note that ⁻¹ are just unicode characters in the variable name"
   ]
  },
  {
   "cell_type": "markdown",
   "metadata": {},
   "source": [
    "And indeed permuting the entries by `σ` and then by `σ⁻¹` returns us\n",
    "to our original vector:"
   ]
  },
  {
   "cell_type": "code",
   "execution_count": 3,
   "metadata": {
    "execution": {
     "iopub.execute_input": "2023-02-15T13:41:42.332000Z",
     "iopub.status.busy": "2023-02-15T13:41:42.332000Z",
     "iopub.status.idle": "2023-02-15T13:41:42.334000Z",
     "shell.execute_reply": "2023-02-15T13:41:42.334000Z"
    }
   },
   "outputs": [
    {
     "data": {
      "text/plain": [
       "5-element Vector{Int64}:\n",
       "  6\n",
       "  7\n",
       "  8\n",
       "  9\n",
       " 10"
      ]
     },
     "execution_count": 3,
     "metadata": {},
     "output_type": "execute_result"
    }
   ],
   "source": [
    "v[σ][σ⁻¹] # permuting by σ and then σⁱ gets us back"
   ]
  },
  {
   "cell_type": "markdown",
   "metadata": {},
   "source": [
    "Note that the operator\n",
    "$$\n",
    "P_σ(𝐯) = 𝐯[\\mathbf σ]\n",
    "$$\n",
    "is linear in $𝐯$, therefore, we can identify it with a matrix whose action is:\n",
    "$$\n",
    "P_σ \\begin{bmatrix} v_1\\\\ \\vdots \\\\ v_n \\end{bmatrix} = \\begin{bmatrix}v_{σ_1} \\\\ \\vdots \\\\ v_{σ_n}  \\end{bmatrix}.\n",
    "$$\n",
    "The entries of this matrix are\n",
    "$$\n",
    "P_σ[k,j] = 𝐞_k^⊤ P_σ 𝐞_j = 𝐞_k^⊤ 𝐞_{σ^{-1}_j} = δ_{k,σ^{-1}_j} = δ_{σ_k,j}\n",
    "$$\n",
    "where $δ_{k,j}$ is the _Kronecker delta_:\n",
    "$$\n",
    "δ_{k,j} := \\begin{cases} 1 & k = j \\\\\n",
    "                        0 & \\hbox{otherwise}\n",
    "                        \\end{cases}.\n",
    "$$\n",
    "\n",
    "\n",
    "This construction motivates the following definition:\n",
    "\n",
    "**Definition 2 (permutation matrix)** $P \\in ℝ^{n × n}$ is a permutation matrix if it is equal to\n",
    "the identity matrix with its rows permuted.\n",
    "\n",
    "**Example 2 (5×5 permutation matrix)**\n",
    "We can construct the permutation representation for $σ$ as above as follows:"
   ]
  },
  {
   "cell_type": "code",
   "execution_count": 4,
   "metadata": {
    "execution": {
     "iopub.execute_input": "2023-02-15T13:41:42.337000Z",
     "iopub.status.busy": "2023-02-15T13:41:42.337000Z",
     "iopub.status.idle": "2023-02-15T13:41:43.214000Z",
     "shell.execute_reply": "2023-02-15T13:41:43.214000Z"
    }
   },
   "outputs": [
    {
     "data": {
      "text/plain": [
       "5×5 Matrix{Bool}:\n",
       " 1  0  0  0  0\n",
       " 0  0  0  1  0\n",
       " 0  1  0  0  0\n",
       " 0  0  0  0  1\n",
       " 0  0  1  0  0"
      ]
     },
     "execution_count": 4,
     "metadata": {},
     "output_type": "execute_result"
    }
   ],
   "source": [
    "P = I(5)[σ,:]"
   ]
  },
  {
   "cell_type": "markdown",
   "metadata": {},
   "source": [
    "And indeed, we see its action is as expected:"
   ]
  },
  {
   "cell_type": "code",
   "execution_count": 5,
   "metadata": {
    "execution": {
     "iopub.execute_input": "2023-02-15T13:41:43.217000Z",
     "iopub.status.busy": "2023-02-15T13:41:43.217000Z",
     "iopub.status.idle": "2023-02-15T13:41:43.281000Z",
     "shell.execute_reply": "2023-02-15T13:41:43.280000Z"
    }
   },
   "outputs": [
    {
     "data": {
      "text/plain": [
       "5-element Vector{Int64}:\n",
       "  6\n",
       "  9\n",
       "  7\n",
       " 10\n",
       "  8"
      ]
     },
     "execution_count": 5,
     "metadata": {},
     "output_type": "execute_result"
    }
   ],
   "source": [
    "P * v"
   ]
  },
  {
   "cell_type": "markdown",
   "metadata": {},
   "source": [
    "**Remark (advanced)** Note that `P` is a special type `SparseMatrixCSC`. This is used\n",
    "to represent a matrix by storing only the non-zero entries as well as their location.\n",
    "This is an important data type in high-performance scientific computing, but we will not\n",
    "be using general sparse matrices in this module.\n",
    "\n",
    "**Proposition 1 (permutation matrix inverse)** \n",
    "Let $P_σ$ be a permutation matrix corresponding to the permutation $σ$. Then\n",
    "$$\n",
    "P_σ^⊤ = P_{σ^{-1}} = P_σ^{-1}\n",
    "$$\n",
    "That is, $P_σ$ is _orthogonal_:\n",
    "$$\n",
    "P_σ^⊤ P_σ = P_σ P_σ^⊤ = I.\n",
    "$$\n",
    "\n",
    "**Proof**\n",
    "\n",
    "We prove orthogonality via:\n",
    "$$\n",
    "𝐞_k^⊤ P_σ^⊤ P_σ 𝐞_j = (P_σ 𝐞_k)^⊤ P_σ 𝐞_j = 𝐞_{σ^{-1}_k}^⊤ 𝐞_{σ^{-1}_j} = δ_{k,j}\n",
    "$$\n",
    "This shows $P_σ^⊤ P_σ = I$ and hence $P_σ^{-1} = P_σ^⊤$. \n",
    "\n",
    "∎\n",
    "\n",
    "\n",
    "\n",
    "\n",
    "## 2. Rotations\n",
    "\n",
    "We begin with a general definition:\n",
    "\n",
    "**Definition 3 (Special Orthogonal and Rotations)** _Special Orthogonal Matrices_ are\n",
    "$$\n",
    "SO(n) := \\{Q ∈ O(n) | \\det Q = 1 \\}\n",
    "$$\n",
    "And (simple) _rotations_ are $SO(2)$.\n",
    "\n",
    "In what follows we use the following for writing the angle of a vector:\n",
    "\n",
    "**Definition 4 (two-arg arctan)** The two-argument arctan function gives the angle `θ` through the point\n",
    "$[a,b]^⊤$, i.e., \n",
    "$$\n",
    "\\sqrt{a^2 + b^2} \\begin{bmatrix} \\cos θ \\\\ \\sin θ \\end{bmatrix} =  \\begin{bmatrix} a \\\\ b \\end{bmatrix}\n",
    "$$\n",
    "It can be defined in terms of the standard arctan as follows:\n",
    "$$\n",
    "{\\rm atan}(b,a) := \\begin{cases} {\\rm atan}{b \\over a} & a > 0 \\\\\n",
    "                            {\\rm atan}{b \\over a} + π & a < 0\\hbox{ and }b >0 \\\\\n",
    "                            {\\rm atan}{b \\over a} - π & a < 0\\hbox{ and }b < 0 \\\\\n",
    "                            π/2 & a = 0\\hbox{ and }b >0 \\\\\n",
    "                            -π/2 & a = 0\\hbox{ and }b < 0 \n",
    "                            \\end{cases}\n",
    "$$ \n",
    "\n",
    "This is available in Julia via the function `atan(y,x)`.\n",
    "\n",
    "\n",
    "We show $SO(2)$ are exactly equivalent to standard rotations:\n",
    "\n",
    "\n",
    "**Proposition 2 (simple rotation)**\n",
    "A 2×2 _rotation matrix_ through angle $θ$ is\n",
    "$$\n",
    "Q_θ := \\begin{bmatrix} \\cos θ & -\\sin θ \\cr \\sin θ & \\cos θ \\end{bmatrix}\n",
    "$$\n",
    "We have $Q ∈ SO(2)$ iff $Q = Q_θ$ for some $θ ∈ ℝ$.\n",
    "\n",
    "**Proof**\n",
    "\n",
    "We will write $c = \\cos θ$ and $s = \\sin θ$. Then we have\n",
    "$$\n",
    "Q_θ^⊤Q_θ = \\begin{pmatrix} c & s \\\\ -s & c \\end{pmatrix} \\begin{pmatrix} c & -s \\\\ s & c \\end{pmatrix} = \n",
    "\\begin{pmatrix} c^2 + s^2 & 0 \\\\ 0 & c^2 + s^2 \\end{pmatrix} = I\n",
    "$$\n",
    "and $\\det Q_θ = c^2 + s^2 = 1$ hence $Q_θ ∈ SO(2)$. \n",
    "\n",
    "Now suppose $Q = [𝐪_1, 𝐪_2] ∈ SO(2)$ where we know its columns have norm 1 $\\|𝐪_k\\| = 1$ and are orthogonal.\n",
    "Write $𝐪_1 = [c,s]$ where we know $c = \\cos θ$ and $s = \\sin θ$ for $θ = {\\rm atan}(s, c)$. \n",
    "Since $𝐪_1\\cdot 𝐪_2 = 0$ we can deduce $𝐪_2 = ± [-s,c]$. The sign is positive as $\\det Q = ±(c^2 + s^2) = ±1$.\n",
    "\n",
    "∎\n",
    "\n",
    "\n",
    "\n",
    "\n",
    "We can rotate an arbitrary vector in $ℝ^2$ to the unit axis using rotations, which are useful in\n",
    "linear algebra decompositions. Interestingly it only requires\n",
    "basic algebraic functions (no trigonometric functions):\n",
    "\n",
    "\n",
    "\n",
    "**Proposition 3 (rotation of a vector)** \n",
    "The matrix\n",
    "$$Q = {1 \\over \\sqrt{a^2 + b^2}}\\begin{bmatrix}\n",
    " a & b \\cr -b & a\n",
    "\\end{bmatrix}\n",
    "$$\n",
    "is a rotation matrix ($Q ∈ SO(2)$) satisfying\n",
    "$$\n",
    "Q \\begin{bmatrix} a \\\\ b \\end{bmatrix} = \\sqrt{a^2 + b^2} \\begin{bmatrix} 1 \\\\ 0 \\end{bmatrix}\n",
    "$$\n",
    "\n",
    "**Proof** \n",
    "\n",
    "The last equation is trivial so the only question is that it is a rotation matrix. This follows immediately:\n",
    "$$\n",
    "Q^⊤ Q = {1 \\over a^2 + b^2}  \\begin{bmatrix}\n",
    " a^2 + b^2 & 0 \\cr 0 & a^2 + b^2\n",
    "\\end{bmatrix} = I\n",
    "$$\n",
    "and $\\det Q = 1$.\n",
    "\n",
    "∎\n",
    "\n",
    "\n",
    "\n",
    "\n",
    "## 3. Reflections\n",
    "\n",
    "In addition to rotations, another type of orthogonal/unitary matrix are reflections:\n",
    "\n",
    "**Definition 5 (reflection matrix)** \n",
    "Given a unit vector $𝐯 ∈ ℂ^n$ (satisfying $\\|𝐯\\|=1$), the _reflection matrix_\n",
    "$$\n",
    "Q_𝐯 := I - 2 𝐯 𝐯^⋆\n",
    "$$\n",
    "\n",
    "\n",
    "These are reflections in the direction of $𝐯$. We can show this as follows:\n",
    "\n",
    "**Proposition 4 (Householder properties)** $Q_𝐯$ satisfies:\n",
    "1. $Q_𝐯 = Q_𝐯^⋆$ (Symmetry)\n",
    "2. $Q_𝐯^⋆ Q_𝐯 = I$ (Orthogonality $Q_𝐯 ∈ U(n)$)\n",
    "2. $𝐯$ is an eigenvector of $Q_𝐯$ with eigenvalue $-1$\n",
    "4. $Q_𝐯$ is a rank-1 perturbation of $I$\n",
    "3. $\\det Q_𝐯 = -1$ ($Q_𝐯 ∉ SO(n)$)\n",
    "\n",
    "\n",
    "**Proof**\n",
    "\n",
    "Property 1 follows immediately. Property 2 follows from\n",
    "$$\n",
    "Q_𝐯^⋆ Q_𝐯 = Q_𝐯^2 = I - 4 𝐯 𝐯^⋆ + 4 𝐯 𝐯^⋆ 𝐯 𝐯^⋆ = I\n",
    "$$\n",
    "Property 3 follows since\n",
    "$$\n",
    "Q_𝐯 𝐯 = -𝐯\n",
    "$$\n",
    "Property 4 follows since $𝐯 𝐯^⊤$ is a rank-1 matrix as all rows are linear combinations of each other.\n",
    "To see property 5, note there is a dimension $n-1$ space $W$ orthogonal to $𝐯$, that is, for all\n",
    "$𝐰 ∈ W$ we have $𝐰^⋆ 𝐯 = 0$, which implies that\n",
    "$$\n",
    "Q_𝐯 𝐰 = 𝐰\n",
    "$$\n",
    "In other words, $1$ is an eigenvalue with multiplicity $n-1$ and $-1$ is an eigenvalue with multiplicity 1,\n",
    "and thus the product of the eigenvalues is $-1$.\n",
    "\n",
    "∎\n",
    "\n",
    "\n",
    "\n",
    "**Example 3 (reflection through 2-vector)** Consider reflection through $𝐱 = [1,2]^⊤$. \n",
    "We first need to normalise $𝐱$:\n",
    "$$\n",
    "𝐯 = {𝐱 \\over \\|𝐱\\|} = \\begin{bmatrix} {1 \\over \\sqrt{5}} \\\\ {2 \\over \\sqrt{5}} \\end{bmatrix}\n",
    "$$\n",
    "Note this indeed has unit norm:\n",
    "$$\n",
    "\\|𝐯\\|^2 = {1 \\over 5} + {4 \\over 5} = 1.\n",
    "$$\n",
    "Thus the reflection matrix is:\n",
    "$$\n",
    "Q_𝐯 = I - 2 𝐯 𝐯^⊤ = \\begin{bmatrix}1 \\\\ & 1 \\end{bmatrix} - {2 \\over 5} \\begin{bmatrix} 1 & 2 \\\\ 2 & 4 \\end{bmatrix}\n",
    " =  {1 \\over 5} \\begin{bmatrix} 3 & -4 \\\\ -4 & -3 \\end{bmatrix}\n",
    "$$\n",
    "Indeed it is symmetric, and orthogonal. It sends $𝐱$ to $-𝐱$:\n",
    "$$\n",
    "Q_𝐯 𝐱 = {1 \\over 5} \\begin{bmatrix}3 - 8 \\\\ -4 - 6 \\end{bmatrix} = -𝐱\n",
    "$$\n",
    "Any vector orthogonal to $𝐱$, like $𝐲 = [-2,1]^⊤$, is left fixed:\n",
    "$$\n",
    "Q_𝐯 𝐲 = {1 \\over 5} \\begin{bmatrix}-6 -4 \\\\ 8 - 3 \\end{bmatrix} = 𝐲\n",
    "$$\n",
    "\n",
    "\n",
    "Note that _building_ the matrix $Q_𝐯$ will be expensive ($O(n^2)$ operations), but we can _apply_\n",
    "$Q_𝐯$ to a vector in $O(n)$ operations using the expression:\n",
    "$$\n",
    "Q_𝐯 𝐱 = 𝐱 - 2 𝐯 (𝐯^⋆ 𝐱) = 𝐱 - 2 𝐯 (𝐯 ⋅ 𝐱).\n",
    "$$\n",
    "\n",
    "\n",
    "Just as rotations can be used to rotate vectors to be aligned with coordinate axis, so can reflections,\n",
    "but in this case it works for vectors in $ℂ^n$, not just $ℝ^2$:\n",
    "\n",
    "**Definition 6 (Householder reflection, real case)** For a given vector\n",
    "$𝐱 ∈ ℝ^n$, define the Householder reflection\n",
    "$$\n",
    "Q_𝐱^{±,\\rm H} := Q_𝐰\n",
    "$$\n",
    "for $𝐲 = ∓ \\|𝐱\\| 𝐞_1 + 𝐱$ and $𝐰 = {𝐲 \\over \\|𝐲\\|}$.\n",
    "The default choice in sign is:\n",
    "$$\n",
    "Q_𝐱^{\\rm H} := Q_𝐱^{-\\hbox{sign}(x_1),\\rm H}.\n",
    "$$\n",
    "\n",
    "\n",
    "**Lemma 1 (Householder reflection maps to axis)** For $𝐱 ∈ ℝ^n$,\n",
    "$$\n",
    "Q_𝐱^{±,\\rm H} 𝐱 = ±\\|𝐱\\| 𝐞_1\n",
    "$$\n",
    "\n",
    "**Proof**\n",
    "Note that\n",
    "$$\n",
    "\\begin{align*}\n",
    "\\| 𝐲 \\|^2 &= 2\\|𝐱\\|^2 ∓ 2 \\|𝐱\\| x_1, \\\\\n",
    "𝐲^⊤ 𝐱 &= \\|𝐱\\|^2 ∓  \\|𝐱\\| x_1\n",
    "\\end{align*}\n",
    "$$\n",
    "where $x_1 = 𝐞_1^⊤ 𝐱$. Therefore:\n",
    "$$\n",
    "Q_𝐱^{±,\\rm H} 𝐱  =  (I - 2 𝐰 𝐰^⊤) 𝐱 = 𝐱 - 2 {𝐲  \\|𝐱\\|  \\over \\|𝐲\\|^2} (\\|𝐱\\|∓x_1) = 𝐱 - 𝐲 =  ±\\|𝐱\\| 𝐞_1.\n",
    "$$\n",
    "\n",
    "∎\n",
    "\n",
    "Why do we choose the the opposite sign of $x_1$ for the default reflection? For stability.\n",
    "We demonstrate the reason for this by numerical example. Consider $𝐱 = [1,h]$, i.e., a small perturbation\n",
    "from $𝐞_1$. If we reflect to $\\hbox{norm}(𝐱)𝐞_1$ we see a numerical problem:"
   ]
  },
  {
   "cell_type": "code",
   "execution_count": 6,
   "metadata": {
    "execution": {
     "iopub.execute_input": "2023-02-15T13:41:43.284000Z",
     "iopub.status.busy": "2023-02-15T13:41:43.284000Z",
     "iopub.status.idle": "2023-02-15T13:41:44.323000Z",
     "shell.execute_reply": "2023-02-15T13:41:44.322000Z"
    }
   },
   "outputs": [
    {
     "data": {
      "text/plain": [
       "2-element Vector{Float64}:\n",
       "  1.0\n",
       " -1.0e-10"
      ]
     },
     "execution_count": 6,
     "metadata": {},
     "output_type": "execute_result"
    }
   ],
   "source": [
    "h = 10.0^(-10)\n",
    "x = [1,h]\n",
    "y = -norm(x)*[1,0] + x\n",
    "w = y/norm(y)\n",
    "Q = I - 2w*w'\n",
    "Q*x"
   ]
  },
  {
   "cell_type": "markdown",
   "metadata": {},
   "source": [
    "It didn't work! Even worse is if `h = 0`:"
   ]
  },
  {
   "cell_type": "code",
   "execution_count": 7,
   "metadata": {
    "execution": {
     "iopub.execute_input": "2023-02-15T13:41:44.326000Z",
     "iopub.status.busy": "2023-02-15T13:41:44.326000Z",
     "iopub.status.idle": "2023-02-15T13:41:44.556000Z",
     "shell.execute_reply": "2023-02-15T13:41:44.555000Z"
    }
   },
   "outputs": [
    {
     "data": {
      "text/plain": [
       "2-element Vector{Float64}:\n",
       " NaN\n",
       " NaN"
      ]
     },
     "execution_count": 7,
     "metadata": {},
     "output_type": "execute_result"
    }
   ],
   "source": [
    "h = 0\n",
    "x = [1,h]\n",
    "y = -norm(x)*[1,0] + x\n",
    "w = y/norm(y)\n",
    "Q = I - 2w*w'\n",
    "Q*x"
   ]
  },
  {
   "cell_type": "markdown",
   "metadata": {},
   "source": [
    "This is because `y` has large relative error due to cancellation\n",
    "from floating point errors in computing the first entry `x[1] - norm(x)`. \n",
    "(Or has norm zero if `h=0`.)\n",
    "We avoid this cancellation by using the default choice:"
   ]
  },
  {
   "cell_type": "code",
   "execution_count": 8,
   "metadata": {
    "execution": {
     "iopub.execute_input": "2023-02-15T13:41:44.559000Z",
     "iopub.status.busy": "2023-02-15T13:41:44.559000Z",
     "iopub.status.idle": "2023-02-15T13:41:44.570000Z",
     "shell.execute_reply": "2023-02-15T13:41:44.570000Z"
    }
   },
   "outputs": [
    {
     "data": {
      "text/plain": [
       "2-element Vector{Float64}:\n",
       " -1.0\n",
       "  0.0"
      ]
     },
     "execution_count": 8,
     "metadata": {},
     "output_type": "execute_result"
    }
   ],
   "source": [
    "h = 10.0^(-10)\n",
    "x = [1,h]\n",
    "y = sign(x[1])*norm(x)*[1,0] + x\n",
    "w = y/norm(y)\n",
    "Q = I - 2w*w'\n",
    "Q*x"
   ]
  },
  {
   "cell_type": "markdown",
   "metadata": {},
   "source": [
    "We can extend this definition for complexes:\n",
    "\n",
    "**Definition 7 (Householder reflection, complex case)** For a given vector\n",
    "$𝐱 ∈ ℂ^n$, define the Householder reflection as\n",
    "$$\n",
    "Q_𝐱^{\\rm H} := Q_𝐰\n",
    "$$\n",
    "for $𝐲 = {\\rm csign}(x_1) \\|𝐱\\| 𝐞_1 + 𝐱$ and $𝐰 = {𝐲 \\over \\|𝐲\\|}$, for ${\\rm csign}(z) = {\\rm e}^{{\\rm i} \\arg z}$. \n",
    "\n",
    "\n",
    "**Lemma 2 (Householder reflection maps to axis, complex case)** For $𝐱 ∈ ℂ^n$,\n",
    "$$\n",
    "Q_𝐱^{\\rm H} 𝐱 = -{\\rm csign}(x_1) \\|𝐱\\| 𝐞_1\n",
    "$$\n",
    "\n",
    "**Proof**\n",
    "Denote $α := {\\rm csign}(x_1)$. \n",
    "Note that $ᾱ x_1 = {\\rm e}^{-{\\rm i} \\arg x_1} x_1 = |x_1|$.  Now we have\n",
    "$$\n",
    "\\begin{align*}\n",
    "\\| 𝐲 \\|^2 &= (α \\|𝐱\\| 𝐞_1 + 𝐱)^⋆(α \\|𝐱\\| 𝐞_1 + 𝐱) = |α|\\| 𝐱 \\|^2 + \\| 𝐱 \\|  α x̄_1 + ᾱ x_1 \\| 𝐱 \\| + \\| 𝐱 \\|^2 \\\\\n",
    "&= 2\\| 𝐱 \\|^2 + 2|x_1| \\| 𝐱 \\| \\\\\n",
    "𝐲^⋆ 𝐱 &= ᾱ x_1 \\| 𝐱 \\| + \\|𝐱 \\|^2 = \\|𝐱 \\|^2 + |x_1| \\| 𝐱 \\|\n",
    "\\end{align*}\n",
    "$$\n",
    "Therefore:\n",
    "$$\n",
    "Q_𝐱^{\\rm H} 𝐱  =  (I - 2 𝐰 𝐰^⋆) 𝐱 = 𝐱 - 2 {𝐲    \\over \\|𝐲\\|^2} (\\|𝐱 \\|^2 + |x_1| \\|𝐱 \\|) = 𝐱 - 𝐲 =  -α \\|𝐱\\| 𝐞_1.\n",
    "$$\n",
    "\n",
    "∎"
   ]
  }
 ],
 "metadata": {
  "kernelspec": {
   "display_name": "Julia 1.8.3",
   "language": "julia",
   "name": "julia-1.8"
  },
  "language_info": {
   "file_extension": ".jl",
   "mimetype": "application/julia",
   "name": "julia",
   "version": "1.8.3"
  }
 },
 "nbformat": 4,
 "nbformat_minor": 2
}
