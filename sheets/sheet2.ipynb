{
 "cells": [
  {
   "cell_type": "markdown",
   "metadata": {},
   "source": [
    "# MATH50003 Numerical Analysis (2022–23)\n",
    "# Problem Sheet 2\n",
    "\n",
    "This problem sheet explores the bounding of floating point arithmetic errors,\n",
    "and shows how these can be used to bound errors in algorithms. \n",
    "\n",
    "Please complete the problems using pen-and-paper, though some can be verified using Julia.\n",
    "\n",
    "\n",
    "------------\n",
    "\n",
    "**Problem 1** Suppose $0 ≤ x < \\min F_{σ,Q,S}^{\\rm normal}$ (the _sub-normal range_).\n",
    "Show that rounding has guaranteed _absolute error_:\n",
    "$$\n",
    "\\begin{align*}\n",
    "{\\rm fl}^{\\rm up}(x) &= x + δ_x^{\\rm up} \\\\\n",
    "{\\rm fl}^{\\rm down}(x) &= x + δ_x^{\\rm down} \\\\\n",
    "{\\rm fl}^{\\rm near}(x) &= x + δ_x^{\\rm near} \n",
    "\\end{align*}\n",
    "$$\n",
    "where\n",
    "$$\n",
    "\\begin{align*}\n",
    "|δ_x^{{\\rm up}/{\\rm down}}| ≤ 2^{1-σ-S} \\\\\n",
    "|δ_x^{{\\rm near}}| ≤ 2^{-σ-S}\n",
    "\\end{align*}\n",
    "$$\n",
    "\n",
    "\n",
    "\n",
    "------------\n",
    "\n",
    "**Problem 2.1** Suppose $|ϵ_i| ≤ ϵ$ and $n ϵ < 1$. Show that\n",
    "$$\n",
    "∏_{k=1}^n (1+ϵ_i) = 1+θ_n\n",
    "$$\n",
    "for some constant $θ_n$ satisfying\n",
    "$$\n",
    "|θ_n| ≤ \\underbrace{n ϵ \\over 1-nϵ}_{E_{n,ϵ}}\n",
    "$$\n",
    "Hint: use induction.\n",
    "\n",
    "\n",
    "\n",
    "**Problem 2.2** Show if $x_1,…,x_n ∈ F$ then\n",
    "$$\n",
    "x_1 ⊗ ⋯ ⊗ x_n = x_1 ⋯ x_n (1 + θ_{n-1})\n",
    "$$\n",
    "where $|θ_n| ≤ E_{n,ϵ_{\\rm m}/2}$, assuming $n ϵ_{\\rm m} < 2$.\n",
    "You may assume all operations are within the normalised range.\n",
    "\n",
    "\n",
    "\n",
    "**Problem 2.3** Show if $x_1,…,x_n ∈ F$ then\n",
    "$$\n",
    "x_1 ⊕ ⋯ ⊕ x_n = x_1 +  ⋯ + x_n + σ_n\n",
    "$$\n",
    "where, for $M = Σ_{k=1}^n |x_k|$, $|σ_n| ≤ M E_{n-1,ϵ_{\\rm m}/2},$ assuming $n ϵ_{\\rm m} < 2$.\n",
    "You may assume all operations are within the normalised range.\n",
    "Hint: use Problem 2.1 to first write \n",
    "$$\n",
    "x_1 ⊕ ⋯ ⊕ x_n = x_1(1+θ_{n-1}) + ∑_{j=2}^n x_j (1 + θ_{n-j+1}).\n",
    "$$\n",
    "\n",
    "\n",
    "\n",
    "\n",
    "-----\n",
    "\n",
    "**Problem 3.1** Consider the algorithm `exp_taylor_fast` from lectures:"
   ]
  },
  {
   "cell_type": "code",
   "execution_count": 1,
   "metadata": {
    "execution": {
     "iopub.execute_input": "2023-01-30T14:12:45.665000Z",
     "iopub.status.busy": "2023-01-30T14:12:45.208000Z",
     "iopub.status.idle": "2023-01-30T14:12:46.237000Z",
     "shell.execute_reply": "2023-01-30T14:12:46.218000Z"
    }
   },
   "outputs": [
    {
     "data": {
      "text/plain": [
       "exp_taylor_fast (generic function with 1 method)"
      ]
     },
     "execution_count": 1,
     "metadata": {},
     "output_type": "execute_result"
    }
   ],
   "source": [
    "function exp_taylor_fast(x, n)\n",
    "    ret = zero(x) # 0 of same type as x\n",
    "    summand = one(x)\n",
    "    for k = 0:n\n",
    "        ret += summand\n",
    "        summand *= x/(k+1)\n",
    "    end\n",
    "    ret\n",
    "end"
   ]
  },
  {
   "cell_type": "markdown",
   "metadata": {},
   "source": [
    "Write this algorithm as a one-line mathematical function $\\exp_n^{\\rm t}(x)$ involving $⊕$, $⊘$, and $⊗$.\n",
    "You may find it convenient to use the notation:\n",
    "$$\n",
    "\\begin{align*}\n",
    "⨁_{k=1}^n x_k &:= x_1 ⊕ ⋯ ⊕ x_n = (⋯((x_1 ⊕ x_2) ⊕ x_3)⋯ ⊕ x_{n-1}) ⊕ x_n \\\\\n",
    "⨂_{k=1}^n x_k &:= x_1 ⊗ ⋯ ⊗ x_n = (⋯((x_1 ⊗ x_2) ⊗ x_3)⋯ ⊗ x_{n-1}) ⊗ x_n \\\\\n",
    "\\end{align*}\n",
    "$$\n",
    "\n",
    "\n",
    "\n",
    "**Problem 3.2** Show that\n",
    "$$\n",
    "\\exp_n^{\\rm t}(x) = ∑_{k=0}^{n-1} {x^k \\over k!} + ε_n\n",
    "$$\n",
    "where\n",
    "$$\n",
    "|ε_n| ≤  \\exp(|x|)  (2E_{n,ϵ_{\\rm m}/2} + E_{n,ϵ_{\\rm m}/2}^2),\n",
    "$$\n",
    "assuming $n ϵ_{\\rm m} < 1$. You may assume all operations are within the normalised range.\n",
    "Hint: combine Problem 2.2 and 2.3 and note that $E_{k,ϵ_{\\rm m}/2} ≤ E_{j,ϵ_{\\rm m}/2}$ when $k ≤ j$.\n",
    "\n",
    "\n",
    "\n",
    "**Problem 3.3** For $x > 0$, find a  bound on the relative error $|ρ_n|$ where\n",
    "$$\n",
    "\\exp_n^{\\rm t}(x) =  (1 +  ρ_n) \\exp x.\n",
    "$$\n",
    "Why does the bound break down when $x < 0$?\n",
    "\n",
    "\n",
    "\n",
    "**Problem 3.4** Give two reasons why the above error bound is not valid as $n → ∞$ if $F_{σ,Q,S}$ is fixed.\n",
    "If $S$ and $Q$ are allowed to depend on $n$ can we guarantee convergence to $\\exp x$?"
   ]
  }
 ],
 "metadata": {
  "kernelspec": {
   "display_name": "Julia 1.8.3",
   "language": "julia",
   "name": "julia-1.8"
  },
  "language_info": {
   "file_extension": ".jl",
   "mimetype": "application/julia",
   "name": "julia",
   "version": "1.8.3"
  }
 },
 "nbformat": 4,
 "nbformat_minor": 2
}
