{
 "cells": [
  {
   "cell_type": "code",
   "execution_count": 1,
   "id": "a3bf3416",
   "metadata": {},
   "outputs": [],
   "source": [
    "# ColorBitstring supports `printbits`, SetRounding supports changing rounding mode\n",
    "using ColorBitstring, SetRounding"
   ]
  },
  {
   "cell_type": "code",
   "execution_count": 2,
   "id": "a0c2dfc3",
   "metadata": {},
   "outputs": [
    {
     "data": {
      "text/plain": [
       "\"2^1 * (1.100100100001111110110101010001000100001011010001100001000110100110001001100011001100010100010111000000011011100000111001101000100101001000000100100111000001000100010100110011111001100011101000000001000001011101111101010011000111011000100111001101100100010…)_2\""
      ]
     },
     "execution_count": 2,
     "metadata": {},
     "output_type": "execute_result"
    }
   ],
   "source": [
    "binarystring(π)"
   ]
  },
  {
   "cell_type": "code",
   "execution_count": 163,
   "id": "8de12edf",
   "metadata": {},
   "outputs": [
    {
     "data": {
      "text/plain": [
       "\"2^1 * (1.1001001000)_2\""
      ]
     },
     "execution_count": 163,
     "metadata": {},
     "output_type": "execute_result"
    }
   ],
   "source": [
    "binarystring(Float16(π, RoundDown))"
   ]
  },
  {
   "cell_type": "code",
   "execution_count": 164,
   "id": "36a2af0d",
   "metadata": {},
   "outputs": [
    {
     "data": {
      "text/plain": [
       "\"2^1 * (1.1001001000)_2\""
      ]
     },
     "execution_count": 164,
     "metadata": {},
     "output_type": "execute_result"
    }
   ],
   "source": [
    "binarystring(Float16(π, RoundNearest))"
   ]
  },
  {
   "cell_type": "code",
   "execution_count": 174,
   "id": "7f34f785",
   "metadata": {},
   "outputs": [
    {
     "name": "stdout",
     "output_type": "stream",
     "text": [
      "\u001b[31m0\u001b[0m\u001b[32m01111\u001b[0m\u001b[34m1001001001\u001b[0m"
     ]
    }
   ],
   "source": [
    "printbits(Float16(parsebinary(Float64, \"1.100100100011\")))"
   ]
  },
  {
   "cell_type": "code",
   "execution_count": 175,
   "id": "b7c5ad79",
   "metadata": {},
   "outputs": [
    {
     "data": {
      "text/plain": [
       "3.5999999999999996"
      ]
     },
     "execution_count": 175,
     "metadata": {},
     "output_type": "execute_result"
    }
   ],
   "source": [
    "(1.1 + 1.2) + 1.3"
   ]
  },
  {
   "cell_type": "code",
   "execution_count": 180,
   "id": "82fcd2bd",
   "metadata": {},
   "outputs": [
    {
     "data": {
      "text/plain": [
       "3.6"
      ]
     },
     "execution_count": 180,
     "metadata": {},
     "output_type": "execute_result"
    }
   ],
   "source": [
    "1.1 + (1.2 + 1.3)"
   ]
  },
  {
   "cell_type": "code",
   "execution_count": 197,
   "id": "fe4ff86b",
   "metadata": {},
   "outputs": [
    {
     "data": {
      "text/plain": [
       "0.3333333f0"
      ]
     },
     "execution_count": 197,
     "metadata": {},
     "output_type": "execute_result"
    }
   ],
   "source": [
    "x = Float32(1) # Warning: can't use constants inside do\n",
    "setrounding(Float32, RoundDown) do\n",
    "    x / 3\n",
    "end"
   ]
  },
  {
   "cell_type": "code",
   "execution_count": 194,
   "id": "f55b6949",
   "metadata": {},
   "outputs": [],
   "source": [
    "# Theorem: true answer is guaranteed to be between RoundUp and RoundDown"
   ]
  },
  {
   "cell_type": "code",
   "execution_count": 238,
   "id": "67e5009b",
   "metadata": {},
   "outputs": [
    {
     "data": {
      "text/plain": [
       "exp_taylor (generic function with 1 method)"
      ]
     },
     "execution_count": 238,
     "metadata": {},
     "output_type": "execute_result"
    }
   ],
   "source": [
    "# Use Taylor series exp(x) = Σ_{k = 0}^n x^k/k!\n",
    "function exp_taylor(x, n)\n",
    "    ret = 0 # 0 of same type as x\n",
    "    for k = 0:n\n",
    "        ret += x^k / big(k)\n",
    "    end\n",
    "    ret\n",
    "end"
   ]
  },
  {
   "cell_type": "code",
   "execution_count": 277,
   "id": "341bfa95",
   "metadata": {},
   "outputs": [
    {
     "data": {
      "text/plain": [
       "exp_taylor_fast (generic function with 2 methods)"
      ]
     },
     "execution_count": 277,
     "metadata": {},
     "output_type": "execute_result"
    }
   ],
   "source": [
    "# Use Taylor series exp(x) = Σ_{k = 0}^n x^k/k!\n",
    "function exp_taylor_fast(x::AbstractFloat, n)\n",
    "    ret = zero(x) # 0 of same type as x\n",
    "    summand = one(x)\n",
    "    for k = 0:n\n",
    "        ret += summand\n",
    "        summand *= x/(k+1)\n",
    "    end\n",
    "    ret\n",
    "end\n",
    "\n",
    "exp_taylor_fast(x::Integer, n) = exp_taylor(float(x), n)"
   ]
  },
  {
   "cell_type": "code",
   "execution_count": 274,
   "id": "2078f08d",
   "metadata": {},
   "outputs": [
    {
     "data": {
      "text/plain": [
       "4.440892098500626e-16"
      ]
     },
     "execution_count": 274,
     "metadata": {},
     "output_type": "execute_result"
    }
   ],
   "source": [
    "exp_taylor(1.0,100_000) - ℯ"
   ]
  },
  {
   "cell_type": "code",
   "execution_count": 275,
   "id": "022fa415",
   "metadata": {},
   "outputs": [
    {
     "data": {
      "text/plain": [
       "-8.291978215169138e-16"
      ]
     },
     "execution_count": 275,
     "metadata": {},
     "output_type": "execute_result"
    }
   ],
   "source": [
    "x = -5.0; exp_taylor(x,100000) - exp(x)"
   ]
  },
  {
   "cell_type": "code",
   "execution_count": 278,
   "id": "0b325a93",
   "metadata": {},
   "outputs": [
    {
     "data": {
      "text/plain": [
       "4.0864082064760686e-9"
      ]
     },
     "execution_count": 278,
     "metadata": {},
     "output_type": "execute_result"
    }
   ],
   "source": [
    "x = -20.0; exp_taylor_fast(x,100_000) - exp(x)"
   ]
  },
  {
   "cell_type": "code",
   "execution_count": 287,
   "id": "59273d73",
   "metadata": {},
   "outputs": [
    {
     "name": "stdout",
     "output_type": "stream",
     "text": [
      "  1.998097 seconds (60.04 M allocations: 2.908 GiB, 7.49% gc time, 0.88% compilation time)\n"
     ]
    },
    {
     "data": {
      "text/plain": [
       "2.501733541180608117725245864142225616256180267715361450619792653848750345760947e-61"
      ]
     },
     "execution_count": 287,
     "metadata": {},
     "output_type": "execute_result"
    }
   ],
   "source": [
    "x = -big(20.0);\n",
    "@time (exp_taylor_fast(x, 10_000_000) - exp(x))/exp(x)"
   ]
  },
  {
   "cell_type": "code",
   "execution_count": null,
   "id": "1bc23d90",
   "metadata": {},
   "outputs": [],
   "source": [
    "# Q1 (analysis): Why does approx. arithmetic fail for negative x but not positive x?\n",
    "# Q2 Can we use rounding to rigorously bound the computation? (Prove estimates of ℯ)\n"
   ]
  }
 ],
 "metadata": {
  "@webio": {
   "lastCommId": null,
   "lastKernelId": null
  },
  "kernelspec": {
   "display_name": "Julia 1.8.3-pre",
   "language": "julia",
   "name": "julia-1.8"
  },
  "language_info": {
   "file_extension": ".jl",
   "mimetype": "application/julia",
   "name": "julia",
   "version": "1.8.3"
  }
 },
 "nbformat": 4,
 "nbformat_minor": 5
}
