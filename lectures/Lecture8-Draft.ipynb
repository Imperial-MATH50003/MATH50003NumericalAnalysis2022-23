{
 "cells": [
  {
   "cell_type": "markdown",
   "id": "b505fd2f",
   "metadata": {},
   "source": [
    "# Abstract types"
   ]
  },
  {
   "cell_type": "code",
   "execution_count": 12,
   "id": "a91bd3b1",
   "metadata": {},
   "outputs": [
    {
     "data": {
      "text/plain": [
       "(Float64, AbstractFloat, Real, Number, Any, Any)"
      ]
     },
     "execution_count": 12,
     "metadata": {},
     "output_type": "execute_result"
    }
   ],
   "source": [
    "# every type has a (unique) supertype which is an \"abstract type\" (meaning you can't make an instance)\n",
    "\n",
    "typeof(1.4), supertype(Float64), supertype(AbstractFloat), supertype(Real), supertype(Number), supertype(Any)"
   ]
  },
  {
   "cell_type": "code",
   "execution_count": 18,
   "id": "8f5e1c17",
   "metadata": {},
   "outputs": [
    {
     "data": {
      "text/plain": [
       "(\"hello\", \"goodby\", \"fes\", \"gdgra\")"
      ]
     },
     "execution_count": 18,
     "metadata": {},
     "output_type": "execute_result"
    }
   ],
   "source": [
    "# functions with multiple applicable definitions use most specific:\n",
    "\n",
    "f(x::Any) = \"any\" # same as `f(x) = \"hello\"`\n",
    "f(x::Number) = \"num\"\n",
    "f(x::AbstractFloat) = \"abs-flaot\"\n",
    "f(x::Float64) = \"float64\"\n",
    "\n",
    "\n",
    "f('U'), f(3), f(5.6), f(big(5.6))"
   ]
  },
  {
   "cell_type": "code",
   "execution_count": 24,
   "id": "ac49bcd1",
   "metadata": {},
   "outputs": [
    {
     "data": {
      "text/plain": [
       "\"num-float\""
      ]
     },
     "execution_count": 24,
     "metadata": {},
     "output_type": "execute_result"
    }
   ],
   "source": [
    "# If thers ambiguity an error is thrown:\n",
    "\n",
    "f(x::Number, y::AbstractFloat) = \"num-float\"\n",
    "f(x::AbstractFloat, y::Number) = \"float-num\"\n",
    "# fixes ambiguity\n",
    "f(x::AbstractFloat, y::AbstractFloat) = \"float-float\"\n",
    "\n",
    "f(3, 1.3)"
   ]
  },
  {
   "cell_type": "code",
   "execution_count": 25,
   "id": "2ccfa1c5",
   "metadata": {},
   "outputs": [],
   "source": [
    "# we can make our own types that are subtypes. This makes an Infinity type whose supertype is Number\n",
    "\n",
    "struct Infinity <: Number\n",
    "end"
   ]
  },
  {
   "cell_type": "code",
   "execution_count": 26,
   "id": "3335108d",
   "metadata": {},
   "outputs": [
    {
     "data": {
      "text/plain": [
       "\"num-float\""
      ]
     },
     "execution_count": 26,
     "metadata": {},
     "output_type": "execute_result"
    }
   ],
   "source": [
    "f(Infinity(), 3.4)"
   ]
  },
  {
   "cell_type": "markdown",
   "id": "de07679e",
   "metadata": {},
   "source": [
    "# Custom matrix type"
   ]
  },
  {
   "cell_type": "code",
   "execution_count": 5,
   "id": "ff9d88a8",
   "metadata": {},
   "outputs": [
    {
     "data": {
      "text/plain": [
       "5×5 MinMatrix{Float64}:\n",
       "  0.1        0.1         0.1        0.1       0.1\n",
       " -1.19223    0.1         0.1        0.1      -1.13858\n",
       "  0.1       -2.07871    -1.04266   -1.52649   0.1\n",
       " -0.134072   0.0178138  -0.580436   0.1      -0.471589\n",
       " -0.883182   0.1         0.1        0.1      -0.782528"
      ]
     },
     "execution_count": 5,
     "metadata": {},
     "output_type": "execute_result"
    }
   ],
   "source": [
    "# Lets make our own structured matrix, representing min.(A, c)\n",
    "\n",
    "struct MinMatrix{T} <: AbstractMatrix{T}\n",
    "    A::Matrix{T}\n",
    "    c::T\n",
    "end\n",
    "\n",
    "import Base: size, getindex, setindex!\n",
    "\n",
    "size(M::MinMatrix) = size(M.A)\n",
    "# getindex(M, k, j) ≡ M[k,j]\n",
    "getindex(M::MinMatrix, k::Int, j::Int) = min(M.A[k,j], M.c)\n",
    "\n",
    "# setindex!(M, v, k, j) ≡ (M[k,j] = v)\n",
    "function setindex!(M::MinMatrix, v, k::Int, j::Int)\n",
    "    if v ≤ M.c\n",
    "        M.A[k,j] = v\n",
    "    else\n",
    "        error(\"Cannot set index\")\n",
    "    end\n",
    "    M\n",
    "end\n",
    "\n",
    "# so far it doesnt do anything\n",
    "\n",
    "A = randn(5,5)\n",
    "\n",
    "M = MinMatrix(A, 0.1)\n"
   ]
  },
  {
   "cell_type": "code",
   "execution_count": 6,
   "id": "8905f367",
   "metadata": {},
   "outputs": [
    {
     "data": {
      "text/plain": [
       "-1"
      ]
     },
     "execution_count": 6,
     "metadata": {},
     "output_type": "execute_result"
    }
   ],
   "source": [
    "M[1,3] = -1"
   ]
  },
  {
   "cell_type": "code",
   "execution_count": 8,
   "id": "f69715b8",
   "metadata": {},
   "outputs": [
    {
     "data": {
      "text/plain": [
       "-5"
      ]
     },
     "execution_count": 8,
     "metadata": {},
     "output_type": "execute_result"
    }
   ],
   "source": [
    "M[1,1] = -5"
   ]
  },
  {
   "cell_type": "code",
   "execution_count": 9,
   "id": "8764447d",
   "metadata": {},
   "outputs": [
    {
     "data": {
      "text/plain": [
       "5×5 MinMatrix{Float64}:\n",
       " -5.0        0.1        -1.0        0.1       0.1\n",
       " -1.19223    0.1         0.1        0.1      -1.13858\n",
       "  0.1       -2.07871    -1.04266   -1.52649   0.1\n",
       " -0.134072   0.0178138  -0.580436   0.1      -0.471589\n",
       " -0.883182   0.1         0.1        0.1      -0.782528"
      ]
     },
     "execution_count": 9,
     "metadata": {},
     "output_type": "execute_result"
    }
   ],
   "source": [
    "M"
   ]
  },
  {
   "cell_type": "code",
   "execution_count": 10,
   "id": "db1cb1a4",
   "metadata": {},
   "outputs": [
    {
     "ename": "LoadError",
     "evalue": "Cannot set index",
     "output_type": "error",
     "traceback": [
      "Cannot set index",
      "",
      "Stacktrace:",
      " [1] error(s::String)",
      "   @ Base ./error.jl:35",
      " [2] setindex!(M::MinMatrix{Float64}, v::Int64, k::Int64, j::Int64)",
      "   @ Main ./In[5]:19",
      " [3] top-level scope",
      "   @ In[10]:1"
     ]
    }
   ],
   "source": [
    "M[1,1] = 10"
   ]
  },
  {
   "cell_type": "code",
   "execution_count": null,
   "id": "7da34b0f",
   "metadata": {},
   "outputs": [],
   "source": []
  }
 ],
 "metadata": {
  "@webio": {
   "lastCommId": null,
   "lastKernelId": null
  },
  "kernelspec": {
   "display_name": "Julia 1.8.3-pre",
   "language": "julia",
   "name": "julia-1.8"
  },
  "language_info": {
   "file_extension": ".jl",
   "mimetype": "application/julia",
   "name": "julia",
   "version": "1.8.3"
  }
 },
 "nbformat": 4,
 "nbformat_minor": 5
}
