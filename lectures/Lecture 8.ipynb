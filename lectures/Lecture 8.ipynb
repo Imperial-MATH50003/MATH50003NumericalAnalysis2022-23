{
 "cells": [
  {
   "cell_type": "markdown",
   "id": "d1f3d428",
   "metadata": {},
   "source": [
    "# Abstract types and custom matrices"
   ]
  },
  {
   "cell_type": "code",
   "execution_count": 8,
   "id": "fe580e80",
   "metadata": {},
   "outputs": [
    {
     "data": {
      "text/plain": [
       "(Float64, AbstractFloat, Real, Number, Any, Any)"
      ]
     },
     "execution_count": 8,
     "metadata": {},
     "output_type": "execute_result"
    }
   ],
   "source": [
    "# every variable has a type\n",
    "# every type has a supertype thats an \"abstract type\"\n",
    "\n",
    "typeof(1.5), supertype(Float64), supertype(AbstractFloat), supertype(Real), supertype(Any), supertype(Any)"
   ]
  },
  {
   "cell_type": "code",
   "execution_count": 15,
   "id": "9010deaa",
   "metadata": {},
   "outputs": [
    {
     "data": {
      "text/plain": [
       "(\"any\", \"num\", \"Float64\", \"abs-float\")"
      ]
     },
     "execution_count": 15,
     "metadata": {},
     "output_type": "execute_result"
    }
   ],
   "source": [
    "f(x::Any) = \"any\" # same as f(x) = \"any\"\n",
    "f(x::Number) = \"num\"\n",
    "f(x::AbstractFloat) = \"abs-float\"\n",
    "f(x::Float64) = \"Float64\"\n",
    "\n",
    "# function calls use the most specific type\n",
    "f('U'), f(3), f(3.4), f(big(3.4))"
   ]
  },
  {
   "cell_type": "code",
   "execution_count": 21,
   "id": "9484e0a0",
   "metadata": {},
   "outputs": [
    {
     "data": {
      "text/plain": [
       "\"float-float\""
      ]
     },
     "execution_count": 21,
     "metadata": {},
     "output_type": "execute_result"
    }
   ],
   "source": [
    "# if theres amibuity an error is thrown\n",
    "\n",
    "f(x::Number, y::AbstractFloat) = \"num-float\"\n",
    "f(x::AbstractFloat, y::Number) = \"num-float\"\n",
    "f(x::AbstractFloat, y::AbstractFloat) = \"float-float\"\n",
    "\n",
    "f(3.4, 4.5)"
   ]
  },
  {
   "cell_type": "code",
   "execution_count": 24,
   "id": "896ba8ba",
   "metadata": {},
   "outputs": [
    {
     "data": {
      "text/plain": [
       "\"num-float\""
      ]
     },
     "execution_count": 24,
     "metadata": {},
     "output_type": "execute_result"
    }
   ],
   "source": [
    "# can specify a supertype using <: when you make a struct\n",
    "struct Infinity <: Number\n",
    "end\n",
    "\n",
    "f(Infinity(), 3.4)"
   ]
  },
  {
   "cell_type": "markdown",
   "id": "97bfb3ec",
   "metadata": {},
   "source": [
    "# AbstractMatrix"
   ]
  },
  {
   "cell_type": "code",
   "execution_count": 28,
   "id": "2b86531b",
   "metadata": {},
   "outputs": [
    {
     "data": {
      "text/plain": [
       "AbstractMatrix{Float64}\u001b[90m (alias for \u001b[39m\u001b[90mAbstractArray{Float64, 2}\u001b[39m\u001b[90m)\u001b[39m"
      ]
     },
     "execution_count": 28,
     "metadata": {},
     "output_type": "execute_result"
    }
   ],
   "source": [
    "A = randn(5,5)\n",
    "supertype(supertype(typeof(A)))"
   ]
  },
  {
   "cell_type": "code",
   "execution_count": 30,
   "id": "a635b93e",
   "metadata": {},
   "outputs": [
    {
     "data": {
      "text/plain": [
       "5×5 Matrix{Float64}:\n",
       " -0.496911  -1.41879   -1.93467   -1.41517   -1.22304\n",
       " -1.55134   -0.515899   0.4       -0.33701   -2.37846\n",
       " -1.46711   -0.373961  -0.341018   0.4        0.4\n",
       " -0.472717   0.379326  -1.74962    0.4        0.0265047\n",
       "  0.4       -1.71438    0.4        0.169466   0.089537"
      ]
     },
     "execution_count": 30,
     "metadata": {},
     "output_type": "execute_result"
    }
   ],
   "source": [
    "# lets make a type that represents the matrix min.(A, c)\n",
    "\n",
    "min.(A, 0.4)"
   ]
  },
  {
   "cell_type": "code",
   "execution_count": 39,
   "id": "b68137a0",
   "metadata": {},
   "outputs": [
    {
     "data": {
      "text/plain": [
       "5×5 MinMatrix{Float64}:\n",
       "  0.2       -1.41879   -1.93467   -1.41517   -1.22304\n",
       " -1.55134   -0.515899   0.4       -0.33701   -2.37846\n",
       " -1.46711   -0.373961  -0.341018   0.4        0.4\n",
       " -0.472717   0.379326  -1.74962    0.4        0.0265047\n",
       "  0.4       -1.71438    0.4        0.169466   0.089537"
      ]
     },
     "execution_count": 39,
     "metadata": {},
     "output_type": "execute_result"
    }
   ],
   "source": [
    "struct MinMatrix{T} <: AbstractMatrix{T}\n",
    "    A::Matrix{T}\n",
    "    c::T\n",
    "end\n",
    "\n",
    "import Base: size, getindex, setindex!\n",
    "size(M::MinMatrix) = size(M.A)\n",
    "\n",
    "# getindex(M, k, j) ≡ M[k,j]\n",
    "getindex(M::MinMatrix, k::Int, j::Int) = min(M.A[k,j], M.c)\n",
    "# setindex!(M, v, k, j) ≡ (M[k,j] = v)\n",
    "function setindex!(M::MinMatrix, v, k::Int, j::Int)\n",
    "   if v ≤ M.c\n",
    "        M.A[k,j] = v\n",
    "    else\n",
    "        error(\"Cannot set index\")\n",
    "    end\n",
    "    M # expected to return M\n",
    "end\n",
    "M = MinMatrix(A, 0.4)\n",
    "M[1,1] =0.2\n",
    "M"
   ]
  },
  {
   "cell_type": "code",
   "execution_count": null,
   "id": "c3e3439b",
   "metadata": {},
   "outputs": [],
   "source": [
    "\n"
   ]
  }
 ],
 "metadata": {
  "kernelspec": {
   "display_name": "Julia 1.8.3-pre",
   "language": "julia",
   "name": "julia-1.8"
  },
  "language_info": {
   "file_extension": ".jl",
   "mimetype": "application/julia",
   "name": "julia",
   "version": "1.8.3"
  }
 },
 "nbformat": 4,
 "nbformat_minor": 5
}
