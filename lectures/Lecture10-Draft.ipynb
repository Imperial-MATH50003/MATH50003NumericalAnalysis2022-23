{
 "cells": [
  {
   "cell_type": "code",
   "execution_count": 2,
   "id": "350e9859",
   "metadata": {},
   "outputs": [
    {
     "ename": "LoadError",
     "evalue": "UndefVarError: scatter not defined",
     "output_type": "error",
     "traceback": [
      "UndefVarError: scatter not defined",
      "",
      "Stacktrace:",
      " [1] top-level scope",
      "   @ In[2]:24"
     ]
    }
   ],
   "source": [
    "# Lets fit a quadratic function with random noise:\n",
    "\n",
    "f = x -> x^2 + 2x + 1 + 0.1randn()\n",
    "\n",
    "m = 200\n",
    "x = range(0,1; length=m) # makes 1000 evenly spaced points between 0 and 1\n",
    "𝐟 = f.(x)\n",
    "\n",
    "# We want to find the polynomial p(x) = p_0 + p_1*x + p_2*x^2  so that\n",
    "# p(x[k]) ≈ f(x[k])\n",
    "# in the sense that norm([p(x[k]) - f(x[k]) for k = 1:m]) == norm(p.(x) -f.(x))\n",
    "# Make the Vandermonde matrix\n",
    "\n",
    "V = [x[k]^j for k=1:m, j=0:2]\n",
    "# Then p.(x) == V*c for c = [p_0,p_1,p_2]\n",
    "# Thus we want to minimise\n",
    "# norm(V*c - 𝐟)\n",
    "# i.e.\n",
    "\n",
    "c = V \\ 𝐟\n",
    "p = x -> c[1] + c[2]x + c[3]x^2\n",
    "\n",
    "\n",
    "scatter(x, 𝐟)\n",
    "plot!(x, p.(x))"
   ]
  },
  {
   "cell_type": "code",
   "execution_count": 3,
   "id": "6acd1671",
   "metadata": {},
   "outputs": [
    {
     "data": {
      "text/plain": [
       "3-element Vector{Float64}:\n",
       " 1.0444692056288087\n",
       " 1.8345658163181848\n",
       " 1.1332314586458379"
      ]
     },
     "execution_count": 3,
     "metadata": {},
     "output_type": "execute_result"
    }
   ],
   "source": [
    "Q,R̂ = qr(V)\n",
    "R̂ \\ (Q'𝐟)[1:3]"
   ]
  },
  {
   "cell_type": "code",
   "execution_count": null,
   "id": "4ff7224d",
   "metadata": {},
   "outputs": [],
   "source": []
  }
 ],
 "metadata": {
  "kernelspec": {
   "display_name": "Julia 1.8.3-pre",
   "language": "julia",
   "name": "julia-1.8"
  },
  "language_info": {
   "file_extension": ".jl",
   "mimetype": "application/julia",
   "name": "julia",
   "version": "1.8.3"
  }
 },
 "nbformat": 4,
 "nbformat_minor": 5
}
