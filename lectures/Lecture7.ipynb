{
 "cells": [
  {
   "cell_type": "code",
   "execution_count": 5,
   "id": "8b5ed11b",
   "metadata": {},
   "outputs": [
    {
     "data": {
      "text/plain": [
       "(Int8, 3, Ptr{Int8} @0x0000000119bccd38)"
      ]
     },
     "execution_count": 5,
     "metadata": {},
     "output_type": "execute_result"
    }
   ],
   "source": [
    "x = Int8[5, 7, 3]\n",
    "# type, length, address memory (called pointer)\n",
    "eltype(x), length(x), pointer(x)"
   ]
  },
  {
   "cell_type": "code",
   "execution_count": 17,
   "id": "3ed6cd51",
   "metadata": {},
   "outputs": [
    {
     "data": {
      "text/plain": [
       "3"
      ]
     },
     "execution_count": 17,
     "metadata": {},
     "output_type": "execute_result"
    }
   ],
   "source": [
    "# DONT DO THIS\n",
    "p = pointer(x)\n",
    "Base.unsafe_load(p+2) # address + 2 gives 3rd entry"
   ]
  },
  {
   "cell_type": "code",
   "execution_count": 22,
   "id": "50bd7ae5",
   "metadata": {},
   "outputs": [
    {
     "data": {
      "text/plain": [
       "3-element Vector{Int16}:\n",
       " 5\n",
       " 7\n",
       " 3"
      ]
     },
     "execution_count": 22,
     "metadata": {},
     "output_type": "execute_result"
    }
   ],
   "source": [
    "x = Int16[5, 7, 3]\n"
   ]
  },
  {
   "cell_type": "code",
   "execution_count": 28,
   "id": "882b5ada",
   "metadata": {},
   "outputs": [
    {
     "data": {
      "text/plain": [
       "7"
      ]
     },
     "execution_count": 28,
     "metadata": {},
     "output_type": "execute_result"
    }
   ],
   "source": [
    "p = pointer(x)\n",
    "T = eltype(x) # type of each entry Int16\n",
    "s = sizeof(T)\n",
    "Base.unsafe_load(p + s)"
   ]
  },
  {
   "cell_type": "code",
   "execution_count": 30,
   "id": "49b4f70f",
   "metadata": {},
   "outputs": [
    {
     "data": {
      "text/plain": [
       "11"
      ]
     },
     "execution_count": 30,
     "metadata": {},
     "output_type": "execute_result"
    }
   ],
   "source": [
    "x[2] = 11"
   ]
  },
  {
   "cell_type": "code",
   "execution_count": 31,
   "id": "0d7df10d",
   "metadata": {},
   "outputs": [
    {
     "data": {
      "text/plain": [
       "3-element Vector{Int16}:\n",
       "  5\n",
       " 11\n",
       "  3"
      ]
     },
     "execution_count": 31,
     "metadata": {},
     "output_type": "execute_result"
    }
   ],
   "source": [
    "x"
   ]
  },
  {
   "cell_type": "markdown",
   "id": "59599e77",
   "metadata": {},
   "source": [
    "## Matrix (dense)"
   ]
  },
  {
   "cell_type": "code",
   "execution_count": 34,
   "id": "b155bb2c",
   "metadata": {},
   "outputs": [
    {
     "data": {
      "text/plain": [
       "6-element Vector{Int64}:\n",
       " 1\n",
       " 3\n",
       " 5\n",
       " 2\n",
       " 4\n",
       " 6"
      ]
     },
     "execution_count": 34,
     "metadata": {},
     "output_type": "execute_result"
    }
   ],
   "source": [
    "A = [1 2;\n",
    "     3 4;\n",
    "     5 6]\n",
    "\n",
    "# storage is same as a vector\n",
    "vec(A)"
   ]
  },
  {
   "cell_type": "code",
   "execution_count": 37,
   "id": "42248eed",
   "metadata": {},
   "outputs": [
    {
     "data": {
      "text/plain": [
       "(Int64, (3, 2), Ptr{Int64} @0x0000000118333290)"
      ]
     },
     "execution_count": 37,
     "metadata": {},
     "output_type": "execute_result"
    }
   ],
   "source": [
    "# a Matrix consists of 3 things:\n",
    "eltype(A), size(A), pointer(A)"
   ]
  },
  {
   "cell_type": "markdown",
   "id": "5abade39",
   "metadata": {},
   "source": [
    "## Matrix-vector mult.\n",
    "# Alg 1 (by rows)"
   ]
  },
  {
   "cell_type": "code",
   "execution_count": 38,
   "id": "4883e816",
   "metadata": {},
   "outputs": [],
   "source": [
    "using LinearAlgebra"
   ]
  },
  {
   "cell_type": "code",
   "execution_count": 41,
   "id": "4be99410",
   "metadata": {},
   "outputs": [
    {
     "data": {
      "text/plain": [
       "5-element Vector{Float64}:\n",
       "  3.6849885779795146\n",
       " -3.1740904211079393\n",
       " -5.02530716150381\n",
       "  1.3563454318235286\n",
       "  2.003051297982582"
      ]
     },
     "execution_count": 41,
     "metadata": {},
     "output_type": "execute_result"
    }
   ],
   "source": [
    "# inbuilt way\n",
    "\n",
    "n = 5\n",
    "A = randn(n,n) # n x n matrix with normal entries\n",
    "x = randn(n)\n",
    "A*x"
   ]
  },
  {
   "cell_type": "code",
   "execution_count": 46,
   "id": "74df8b02",
   "metadata": {},
   "outputs": [
    {
     "data": {
      "text/plain": [
       "true"
      ]
     },
     "execution_count": 46,
     "metadata": {},
     "output_type": "execute_result"
    }
   ],
   "source": [
    "function mul_rows(A, x)\n",
    "    # T is usually Float64\n",
    "    T = promote_type(eltype(A), eltype(x))\n",
    "    m,n = size(A) # dimensions of the matrix\n",
    "    if n != length(x) #!= means not-equal\n",
    "        error(\"incompatible\")\n",
    "    end\n",
    "    b = zeros(T, m) # vector of all zeros\n",
    "    for k = 1:m\n",
    "        for j = 1:n\n",
    "            b[k] = b[k] + A[k,j]*x[j]\n",
    "        end\n",
    "    end\n",
    "    b\n",
    "end\n",
    "\n",
    "# alg 2\n",
    "function mul_cols(A, x)\n",
    "    # T is usually Float64\n",
    "    T = promote_type(eltype(A), eltype(x))\n",
    "    m,n = size(A) # dimensions of the matrix\n",
    "    if n != length(x) #!= means not-equal\n",
    "        error(\"incompatible\")\n",
    "    end\n",
    "    b = zeros(T, m) # vector of all zeros\n",
    "    for j = 1:n    \n",
    "        for k = 1:m\n",
    "            b[k] = b[k] + A[k,j]*x[j]\n",
    "        end\n",
    "    end\n",
    "    b\n",
    "end\n",
    "\n",
    "\n",
    "A*x ≈ mul_rows(A,x) ≈ mul_cols(A,x)"
   ]
  },
  {
   "cell_type": "code",
   "execution_count": 53,
   "id": "eb10a8a3",
   "metadata": {},
   "outputs": [
    {
     "name": "stdout",
     "output_type": "stream",
     "text": [
      "inbulit\n",
      "  0.034237 seconds (2 allocations: 78.172 KiB)\n",
      "by rows\n",
      "  0.755761 seconds (2 allocations: 78.172 KiB)\n",
      "by cols\n",
      "  0.077928 seconds (2 allocations: 78.172 KiB)\n"
     ]
    },
    {
     "data": {
      "text/plain": [
       "10000-element Vector{Float64}:\n",
       "  -91.32837196728642\n",
       "  -66.37156332549786\n",
       "  -38.368867859098586\n",
       "   95.98681803870481\n",
       " -162.49171777688417\n",
       " -128.77564970029033\n",
       "   55.66592206334241\n",
       "  -28.39291854484476\n",
       "  -55.76962136905032\n",
       " -183.00758218995844\n",
       "   68.22537677260885\n",
       "   -1.8396974503482295\n",
       "  -60.04561899915768\n",
       "    ⋮\n",
       "    1.5129231547920376\n",
       "  -38.25097737332226\n",
       " -119.7293539012312\n",
       "   78.21149588048314\n",
       "  261.6888764599231\n",
       "  -77.97595593391188\n",
       "   59.61142149692241\n",
       " -221.5812251829955\n",
       "  -33.589459647925516\n",
       " -171.14954542238306\n",
       "  -76.58026627422821\n",
       "   31.205822037898884"
      ]
     },
     "execution_count": 53,
     "metadata": {},
     "output_type": "execute_result"
    }
   ],
   "source": [
    "n = 10000\n",
    "A = randn(n,n)\n",
    "x = randn(n)\n",
    "println(\"inbulit\")\n",
    "@time A*x\n",
    "println(\"by rows\")\n",
    "@time mul_rows(A,x)\n",
    "println(\"by cols\")\n",
    "@time mul_cols(A,x)"
   ]
  },
  {
   "cell_type": "markdown",
   "id": "b01c7548",
   "metadata": {},
   "source": [
    "# Triangular matrices"
   ]
  },
  {
   "cell_type": "code",
   "execution_count": 55,
   "id": "8472ba30",
   "metadata": {},
   "outputs": [
    {
     "data": {
      "text/plain": [
       "3×3 UpperTriangular{Int64, Matrix{Int64}}:\n",
       " 1  2  3\n",
       " ⋅  5  6\n",
       " ⋅  ⋅  9"
      ]
     },
     "execution_count": 55,
     "metadata": {},
     "output_type": "execute_result"
    }
   ],
   "source": [
    "A = [1 2 3; 4 5 6; 7 8 9]\n",
    "U = UpperTriangular(A) # wraps the matrix A"
   ]
  },
  {
   "cell_type": "code",
   "execution_count": 57,
   "id": "0187dd7a",
   "metadata": {},
   "outputs": [
    {
     "data": {
      "text/plain": [
       "3×3 UpperTriangular{Int64, Matrix{Int64}}:\n",
       " 1  2  6\n",
       " ⋅  5  6\n",
       " ⋅  ⋅  9"
      ]
     },
     "execution_count": 57,
     "metadata": {},
     "output_type": "execute_result"
    }
   ],
   "source": [
    "U[1,3] = 6\n",
    "U"
   ]
  },
  {
   "cell_type": "code",
   "execution_count": 58,
   "id": "5e4cf5ea",
   "metadata": {},
   "outputs": [
    {
     "data": {
      "text/plain": [
       "3×3 Matrix{Int64}:\n",
       " 1  2  6\n",
       " 4  5  6\n",
       " 7  8  9"
      ]
     },
     "execution_count": 58,
     "metadata": {},
     "output_type": "execute_result"
    }
   ],
   "source": [
    "A # modifying U also modifes A"
   ]
  },
  {
   "cell_type": "code",
   "execution_count": 60,
   "id": "dcf80086",
   "metadata": {},
   "outputs": [
    {
     "data": {
      "text/plain": [
       "3×3 Matrix{Int64}:\n",
       " 1  2  6\n",
       " 4  5  6\n",
       " 7  8  9"
      ]
     },
     "execution_count": 60,
     "metadata": {},
     "output_type": "execute_result"
    }
   ],
   "source": [
    "fieldnames(typeof(U))\n",
    "U.data"
   ]
  },
  {
   "cell_type": "code",
   "execution_count": 67,
   "id": "413942de",
   "metadata": {},
   "outputs": [
    {
     "name": "stdout",
     "output_type": "stream",
     "text": [
      "  0.017019 seconds (2 allocations: 78.172 KiB)\n",
      "  6.802189 seconds (6 allocations: 763.092 MiB, 1.08% gc time)\n"
     ]
    }
   ],
   "source": [
    "n = 10000\n",
    "A = randn(n,n)\n",
    "U = UpperTriangular(A)\n",
    "b = randn(n)\n",
    "@time U \\ b # 10x faster by using back-substitution\n",
    "@time A \\ b; # uses matrix-factorization A = P * L *U"
   ]
  },
  {
   "cell_type": "code",
   "execution_count": 68,
   "id": "d42cefdd",
   "metadata": {},
   "outputs": [
    {
     "data": {
      "text/plain": [
       "ldiv (generic function with 1 method)"
      ]
     },
     "execution_count": 68,
     "metadata": {},
     "output_type": "execute_result"
    }
   ],
   "source": [
    "function ldiv(U::UpperTriangular, b) # our implementation of U\\b using backsub\n",
    "    T = promote_type(eltype(U), eltype(b))\n",
    "    m,n = size(U) # note m == n\n",
    "    x = zeros(T, n)\n",
    "    for k = n:-1:1 # compute x[n] first\n",
    "        r = b[k] # r is a \"dummy variabl\"\n",
    "        for j = k+1:n\n",
    "            r = r - U[k,j]*x[j] # note we computed x[j] for j > k\n",
    "        end\n",
    "        x[k] = r/U[k,k]\n",
    "    end\n",
    "    x\n",
    "end"
   ]
  },
  {
   "cell_type": "code",
   "execution_count": 88,
   "id": "c4f6268b",
   "metadata": {},
   "outputs": [
    {
     "data": {
      "text/plain": [
       "true"
      ]
     },
     "execution_count": 88,
     "metadata": {},
     "output_type": "execute_result"
    }
   ],
   "source": [
    "n = 1000\n",
    "# A = randn(n,n)  This is VERY INACCURATE!! WHY???\n",
    "A = randn(n,n) + 100I\n",
    "U = UpperTriangular(A)\n",
    "x = randn(n)\n",
    "b = U*x\n",
    "\n",
    "x ≈ U\\b ≈ ldiv(U,b)"
   ]
  },
  {
   "cell_type": "code",
   "execution_count": 87,
   "id": "32c1d1b9",
   "metadata": {},
   "outputs": [
    {
     "data": {
      "text/plain": [
       "0.0005342043291436943"
      ]
     },
     "execution_count": 87,
     "metadata": {},
     "output_type": "execute_result"
    }
   ],
   "source": [
    "minimum(abs.(diag(A)))"
   ]
  },
  {
   "cell_type": "markdown",
   "id": "9d5bfd95",
   "metadata": {},
   "source": [
    "# 3. Banded Matrices"
   ]
  },
  {
   "cell_type": "code",
   "execution_count": 89,
   "id": "52ee51e1",
   "metadata": {},
   "outputs": [
    {
     "data": {
      "text/plain": [
       "4×4 Diagonal{Int64, Vector{Int64}}:\n",
       " 1  ⋅  ⋅  ⋅\n",
       " ⋅  2  ⋅  ⋅\n",
       " ⋅  ⋅  3  ⋅\n",
       " ⋅  ⋅  ⋅  4"
      ]
     },
     "execution_count": 89,
     "metadata": {},
     "output_type": "execute_result"
    }
   ],
   "source": [
    "d = [1,2,3,4]\n",
    "D = Diagonal(d) # stored as a vector, l = u = 0"
   ]
  },
  {
   "cell_type": "code",
   "execution_count": 90,
   "id": "1261807d",
   "metadata": {},
   "outputs": [
    {
     "data": {
      "text/plain": [
       "5×5 Bidiagonal{Int64, Vector{Int64}}:\n",
       " 1  5  ⋅  ⋅  ⋅\n",
       " ⋅  2  6  ⋅  ⋅\n",
       " ⋅  ⋅  3  7  ⋅\n",
       " ⋅  ⋅  ⋅  4  8\n",
       " ⋅  ⋅  ⋅  ⋅  5"
      ]
     },
     "execution_count": 90,
     "metadata": {},
     "output_type": "execute_result"
    }
   ],
   "source": [
    "d = [1,2,3,4,5]\n",
    "u = [5,6,7,8]\n",
    "U = Bidiagonal(d, u, :U) # stores two vectors and whether upper or loweer"
   ]
  },
  {
   "cell_type": "code",
   "execution_count": 91,
   "id": "5ed1f393",
   "metadata": {},
   "outputs": [
    {
     "data": {
      "text/plain": [
       "5×5 Tridiagonal{Int64, Vector{Int64}}:\n",
       " 1   5   ⋅   ⋅  ⋅\n",
       " 9   2   6   ⋅  ⋅\n",
       " ⋅  10   3   7  ⋅\n",
       " ⋅   ⋅  11   4  8\n",
       " ⋅   ⋅   ⋅  12  5"
      ]
     },
     "execution_count": 91,
     "metadata": {},
     "output_type": "execute_result"
    }
   ],
   "source": [
    "d = [1,2,3,4,5]\n",
    "u = [5,6,7,8]\n",
    "l = [9,10,11,12]\n",
    "T = Tridiagonal(l, d, u) # store 3 vectors\n",
    "\n",
    "# Tridiagonal come up for solving ODEs"
   ]
  },
  {
   "cell_type": "code",
   "execution_count": 99,
   "id": "7c8bb9a0",
   "metadata": {},
   "outputs": [
    {
     "name": "stdout",
     "output_type": "stream",
     "text": [
      "  0.099128 seconds (2 allocations: 76.294 MiB)\n"
     ]
    }
   ],
   "source": [
    "n = 10_000_000 # _ means ,\n",
    "d = randn(n) .+ 1000 # add 1000 to diag so its \"stable\"\n",
    "u = randn(n-1)\n",
    "U = Bidiagonal(d, u, :U) # stores two vectors and whether upper or loweer\n",
    "b = randn(n)\n",
    "@time U \\ b; # computational cost scales like n"
   ]
  },
  {
   "cell_type": "code",
   "execution_count": 103,
   "id": "7a815c73",
   "metadata": {},
   "outputs": [
    {
     "data": {
      "text/plain": [
       "'U': ASCII/Unicode U+0055 (category Lu: Letter, uppercase)"
      ]
     },
     "execution_count": 103,
     "metadata": {},
     "output_type": "execute_result"
    }
   ],
   "source": [
    "fieldnames(typeof(U))\n",
    "U.uplo # == 'U'"
   ]
  },
  {
   "cell_type": "code",
   "execution_count": 105,
   "id": "bdd1c5d7",
   "metadata": {},
   "outputs": [
    {
     "data": {
      "text/plain": [
       "ldiv (generic function with 2 methods)"
      ]
     },
     "execution_count": 105,
     "metadata": {},
     "output_type": "execute_result"
    }
   ],
   "source": [
    "function ldiv(U::Bidiagonal, b) # our implementation of U\\b using backsub\n",
    "    T = promote_type(eltype(U), eltype(b))\n",
    "    m,n = size(U) # note m == n\n",
    "    x = zeros(T, n)\n",
    "    if U.uplo == 'U'\n",
    "        for k = n:-1:1 # compute x[n] first\n",
    "            r = b[k] # r is a \"dummy variabl\"\n",
    "            for j = k+1:min(n,k+1) # only access non-zeros of U\n",
    "                r = r - U[k,j]*x[j] # note we computed x[j] for j > k\n",
    "            end\n",
    "            x[k] = r/U[k,k]\n",
    "        end\n",
    "    else\n",
    "        error(\"Not implemented\")\n",
    "    end\n",
    "    x\n",
    "end"
   ]
  },
  {
   "cell_type": "code",
   "execution_count": 107,
   "id": "3cc385d3",
   "metadata": {},
   "outputs": [
    {
     "data": {
      "text/plain": [
       "true"
      ]
     },
     "execution_count": 107,
     "metadata": {},
     "output_type": "execute_result"
    }
   ],
   "source": [
    "n = 1000 # _ means ,\n",
    "d = randn(n) .+ 1000 # add 1000 to diag so its \"stable\"\n",
    "u = randn(n-1)\n",
    "U = Bidiagonal(d, u, :U) # stores two vectors and whether upper or loweer\n",
    "b = randn(n)\n",
    "U \\ b ≈ ldiv(U,b)"
   ]
  },
  {
   "cell_type": "code",
   "execution_count": null,
   "id": "313966bc",
   "metadata": {},
   "outputs": [],
   "source": []
  }
 ],
 "metadata": {
  "kernelspec": {
   "display_name": "Julia 1.8.3-pre",
   "language": "julia",
   "name": "julia-1.8"
  },
  "language_info": {
   "file_extension": ".jl",
   "mimetype": "application/julia",
   "name": "julia",
   "version": "1.8.3"
  }
 },
 "nbformat": 4,
 "nbformat_minor": 5
}
