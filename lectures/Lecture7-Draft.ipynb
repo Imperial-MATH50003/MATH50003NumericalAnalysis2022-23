{
 "cells": [
  {
   "cell_type": "code",
   "execution_count": 92,
   "id": "23b1653a",
   "metadata": {},
   "outputs": [],
   "source": [
    "using LinearAlgebra, Test"
   ]
  },
  {
   "cell_type": "markdown",
   "id": "c92fa9ca",
   "metadata": {},
   "source": [
    "# Matrix/Vector storage"
   ]
  },
  {
   "cell_type": "code",
   "execution_count": 38,
   "id": "ca9ad70e",
   "metadata": {},
   "outputs": [
    {
     "data": {
      "text/plain": [
       "3-element Vector{UInt8}:\n",
       " 0x04\n",
       " 0x05\n",
       " 0x06"
      ]
     },
     "execution_count": 38,
     "metadata": {},
     "output_type": "execute_result"
    }
   ],
   "source": [
    "x = UInt8[4,5,6]"
   ]
  },
  {
   "cell_type": "code",
   "execution_count": 76,
   "id": "077512b6",
   "metadata": {},
   "outputs": [
    {
     "data": {
      "text/plain": [
       "3-element Vector{UInt8}:\n",
       " 0x02\n",
       " 0x05\n",
       " 0x06"
      ]
     },
     "execution_count": 76,
     "metadata": {},
     "output_type": "execute_result"
    }
   ],
   "source": [
    "x[1] = 2 # converts 2 to UInt8, changes data x points to\n",
    "x"
   ]
  },
  {
   "cell_type": "code",
   "execution_count": 39,
   "id": "8f0c2a10",
   "metadata": {},
   "outputs": [
    {
     "data": {
      "text/plain": [
       "(UInt8, 3, Ptr{UInt8} @0x0000000118e007f8)"
      ]
     },
     "execution_count": 39,
     "metadata": {},
     "output_type": "execute_result"
    }
   ],
   "source": [
    "eltype(x), length(x), pointer(x) # these three things define a vector"
   ]
  },
  {
   "cell_type": "code",
   "execution_count": 4,
   "id": "ce44fde5",
   "metadata": {},
   "outputs": [
    {
     "data": {
      "text/plain": [
       "Ptr{UInt8} @0x0000000118f8c678"
      ]
     },
     "execution_count": 4,
     "metadata": {},
     "output_type": "execute_result"
    }
   ],
   "source": [
    "p = pointer(x) #0x… is address in memory"
   ]
  },
  {
   "cell_type": "code",
   "execution_count": 5,
   "id": "82d3f6b4",
   "metadata": {},
   "outputs": [
    {
     "data": {
      "text/plain": [
       "0x04"
      ]
     },
     "execution_count": 5,
     "metadata": {},
     "output_type": "execute_result"
    }
   ],
   "source": [
    "# DONT DO THIS!\n",
    "Base.unsafe_load(p)"
   ]
  },
  {
   "cell_type": "code",
   "execution_count": 14,
   "id": "5c2aeb3b",
   "metadata": {},
   "outputs": [
    {
     "data": {
      "text/plain": [
       "0x06"
      ]
     },
     "execution_count": 14,
     "metadata": {},
     "output_type": "execute_result"
    }
   ],
   "source": [
    "Base.unsafe_load(p+2)"
   ]
  },
  {
   "cell_type": "code",
   "execution_count": 15,
   "id": "3c51081d",
   "metadata": {},
   "outputs": [
    {
     "data": {
      "text/plain": [
       "3-element Vector{Int16}:\n",
       " 4\n",
       " 5\n",
       " 6"
      ]
     },
     "execution_count": 15,
     "metadata": {},
     "output_type": "execute_result"
    }
   ],
   "source": [
    "x = Int16[4,5,6]"
   ]
  },
  {
   "cell_type": "code",
   "execution_count": 18,
   "id": "cd671fbb",
   "metadata": {},
   "outputs": [
    {
     "data": {
      "text/plain": [
       "4"
      ]
     },
     "execution_count": 18,
     "metadata": {},
     "output_type": "execute_result"
    }
   ],
   "source": [
    "p = pointer(x)\n",
    "Base.unsafe_load(p)"
   ]
  },
  {
   "cell_type": "code",
   "execution_count": 21,
   "id": "0d5fefba",
   "metadata": {},
   "outputs": [
    {
     "data": {
      "text/plain": [
       "5"
      ]
     },
     "execution_count": 21,
     "metadata": {},
     "output_type": "execute_result"
    }
   ],
   "source": [
    "T = eltype(x) # typeof(x[1])\n",
    "Base.unsafe_load(p+sizeof(T))"
   ]
  },
  {
   "cell_type": "code",
   "execution_count": 26,
   "id": "2d442a87",
   "metadata": {},
   "outputs": [
    {
     "data": {
      "text/plain": [
       "5.6"
      ]
     },
     "execution_count": 26,
     "metadata": {},
     "output_type": "execute_result"
    }
   ],
   "source": [
    "x = [3.4, 5.6, 7.9]\n",
    "p = pointer(x)\n",
    "Base.unsafe_load(p + 8)"
   ]
  },
  {
   "cell_type": "code",
   "execution_count": 27,
   "id": "d3649702",
   "metadata": {},
   "outputs": [
    {
     "data": {
      "text/plain": [
       "3×2 Matrix{Int64}:\n",
       " 1  2\n",
       " 3  4\n",
       " 5  6"
      ]
     },
     "execution_count": 27,
     "metadata": {},
     "output_type": "execute_result"
    }
   ],
   "source": [
    "A = [1 2; 3 4; 5 6]"
   ]
  },
  {
   "cell_type": "code",
   "execution_count": 28,
   "id": "6c621746",
   "metadata": {},
   "outputs": [
    {
     "data": {
      "text/plain": [
       "6-element Vector{Int64}:\n",
       " 1\n",
       " 3\n",
       " 5\n",
       " 2\n",
       " 4\n",
       " 6"
      ]
     },
     "execution_count": 28,
     "metadata": {},
     "output_type": "execute_result"
    }
   ],
   "source": [
    "vec(A) # storage is same as a vector"
   ]
  },
  {
   "cell_type": "code",
   "execution_count": 33,
   "id": "53141c60",
   "metadata": {},
   "outputs": [
    {
     "data": {
      "text/plain": [
       "2"
      ]
     },
     "execution_count": 33,
     "metadata": {},
     "output_type": "execute_result"
    }
   ],
   "source": [
    "p = pointer(A)\n",
    "T = eltype(A)\n",
    "Base.unsafe_load(p + 3sizeof(T))"
   ]
  },
  {
   "cell_type": "code",
   "execution_count": 36,
   "id": "6987788a",
   "metadata": {},
   "outputs": [
    {
     "data": {
      "text/plain": [
       "(Int64, (3, 2), Ptr{Int64} @0x0000000117ea5a80)"
      ]
     },
     "execution_count": 36,
     "metadata": {},
     "output_type": "execute_result"
    }
   ],
   "source": [
    "eltype(A), size(A), pointer(A) # these three things define a matrix"
   ]
  },
  {
   "cell_type": "markdown",
   "id": "88872a60",
   "metadata": {},
   "source": [
    "## Matrix*vector"
   ]
  },
  {
   "cell_type": "code",
   "execution_count": 52,
   "id": "c7277c2f",
   "metadata": {},
   "outputs": [
    {
     "data": {
      "text/plain": [
       "mul_cols (generic function with 1 method)"
      ]
     },
     "execution_count": 52,
     "metadata": {},
     "output_type": "execute_result"
    }
   ],
   "source": [
    "function mul_rows(A, x)\n",
    "    T = promote_type(eltype(A), eltype(x)) # \"bigger\" type, e.g. Float64\n",
    "    m,n = size(A) # dimensions of matrix\n",
    "    b = zeros(T, m) # we will return this\n",
    "    for k = 1:m # do this for each row\n",
    "        for j = 1:n # going along each column\n",
    "            b[k] = b[k] + A[k,j]*x[j]\n",
    "        end\n",
    "    end\n",
    "    b\n",
    "end\n",
    "\n",
    "function mul_cols(A, x)\n",
    "    T = promote_type(eltype(A), eltype(x)) # \"bigger\" type, e.g. Float64\n",
    "    m,n = size(A) # dimensions of matrix\n",
    "    b = zeros(T, m) # we will return this\n",
    "    for j = 1:n # going along each column\n",
    "        for k = 1:m # do this for each row\n",
    "            b[k] = b[k] + A[k,j]*x[j]\n",
    "        end\n",
    "    end\n",
    "    b\n",
    "end"
   ]
  },
  {
   "cell_type": "code",
   "execution_count": 60,
   "id": "1c00dc39",
   "metadata": {},
   "outputs": [
    {
     "name": "stdout",
     "output_type": "stream",
     "text": [
      "  0.007604 seconds (2 allocations: 39.109 KiB)\n",
      "  0.140324 seconds (2 allocations: 39.109 KiB)\n",
      "  0.020116 seconds (2 allocations: 39.109 KiB)\n"
     ]
    }
   ],
   "source": [
    "n = 5000\n",
    "A = randn(n,n)\n",
    "b = randn(n)\n",
    "\n",
    "@time A*b;\n",
    "@time mul_rows(A,b);\n",
    "@time mul_cols(A,b); # 7x faster!"
   ]
  },
  {
   "cell_type": "markdown",
   "id": "35a053c7",
   "metadata": {},
   "source": [
    "# Triangular matrices"
   ]
  },
  {
   "cell_type": "code",
   "execution_count": 63,
   "id": "9536c235",
   "metadata": {},
   "outputs": [
    {
     "data": {
      "text/plain": [
       "3×3 UpperTriangular{Int64, Matrix{Int64}}:\n",
       " 1  2  3\n",
       " ⋅  5  6\n",
       " ⋅  ⋅  9"
      ]
     },
     "execution_count": 63,
     "metadata": {},
     "output_type": "execute_result"
    }
   ],
   "source": [
    "A = [1 2  3; 4 5 6; 7 8 9]\n",
    "U = UpperTriangular(A) # a subtype of AbstractMatrix, wraps A"
   ]
  },
  {
   "cell_type": "code",
   "execution_count": 71,
   "id": "0cbccb15",
   "metadata": {},
   "outputs": [
    {
     "data": {
      "text/plain": [
       "3"
      ]
     },
     "execution_count": 71,
     "metadata": {},
     "output_type": "execute_result"
    }
   ],
   "source": [
    "U[1,1] = 3"
   ]
  },
  {
   "cell_type": "code",
   "execution_count": 74,
   "id": "0d3ebd89",
   "metadata": {},
   "outputs": [
    {
     "data": {
      "text/plain": [
       "3×3 LowerTriangular{Int64, Matrix{Int64}}:\n",
       " 3  ⋅  ⋅\n",
       " 4  5  ⋅\n",
       " 7  8  9"
      ]
     },
     "execution_count": 74,
     "metadata": {},
     "output_type": "execute_result"
    }
   ],
   "source": [
    "LowerTriangular(A)"
   ]
  },
  {
   "cell_type": "code",
   "execution_count": 73,
   "id": "be238f88",
   "metadata": {},
   "outputs": [
    {
     "data": {
      "text/plain": [
       "3×3 Matrix{Int64}:\n",
       " 3  2  3\n",
       " 4  5  6\n",
       " 7  8  9"
      ]
     },
     "execution_count": 73,
     "metadata": {},
     "output_type": "execute_result"
    }
   ],
   "source": [
    "A"
   ]
  },
  {
   "cell_type": "code",
   "execution_count": 77,
   "id": "32dc2a0c",
   "metadata": {},
   "outputs": [
    {
     "data": {
      "text/plain": [
       "mul_cols (generic function with 2 methods)"
      ]
     },
     "execution_count": 77,
     "metadata": {},
     "output_type": "execute_result"
    }
   ],
   "source": [
    "# UpperTriangular can use only n*(n-1)/2 entries:\n",
    "function mul_cols(U::UpperTriangular, x)\n",
    "    T = promote_type(eltype(U), eltype(x)) # \"bigger\" type, e.g. Float64\n",
    "    m,n = size(U) # dimensions of matrix\n",
    "    b = zeros(T, m) # we will return this\n",
    "    for j = 1:n # going along each column\n",
    "        for k = 1:j # do this for each row\n",
    "            b[k] = b[k] + U[k,j]*x[j]\n",
    "        end\n",
    "    end\n",
    "    b\n",
    "end"
   ]
  },
  {
   "cell_type": "code",
   "execution_count": 95,
   "id": "8cc6ac0d",
   "metadata": {},
   "outputs": [
    {
     "name": "stdout",
     "output_type": "stream",
     "text": [
      "  0.000457 seconds (1 allocation: 7.938 KiB)\n",
      "  0.000308 seconds (1 allocation: 7.938 KiB)\n",
      "  0.000673 seconds (1 allocation: 7.938 KiB)\n",
      "  0.000579 seconds (1 allocation: 7.938 KiB)\n"
     ]
    }
   ],
   "source": [
    "n = 1000\n",
    "A = randn(n,n)\n",
    "U= UpperTriangular(A)\n",
    "b = randn(n)\n",
    "\n",
    "\n",
    "@time A*b;\n",
    "@time U*b;\n",
    "@time mul_cols(A,b); \n",
    "@time mul_cols(U,b);"
   ]
  },
  {
   "cell_type": "code",
   "execution_count": 91,
   "id": "f4f2c5d3",
   "metadata": {},
   "outputs": [
    {
     "data": {
      "text/plain": [
       "true"
      ]
     },
     "execution_count": 91,
     "metadata": {},
     "output_type": "execute_result"
    }
   ],
   "source": [
    "mul_cols(U,b) ≈ U*b"
   ]
  },
  {
   "cell_type": "code",
   "execution_count": 108,
   "id": "8b89f953",
   "metadata": {},
   "outputs": [
    {
     "data": {
      "text/plain": [
       "ldiv (generic function with 1 method)"
      ]
     },
     "execution_count": 108,
     "metadata": {},
     "output_type": "execute_result"
    }
   ],
   "source": [
    "# UpperTriangular can use only n*(n-1)/2 entries:\n",
    "function ldiv(U::UpperTriangular, b)\n",
    "    T = promote_type(eltype(U), eltype(b)) # \"bigger\" type, e.g. Float64\n",
    "    m,n = size(U) # dimensions of matrix\n",
    "    # we know m == n\n",
    "    x = zeros(T, m) # we will return this\n",
    "    for k = n:-1:1\n",
    "        r = b[k]\n",
    "        for j = 2:n\n",
    "            r = r - A[k,j]*x[j]\n",
    "        end\n",
    "        x[k] = r/U[k,k]\n",
    "    end\n",
    "    x\n",
    "end"
   ]
  },
  {
   "cell_type": "code",
   "execution_count": 111,
   "id": "8db9902d",
   "metadata": {},
   "outputs": [
    {
     "data": {
      "text/plain": [
       "true"
      ]
     },
     "execution_count": 111,
     "metadata": {},
     "output_type": "execute_result"
    }
   ],
   "source": [
    "n = 1000\n",
    "A = randn(n,n) + 100I # WHY???\n",
    "U = UpperTriangular(A)\n",
    "x = randn(n)\n",
    "\n",
    "\n",
    "b = U*x\n",
    "ldiv(U,b) ≈ x"
   ]
  },
  {
   "cell_type": "markdown",
   "id": "14b7e5b5",
   "metadata": {},
   "source": [
    "## Banded matrices"
   ]
  },
  {
   "cell_type": "code",
   "execution_count": 123,
   "id": "dbc38db4",
   "metadata": {},
   "outputs": [
    {
     "data": {
      "text/plain": [
       "10"
      ]
     },
     "execution_count": 123,
     "metadata": {},
     "output_type": "execute_result"
    }
   ],
   "source": [
    "d = [1,2,3,4,5]\n",
    "D = Diagonal(d) # stores a vector\n",
    "\n",
    "D[3,3] = 10"
   ]
  },
  {
   "cell_type": "code",
   "execution_count": 131,
   "id": "b1ddd312",
   "metadata": {},
   "outputs": [
    {
     "data": {
      "text/plain": [
       "'U': ASCII/Unicode U+0055 (category Lu: Letter, uppercase)"
      ]
     },
     "execution_count": 131,
     "metadata": {},
     "output_type": "execute_result"
    }
   ],
   "source": [
    "d = [1,2,3,4,5]\n",
    "u = [5,6,7,8]\n",
    "U = Bidiagonal(d, u, :U) # stores 2 vectors and U.uplo. Fast multiplication and inv:\n",
    "\n",
    "fieldnames(typeof(U))\n",
    "U.uplo"
   ]
  },
  {
   "cell_type": "code",
   "execution_count": 174,
   "id": "a26be392",
   "metadata": {},
   "outputs": [
    {
     "data": {
      "text/plain": [
       "ldiv (generic function with 2 methods)"
      ]
     },
     "execution_count": 174,
     "metadata": {},
     "output_type": "execute_result"
    }
   ],
   "source": [
    "function ldiv(U::Bidiagonal, b)\n",
    "    T = promote_type(eltype(U), eltype(b)) # \"bigger\" type, e.g. Float64\n",
    "    m,n = size(U) # dimensions of matrix\n",
    "    # we know m == n\n",
    "    x = zeros(T, m) # we will return this\n",
    "    \n",
    "    if U.uplo == 'U'\n",
    "        for k = n:-1:1\n",
    "            r = b[k]\n",
    "            if k ≠ n\n",
    "                r = r - U[k,k+1]*x[k+1]\n",
    "            end\n",
    "            x[k] = r/U[k,k]\n",
    "        end\n",
    "    else\n",
    "        error(\"Lower not implemented\")\n",
    "    end\n",
    "    x\n",
    "end"
   ]
  },
  {
   "cell_type": "code",
   "execution_count": 177,
   "id": "cfc20e0a",
   "metadata": {},
   "outputs": [
    {
     "data": {
      "text/plain": [
       "true"
      ]
     },
     "execution_count": 177,
     "metadata": {},
     "output_type": "execute_result"
    }
   ],
   "source": [
    "x = randn(5)\n",
    "b = U*x\n",
    "ldiv(U, b) ≈ x"
   ]
  },
  {
   "cell_type": "code",
   "execution_count": 178,
   "id": "d49b9791",
   "metadata": {},
   "outputs": [
    {
     "data": {
      "text/plain": [
       "5×5 Tridiagonal{Int64, Vector{Int64}}:\n",
       " 1   5   ⋅   ⋅  ⋅\n",
       " 9   2   6   ⋅  ⋅\n",
       " ⋅  10   3   7  ⋅\n",
       " ⋅   ⋅  11   4  8\n",
       " ⋅   ⋅   ⋅  12  5"
      ]
     },
     "execution_count": 178,
     "metadata": {},
     "output_type": "execute_result"
    }
   ],
   "source": [
    "d = [1,2,3,4,5]\n",
    "u = [5,6,7,8]\n",
    "l = [9,10,11,12]\n",
    "T = Tridiagonal(l, d, u)"
   ]
  },
  {
   "cell_type": "code",
   "execution_count": null,
   "id": "30d171ce",
   "metadata": {},
   "outputs": [],
   "source": []
  }
 ],
 "metadata": {
  "kernelspec": {
   "display_name": "Julia 1.8.3-pre",
   "language": "julia",
   "name": "julia-1.8"
  },
  "language_info": {
   "file_extension": ".jl",
   "mimetype": "application/julia",
   "name": "julia",
   "version": "1.8.3"
  }
 },
 "nbformat": 4,
 "nbformat_minor": 5
}
