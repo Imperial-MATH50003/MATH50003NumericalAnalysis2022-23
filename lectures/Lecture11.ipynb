{
 "cells": [
  {
   "cell_type": "code",
   "execution_count": null,
   "id": "3a8f893b",
   "metadata": {},
   "outputs": [],
   "source": [
    "using LinearAlgebra, Test"
   ]
  },
  {
   "cell_type": "code",
   "execution_count": 9,
   "id": "0d57af60",
   "metadata": {},
   "outputs": [
    {
     "data": {
      "text/plain": [
       "householderreflection (generic function with 1 method)"
      ]
     },
     "execution_count": 9,
     "metadata": {},
     "output_type": "execute_result"
    }
   ],
   "source": [
    "# We want to implement QR with householder\n",
    "\n",
    "function householderreflection(x)\n",
    "    T = float(eltype(x)) # float(Int) returns Float64\n",
    "    y = Vector{T}(x)\n",
    "    y[1] += norm(x)*sign(x[1])\n",
    "    w = y/norm(y)\n",
    "    I - 2w*w'\n",
    "end"
   ]
  },
  {
   "cell_type": "code",
   "execution_count": 34,
   "id": "2cdd5d27",
   "metadata": {},
   "outputs": [
    {
     "data": {
      "text/plain": [
       "\u001b[32m\u001b[1mTest Passed\u001b[22m\u001b[39m"
      ]
     },
     "execution_count": 34,
     "metadata": {},
     "output_type": "execute_result"
    }
   ],
   "source": [
    "a = randn(5)\n",
    "Q = householderreflection(a)\n",
    "\n",
    "\n",
    "A = [1 2 3;\n",
    "     4 5 6;\n",
    "     7 8 9;\n",
    "     10 11 13]\n",
    "\n",
    "\n",
    "m,n = size(A)\n",
    "𝐚₁ = A[:,1]\n",
    "Q₁ = householderreflection(𝐚₁)\n",
    "\n",
    "Q₁A = Q₁*A\n",
    "α₁ = Q₁A[1,1]\n",
    "𝐰₁ = Q₁A[1,2:end]\n",
    "\n",
    "A₂ = Q₁A[2:end,2:end]\n",
    "\n",
    "𝐚₂ = A₂[:,1]\n",
    "Q₂ = householderreflection(𝐚₂)\n",
    "Q₂A₂ = Q₂*A₂\n",
    "α₂ = Q₂A₂[1,1]\n",
    "𝐰₂ = Q₂A₂[1,2:end]\n",
    "\n",
    "A₃ = Q₂A₂[2:end,2:end]\n",
    "𝐚₃ = A₃[:,1]\n",
    "Q₃ = householderreflection(𝐚₃)\n",
    "\n",
    "Q̃₂ = zeros(m,m)\n",
    "Q̃₂[1,1] = 1\n",
    "Q̃₂[2:end,2:end] = Q₂\n",
    "\n",
    "Q̃₃ = zeros(m,m)\n",
    "Q̃₃[1,1] = 1\n",
    "Q̃₃[2,2] = 1\n",
    "Q̃₃[3:end,3:end] = Q₃\n",
    "\n",
    "\n",
    "R = Q̃₃ * Q̃₂ *Q₁ * A\n",
    "Q =  Q₁ * Q̃₂ *Q̃₃\n",
    "\n",
    "@test Q*R ≈ A"
   ]
  },
  {
   "cell_type": "code",
   "execution_count": 55,
   "id": "0fecc213",
   "metadata": {},
   "outputs": [
    {
     "data": {
      "text/plain": [
       "4×3 Matrix{Float64}:\n",
       "  1.0   2.0   3.0\n",
       "  4.0   5.0   6.0\n",
       "  7.0   8.0   9.0\n",
       " 10.0  11.0  13.0"
      ]
     },
     "execution_count": 55,
     "metadata": {},
     "output_type": "execute_result"
    }
   ],
   "source": [
    "function householderqr(A)\n",
    "    m,n = size(A)\n",
    "\n",
    "    T = float(eltype(A))\n",
    "    R = zeros(T, m, n) # right-triangular\n",
    "    Q = Matrix{T}(I, m, m) # identity matrix\n",
    "\n",
    "    Aⱼ = A\n",
    "\n",
    "    for j = 1:n\n",
    "        𝐚ⱼ = Aⱼ[:,1]\n",
    "        Qⱼ = householderreflection(𝐚ⱼ)\n",
    "        QⱼAⱼ = Qⱼ*Aⱼ\n",
    "\n",
    "        α = QⱼAⱼ[1,1]\n",
    "        𝐰 = QⱼAⱼ[1,2:end]\n",
    "        Aⱼ₊₁ = QⱼAⱼ[2:end,2:end] # drop first row and col\n",
    "\n",
    "\n",
    "        # populate R\n",
    "        R[j,j] = α\n",
    "        R[j,j+1:end] = 𝐰\n",
    "\n",
    "        # update Q\n",
    "        Q[:,j:end] = Q[:,j:end]*Qⱼ\n",
    "        Aⱼ = Aⱼ₊₁\n",
    "    end\n",
    "    Q,R\n",
    "end\n",
    "\n",
    "Q * R"
   ]
  },
  {
   "cell_type": "code",
   "execution_count": 58,
   "id": "2c7f2857",
   "metadata": {},
   "outputs": [
    {
     "data": {
      "text/plain": [
       "true"
      ]
     },
     "execution_count": 58,
     "metadata": {},
     "output_type": "execute_result"
    }
   ],
   "source": [
    "A = randn(10,10)\n",
    "Q,R = householderqr(A)\n",
    "inv(A) ≈ inv(R) * Q'"
   ]
  },
  {
   "cell_type": "code",
   "execution_count": 59,
   "id": "fec7e090",
   "metadata": {},
   "outputs": [
    {
     "data": {
      "text/plain": [
       "10-element Vector{Float64}:\n",
       "  1.229658513452891\n",
       " -0.34081981687625956\n",
       "  5.239835293957892\n",
       "  2.4706356133706535\n",
       "  0.44221660606629115\n",
       " -1.8107548328267402\n",
       " -0.16271477290410102\n",
       " -3.279547413680206\n",
       "  1.6351204658543932\n",
       "  0.5237014892089888"
      ]
     },
     "execution_count": 59,
     "metadata": {},
     "output_type": "execute_result"
    }
   ],
   "source": [
    "b = randn(10)\n",
    "A\\b # A \\ b is code for inv(A) * b but doesn't have to form the inv(A)"
   ]
  },
  {
   "cell_type": "code",
   "execution_count": 62,
   "id": "f4f41e2a",
   "metadata": {},
   "outputs": [
    {
     "data": {
      "text/plain": [
       "10-element Vector{Float64}:\n",
       "  1.2296585134528912\n",
       " -0.34081981687625834\n",
       "  5.239835293957885\n",
       "  2.4706356133706504\n",
       "  0.44221660606629315\n",
       " -1.810754832826739\n",
       " -0.16271477290409944\n",
       " -3.2795474136802016\n",
       "  1.6351204658543932\n",
       "  0.5237014892089881"
      ]
     },
     "execution_count": 62,
     "metadata": {},
     "output_type": "execute_result"
    }
   ],
   "source": [
    "UpperTriangular(R)\\(Q'b) # R \\ is backsubs"
   ]
  },
  {
   "cell_type": "code",
   "execution_count": 61,
   "id": "52b9feef",
   "metadata": {},
   "outputs": [
    {
     "data": {
      "text/plain": [
       "10×10 Matrix{Float64}:\n",
       " -3.59207  -1.13372  0.911697  -0.0562461  …   0.836298   1.51439   -1.19078\n",
       "  0.0       2.58082  0.642188  -0.975118      -0.513718   0.432444   0.276725\n",
       "  0.0       0.0      1.68178   -0.462981       1.46599    0.293676  -1.14696\n",
       "  0.0       0.0      0.0        2.29619        0.815966   0.152544  -1.83037\n",
       "  0.0       0.0      0.0        0.0            0.424796   0.654596   0.992234\n",
       "  0.0       0.0      0.0        0.0        …   0.331271  -1.9053     0.518941\n",
       "  0.0       0.0      0.0        0.0           -0.695709  -2.14948    1.2276\n",
       "  0.0       0.0      0.0        0.0            0.954703   0.845727   1.61138\n",
       "  0.0       0.0      0.0        0.0            0.0       -2.06696    2.20017\n",
       "  0.0       0.0      0.0        0.0            0.0        0.0        0.96942"
      ]
     },
     "execution_count": 61,
     "metadata": {},
     "output_type": "execute_result"
    }
   ],
   "source": [
    "# x/y is code for x*inv(y)\n",
    "#x \\ y is code for inv(x)*y"
   ]
  },
  {
   "cell_type": "code",
   "execution_count": null,
   "id": "bba380ac",
   "metadata": {},
   "outputs": [],
   "source": []
  }
 ],
 "metadata": {
  "kernelspec": {
   "display_name": "Julia 1.8.3-pre",
   "language": "julia",
   "name": "julia-1.8"
  },
  "language_info": {
   "file_extension": ".jl",
   "mimetype": "application/julia",
   "name": "julia",
   "version": "1.8.3"
  }
 },
 "nbformat": 4,
 "nbformat_minor": 5
}
