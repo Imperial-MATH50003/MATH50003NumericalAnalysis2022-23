{
 "cells": [
  {
   "cell_type": "markdown",
   "source": [
    "# MATH50003 (2022–23)\n",
    "# Lab 1: Introduction to Julia"
   ],
   "metadata": {}
  },
  {
   "cell_type": "markdown",
   "source": [
    "This problem sheet is designed to introduce some basic Julia\n",
    "knowledge. Note each problem has multiple solutions, and the solution\n",
    "sheet will show different ways of solving the same problem. We will discuss the\n",
    "following:"
   ],
   "metadata": {}
  },
  {
   "cell_type": "markdown",
   "source": [
    "1. Integers\n",
    "2. Reals\n",
    "2. Strings and parsing\n",
    "3. Types"
   ],
   "metadata": {}
  },
  {
   "cell_type": "markdown",
   "source": [
    "In assessment, _any_ \"solution\" will be accepted provided it does the right thing!\n",
    "So you do not need to be able to write broadcasting or comprehensions\n",
    "if you can do for loops."
   ],
   "metadata": {}
  },
  {
   "cell_type": "markdown",
   "source": [
    "We load the following packages:"
   ],
   "metadata": {}
  },
  {
   "outputs": [],
   "cell_type": "code",
   "source": [
    "using ColorBitstring, Test"
   ],
   "metadata": {},
   "execution_count": 1
  },
  {
   "cell_type": "markdown",
   "source": [
    "## 1. Integers"
   ],
   "metadata": {}
  },
  {
   "cell_type": "markdown",
   "source": [
    "Every primitive number type is stored as a sequence of bits.\n",
    "The number of _bytes_ (i.e. 8-bits) can be deduced using the `sizeof` function:"
   ],
   "metadata": {}
  },
  {
   "outputs": [
    {
     "output_type": "execute_result",
     "data": {
      "text/plain": "4"
     },
     "metadata": {},
     "execution_count": 2
    }
   ],
   "cell_type": "code",
   "source": [
    "sizeof(UInt32) # 4 bytes == 4*8 bits == 32 bits"
   ],
   "metadata": {},
   "execution_count": 2
  },
  {
   "cell_type": "markdown",
   "source": [
    "The function `typeof` can be used to determine the type of a number.\n",
    "By default when we write an integer (e.g. `-123`) it is of type `Int`:"
   ],
   "metadata": {}
  },
  {
   "outputs": [
    {
     "output_type": "execute_result",
     "data": {
      "text/plain": "Int64"
     },
     "metadata": {},
     "execution_count": 3
    }
   ],
   "cell_type": "code",
   "source": [
    "typeof(5)"
   ],
   "metadata": {},
   "execution_count": 3
  },
  {
   "cell_type": "markdown",
   "source": [
    "**Problem 1.1** Use `sizeof` to determine how many bits your machine uses for the type `Int`."
   ],
   "metadata": {}
  },
  {
   "cell_type": "markdown",
   "source": [
    "There are a few ways to create other types of integers. Conversion\n",
    "converts between different types:"
   ],
   "metadata": {}
  },
  {
   "outputs": [
    {
     "output_type": "execute_result",
     "data": {
      "text/plain": "0x05"
     },
     "metadata": {},
     "execution_count": 4
    }
   ],
   "cell_type": "code",
   "source": [
    "UInt8(5) # converts an `Int` to an `UInt8`, displaying the result in hex"
   ],
   "metadata": {},
   "execution_count": 4
  },
  {
   "cell_type": "markdown",
   "source": [
    "This fails if a number cannot be represented as a specified type: e.g. `UInt8(-5)` and `UInt8(2^8)`."
   ],
   "metadata": {}
  },
  {
   "cell_type": "markdown",
   "source": [
    "(These can also be written as e.g. `convert(UInt8, 5)`.)\n",
    "We can also create unsigned integers by specifying their bits\n",
    "by writing `0b` followed by a sequence of bits:"
   ],
   "metadata": {}
  },
  {
   "outputs": [
    {
     "output_type": "execute_result",
     "data": {
      "text/plain": "0x05dd"
     },
     "metadata": {},
     "execution_count": 5
    }
   ],
   "cell_type": "code",
   "source": [
    "0b101 # isa UInt8, the smallest type with at least 3 bits\n",
    "\n",
    "\n",
    "0b10111011101 # isa UInt16, the smallest type with at least 11 bits"
   ],
   "metadata": {},
   "execution_count": 5
  },
  {
   "cell_type": "markdown",
   "source": [
    "Or in base-16 using hexadecimal format (with digits `0–9a–f` following\n",
    "an `0x`), where each digit takes 4 bits to represent (since $2^4 = 16$):"
   ],
   "metadata": {}
  },
  {
   "outputs": [
    {
     "output_type": "execute_result",
     "data": {
      "text/plain": "0x000abcde"
     },
     "metadata": {},
     "execution_count": 6
    }
   ],
   "cell_type": "code",
   "source": [
    "0xabcde # isa UInt32, the smallest type with at least 4*5 = 20 bits"
   ],
   "metadata": {},
   "execution_count": 6
  },
  {
   "cell_type": "markdown",
   "source": [
    "**Problem 1.2** Use binary format to create an `Int` corresponding to $(101101)_2$."
   ],
   "metadata": {}
  },
  {
   "cell_type": "markdown",
   "source": [
    "**Problem 1.3** What happens if you specify more than 64 bits using `0b⋅⋅…⋅⋅`?\n",
    "What if you specify more than 128 bits?"
   ],
   "metadata": {}
  },
  {
   "cell_type": "markdown",
   "source": [
    "We can also reinterpret a sequence of bits in a different format:"
   ],
   "metadata": {}
  },
  {
   "outputs": [
    {
     "output_type": "execute_result",
     "data": {
      "text/plain": "-1"
     },
     "metadata": {},
     "execution_count": 7
    }
   ],
   "cell_type": "code",
   "source": [
    "reinterpret(Int8, 0b11111111) # Create an Int8 with the bits 11111111"
   ],
   "metadata": {},
   "execution_count": 7
  },
  {
   "cell_type": "markdown",
   "source": [
    "Arithmetic follows modular arithmetic. The following examples test your understanding of this."
   ],
   "metadata": {}
  },
  {
   "cell_type": "markdown",
   "source": [
    "**Problem 1.5** Can you predict what the output of the following will be before hitting return?"
   ],
   "metadata": {}
  },
  {
   "outputs": [],
   "cell_type": "code",
   "source": [
    "UInt8(120) + UInt8(10); # Convert to `Int` to see the number printed in decimal\n",
    "\n",
    "Int8(120) + Int8(10);\n",
    "\n",
    "UInt8(2)^7;\n",
    "\n",
    "Int8(2)^7;\n",
    "\n",
    "Int8(2)^8;"
   ],
   "metadata": {},
   "execution_count": 8
  },
  {
   "cell_type": "markdown",
   "source": [
    "## 2. Reals\n",
    "\n",
    "Real numbers interpret a sequence of bits in floating point format.\n",
    "\n",
    "**Problem 2.1** Use `printbits` to guess the binary representation of $1/5$."
   ],
   "metadata": {}
  },
  {
   "cell_type": "markdown",
   "source": [
    "**Problem 2.2** Create a positive `Float16` whose exponent is $q = 156$ and has significand\n",
    "bits\n",
    "$$\n",
    "b_k = \\begin{cases}\n",
    "    1 & k\\hbox{ is prime} \\\\\n",
    "    0 & \\hbox{otherwise}\n",
    "    \\end{cases}\n",
    "$$"
   ],
   "metadata": {}
  },
  {
   "cell_type": "markdown",
   "source": [
    "**Problem 2.3** Create the smallest postive non-zero sub-normal `Float16` by specifying\n",
    "its bits."
   ],
   "metadata": {}
  },
  {
   "cell_type": "markdown",
   "source": [
    "## 3. Strings and parsing"
   ],
   "metadata": {}
  },
  {
   "cell_type": "markdown",
   "source": [
    "Strings are a convenient way of representing arbitrary strings of digits.\n",
    "For example we can convert bits of a number to a string of \"1\"s and \"0\"s using the function `bitstring`."
   ],
   "metadata": {}
  },
  {
   "cell_type": "markdown",
   "source": [
    "**Problem 3.1** Can you predict what the output of the following will be before hitting return?"
   ],
   "metadata": {}
  },
  {
   "outputs": [],
   "cell_type": "code",
   "source": [
    "bitstring(11);  # Semi-colon prohibits output, delete to check your answer\n",
    "\n",
    "bitstring(-11);"
   ],
   "metadata": {},
   "execution_count": 9
  },
  {
   "cell_type": "markdown",
   "source": [
    "We can `parse` a string of digits in base 2 or 10:"
   ],
   "metadata": {}
  },
  {
   "outputs": [
    {
     "output_type": "execute_result",
     "data": {
      "text/plain": "(3, 11)"
     },
     "metadata": {},
     "execution_count": 10
    }
   ],
   "cell_type": "code",
   "source": [
    "parse(Int8, \"11\"; base=2),\n",
    "parse(Int8, \"00001011\"; base=2)"
   ],
   "metadata": {},
   "execution_count": 10
  },
  {
   "cell_type": "markdown",
   "source": [
    "Be careful with \"negative\" numbers, the following will fail: `parse(Int8, \"10001011\"; base=2)`"
   ],
   "metadata": {}
  },
  {
   "cell_type": "markdown",
   "source": [
    "It treats the string as binary digits, NOT bits. That is, negative numbers\n",
    "are represented using the minus sign:"
   ],
   "metadata": {}
  },
  {
   "outputs": [
    {
     "output_type": "execute_result",
     "data": {
      "text/plain": "-11"
     },
     "metadata": {},
     "execution_count": 11
    }
   ],
   "cell_type": "code",
   "source": [
    "parse(Int8, \"-00001011\"; base=2)"
   ],
   "metadata": {},
   "execution_count": 11
  },
  {
   "cell_type": "markdown",
   "source": [
    "**Problem 3.2** Combine `parse`, `reinterpret`, and `UInt8` to convert the\n",
    "above string to a (negative) `Int8` with the specified bits."
   ],
   "metadata": {}
  },
  {
   "cell_type": "markdown",
   "source": [
    "To concatenate strings we use `*` (multiplication is used because string concatenation\n",
    "is non-commutative):"
   ],
   "metadata": {}
  },
  {
   "outputs": [
    {
     "output_type": "execute_result",
     "data": {
      "text/plain": "\"hibye\""
     },
     "metadata": {},
     "execution_count": 12
    }
   ],
   "cell_type": "code",
   "source": [
    "\"hi\" * \"bye\""
   ],
   "metadata": {},
   "execution_count": 12
  },
  {
   "cell_type": "markdown",
   "source": [
    "The string consisting of the first nine characters can be found using `str[1:9]` where `str` is any string:"
   ],
   "metadata": {}
  },
  {
   "outputs": [
    {
     "output_type": "execute_result",
     "data": {
      "text/plain": "\"hibye0123\""
     },
     "metadata": {},
     "execution_count": 13
    }
   ],
   "cell_type": "code",
   "source": [
    "str=\"hibye0123445556\"\n",
    "str[1:9]  # returns \"hibye0123\""
   ],
   "metadata": {},
   "execution_count": 13
  },
  {
   "cell_type": "markdown",
   "source": [
    "The string consisting of the 11th through last character can be found using `str[11:end]`:"
   ],
   "metadata": {}
  },
  {
   "outputs": [
    {
     "output_type": "execute_result",
     "data": {
      "text/plain": "\"45556\""
     },
     "metadata": {},
     "execution_count": 14
    }
   ],
   "cell_type": "code",
   "source": [
    "str=\"hibye0123445556\"\n",
    "str[11:end]  # returns \"45556\""
   ],
   "metadata": {},
   "execution_count": 14
  },
  {
   "cell_type": "markdown",
   "source": [
    "**Problem 3.3** Complete the following function that sets the 10th bit of an `Int32` to `1`,\n",
    "and returns an `Int32`, assuming that the input is a positive integer, using `bitstring`,\n",
    "`parse` and `*`."
   ],
   "metadata": {}
  },
  {
   "outputs": [
    {
     "output_type": "execute_result",
     "data": {
      "text/plain": "tenthbitto1 (generic function with 1 method)"
     },
     "metadata": {},
     "execution_count": 15
    }
   ],
   "cell_type": "code",
   "source": [
    "function tenthbitto1(x::Int32)\n",
    "    # TODO: change the 10th bit of `x` to 1\n",
    "end"
   ],
   "metadata": {},
   "execution_count": 15
  },
  {
   "cell_type": "markdown",
   "source": [
    "unit tests are to help you check your result\n",
    "Change to `@test` to see if your test passes"
   ],
   "metadata": {}
  },
  {
   "outputs": [
    {
     "output_type": "execute_result",
     "data": {
      "text/plain": "\u001b[33m\u001b[1mTest Broken\u001b[22m\u001b[39m\n  Expression: tenthbitto1(Int32(100)) ≡ Int32(4194404)"
     },
     "metadata": {},
     "execution_count": 16
    }
   ],
   "cell_type": "code",
   "source": [
    "@test_broken tenthbitto1(Int32(100)) ≡ Int32(4194404)"
   ],
   "metadata": {},
   "execution_count": 16
  },
  {
   "cell_type": "markdown",
   "source": [
    "**Problem 3.4**  Modify the previous function to also work with negative numbers."
   ],
   "metadata": {}
  },
  {
   "outputs": [
    {
     "output_type": "execute_result",
     "data": {
      "text/plain": "\u001b[33m\u001b[1mTest Broken\u001b[22m\u001b[39m\n  Expression: tenthbitto1(-(Int32(100000010))) ≡ Int32(-95805706)"
     },
     "metadata": {},
     "execution_count": 17
    }
   ],
   "cell_type": "code",
   "source": [
    "function tenthbitto1(x::Int32)\n",
    "    # TODO: change the 10th bit of `x` to 1\n",
    "end\n",
    "\n",
    "@test_broken tenthbitto1(Int32(100)) ≡ Int32(4194404)\n",
    "@test_broken tenthbitto1(-Int32(100000010)) ≡ Int32(-95805706)"
   ],
   "metadata": {},
   "execution_count": 17
  },
  {
   "cell_type": "markdown",
   "source": [
    "## 4. Types"
   ],
   "metadata": {}
  },
  {
   "cell_type": "markdown",
   "source": [
    "Types allow for combining multiple numbers (or other types) to represent a more complicated\n",
    "object. That is, while a computer can only apply functions on $p$-bits at a time,\n",
    "these functions can be combined to perform more complicated operations on types\n",
    "that require more than $p$-bits. A simple example is a rational function."
   ],
   "metadata": {}
  },
  {
   "cell_type": "markdown",
   "source": [
    "**Problem 2.1** Create a type `Rat` with two `Int` fields, `p` and `q`,\n",
    "representing a rational function including `+`, `*`, `-`, and `/`."
   ],
   "metadata": {}
  },
  {
   "cell_type": "markdown",
   "source": [
    "`struct` creates a new type called `Rat`\n",
    "consisting of 128 bits, half encode `p`\n",
    "and half encode `q`"
   ],
   "metadata": {}
  },
  {
   "outputs": [],
   "cell_type": "code",
   "source": [
    "struct Rat\n",
    "    p::Int\n",
    "    q::Int\n",
    "end"
   ],
   "metadata": {},
   "execution_count": 18
  },
  {
   "cell_type": "markdown",
   "source": [
    "A new instance of `Rat` is created via e.g. `Rat(1, 2)` represents 1/2\n",
    "where the first argument specifies `p` and the second argument `q`.\n",
    "The fields are accessed by `.`:"
   ],
   "metadata": {}
  },
  {
   "outputs": [
    {
     "output_type": "execute_result",
     "data": {
      "text/plain": "\u001b[32m\u001b[1mTest Passed\u001b[22m\u001b[39m"
     },
     "metadata": {},
     "execution_count": 19
    }
   ],
   "cell_type": "code",
   "source": [
    "x = Rat(1, 2)\n",
    "@test x.p == 1\n",
    "@test x.q == 2"
   ],
   "metadata": {},
   "execution_count": 19
  },
  {
   "cell_type": "markdown",
   "source": [
    "We import `+`, `-`, `*`, `/` so we can \"overload\" these operations specifically\n",
    "for `Rat`."
   ],
   "metadata": {}
  },
  {
   "outputs": [],
   "cell_type": "code",
   "source": [
    "import Base: +, -, *, /, =="
   ],
   "metadata": {},
   "execution_count": 20
  },
  {
   "cell_type": "markdown",
   "source": [
    "The ::Rat means the following version of `==` is only called if both arguments\n",
    "are Rat"
   ],
   "metadata": {}
  },
  {
   "outputs": [
    {
     "output_type": "execute_result",
     "data": {
      "text/plain": "== (generic function with 183 methods)"
     },
     "metadata": {},
     "execution_count": 21
    }
   ],
   "cell_type": "code",
   "source": [
    "function ==(x::Rat, y::Rat)\n",
    "    1 # TODO: implement equality, making sure to check the case where\n",
    "    1 # the numerator/denominator are possibly reducible\n",
    "    1 # Hint: `gcd` and `div` may be useful. Use `?` to find out what they do\n",
    "end"
   ],
   "metadata": {},
   "execution_count": 21
  },
  {
   "cell_type": "markdown",
   "source": [
    "We can also support equality when `x isa Rat` and `y isa Integer`"
   ],
   "metadata": {}
  },
  {
   "outputs": [
    {
     "output_type": "execute_result",
     "data": {
      "text/plain": "== (generic function with 184 methods)"
     },
     "metadata": {},
     "execution_count": 22
    }
   ],
   "cell_type": "code",
   "source": [
    "function ==(x::Rat, y::Integer)\n",
    "    1 # TODO: implement\n",
    "end"
   ],
   "metadata": {},
   "execution_count": 22
  },
  {
   "cell_type": "markdown",
   "source": [
    "TODO: implement ==(x::Integer, y::Rat)"
   ],
   "metadata": {}
  },
  {
   "outputs": [
    {
     "output_type": "execute_result",
     "data": {
      "text/plain": "\u001b[33m\u001b[1mTest Broken\u001b[22m\u001b[39m\n  Expression: Rat(2, 3) / Rat(3, 4) == Rat(8, 9)"
     },
     "metadata": {},
     "execution_count": 23
    }
   ],
   "cell_type": "code",
   "source": [
    "@test_broken Rat(1, 2) == Rat(2, 4)\n",
    "@test_broken Rat(1, 2) ≠ Rat(1, 3)\n",
    "@test_broken Rat(2,2) == 1\n",
    "@test_broken 1 == Rat(2,2)\n",
    "\n",
    "# TODO: implement +, -, *, and /,\n",
    "\n",
    "@test_broken Rat(1, 2) + Rat(1, 3) == Rat(5, 6)\n",
    "@test_broken Rat(1, 3) - Rat(1, 2) == Rat(-1, 6)\n",
    "@test_broken Rat(2, 3) * Rat(3, 4) == Rat(1, 2)\n",
    "@test_broken Rat(2, 3) / Rat(3, 4) == Rat(8, 9)"
   ],
   "metadata": {},
   "execution_count": 23
  },
  {
   "cell_type": "markdown",
   "source": [
    "Templating is a way of letting fields take on different types."
   ],
   "metadata": {}
  },
  {
   "cell_type": "markdown",
   "source": [
    "**Problem 2.2** Modify the above code so that `p` and `q` can be other types,\n",
    "for example, `Int16` or `BigInt`."
   ],
   "metadata": {}
  },
  {
   "cell_type": "markdown",
   "source": [
    "---\n",
    "\n",
    "*This notebook was generated using [Literate.jl](https://github.com/fredrikekre/Literate.jl).*"
   ],
   "metadata": {}
  }
 ],
 "nbformat_minor": 3,
 "metadata": {
  "language_info": {
   "file_extension": ".jl",
   "mimetype": "application/julia",
   "name": "julia",
   "version": "1.8.3-pre.0"
  },
  "kernelspec": {
   "name": "julia-1.8",
   "display_name": "Julia 1.8.3-pre.0",
   "language": "julia"
  }
 },
 "nbformat": 4
}
